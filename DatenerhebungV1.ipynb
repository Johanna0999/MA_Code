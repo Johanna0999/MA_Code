{
 "cells": [
  {
   "cell_type": "code",
   "execution_count": 81,
   "metadata": {},
   "outputs": [],
   "source": [
    "import requests\n",
    "import json\n",
    "import urllib.parse\n",
    "import datetime\n",
    "import sqlite3\n",
    "import os\n",
    "import re\n",
    "import re \n",
    "import xml.etree.ElementTree as ET\n",
    "from collections import Counter\n",
    "from Bio import Entrez\n",
    "import mercury as mr\n",
    "from bs4 import BeautifulSoup\n",
    "import concurrent.futures\n",
    "import numpy as np\n",
    "import matplotlib.pyplot as plt\n",
    "from matplotlib.colors import ListedColormap\n",
    "from matplotlib.colors import to_hex\n",
    "from ipywidgets import Checkbox\n",
    "import ipywidgets as wid\n",
    "from ipywidgets import Button, Layout\n"
   ]
  },
  {
   "cell_type": "code",
   "execution_count": 82,
   "metadata": {},
   "outputs": [],
   "source": [
    "# Anlegen von Datenbankspeicherort, falls er nicht existiert\n",
    "path = \"C:\\MA_Pethke_3992454\"\n",
    "if not os.path.exists(path):\n",
    "    os.makedirs(path)\n",
    "\n",
    "# Verbindung zu DB aufbauen, DB wird automatisch erstellt, wenn keine da ist\n",
    "con = sqlite3.connect(\"C:\\MA_Pethke_3992454\\MA_3992454_jp_v2.db\")\n",
    "cur = con.cursor()"
   ]
  },
  {
   "cell_type": "code",
   "execution_count": 83,
   "metadata": {},
   "outputs": [],
   "source": [
    "## Tabellen Schema erstellen\n",
    "#------------------- Tabelle Zitationen --------------------------------------#\n",
    "cur.execute(\"CREATE TABLE IF NOT EXISTS Zitationen(PMID INTEGER, Jahr YEAR, Anzahl INTEGER, UNIQUE(PMID,Jahr) ON CONFLICT REPLACE)\")\n",
    "\n",
    "#------------------- Tabelle MeSH --------------------------------------#\n",
    "cur.execute(\"CREATE TABLE IF NOT EXISTS MeSH(UI VARCHAR, Term TEXT, Jahr_MeSH YEAR, EK INTEGER, NEK INTEGER, UNIQUE(UI) ON CONFLICT REPLACE)\")\n",
    "\n",
    "#------------------- Tabelle Mesh - Dokument --------------------------------------#\n",
    "cur.execute(\"CREATE TABLE IF NOT EXISTS MeSH_Dok(UI VARCHAR, PMID INTEGER, EK_Dok INTEGER, NEK_Dok INTEGER, UNIQUE(UI,PMID) ON CONFLICT REPLACE)\")\n",
    "con.commit()"
   ]
  },
  {
   "cell_type": "code",
   "execution_count": 84,
   "metadata": {},
   "outputs": [],
   "source": [
    "def getAllUIsFromDB():\n",
    "    cur.execute(\"SELECT UI FROM MeSH\")\n",
    "    MeSHs = [x[0] for x in cur.fetchall()]\n",
    "    return MeSHs\n",
    "\n",
    "# MeSH-Dokumenten Zuordnung\n",
    "def DB_Insert_MeSH_PMID(UI, PMID):\n",
    "    try:\n",
    "        cur.execute(\"INSERT INTO MeSH_Dok(UI, PMID) VALUES ('\"+str(UI)+\"', '\"+str(PMID)+\"')\")\n",
    "        con.commit()\n",
    "        # Insert erfolgreich\n",
    "    except:\n",
    "        # MeSH Analysedaten schon in DB\n",
    "        return  \n",
    "\n",
    "# Zitationsdaten für ein Dokument\n",
    "def DB_Insert_Zitationen(PMID, Zitationsdaten):\n",
    "    try:\n",
    "        cur.executemany(\"INSERT INTO Zitationen(PMID, Jahr, Anzahl) VALUES ('\"+str(PMID)+\"', ?, ?)\", Zitationsdaten)\n",
    "        con.commit()\n",
    "        # Insert erfolgreich\n",
    "    except:\n",
    "        # Zitationsdaten schon in DB\n",
    "        return  \n",
    "    \n",
    "# Analyseergebnisse in DB einfügen\n",
    "def DB_Insert_Analyse_Per_MeSH(ui, analyseDaten, EKK, NEKK):\n",
    "    try:\n",
    "        cur.execute(\"UPDATE MESH SET EK = '\"+str(EKK) +\"', NEK = '\"+str(NEKK)+\"' WHERE UI = '\"+str(ui)+\"'\")\n",
    "        con.commit()\n",
    "        cur.executemany(\"UPDATE MeSH_Dok SET EK_Dok = ? , NEK_Dok = ? WHERE PMID = ?\", analyseDaten)\n",
    "        con.commit()\n",
    "        # Insert erfolgreich\n",
    "    except:\n",
    "        # Zitationsdaten schon in DB\n",
    "        return  \n",
    "    \n",
    "def DB_Get_Zitationen(PMID):\n",
    "    cur.execute(\"SELECT Jahr, Anzahl FROM Zitationen WHERE PMID = '\" + str(PMID) +\"'\")\n",
    "    citations = cur.fetchall()\n",
    "    return citations\n",
    "    \n",
    "def make_request(url):\n",
    "    anfrage = requests.get(url, headers={\"Accept\": \"application/json\"})\n",
    "    antwort_Daten = anfrage.json()\n",
    "    return antwort_Daten"
   ]
  },
  {
   "cell_type": "code",
   "execution_count": 85,
   "metadata": {},
   "outputs": [],
   "source": [
    "global ui_db \n",
    "ui_db = getAllUIsFromDB()"
   ]
  },
  {
   "cell_type": "code",
   "execution_count": 86,
   "metadata": {},
   "outputs": [],
   "source": [
    "# Funktion ermittelt alle UI: {Term, Link, dateEstablished}, die zu Suchwort passen\n",
    "def suchwort_MeSH_Auswahl(suchwort):\n",
    "    url = \"https://id.nlm.nih.gov/mesh/lookup/descriptor?label=\"+str(suchwort)+\"&match=contains&year=current&limit=50\"\n",
    "    anfrage = requests.get(url, headers={\"Accept\": \"application/json\"})\n",
    "    antwort_Daten_1 = anfrage.json()\n",
    "    meshs = {}\n",
    "    urls = []\n",
    "    for antwort in antwort_Daten_1:\n",
    "        link = antwort['resource']\n",
    "        ui = str(re.findall(\"^.*mesh\\/(.*)$\", link)[0])\n",
    "        meshs[ui] = {\"Term\": antwort['label'], \"Link\": link}\n",
    "        urls.append(meshs[ui][\"Link\"]+str(\".json\"))\n",
    "        if ui not in ui_db:\n",
    "            with concurrent.futures.ThreadPoolExecutor() as executor:  \n",
    "                futures = [executor.submit(make_request, url) for url in urls]\n",
    "            responses = [future.result() for future in concurrent.futures.as_completed(futures)]\n",
    "            for url, antwort_Daten in zip(urls, responses):\n",
    "                ui = str(re.findall(\"^.*mesh\\/(.*).json$\", url)[0])\n",
    "                dateEstablished = datetime.datetime.strptime(antwort_Daten[\"dateCreated\"], \"%Y-%m-%d\").year\n",
    "                meshs[ui][\"dateEstablished\"] = dateEstablished\n",
    "    return meshs\n",
    "\n",
    "\n",
    "def fillMeSHDB(meshs):\n",
    "    for mesh in meshs:\n",
    "        cur.execute(\"INSERT INTO MeSH(UI, Term, Jahr_MeSH) VALUES ('\"+str(mesh)+\"', '\"+str(meshs[mesh][\"Term\"])+\"', '\"+str(meshs[mesh][\"dateEstablished\"])+\"')\")\n",
    "        con.commit()"
   ]
  },
  {
   "cell_type": "code",
   "execution_count": 87,
   "metadata": {},
   "outputs": [],
   "source": [
    "# Eine Funktion, um den Inhalt der Tabelle der Zitationen in eine Liste umzuwandeln\n",
    "def getCitationForPMID(PMID):\n",
    "    try:\n",
    "        # HTTP-Anfrage an die URL senden\n",
    "        url = \"https://pubmed.ncbi.nlm.nih.gov/?linkname=pubmed_pubmed_citedin&from_uid=\" + str(PMID)\n",
    "        response = requests.get(url)\n",
    "\n",
    "        # Den HTML-Inhalt der Seite parsen\n",
    "        soup = BeautifulSoup(response.text, \"html.parser\")\n",
    "\n",
    "        # Die Tabelle mit der angegebenen ID auswählen\n",
    "        table = soup.find(\"table\", {\"id\": \"timeline-table\"})\n",
    "\n",
    "        # Eine Liste, um die Daten aus der Tabelle zu speichern\n",
    "        data_list = []\n",
    "\n",
    "        # Durch die Zeilen der Tabelle iterieren\n",
    "        for row in table.find_all(\"tr\"):\n",
    "            row_data = []\n",
    "            # Durch die Zellen (Spalten) der Zeile iterieren\n",
    "            for cell in row.find_all(\"td\"):\n",
    "                row_data.append(cell.text)\n",
    "            if row_data != []:\n",
    "                data_list.append(row_data)\n",
    "        DB_Insert_Zitationen(PMID, data_list)\n",
    "    except:\n",
    "        pass"
   ]
  },
  {
   "cell_type": "code",
   "execution_count": 101,
   "metadata": {},
   "outputs": [],
   "source": [
    "# Funktion, die die Dokumente ermittelt, die mit dem MeSH verknüpft sind und vor der Aufnahme des MeSHs veröffentlicht wurden (Von 1900 an)\n",
    "def Dokumente_mit_MeSH(meshs, count_max):\n",
    "    fillMeSHDB(meshs)\n",
    "    i = 0\n",
    "    for mesh in meshs:\n",
    "        if mesh not in ui_db:\n",
    "            print(\"Die Dokumente zu Mesh  mit der UI \" + str(mesh) + \" werden erhoben (\" + str(i) + \" / \" + str(len(meshs)) + \")\")\n",
    "            Jahr_MeSH = meshs[mesh][\"dateEstablished\"]\n",
    "            Term = meshs[mesh][\"Term\"]\n",
    "            # API ist auf die ersten 10000 Dokumente limitiert; esearch ist eine Möglichkeit an alle Dokumente zu kommen (wenn es denn mehr gibt) allerdings muss man auf einer UNIX Umgebung arbeiten https://dataguide.nlm.nih.gov/edirect/edirect-vs-e-utilities.html\n",
    "            # Abfrage von Dokumente, die vor der Aufnahme des MeSHs veröffentlicht wurden (Von 1900 an)\n",
    "            url = \"https://eutils.ncbi.nlm.nih.gov/entrez/eutils/esearch.fcgi?db=pubmed&term=(\"+urllib.parse.quote(Term)+\"[MeSH+Terms])+AND+((\\\"1900\\\"[Date+-+Publication]+%3A+\\\"\"+str(Jahr_MeSH)+\"\\\"[Date+-+Publication]))&retmax=\"+str(count_max)+\"&sort=relevance&retmode=json&api_key=177864321075a405e5c56e95464bdf959f08\"\n",
    "            response = requests.get(url)\n",
    "            daten = json.loads(response.text)\n",
    "            pmids = \"\"\n",
    "            for PMID in daten['esearchresult']['idlist']:\n",
    "                if pmids == \"\":\n",
    "                    pmids += str(PMID)\n",
    "                else:\n",
    "                    pmids += \", \" + str(PMID)\n",
    "                DB_Insert_MeSH_PMID(mesh, PMID)\n",
    "                getCitationForPMID(PMID)\n",
    "            print(\"Für das MeSH \" + str(mesh) + \" wurden die PMIDs \" + str(pmids) + \" und deren Zitationshäufigkeiten ermittelt.\")\n",
    "            \n",
    "        else:\n",
    "            print(\"Zu dem MeSH mit der UI \" + str(mesh) + \" wurden bereits Daten erhoben.\")\n",
    "        i += 1\n",
    "\n",
    "\n"
   ]
  },
  {
   "cell_type": "code",
   "execution_count": 89,
   "metadata": {},
   "outputs": [],
   "source": [
    "\n",
    "def Datenerhebung(suchwort):\n",
    "    meshs = suchwort_MeSH_Auswahl(suchwort)\n",
    "    # mr.Markdown(f\"### Es wurden {len(meshs)} MeSH in Verbindung zu Ihrem Suchwort gefunden.\")\n",
    "    return meshs\n",
    "        "
   ]
  },
  {
   "cell_type": "code",
   "execution_count": 90,
   "metadata": {},
   "outputs": [],
   "source": [
    "# Datenerhebung(\"head\")"
   ]
  },
  {
   "cell_type": "code",
   "execution_count": 91,
   "metadata": {},
   "outputs": [],
   "source": [
    "def Zitationen_emergent(PMID, Jahr_MeSH):\n",
    "    url = \"SELECT sum(Anzahl) FROM Zitationen WHERE PMID = \"+str(PMID)+\" and Jahr <= '\"+str(Jahr_MeSH)+ \"'\"\n",
    "    cur.execute(url)\n",
    "    antwort = cur.fetchall()[0][0] \n",
    "    Anzahl = antwort if antwort != None else 0 \n",
    "    return Anzahl\n",
    "\n",
    "def Zitationen_nicht_emergent(PMID, Jahr_MeSH):\n",
    "    url = \"SELECT sum(Anzahl) FROM Zitationen WHERE PMID = \"+str(PMID)+\" and Jahr > '\"+str(Jahr_MeSH)+ \"'\"\n",
    "    cur.execute(url)\n",
    "    antwort = cur.fetchall()[0][0] \n",
    "    Anzahl = antwort if antwort != None else 0 \n",
    "    return Anzahl\n",
    "\n",
    "def Aufbereitung():\n",
    "    cur.execute(\"SELECT UI, Jahr_MeSH FROM MeSH WHERE EK IS NULL \")\n",
    "    uis = cur.fetchall()\n",
    "    # uis = [x[0] for x in cur.fetchall()]\n",
    "    for ui, jahr in uis:\n",
    "        cur.execute(\"SELECT PMID FROM MeSH_Dok WHERE UI = '\" + str(ui)+ \"'\")\n",
    "        PMIDs = [x[0] for x in cur.fetchall()]\n",
    "        EKK = 0\n",
    "        NEKK = 0\n",
    "        analyseDaten = []\n",
    "        for PMID in PMIDs:\n",
    "            EK_Dok = Zitationen_emergent(PMID, jahr)\n",
    "            NEK_Dok = Zitationen_nicht_emergent(PMID, jahr)\n",
    "            analyseDaten.append([EK_Dok, NEK_Dok, PMID])\n",
    "            EKK += EK_Dok\n",
    "            NEKK += NEK_Dok\n",
    "        DB_Insert_Analyse_Per_MeSH(ui, analyseDaten, EKK, NEKK)"
   ]
  },
  {
   "cell_type": "code",
   "execution_count": 92,
   "metadata": {},
   "outputs": [],
   "source": [
    "def Analyse(meshs):  \n",
    "    mesh_lst = \"\"  \n",
    "    for mesh in meshs:\n",
    "        mesh_lst += \",'\" + mesh + \"'\"\n",
    "    mesh_lst = mesh_lst[1:]\n",
    "    cur.execute(\"SELECT EK_Dok, EK_Dok+NEK_Dok, PMID, UI FROM MeSH_Dok WHERE UI IN (\"+str(mesh_lst)+\") ORDER BY EK_Dok+NEK_Dok DESC\")\n",
    "    Daten = cur.fetchall()\n",
    "    EK = [x[0] for x in Daten]\n",
    "    Gesamt = [x[1] for x in Daten]\n",
    "    Daten_gefiltert = [x for x in Daten if x[1] != 0] # ohne Nullen in gesamt\n",
    "    EK_gefiltert = [x[0] for x in Daten_gefiltert]\n",
    "    Gesamt_gefiltert = [x[1] for x in Daten_gefiltert]\n",
    "    # print(Daten)\n",
    "    kor = np.corrcoef(EK, Gesamt)[0,1]\n",
    "    kor_gefiltert = np.corrcoef(EK_gefiltert, Gesamt_gefiltert)[0,1]\n",
    "    mr.Markdown(f\"### Folgend werden die Dokumente nach der Gesamtzitationsanzahl absteigend sortiert. Dazu werden auch die emergenten Zitationszahlen ausgegeben.\") \n",
    "    cmap = plt.get_cmap('summer')\n",
    "    normalized_values_gesamt = [(value - min(Gesamt)) / (max(Gesamt) - min(Gesamt)) for value in Gesamt]\n",
    "    normalized_values_emergent = [(value - min(EK)) / (max(EK) - min(EK)) for value in EK]\n",
    "    \n",
    "    # normalized_values_gesamt = [(value - min(Gesamt_gefiltert)) / (max(Gesamt_gefiltert) - min(Gesamt_gefiltert)) for value in Gesamt_gefiltert]\n",
    "    # normalized_values_emergent = [(value - min(EK_gefiltert)) / (max(EK_gefiltert) - min(EK_gefiltert)) for value in EK_gefiltert]\n",
    "    colors_gesamt = [cmap(value) for value in normalized_values_gesamt]\n",
    "    colors_emergent = [cmap(value) for value in normalized_values_emergent]\n",
    "    body = \"\"\n",
    "    i = 0\n",
    "    for dat in Daten_gefiltert:\n",
    "        body += \"<tr><td>\"+str(dat[3])+\"</td> <td>\"+str(dat[2])+\"</td> <td bgcolor=\"+str(to_hex(colors_gesamt[i]))+\">\"+str(dat[1])+\"</td> <td bgcolor=\"+str(to_hex(colors_emergent[i]))+\">\"+str(dat[0])+\"</td></tr>\"\n",
    "        i += 1\n",
    "    \n",
    "    table = \"\"\"<table>\n",
    "    <thead>\n",
    "        <tr>\n",
    "        <th>MeSH UI</th>\n",
    "        <th>PMID</th>\n",
    "        <th>Anzahl Zitationen (gesamt)</th>\n",
    "        <th>Anzahl emergenter Zitationen</th>\n",
    "        </tr>\n",
    "    </thead>\n",
    "    <tbody>\"\"\" + body + \"\"\"</tbody>\n",
    "    </table>\"\"\"\n",
    "    mr.Markdown(f\"{table}\")\n",
    "    mr.Markdown(f\"### Außerdem wurden {len(Daten)-len(Daten_gefiltert)} Dokumente 0 mal zitiert. \") \n",
    "    mr.Markdown(f\"### Der Korrelationskoeffizient zwischen der Gesamtanzahl der Zitationen und der emergenten Zitationen ist: {kor}\") \n",
    "    mr.Markdown(f\"### Der Korrelationskoeffizient zwischen der Gesamtanzahl der Zitationen und der emergenten Zitationen ist für die Dokumente, welche mindestens einmal zitiert wurden: {kor_gefiltert}\")   "
   ]
  },
  {
   "cell_type": "code",
   "execution_count": 93,
   "metadata": {},
   "outputs": [],
   "source": [
    "# ui_db_lokal = getAllUIsFromDB()"
   ]
  },
  {
   "cell_type": "code",
   "execution_count": 94,
   "metadata": {},
   "outputs": [],
   "source": [
    "# show_code = mr.Checkbox(label=\"Quelltext ein-/ausblenden\", value=False)\n",
    "# app = mr.App(title=\"Datenerhebung\", description=\"Erheben Sie Zitationsdaten\", show_code=show_code.value)\n",
    "\n",
    "\n",
    "# prozessArt = mr.Select(label=\"Soll eine Datenerhebung oder Datenvisualisierung durchgeführt werden?\", value=\"\", choices=[\"Datenerhebung\", \"Datenvisualisierung\", \"\"]) \n",
    "\n",
    "# if prozessArt.value == \"Datenerhebung\":\n",
    "#     suchwort = mr.Text(label=\"Suchen Sie nach Dokumenten zu einem Suchbegriff\", value=\"Suchbegriff\")\n",
    "#     button_Auswahlsetzen = mr.Button(label=\"MeSH Auswahl setzen\", style=\"primary\")\n",
    "#     button_Dokumentesuchen = mr.Button(label=\"Daten erheben\", style=\"primary\") \n",
    "#     mr.Markdown(f\"### Geben Sie nebenstehend ein Suchwort ein, zu dem Dokumente gesucht werden sollen.\") \n",
    "#     meshs = Datenerhebung(suchwort.value)\n",
    "#     meshs_strs = []\n",
    "#     for mesh in meshs:\n",
    "#         string = str(mesh) + \", \" + str(meshs[mesh][\"Term\"])\n",
    "#         meshs_strs.append(string)\n",
    "#     selectedMeshs = mr.MultiSelect(label=\"Wählen Sie die MeSH aus, für die eine Analyse durchgeführt werden soll.\", value=[], choices=meshs_strs) \n",
    "#     mr.Markdown(f\"### Wählen Sie die MeSH aus, für die eine Analyse durchgeführt werden soll.\") \n",
    "#     if selectedMeshs.value != []:\n",
    "\n",
    "#         if button_Auswahlsetzen.clicked:\n",
    "#             mesh_Auswahl_str = []\n",
    "#             mesh_zuSuchen = {}\n",
    "#             mr.Markdown(f\"### Sie möchten Dokumente zu den folgenden MeSHs suchen:\")\n",
    "#             for mesh in selectedMeshs.value:  \n",
    "#                 ui = str(re.findall(\"[^,]*/*\", mesh)[0])  \n",
    "#                 mesh_Auswahl_str.append(str(ui) + \", \" + str(meshs[ui][\"Term\"]))            \n",
    "#                 if ui not in ui_db_lokal:       \n",
    "#                     mesh_zuSuchen[ui] = meshs[ui] \n",
    "#             mr.Markdown(f\"{mesh_Auswahl_str}\")\n",
    "                \n",
    "#             mr.Markdown(f\"### Zu folgenden MeSH wurden noch keine Dokumente gesucht:\")\n",
    "#             for mesh in mesh_zuSuchen:                  \n",
    "#                 mr.Markdown(f\"{mesh}\")\n",
    "#             if len(mesh_zuSuchen) != len(selectedMeshs.value):      \n",
    "#                 mr.Markdown(f\"#### Zu den anderen MeSH liegen bereits Daten vor.\")  \n",
    "                \n",
    "            \n",
    "#             if button_Dokumentesuchen.clicked:                \n",
    "#                 mr.Markdown(f\" Hallo\")            \n",
    "#                 mr.Markdown(f\"{mesh_zuSuchen}\")\n",
    "            \n",
    "#         # Dokumente_mit_MeSH(mesh_zuSuchen, 3)\n",
    "        \n",
    "# elif prozessArt.value == \"Datenvisualisierung\":\n",
    "#     print(\"Datenvisualisierung.\")\n",
    "# suchwort = mr.Text(label=\"Suchen Sie nach Dokumenten zu einem Suchbegriff\", value=\"Suchbegriff\")\n",
    "# mr.Markdown(f\"## Geben Sie in nebenstehendes Textfeld einen Begriff ein, zu dem Sie Dokumente finden möchten.\")\n",
    "# mr.Markdown(f\"## Mit Bestätigung durch 'Enter' werden die Dokumente ermittelt.\")\n",
    "# mr.Markdown(f\"### Suchbegriff: **{suchwort.value}**\")\n",
    "# meshs = Datenerhebung(suchwort.value)\n",
    "# # if meshs == {}:\n",
    "# #     print(\"Es wurden keine Dokumente zu Ihrem Suchbegriff gefunden.\")\n",
    "# # else:\n",
    "# #     Dokumente_mit_MeSH(meshs, 3)\n",
    "# #     Aufbereitung()\n",
    "# #     Analyse(meshs)\n",
    "\n"
   ]
  },
  {
   "cell_type": "markdown",
   "metadata": {},
   "source": [
    "# Pipeline Datenerhebung"
   ]
  },
  {
   "cell_type": "markdown",
   "metadata": {},
   "source": [
    "<span style=\"color:red\">Geben Sie einen Suchbegriff ein</span>"
   ]
  },
  {
   "cell_type": "code",
   "execution_count": 16,
   "metadata": {},
   "outputs": [],
   "source": [
    "suchbegriff = \"head\""
   ]
  },
  {
   "cell_type": "markdown",
   "metadata": {},
   "source": [
    "### Für den Suchbegriff werden nun die im Zusammenhang stehenden MeSH ermittelt"
   ]
  },
  {
   "cell_type": "code",
   "execution_count": 17,
   "metadata": {},
   "outputs": [],
   "source": [
    "meshs = Datenerhebung(suchbegriff)"
   ]
  },
  {
   "cell_type": "markdown",
   "metadata": {},
   "source": [
    "## Folgende MeSH wurden gefunden:"
   ]
  },
  {
   "cell_type": "code",
   "execution_count": 43,
   "metadata": {},
   "outputs": [
    {
     "name": "stdout",
     "output_type": "stream",
     "text": [
      "D003027, Cluster Headache\n",
      "D020207, Coma, Post-Head Injury\n",
      "D000094222, Dropped Head Syndrome\n",
      "D005270, Femur Head\n",
      "D005271, Femur Head Necrosis\n",
      "D006257, Head\n",
      "D064087, Head Impulse Test\n",
      "D016489, Head Injuries, Closed\n",
      "D020197, Head Injuries, Penetrating\n",
      "D060226, Head Kidney\n",
      "D019416, Head Movements\n",
      "D006260, Head Protective Devices\n",
      "D006258, Head and Neck Neoplasms\n",
      "D018475, Head-Down Tilt\n",
      "D006261, Headache\n",
      "D020773, Headache Disorders\n",
      "D051270, Headache Disorders, Primary\n",
      "D051271, Headache Disorders, Secondary\n",
      "D058430, Humeral Head\n",
      "D046650, Medical Subject Headings\n",
      "D051299, Post-Dural Puncture Headache\n",
      "D051298, Post-Traumatic Headache\n",
      "D000092467, Radial Head and Neck Fractures\n",
      "D013077, Sperm Head\n",
      "D000077195, Squamous Cell Carcinoma of Head and Neck\n",
      "D013358, Subject Headings\n",
      "D018781, Tension-Type Headache\n",
      "D014653, Vascular Headaches\n"
     ]
    }
   ],
   "source": [
    "mesh_str = []\n",
    "for mesh in meshs:\n",
    "    string = str(mesh) + \", \" + str(meshs[mesh]['Term'])\n",
    "    mesh_str.append(string)\n",
    "    print(string)"
   ]
  },
  {
   "cell_type": "markdown",
   "metadata": {},
   "source": [
    "<span style=\"color:red\">Wählen Sie aus den MeSH die aus, zu denen Sie Dokumente erhalten möchten.</span>"
   ]
  },
  {
   "cell_type": "code",
   "execution_count": 54,
   "metadata": {},
   "outputs": [
    {
     "data": {
      "application/vnd.jupyter.widget-view+json": {
       "model_id": "0d88bb8724eb4bb387e2ee9743912be4",
       "version_major": 2,
       "version_minor": 0
      },
      "text/plain": [
       "Checkbox(value=False, description='D003027, Cluster Headache', layout=Layout(width='1000px'))"
      ]
     },
     "metadata": {},
     "output_type": "display_data"
    },
    {
     "data": {
      "application/vnd.jupyter.widget-view+json": {
       "model_id": "46a099e6db08464b9c0d24cbdc9aa812",
       "version_major": 2,
       "version_minor": 0
      },
      "text/plain": [
       "Checkbox(value=False, description='D020207, Coma, Post-Head Injury', layout=Layout(width='1000px'))"
      ]
     },
     "metadata": {},
     "output_type": "display_data"
    },
    {
     "data": {
      "application/vnd.jupyter.widget-view+json": {
       "model_id": "cca06567ac85428ba620a6afc61f21ed",
       "version_major": 2,
       "version_minor": 0
      },
      "text/plain": [
       "Checkbox(value=False, description='D000094222, Dropped Head Syndrome', layout=Layout(width='1000px'))"
      ]
     },
     "metadata": {},
     "output_type": "display_data"
    },
    {
     "data": {
      "application/vnd.jupyter.widget-view+json": {
       "model_id": "09270a8cbdb741b3b84237a4f1f7f192",
       "version_major": 2,
       "version_minor": 0
      },
      "text/plain": [
       "Checkbox(value=False, description='D005270, Femur Head', layout=Layout(width='1000px'))"
      ]
     },
     "metadata": {},
     "output_type": "display_data"
    },
    {
     "data": {
      "application/vnd.jupyter.widget-view+json": {
       "model_id": "882a8606eaab46d0bdb1374320169356",
       "version_major": 2,
       "version_minor": 0
      },
      "text/plain": [
       "Checkbox(value=False, description='D005271, Femur Head Necrosis', layout=Layout(width='1000px'))"
      ]
     },
     "metadata": {},
     "output_type": "display_data"
    },
    {
     "data": {
      "application/vnd.jupyter.widget-view+json": {
       "model_id": "2885dffd05ff4db387abb30230afe623",
       "version_major": 2,
       "version_minor": 0
      },
      "text/plain": [
       "Checkbox(value=False, description='D006257, Head', layout=Layout(width='1000px'))"
      ]
     },
     "metadata": {},
     "output_type": "display_data"
    },
    {
     "data": {
      "application/vnd.jupyter.widget-view+json": {
       "model_id": "5196e2626fba48fe84aa24ec2ca1c562",
       "version_major": 2,
       "version_minor": 0
      },
      "text/plain": [
       "Checkbox(value=False, description='D064087, Head Impulse Test', layout=Layout(width='1000px'))"
      ]
     },
     "metadata": {},
     "output_type": "display_data"
    },
    {
     "data": {
      "application/vnd.jupyter.widget-view+json": {
       "model_id": "2800123a50574746a15d66b0bc689771",
       "version_major": 2,
       "version_minor": 0
      },
      "text/plain": [
       "Checkbox(value=False, description='D016489, Head Injuries, Closed', layout=Layout(width='1000px'))"
      ]
     },
     "metadata": {},
     "output_type": "display_data"
    },
    {
     "data": {
      "application/vnd.jupyter.widget-view+json": {
       "model_id": "ed5e849401534bc2921dba627676aa90",
       "version_major": 2,
       "version_minor": 0
      },
      "text/plain": [
       "Checkbox(value=False, description='D020197, Head Injuries, Penetrating', layout=Layout(width='1000px'))"
      ]
     },
     "metadata": {},
     "output_type": "display_data"
    },
    {
     "data": {
      "application/vnd.jupyter.widget-view+json": {
       "model_id": "e5e3daa5ce234dff8e7b8aac0115a0df",
       "version_major": 2,
       "version_minor": 0
      },
      "text/plain": [
       "Checkbox(value=False, description='D060226, Head Kidney', layout=Layout(width='1000px'))"
      ]
     },
     "metadata": {},
     "output_type": "display_data"
    },
    {
     "data": {
      "application/vnd.jupyter.widget-view+json": {
       "model_id": "c5f0dfeffe0744488bc5ceda8a56814f",
       "version_major": 2,
       "version_minor": 0
      },
      "text/plain": [
       "Checkbox(value=False, description='D019416, Head Movements', layout=Layout(width='1000px'))"
      ]
     },
     "metadata": {},
     "output_type": "display_data"
    },
    {
     "data": {
      "application/vnd.jupyter.widget-view+json": {
       "model_id": "f35471273fec4901abb06b347c44326c",
       "version_major": 2,
       "version_minor": 0
      },
      "text/plain": [
       "Checkbox(value=False, description='D006260, Head Protective Devices', layout=Layout(width='1000px'))"
      ]
     },
     "metadata": {},
     "output_type": "display_data"
    },
    {
     "data": {
      "application/vnd.jupyter.widget-view+json": {
       "model_id": "e805f8c2fc934808b3e9124f0d84e238",
       "version_major": 2,
       "version_minor": 0
      },
      "text/plain": [
       "Checkbox(value=False, description='D006258, Head and Neck Neoplasms', layout=Layout(width='1000px'))"
      ]
     },
     "metadata": {},
     "output_type": "display_data"
    },
    {
     "data": {
      "application/vnd.jupyter.widget-view+json": {
       "model_id": "f7c4e46714ed4ac6add0a507177d306b",
       "version_major": 2,
       "version_minor": 0
      },
      "text/plain": [
       "Checkbox(value=False, description='D018475, Head-Down Tilt', layout=Layout(width='1000px'))"
      ]
     },
     "metadata": {},
     "output_type": "display_data"
    },
    {
     "data": {
      "application/vnd.jupyter.widget-view+json": {
       "model_id": "c15c89dee71c4eb19953ffdde659ed90",
       "version_major": 2,
       "version_minor": 0
      },
      "text/plain": [
       "Checkbox(value=False, description='D006261, Headache', layout=Layout(width='1000px'))"
      ]
     },
     "metadata": {},
     "output_type": "display_data"
    },
    {
     "data": {
      "application/vnd.jupyter.widget-view+json": {
       "model_id": "3d17990bd3c14541884a605bce55024e",
       "version_major": 2,
       "version_minor": 0
      },
      "text/plain": [
       "Checkbox(value=False, description='D020773, Headache Disorders', layout=Layout(width='1000px'))"
      ]
     },
     "metadata": {},
     "output_type": "display_data"
    },
    {
     "data": {
      "application/vnd.jupyter.widget-view+json": {
       "model_id": "63d877396ead42ea8e84c3d6c196b51b",
       "version_major": 2,
       "version_minor": 0
      },
      "text/plain": [
       "Checkbox(value=False, description='D051270, Headache Disorders, Primary', layout=Layout(width='1000px'))"
      ]
     },
     "metadata": {},
     "output_type": "display_data"
    },
    {
     "data": {
      "application/vnd.jupyter.widget-view+json": {
       "model_id": "cc593539a6df45a2adf65d92f83959f0",
       "version_major": 2,
       "version_minor": 0
      },
      "text/plain": [
       "Checkbox(value=False, description='D051271, Headache Disorders, Secondary', layout=Layout(width='1000px'))"
      ]
     },
     "metadata": {},
     "output_type": "display_data"
    },
    {
     "data": {
      "application/vnd.jupyter.widget-view+json": {
       "model_id": "789d4c008d054f47ac65a24408f91a98",
       "version_major": 2,
       "version_minor": 0
      },
      "text/plain": [
       "Checkbox(value=False, description='D058430, Humeral Head', layout=Layout(width='1000px'))"
      ]
     },
     "metadata": {},
     "output_type": "display_data"
    },
    {
     "data": {
      "application/vnd.jupyter.widget-view+json": {
       "model_id": "cf686a2bc2274b04b17382efd2a9efd2",
       "version_major": 2,
       "version_minor": 0
      },
      "text/plain": [
       "Checkbox(value=False, description='D046650, Medical Subject Headings', layout=Layout(width='1000px'))"
      ]
     },
     "metadata": {},
     "output_type": "display_data"
    },
    {
     "data": {
      "application/vnd.jupyter.widget-view+json": {
       "model_id": "88ccb0c96f6d4685a58a699f848ae324",
       "version_major": 2,
       "version_minor": 0
      },
      "text/plain": [
       "Checkbox(value=False, description='D051299, Post-Dural Puncture Headache', layout=Layout(width='1000px'))"
      ]
     },
     "metadata": {},
     "output_type": "display_data"
    },
    {
     "data": {
      "application/vnd.jupyter.widget-view+json": {
       "model_id": "fe35e82902654096b5fec3e6c6a8811c",
       "version_major": 2,
       "version_minor": 0
      },
      "text/plain": [
       "Checkbox(value=False, description='D051298, Post-Traumatic Headache', layout=Layout(width='1000px'))"
      ]
     },
     "metadata": {},
     "output_type": "display_data"
    },
    {
     "data": {
      "application/vnd.jupyter.widget-view+json": {
       "model_id": "69df5ba583c44636bb6d78fbbb17cf4a",
       "version_major": 2,
       "version_minor": 0
      },
      "text/plain": [
       "Checkbox(value=False, description='D000092467, Radial Head and Neck Fractures', layout=Layout(width='1000px'))"
      ]
     },
     "metadata": {},
     "output_type": "display_data"
    },
    {
     "data": {
      "application/vnd.jupyter.widget-view+json": {
       "model_id": "5e70cb1a51ff4345b6d7a9738cf99288",
       "version_major": 2,
       "version_minor": 0
      },
      "text/plain": [
       "Checkbox(value=False, description='D013077, Sperm Head', layout=Layout(width='1000px'))"
      ]
     },
     "metadata": {},
     "output_type": "display_data"
    },
    {
     "data": {
      "application/vnd.jupyter.widget-view+json": {
       "model_id": "7cda023122ce490e9a1bef9d50ab682f",
       "version_major": 2,
       "version_minor": 0
      },
      "text/plain": [
       "Checkbox(value=False, description='D000077195, Squamous Cell Carcinoma of Head and Neck', layout=Layout(width=…"
      ]
     },
     "metadata": {},
     "output_type": "display_data"
    },
    {
     "data": {
      "application/vnd.jupyter.widget-view+json": {
       "model_id": "d8d656b14d2c4cec83fedbcc9a45ec4b",
       "version_major": 2,
       "version_minor": 0
      },
      "text/plain": [
       "Checkbox(value=False, description='D013358, Subject Headings', layout=Layout(width='1000px'))"
      ]
     },
     "metadata": {},
     "output_type": "display_data"
    },
    {
     "data": {
      "application/vnd.jupyter.widget-view+json": {
       "model_id": "a0991a107326470fabd4671c2dff2f96",
       "version_major": 2,
       "version_minor": 0
      },
      "text/plain": [
       "Checkbox(value=False, description='D018781, Tension-Type Headache', layout=Layout(width='1000px'))"
      ]
     },
     "metadata": {},
     "output_type": "display_data"
    },
    {
     "data": {
      "application/vnd.jupyter.widget-view+json": {
       "model_id": "51bd39b647474811b4df89594de37c1d",
       "version_major": 2,
       "version_minor": 0
      },
      "text/plain": [
       "Checkbox(value=False, description='D014653, Vascular Headaches', layout=Layout(width='1000px'))"
      ]
     },
     "metadata": {},
     "output_type": "display_data"
    }
   ],
   "source": [
    "checkboxes = []\n",
    "for mesh in mesh_str:\n",
    "    checkboxes.append(Checkbox(description=mesh, layout=Layout(width='1000px')))\n",
    "for checkbox in checkboxes:\n",
    "    display(checkbox)"
   ]
  },
  {
   "cell_type": "code",
   "execution_count": 103,
   "metadata": {},
   "outputs": [],
   "source": [
    "## Identifizierung der ausgewählten MeSHs\n",
    "i = 0\n",
    "meshs_checked = {}\n",
    "for checkbox in checkboxes:\n",
    "    if checkbox.value == True:\n",
    "        ui = str(re.findall(\"[^,]*/*\", mesh_str[i])[0])  \n",
    "        meshs_checked[ui] = meshs[ui]\n",
    "    i += 1"
   ]
  },
  {
   "cell_type": "markdown",
   "metadata": {},
   "source": [
    "## Folgend werden für die ausgwählten MeSHs Dokumente ermittelt, welche diese MeSHs zugeordnet haben. "
   ]
  },
  {
   "cell_type": "markdown",
   "metadata": {},
   "source": [
    "<span style=\"color:red\">Bestimmen Sie nun, wie viele Dokumente pro MeSH ermittelt werden sollen</span>"
   ]
  },
  {
   "cell_type": "code",
   "execution_count": 79,
   "metadata": {},
   "outputs": [
    {
     "data": {
      "application/vnd.jupyter.widget-view+json": {
       "model_id": "7f37d6705b9040bfaaabf9a05f9307d8",
       "version_major": 2,
       "version_minor": 0
      },
      "text/plain": [
       "IntSlider(value=7, continuous_update=False, description='Anzahl', max=20, min=1)"
      ]
     },
     "metadata": {},
     "output_type": "display_data"
    }
   ],
   "source": [
    "anzahlDoks = wid.IntSlider(value=7, min=1, max=20, step=1, description=\"Anzahl\", disabled=False, continuous_update=False, orientation='horizontal', readout=True, readout_format='d')\n",
    "display(anzahlDoks)"
   ]
  },
  {
   "cell_type": "code",
   "execution_count": 104,
   "metadata": {},
   "outputs": [
    {
     "name": "stdout",
     "output_type": "stream",
     "text": [
      "Zu dem MeSH mit der UI D046650 wurden bereits Daten erhoben.\n"
     ]
    },
    {
     "name": "stdout",
     "output_type": "stream",
     "text": [
      "Zu dem MeSH mit der UI D051298 wurden bereits Daten erhoben.\n",
      "Zu dem MeSH mit der UI D000092467 wurden bereits Daten erhoben.\n",
      "Zu dem MeSH mit der UI D014653 wurden bereits Daten erhoben.\n"
     ]
    }
   ],
   "source": [
    "Dokumente_mit_MeSH(meshs_checked, anzahlDoks.value)"
   ]
  }
 ],
 "metadata": {
  "kernelspec": {
   "display_name": "Python 3",
   "language": "python",
   "name": "python3"
  },
  "language_info": {
   "codemirror_mode": {
    "name": "ipython",
    "version": 3
   },
   "file_extension": ".py",
   "mimetype": "text/x-python",
   "name": "python",
   "nbconvert_exporter": "python",
   "pygments_lexer": "ipython3",
   "version": "3.11.2"
  }
 },
 "nbformat": 4,
 "nbformat_minor": 2
}
