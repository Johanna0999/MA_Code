{
 "cells": [
  {
   "cell_type": "code",
   "execution_count": 47,
   "metadata": {},
   "outputs": [],
   "source": [
    "import requests\n",
    "import json\n",
    "import xmltodict\n",
    "import urllib.parse\n",
    "import opencitingpy\n",
    "import datetime\n",
    "import sqlite3\n",
    "import os"
   ]
  },
  {
   "attachments": {},
   "cell_type": "markdown",
   "metadata": {},
   "source": [
    "# Setup sqlite Datenbank\n",
    "Datenbank wird im Verzeichnis \"C:\\MA_Pethke_3992454\" abgelegt"
   ]
  },
  {
   "cell_type": "code",
   "execution_count": 48,
   "metadata": {},
   "outputs": [],
   "source": [
    "# Anlegen von Datenbankspeicherort, falls er nicht existiert\n",
    "path = \"C:\\MA_Pethke_3992454\"\n",
    "if not os.path.exists(path):\n",
    "    os.makedirs(path)\n",
    "\n",
    "# Verbindung zu DB aufbauen, DB wird automatisch erstellt, wenn keine da ist\n",
    "con = sqlite3.connect(\"C:\\MA_Pethke_3992454\\MA_3992454.db\")\n",
    "cur = con.cursor()"
   ]
  },
  {
   "cell_type": "code",
   "execution_count": 49,
   "metadata": {},
   "outputs": [],
   "source": [
    "## Tabellen Schema erstellen\n",
    "#------------------- Tabelle Dokument --------------------------------------#\n",
    "cur.execute(\"CREATE TABLE IF NOT EXISTS Dokument(PMID INTEGER UNIQUE, titel TEXT, pubdate DATE)\")\n",
    "\n",
    "#------------------- Tabelle Zitationen --------------------------------------#\n",
    "cur.execute(\"CREATE TABLE IF NOT EXISTS Zitationen(PMID INTEGER, jahr YEAR, citecount INTEGER)\")\n",
    "\n",
    "#------------------- Tabelle Mesh --------------------------------------#\n",
    "cur.execute(\"CREATE TABLE IF NOT EXISTS Mesh(UI VARCHAR UNIQUE, name TEXT, datum DATE)\")\n",
    "\n",
    "#------------------- Tabelle Abfrage --------------------------------------#\n",
    "cur.execute(\"CREATE TABLE IF NOT EXISTS Abfrage(QID INTEGER PRIMARY KEY AUTOINCREMENT, query TEXT, PMID INTEGER, ranking INTEGER, mesh VARCHAR)\")\n",
    "con.commit()"
   ]
  },
  {
   "attachments": {},
   "cell_type": "markdown",
   "metadata": {},
   "source": [
    "# PubMed\n",
    "## Teil 1\n",
    "### Query mit Stichworten --> Liste der relevanten Dokumente\n",
    "queryPubMed: Stichwortartige Suche <br>\n",
    "idList: Liste mit PMIDs <br>\n",
    "countResult: Anzahl (maximal) zurückgegebener Dokumente <br>\n",
    "\n",
    "### URL \n",
    "db: welche Datenbank wird durchsucht (pubmed) <br>\n",
    "term: queryPubMed <br>\n",
    "RetMax: countResult <br>\n",
    "sort: Art der Sortierung (default: relevance) <br>\n",
    "retmod: Format der zurückgelieferten Daten <br>\n",
    "\n"
   ]
  },
  {
   "cell_type": "code",
   "execution_count": 50,
   "metadata": {},
   "outputs": [],
   "source": [
    "## Liste der \"relevanten\" Dokumente\n",
    "def getRelevantDocuments(query):\n",
    "    queryPubMed = query\n",
    "    countResult = 10\n",
    "    responsePubMedID = requests.get('https://eutils.ncbi.nlm.nih.gov/entrez/eutils/esearch.fcgi?db=pubmed&term='+urllib.parse.quote(queryPubMed)+'&RetMax='+urllib.parse.quote(str(countResult))+'&sort=relevance&retmode=json')\n",
    "    responsePubMedID_json = json.loads(responsePubMedID.text)\n",
    "    idList = responsePubMedID_json[\"esearchresult\"][\"idlist\"]\n",
    "    return idList"
   ]
  },
  {
   "attachments": {},
   "cell_type": "markdown",
   "metadata": {},
   "source": [
    "## Teil 2\n",
    "### Query mit PMID aus Teil 1 --> Liste der MeSH zu dem jeweiligen Dokument\n",
    "Für jedes Dokument (Identifier: PMID) wird eine Detailsuche durchgeführt. <br>\n",
    "Extrahierte Infos: <br>\n",
    "Titel <br>\n",
    "Liste der MeSH: [[PMID, [MeSH UI, MeSH Name], [MeSH UI, MeSH Name]] ,[PMID, [MeSH UI, MeSH Name], [MeSH UI, MeSH Name]] ,  ...] (beliebig viele MeSH pro Dokument)<br>\n",
    "Datum Veröffentlichung: Wann wurde das Dokument veröffentlicht <br>"
   ]
  },
  {
   "cell_type": "code",
   "execution_count": 51,
   "metadata": {},
   "outputs": [],
   "source": [
    "## Liste der MeSHs (zu allen Dokumenten)\n",
    "def getMeSH(idList, queryPubMed):\n",
    "    ranking = 0\n",
    "    for pmid in idList:\n",
    "        ranking = ranking + 1\n",
    "        # Abfrage zu einer einzelnen PMID\n",
    "        response_PubMedMesh = requests.get(\"https://eutils.ncbi.nlm.nih.gov/entrez/eutils/efetch.fcgi?db=pubmed&id=\"+urllib.parse.quote(str(pmid)))\n",
    "\n",
    "        # Formatierung\n",
    "        xpars = xmltodict.parse(response_PubMedMesh.text)\n",
    "        json_str = json.dumps(xpars, indent=4)\n",
    "        json_data = json.loads(json_str)\n",
    "        try:\n",
    "            title = json_data[\"PubmedArticleSet\"][\"PubmedArticle\"][\"MedlineCitation\"][\"Article\"][\"ArticleTitle\"]\n",
    "        except:\n",
    "            print(\"#1\", json_str)\n",
    "            break\n",
    "\n",
    "        # Nicht alle Dokumente haben ein eigenes Veröffentlichungsdatum, dann wird sich auf das DateCompleted von PubMed berufen (TODO: recherchieren, was das genau ist)\n",
    "        try:\n",
    "            pubDateAll = json_data[\"PubmedArticleSet\"][\"PubmedArticle\"][\"MedlineCitation\"][\"Article\"][\"ArticleDate\"]\n",
    "            pubDate = datetime.datetime(int(pubDateAll[\"Year\"]), int(pubDateAll[\"Month\"]), int(pubDateAll[\"Day\"]))\n",
    "        except:\n",
    "            pubDateAll = json_data[\"PubmedArticleSet\"][\"PubmedArticle\"][\"MedlineCitation\"][\"DateCompleted\"]\n",
    "            pubDate = datetime.datetime(int(pubDateAll[\"Year\"]), int(pubDateAll[\"Month\"]), int(pubDateAll[\"Day\"]))\n",
    "\n",
    "        # PMID wird folgend initial gelistet, wenn noch nicht geschehen\n",
    "        cur.execute(\"SELECT * FROM Dokument WHERE PMID = '\"+str(pmid)+\"'\")\n",
    "        selection = cur.fetchall()\n",
    "        if selection == []:\n",
    "            cur.execute(\"INSERT INTO Dokument (PMID, titel, pubdate) VALUES ('\"+str(pmid)+\"', '\"+str(title)+\"', '\"+str(pubDate.date())+\"')\")\n",
    "            con.commit()\n",
    "\n",
    "        try:\n",
    "            meshAll = json_data[\"PubmedArticleSet\"][\"PubmedArticle\"][\"MedlineCitation\"][\"MeshHeadingList\"][\"MeshHeading\"]\n",
    "        except:\n",
    "            print(\"#2\")\n",
    "            meshAll = {}\n",
    "        for mesh in meshAll:\n",
    "            # print(mesh)\n",
    "            meshUI = mesh[\"DescriptorName\"][\"@UI\"]\n",
    "\n",
    "            # Abfrage wird inital gelistet, wenn schoneinmal abgefragt wird abgebrochen\n",
    "            cur.execute(\"SELECT * FROM Abfrage WHERE (query = '\"+str(queryPubMed)+\"' AND PMID = '\"+str(pmid)+\"' AND ranking = '\"+str(ranking)+\"' AND mesh = '\"+str(meshUI)+\"')\")\n",
    "            selection = cur.fetchall()\n",
    "            if selection == []:\n",
    "                cur.execute(\"INSERT INTO Abfrage (query, PMID, ranking, mesh) VALUES ('\"+str(queryPubMed)+\"', '\"+str(pmid)+\"', '\"+str(ranking)+\"', '\"+str(meshUI)+\"')\")\n",
    "                con.commit()\n",
    "            else:\n",
    "                print(\"Die Ausführung wird hier abgebrochen, Anfragen können nicht mehrfach gestellt werden\")\n",
    "                return\n",
    "            \n",
    "            # Mesh wird folgend initial gelistet, wenn noch nicht geschehen\n",
    "            cur.execute(\"SELECT * FROM Mesh WHERE UI = '\"+str(meshUI)+\"'\")\n",
    "            selection = cur.fetchall()\n",
    "            if selection == []:\n",
    "                meshName = mesh[\"DescriptorName\"][\"#text\"]\n",
    "                cur.execute(\"INSERT INTO Mesh (UI, name) VALUES ('\"+str(meshUI)+\"', '\"+str(meshName)+\"')\")\n",
    "                con.commit()\n"
   ]
  },
  {
   "attachments": {},
   "cell_type": "markdown",
   "metadata": {},
   "source": [
    "# MeSH\n",
    "## Wann wurde das MeSH hinzugefügt?\n",
    "Dies ist für jedes MeSH in allen Dokumenten zu ermitteln"
   ]
  },
  {
   "cell_type": "code",
   "execution_count": 52,
   "metadata": {},
   "outputs": [],
   "source": [
    "def getMeSHUIs(queryPubMed):\n",
    "    cur.execute(\"SELECT DISTINCT mesh FROM Abfrage WHERE query = '\"+str(queryPubMed)+\"'\")\n",
    "    meshPerQuery = [x[0] for x in cur.fetchall()]\n",
    "    return meshPerQuery\n",
    "\n",
    "def checkEmptyDate(queryPubMed):\n",
    "    dateFormat = \"%Y-%m-%d\"\n",
    "    isDate = True\n",
    "    meshWithEmptyDate = []\n",
    "    meshPerQuery = getMeSHUIs(queryPubMed)\n",
    "    for mesh in meshPerQuery:\n",
    "        cur.execute(\"SELECT datum FROM Mesh WHERE UI = '\" + str(mesh)+ \"'\")\n",
    "        selection = cur.fetchall()[0][0]\n",
    "        try:\n",
    "            isDate = bool(datetime.datetime.strptime(selection, dateFormat))\n",
    "        except:\n",
    "            isDate = False\n",
    "        if not isDate:\n",
    "            meshWithEmptyDate.append(mesh)\n",
    "    return meshWithEmptyDate\n",
    "\n",
    "def insertMeshDate(queryPubMed): # Funktion um zu jedem Mesh das Datum hinzuzufügen\n",
    "    meshWithEmptyDate = checkEmptyDate(queryPubMed)\n",
    "    for mesh in meshWithEmptyDate:\n",
    "        response = requests.get('https://id.nlm.nih.gov/mesh/'+str(mesh)+'.json', headers={'Accept': 'application/json'})\n",
    "        data = response.json()\n",
    "        cur.execute(\"UPDATE Mesh SET datum = '\"+data[\"dateCreated\"]+\"' WHERE UI = '\"+str(mesh)+\"'\")\n",
    "        con.commit()"
   ]
  },
  {
   "attachments": {},
   "cell_type": "markdown",
   "metadata": {},
   "source": [
    "# Semantic Scholar\n",
    "Zitationen pro Jahr"
   ]
  },
  {
   "cell_type": "code",
   "execution_count": 53,
   "metadata": {},
   "outputs": [],
   "source": [
    "def getCitations(citations, citationsPerYear): # Funktion um Liste mit Zitationen pro Jahr zu füllen \n",
    "    for cite in citations:\n",
    "        year = str(cite[\"citingPaper\"][\"year\"])\n",
    "        if year not in citationsPerYear:\n",
    "            citationsPerYear[year] = 1\n",
    "        else:\n",
    "            citationsPerYear[year] = citationsPerYear[year] + 1\n",
    "    return citationsPerYear"
   ]
  },
  {
   "cell_type": "code",
   "execution_count": 54,
   "metadata": {},
   "outputs": [],
   "source": [
    "def getCitationCount(offset, pmid): # Funktion um eine Anfrage an Semantic Scholar zu stellen -> Antwort: Zitationen + Zurückgegebene Zitationsanzahl (maximal 1000)\n",
    "    response = requests.get(\"https://api.semanticscholar.org/graph/v1/paper/PMID:\"+str(pmid)+\"/citations?fields=year&offset=\"+str(offset)+\"&limit=\"+str(1000))\n",
    "    json_str = json.loads(response.text)\n",
    "    # print(json_str)\n",
    "    citations = json_str[\"data\"]\n",
    "    citationCount = len(citations)\n",
    "    return citations, citationCount"
   ]
  },
  {
   "cell_type": "code",
   "execution_count": 55,
   "metadata": {},
   "outputs": [],
   "source": [
    "def getCitationsPerYearComplete(pmid): # Funktion um eine vollständige Liste der Zitationen pro Jahr zu einem Dokument zu erhalten\n",
    "    citationsPerYear = {}\n",
    "    offset = 0\n",
    "    citationsTemp = getCitationCount(offset, pmid)\n",
    "    while citationsTemp[1] != 0: # solange mehr als 1000 Zitationen als Antwort von Semantic Scholar kommen, muss eine erneute Anfrage mit einem erhöhten Offset gestellt werden \n",
    "        getCitations(citationsTemp[0], citationsPerYear) \n",
    "        offset = offset + 1000\n",
    "        citationsTemp = getCitationCount(offset, pmid)\n",
    "    return citationsPerYear"
   ]
  },
  {
   "cell_type": "code",
   "execution_count": 56,
   "metadata": {},
   "outputs": [],
   "source": [
    "def fillCitationsPerYear(pmid, citationsPerYear):\n",
    "    for year, citationcount in citationsPerYear.items():\n",
    "        cur.execute(\"INSERT INTO Zitationen (PMID, jahr, citecount) VALUES ('\"+str(pmid)+\"', '\"+str(year)+\"', '\"+str(citationcount)+\"')\")\n",
    "        con.commit()\n",
    "\n",
    "def updateCitationsPerYear(pmid, citationsPerYear):\n",
    "    for year, citationcount in citationsPerYear.items():\n",
    "        cur.execute(\"UPDATE Zitationen SET citecount = '\" + str(citationcount) +\"' WHERE PMID = '\"+ str(pmid) +\"' AND jahr = '\"+str(year)+\"'\")\n",
    "        con.commit()"
   ]
  },
  {
   "cell_type": "code",
   "execution_count": 57,
   "metadata": {},
   "outputs": [],
   "source": [
    "def fillZitationen(idList):\n",
    "    for pmid in idList:\n",
    "        cur.execute(\"SELECT * FROM Zitationen WHERE PMID = '\"+ str(pmid) + \"'\")\n",
    "        selection = cur.fetchall()\n",
    "        # prüfung ob die Zitationsdaten für das Dokument schon erhoben wurden\n",
    "        if selection == []:\n",
    "            citationsPerYear = getCitationsPerYearComplete(pmid)\n",
    "            if citationsPerYear == {}:\n",
    "                cur.execute(\"INSERT INTO Zitationen (PMID, jahr, citecount) VALUES ('\"+str(pmid)+\"', '0', '0')\")\n",
    "                con.commit()\n",
    "            else:\n",
    "                fillCitationsPerYear(pmid, citationsPerYear)\n",
    "        # else: wenn die Daten schon erhoben wurden, wird geprüft, ob diese noch aktuell sind, wenn nicht, werden sie geupdatet \n",
    "        else:\n",
    "            # TODO Abfrage an den Nutzer ob er Daten geupdatet haben möchte (wenn nicht: Zeitersparnis, wenn doch: auch getCitationsPerYearComplete(pmid) und ansschließend updaten statt inserten)\n",
    "            print(\"hier passiert noch nix\")\n",
    "            # updateCitationsPerYear(pmid, citationsPerYear)"
   ]
  },
  {
   "attachments": {},
   "cell_type": "markdown",
   "metadata": {},
   "source": [
    "# Zitationszahlen abhängig von MeSH Zeitpunkt berechnen"
   ]
  },
  {
   "cell_type": "code",
   "execution_count": 58,
   "metadata": {},
   "outputs": [],
   "source": [
    "def getPubDateOfPMID(pmid):\n",
    "    cur.execute(\"SELECT pubdate FROM Dokument WHERE PMID = '\"+ str(pmid)+ \"'\")\n",
    "    pubdate = datetime.datetime.strptime(cur.fetchall()[0][0], \"%Y-%m-%d\").date()\n",
    "    return pubdate"
   ]
  },
  {
   "cell_type": "code",
   "execution_count": 59,
   "metadata": {},
   "outputs": [],
   "source": [
    "def getMeSHsOfPMID(pmid):\n",
    "    cur.execute(\"SELECT mesh FROM Abfrage WHERE PMID = '\"+ str(pmid)+ \"'\")\n",
    "    meshPerDok = [x[0] for x in cur.fetchall()]\n",
    "    return meshPerDok\n",
    "\n",
    "def getDateOfMeSH(meshUI):\n",
    "    cur.execute(\"SELECT datum FROM Mesh WHERE UI = '\"+ str(meshUI)+ \"'\")\n",
    "    meshDate = datetime.datetime.strptime(cur.fetchall()[0][0], \"%Y-%m-%d\").date()\n",
    "    return meshDate"
   ]
  },
  {
   "cell_type": "code",
   "execution_count": 60,
   "metadata": {},
   "outputs": [],
   "source": [
    "def getCiteCountBeforeAndAfterMeSH(pmid, meshUI):\n",
    "    meshDate = getDateOfMeSH(meshUI)\n",
    "    print(meshUI, meshDate)\n",
    "    cur.execute(\"SELECT citecount FROM Zitationen WHERE pmid = '\"+ str(pmid) + \"' AND jahr < \" + str(meshDate))\n",
    "    citeCountsBefore = sum([x[0] for x in cur.fetchall()])\n",
    "    cur.execute(\"SELECT citecount FROM Zitationen WHERE pmid = '\"+ str(pmid) + \"' AND jahr >= \" + str(meshDate))\n",
    "    citeCountsAfter = sum([x[0] for x in cur.fetchall()])\n",
    "    return citeCountsBefore, citeCountsAfter\n"
   ]
  },
  {
   "cell_type": "code",
   "execution_count": 61,
   "metadata": {},
   "outputs": [],
   "source": [
    "def getAllMeSHCiteCountsPerPMID(pmid):\n",
    "    meshPerDok = getMeSHsOfPMID(pmid)\n",
    "    for mesh in meshPerDok:\n",
    "        cites = getCiteCountBeforeAndAfterMeSH(pmid, mesh)\n",
    "        print(\"Vor MeSH:\", cites[0])\n",
    "        print(\"Nach MeSH:\", cites[1])\n",
    "        print(\"----------------------------------\")\n",
    "    "
   ]
  },
  {
   "cell_type": "code",
   "execution_count": 62,
   "metadata": {},
   "outputs": [],
   "source": [
    "def dev_printData(pmid):\n",
    "    pubdate = getPubDateOfPMID(pmid)\n",
    "    print(\"Veöffentlichunsdatum Dokument: \", pubdate)\n",
    "    print(\"----------------------------------\")\n",
    "    print(\"----------------------------------\")\n",
    "    getAllMeSHCiteCountsPerPMID(pmid)"
   ]
  },
  {
   "attachments": {},
   "cell_type": "markdown",
   "metadata": {},
   "source": [
    "# PipeLine"
   ]
  },
  {
   "cell_type": "code",
   "execution_count": 63,
   "metadata": {},
   "outputs": [
    {
     "name": "stdout",
     "output_type": "stream",
     "text": [
      "#2\n",
      "#2\n",
      "#2\n",
      "{'2023': 18, '2022': 50, '2021': 11}\n",
      "{'2023': 7, '2022': 23, '2021': 36, '2020': 32, '2019': 36, '2018': 23, '2017': 14, 'None': 1}\n",
      "{'2023': 11, '2022': 39, '2021': 30, '2020': 9}\n",
      "{'2023': 3, '2022': 17, '2021': 7}\n",
      "{'2023': 1, '2022': 7}\n",
      "{'2023': 24, '2022': 84, '2021': 56, '2020': 62, '2019': 13, '2018': 1}\n",
      "{'2023': 1, '2022': 11, '2021': 11, '2020': 7}\n",
      "{'2023': 1}\n",
      "{'2023': 2, '2022': 14, '2021': 6, '2020': 7}\n",
      "{'2023': 6, '2022': 31, '2021': 50, '2020': 75, '2019': 82, '2018': 71, '2017': 78, '2016': 41, '2015': 7}\n"
     ]
    }
   ],
   "source": [
    "query = \"Corona\"\n",
    "\n",
    "\n",
    "idList = getRelevantDocuments(query)\n",
    "getMeSH(idList, query)\n",
    "insertMeshDate(query)\n",
    "fillZitationen(idList)"
   ]
  },
  {
   "cell_type": "code",
   "execution_count": 76,
   "metadata": {},
   "outputs": [
    {
     "name": "stdout",
     "output_type": "stream",
     "text": [
      "26065524\n",
      "Veöffentlichunsdatum Dokument:  2015-06-11\n",
      "----------------------------------\n",
      "----------------------------------\n",
      "D000818 1975-07-25\n",
      "Vor MeSH: 0\n",
      "Nach MeSH: 441\n",
      "----------------------------------\n",
      "D001769 1999-01-01\n",
      "Vor MeSH: 0\n",
      "Nach MeSH: 441\n",
      "----------------------------------\n",
      "D002623 1999-01-01\n",
      "Vor MeSH: 0\n",
      "Nach MeSH: 441\n",
      "----------------------------------\n",
      "D006801 1999-01-01\n",
      "Vor MeSH: 0\n",
      "Nach MeSH: 441\n",
      "----------------------------------\n",
      "D006863 1999-01-01\n",
      "Vor MeSH: 0\n",
      "Nach MeSH: 441\n",
      "----------------------------------\n",
      "D007700 1999-01-01\n",
      "Vor MeSH: 0\n",
      "Nach MeSH: 441\n",
      "----------------------------------\n",
      "D008168 1999-01-01\n",
      "Vor MeSH: 0\n",
      "Nach MeSH: 441\n",
      "----------------------------------\n",
      "D064307 2013-07-08\n",
      "Vor MeSH: 0\n",
      "Nach MeSH: 441\n",
      "----------------------------------\n",
      "D053758 2006-07-05\n",
      "Vor MeSH: 0\n",
      "Nach MeSH: 441\n",
      "----------------------------------\n",
      "D009994 1999-01-01\n",
      "Vor MeSH: 0\n",
      "Nach MeSH: 441\n",
      "----------------------------------\n",
      "D011506 1999-01-01\n",
      "Vor MeSH: 0\n",
      "Nach MeSH: 441\n",
      "----------------------------------\n",
      "D018675 1994-04-19\n",
      "Vor MeSH: 0\n",
      "Nach MeSH: 441\n",
      "----------------------------------\n"
     ]
    }
   ],
   "source": [
    "i = 9\n",
    "print(idList[i])\n",
    "dev_printData(idList[i])\n"
   ]
  }
 ],
 "metadata": {
  "kernelspec": {
   "display_name": "Python 3",
   "language": "python",
   "name": "python3"
  },
  "language_info": {
   "codemirror_mode": {
    "name": "ipython",
    "version": 3
   },
   "file_extension": ".py",
   "mimetype": "text/x-python",
   "name": "python",
   "nbconvert_exporter": "python",
   "pygments_lexer": "ipython3",
   "version": "3.11.2"
  },
  "orig_nbformat": 4,
  "vscode": {
   "interpreter": {
    "hash": "d0c67ead62d1ef50bc1be54216cb876d54aed79d632f6019ba218adb4f7caf0a"
   }
  }
 },
 "nbformat": 4,
 "nbformat_minor": 2
}
