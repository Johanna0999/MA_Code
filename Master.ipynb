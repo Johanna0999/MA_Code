{
 "cells": [
  {
   "cell_type": "code",
   "execution_count": 154,
   "metadata": {},
   "outputs": [],
   "source": [
    "import requests\n",
    "import json\n",
    "import xmltodict\n",
    "import urllib.parse\n",
    "import opencitingpy\n",
    "import datetime\n",
    "import sqlite3\n",
    "import os"
   ]
  },
  {
   "attachments": {},
   "cell_type": "markdown",
   "metadata": {},
   "source": [
    "# Setup sqlite Datenbank\n",
    "Datenbank wird im Verzeichnis \"C:\\MA_Pethke_3992454\" abgelegt"
   ]
  },
  {
   "cell_type": "code",
   "execution_count": 155,
   "metadata": {},
   "outputs": [],
   "source": [
    "# Anlegen von Datenbankspeicherort, falls er nicht existiert\n",
    "path = \"C:\\MA_Pethke_3992454\"\n",
    "if not os.path.exists(path):\n",
    "    os.makedirs(path)\n",
    "\n",
    "# Verbindung zu DB aufbauen, DB wird automatisch erstellt, wenn keine da ist\n",
    "con = sqlite3.connect(\"C:\\MA_Pethke_3992454\\MA_3992454.db\")\n",
    "cur = con.cursor()"
   ]
  },
  {
   "cell_type": "code",
   "execution_count": 177,
   "metadata": {},
   "outputs": [],
   "source": [
    "## Tabellen Schema erstellen\n",
    "#------------------- Tabelle Dokument --------------------------------------#\n",
    "cur.execute(\"CREATE TABLE IF NOT EXISTS Dokument(PMID INTEGER, titel TEXT, pubdate DATE)\")\n",
    "\n",
    "#------------------- Tabelle Zitationen --------------------------------------#\n",
    "cur.execute(\"CREATE TABLE IF NOT EXISTS Zitationen(PMID INTEGER, jahr YEAR, citecount INTEGER)\")\n",
    "\n",
    "#------------------- Tabelle Mesh --------------------------------------#\n",
    "cur.execute(\"CREATE TABLE IF NOT EXISTS Mesh(UI VARCHAR, name TEXT, datum DATE)\")\n",
    "\n",
    "#------------------- Tabelle Abfrage --------------------------------------#\n",
    "cur.execute(\"CREATE TABLE IF NOT EXISTS Abfrage(query TEXT, PMID INTEGER, ranking INTEGER, mesh VARCHAR)\")\n",
    "con.commit()"
   ]
  },
  {
   "attachments": {},
   "cell_type": "markdown",
   "metadata": {},
   "source": [
    "# PubMed\n",
    "## Teil 1\n",
    "### Query mit Stichworten --> Liste der relevanten Dokumente\n",
    "queryPubMed: Stichwortartige Suche <br>\n",
    "idList: Liste mit PMIDs <br>\n",
    "countResult: Anzahl (maximal) zurückgegebener Dokumente <br>\n",
    "\n",
    "### URL \n",
    "db: welche Datenbank wird durchsucht (pubmed) <br>\n",
    "term: queryPubMed <br>\n",
    "RetMax: countResult <br>\n",
    "sort: Art der Sortierung (default: relevance) <br>\n",
    "retmod: Format der zurückgelieferten Daten <br>\n",
    "\n"
   ]
  },
  {
   "cell_type": "code",
   "execution_count": 157,
   "metadata": {},
   "outputs": [
    {
     "name": "stdout",
     "output_type": "stream",
     "text": [
      "['25335757', '36637470', '22942365', '9279162', '9425562', '9339463', '3330962', '3931543', '27509653', '23431655']\n"
     ]
    }
   ],
   "source": [
    "## Liste der \"relevanten\" Dokumente\n",
    "queryPubMed = \"head injury\"\n",
    "countResult = 10\n",
    "responsePubMedID = requests.get('https://eutils.ncbi.nlm.nih.gov/entrez/eutils/esearch.fcgi?db=pubmed&term='+urllib.parse.quote(queryPubMed)+'&RetMax='+urllib.parse.quote(str(countResult))+'&sort=relevance&retmode=json')\n",
    "responsePubMedID_json = json.loads(responsePubMedID.text)\n",
    "idList = responsePubMedID_json[\"esearchresult\"][\"idlist\"]\n",
    "print(idList)"
   ]
  },
  {
   "attachments": {},
   "cell_type": "markdown",
   "metadata": {},
   "source": [
    "## Teil 2\n",
    "### Query mit PMID aus Teil 1 --> Liste der MeSH zu dem jeweiligen Dokument\n",
    "Für jedes Dokument (Identifier: PMID) wird eine Detailsuche durchgeführt. <br>\n",
    "Extrahierte Infos: <br>\n",
    "Titel <br>\n",
    "Liste der MeSH: [[PMID, [MeSH UI, MeSH Name], [MeSH UI, MeSH Name]] ,[PMID, [MeSH UI, MeSH Name], [MeSH UI, MeSH Name]] ,  ...] (beliebig viele MeSH pro Dokument)<br>\n",
    "Datum Veröffentlichung: Wann wurde das Dokument veröffentlicht <br>"
   ]
  },
  {
   "cell_type": "code",
   "execution_count": 158,
   "metadata": {},
   "outputs": [],
   "source": [
    "## Liste der MeSHs (zu allen Dokumenten)\n",
    "ranking = 0\n",
    "for pmid in idList:\n",
    "    ranking = ranking + 1\n",
    "    # print(id)\n",
    "    # temporäre Liste zum Anhängen an meshList\n",
    "    # Abfrage zu einer einzelnen PMID\n",
    "    response_PubMedMesh = requests.get(\"https://eutils.ncbi.nlm.nih.gov/entrez/eutils/efetch.fcgi?db=pubmed&id=\"+urllib.parse.quote(str(pmid)))\n",
    "    # Formatierung\n",
    "    xpars = xmltodict.parse(response_PubMedMesh.text)\n",
    "    json_str = json.dumps(xpars, indent=4)\n",
    "    json_data = json.loads(json_str)\n",
    "    title = json_data[\"PubmedArticleSet\"][\"PubmedArticle\"][\"MedlineCitation\"][\"Article\"][\"ArticleTitle\"]\n",
    "    # Nicht alle Dokumente haben ein eigenes Veröffentlichungsdatum, dann wird sich auf das DateCompleted von PubMed berufen (TODO: recherchieren, was das genau ist)\n",
    "    try:\n",
    "        pubDateAll = json_data[\"PubmedArticleSet\"][\"PubmedArticle\"][\"MedlineCitation\"][\"Article\"][\"ArticleDate\"]\n",
    "        pubDate = datetime.datetime(int(pubDateAll[\"Year\"]), int(pubDateAll[\"Month\"]), int(pubDateAll[\"Day\"]))\n",
    "    except:\n",
    "        pubDateAll = json_data[\"PubmedArticleSet\"][\"PubmedArticle\"][\"MedlineCitation\"][\"DateCompleted\"]\n",
    "        pubDate = datetime.datetime(int(pubDateAll[\"Year\"]), int(pubDateAll[\"Month\"]), int(pubDateAll[\"Day\"]))\n",
    "    cur.execute(\"INSERT INTO Dokument (PMID, titel, pubdate) VALUES ('\"+str(pmid)+\"', '\"+str(title)+\"', '\"+str(pubDate)+\"')\")\n",
    "    con.commit()\n",
    "\n",
    "    meshAll = json_data[\"PubmedArticleSet\"][\"PubmedArticle\"][\"MedlineCitation\"][\"MeshHeadingList\"][\"MeshHeading\"]\n",
    "    for mesh in meshAll:\n",
    "        meshUI = mesh[\"DescriptorName\"][\"@UI\"]\n",
    "        cur.execute(\"INSERT INTO Abfrage (query, PMID, ranking, mesh) VALUES ('\"+str(queryPubMed)+\"', '\"+str(pmid)+\"', '\"+str(ranking)+\"', '\"+str(meshUI)+\"')\")\n",
    "        cur.execute(\"SELECT * FROM Mesh WHERE UI = '\"+str(meshUI)+\"'\")\n",
    "        # Mesh wird folgend initial gelistet, wenn noch nicht geschehen\n",
    "        if cur.fetchall() == []:\n",
    "            meshName = mesh[\"DescriptorName\"][\"#text\"]\n",
    "            cur.execute(\"INSERT INTO Mesh (UI, name) VALUES ('\"+str(meshUI)+\"', '\"+str(meshName)+\"')\")\n",
    "        con.commit()\n",
    "        "
   ]
  },
  {
   "attachments": {},
   "cell_type": "markdown",
   "metadata": {},
   "source": [
    "# MeSH\n",
    "## Wann wurde das MeSH hinzugefügt?\n",
    "Dies ist für jedes MeSH in allen Dokumenten zu ermitteln"
   ]
  },
  {
   "cell_type": "code",
   "execution_count": 159,
   "metadata": {},
   "outputs": [
    {
     "name": "stdout",
     "output_type": "stream",
     "text": [
      "['D000293', 'D000328', 'D002648', 'D006259', 'D006801', 'D017410', 'D012307', 'D013124', 'D014057', 'D014218', 'D007223', 'D002675', 'D002649', 'D012640', 'D059906', 'D061906', 'D058109', 'D004677', 'D015600', 'D010102', 'D000059', 'D004630', 'D015994', 'D010988', 'D012606', 'D000818', 'D016489', 'D013313', 'D009733', 'D010371', 'D001930', 'D002490', 'D019586', 'D014481', 'D004244', 'D004780', 'D004834', 'D006311', 'D006850', 'D008297', 'D001523', 'D009043', 'D009055', 'D009422', 'D014786', 'D019468', 'D005260', 'D011247', 'D011248', 'D049188', 'D004632', 'D009730', 'D012887']\n"
     ]
    }
   ],
   "source": [
    "cur.execute(\"SELECT DISTINCT mesh FROM Abfrage WHERE query = '\"+str(queryPubMed)+\"'\")\n",
    "meshPerQuery = [x[0] for x in cur.fetchall()]\n",
    "print(meshPerQuery)"
   ]
  },
  {
   "cell_type": "code",
   "execution_count": 160,
   "metadata": {},
   "outputs": [],
   "source": [
    "for mesh in meshPerQuery:\n",
    "    response = requests.get('https://id.nlm.nih.gov/mesh/'+str(mesh)+'.json', headers={'Accept': 'application/json'})\n",
    "    data = response.json()\n",
    "    cur.execute(\"UPDATE Mesh SET datum = '\"+data[\"dateCreated\"]+\"' WHERE UI = '\"+str(mesh)+\"'\")\n",
    "    con.commit()"
   ]
  },
  {
   "attachments": {},
   "cell_type": "markdown",
   "metadata": {},
   "source": [
    "# Semantic Scholar\n",
    "Zitationen pro Jahr"
   ]
  },
  {
   "cell_type": "code",
   "execution_count": 161,
   "metadata": {},
   "outputs": [],
   "source": [
    "def getCitations(citations, citationsPerYearLoc):\n",
    "    for cite in citations:\n",
    "        year = str(cite[\"citingPaper\"][\"year\"])\n",
    "        if year not in citationsPerYearLoc:\n",
    "            citationsPerYearLoc[year] = 1\n",
    "        else:\n",
    "            citationsPerYearLoc[year] = citationsPerYearLoc[year] + 1\n",
    "    return citationsPerYearLoc"
   ]
  },
  {
   "cell_type": "code",
   "execution_count": 168,
   "metadata": {},
   "outputs": [],
   "source": [
    "def getCitationCount(offset, pmid):\n",
    "    response = requests.get(\"https://api.semanticscholar.org/graph/v1/paper/PMID:\"+str(pmid)+\"/citations?fields=year&offset=\"+str(offset)+\"&limit=\"+str(1000))\n",
    "    json_str = json.loads(response.text)\n",
    "    # print(json_str)\n",
    "    citations = json_str[\"data\"]\n",
    "    citationCount = len(citations)\n",
    "    return citations, citationCount"
   ]
  },
  {
   "cell_type": "code",
   "execution_count": 181,
   "metadata": {},
   "outputs": [],
   "source": [
    "for pmid in idList:\n",
    "    citationsPerYear = {}\n",
    "    offset = 0\n",
    "    citationsTemp = getCitationCount(offset, pmid)\n",
    "    while citationsTemp[1] != 0:\n",
    "        getCitations(citationsTemp[0], citationsPerYear)\n",
    "        for year, citationcount in citationsPerYear.items():\n",
    "            cur.execute(\"INSERT INTO Zitationen (PMID, jahr, citecount) VALUES ('\"+str(pmid)+\"', '\"+str(year)+\"', '\"+str(citationcount)+\"')\")\n",
    "            con.commit()\n",
    "        offset = offset + 1000\n",
    "        citationsTemp = getCitationCount(offset, pmid)\n",
    "\n"
   ]
  }
 ],
 "metadata": {
  "kernelspec": {
   "display_name": "base",
   "language": "python",
   "name": "python3"
  },
  "language_info": {
   "codemirror_mode": {
    "name": "ipython",
    "version": 3
   },
   "file_extension": ".py",
   "mimetype": "text/x-python",
   "name": "python",
   "nbconvert_exporter": "python",
   "pygments_lexer": "ipython3",
   "version": "3.11.2"
  },
  "orig_nbformat": 4,
  "vscode": {
   "interpreter": {
    "hash": "60ce88a353242e8c98f783be0303d660a11c0cdf385b3e038223853a82522a39"
   }
  }
 },
 "nbformat": 4,
 "nbformat_minor": 2
}
