{
 "cells": [
  {
   "cell_type": "code",
   "execution_count": 1,
   "metadata": {},
   "outputs": [],
   "source": [
    "import requests\n",
    "import json\n",
    "import xmltodict\n",
    "import urllib.parse\n",
    "import opencitingpy"
   ]
  },
  {
   "cell_type": "code",
   "execution_count": 16,
   "metadata": {},
   "outputs": [
    {
     "name": "stdout",
     "output_type": "stream",
     "text": [
      "<Response [200]>\n"
     ]
    }
   ],
   "source": [
    "##MeSH\n",
    "response = requests.get('https://id.nlm.nih.gov/mesh/D001241.json')\n",
    "data = json.loads(response.text)\n",
    "print(response)"
   ]
  },
  {
   "cell_type": "code",
   "execution_count": 14,
   "metadata": {},
   "outputs": [],
   "source": [
    "# print(response.text)"
   ]
  },
  {
   "cell_type": "code",
   "execution_count": 17,
   "metadata": {},
   "outputs": [
    {
     "name": "stdout",
     "output_type": "stream",
     "text": [
      "1999-01-01\n"
     ]
    }
   ],
   "source": [
    "print(data[\"dateCreated\"])"
   ]
  },
  {
   "cell_type": "code",
   "execution_count": 18,
   "metadata": {},
   "outputs": [
    {
     "name": "stdout",
     "output_type": "stream",
     "text": [
      "{'@id': 'http://id.nlm.nih.gov/mesh/D001241', '@type': 'http://id.nlm.nih.gov/mesh/vocab#TopicalDescriptor', 'http://id.nlm.nih.gov/mesh/vocab#active': True, 'allowableQualifier': ['http://id.nlm.nih.gov/mesh/Q000652', 'http://id.nlm.nih.gov/mesh/Q000138', 'http://id.nlm.nih.gov/mesh/Q000528', 'http://id.nlm.nih.gov/mesh/Q000008', 'http://id.nlm.nih.gov/mesh/Q000266', 'http://id.nlm.nih.gov/mesh/Q000493', 'http://id.nlm.nih.gov/mesh/Q000037', 'http://id.nlm.nih.gov/mesh/Q000032', 'http://id.nlm.nih.gov/mesh/Q000592', 'http://id.nlm.nih.gov/mesh/Q000302', 'http://id.nlm.nih.gov/mesh/Q000737', 'http://id.nlm.nih.gov/mesh/Q000627', 'http://id.nlm.nih.gov/mesh/Q000600', 'http://id.nlm.nih.gov/mesh/Q000097', 'http://id.nlm.nih.gov/mesh/Q000009', 'http://id.nlm.nih.gov/mesh/Q000633', 'http://id.nlm.nih.gov/mesh/Q000145', 'http://id.nlm.nih.gov/mesh/Q000506', 'http://id.nlm.nih.gov/mesh/Q000494', 'http://id.nlm.nih.gov/mesh/Q000276', 'http://id.nlm.nih.gov/mesh/Q000134', 'http://id.nlm.nih.gov/mesh/Q000378', 'http://id.nlm.nih.gov/mesh/Q000191', 'http://id.nlm.nih.gov/mesh/Q000031', 'http://id.nlm.nih.gov/mesh/Q000819'], 'broaderDescriptor': 'http://id.nlm.nih.gov/mesh/D012459', 'concept': ['http://id.nlm.nih.gov/mesh/M0001876', 'http://id.nlm.nih.gov/mesh/M0001870', 'http://id.nlm.nih.gov/mesh/M0001873', 'http://id.nlm.nih.gov/mesh/M0001868', 'http://id.nlm.nih.gov/mesh/M0001865', 'http://id.nlm.nih.gov/mesh/M0351707', 'http://id.nlm.nih.gov/mesh/M0001874', 'http://id.nlm.nih.gov/mesh/M0001877', 'http://id.nlm.nih.gov/mesh/M0001871', 'http://id.nlm.nih.gov/mesh/M0001866', 'http://id.nlm.nih.gov/mesh/M0001869', 'http://id.nlm.nih.gov/mesh/M0001863', 'http://id.nlm.nih.gov/mesh/M0001875', 'http://id.nlm.nih.gov/mesh/M0001867', 'http://id.nlm.nih.gov/mesh/M0001872'], 'dateCreated': '1999-01-01', 'dateEstablished': '1965-01-01', 'dateRevised': '2013-07-08', 'historyNote': {'@language': 'en', '@value': '65; was ACETYLSALICYLIC ACID 1963-64'}, 'identifier': 'D001241', 'nlmClassificationNumber': 'QV 95', 'pharmacologicalAction': ['http://id.nlm.nih.gov/mesh/D010975', 'http://id.nlm.nih.gov/mesh/D058633', 'http://id.nlm.nih.gov/mesh/D000894', 'http://id.nlm.nih.gov/mesh/D005343', 'http://id.nlm.nih.gov/mesh/D016861'], 'preferredConcept': 'http://id.nlm.nih.gov/mesh/M0001864', 'preferredTerm': 'http://id.nlm.nih.gov/mesh/T003713', 'publicMeSHNote': {'@language': 'en', '@value': '65; was ACETYLSALICYLIC ACID 1963-64'}, 'treeNumber': 'http://id.nlm.nih.gov/mesh/D02.455.426.559.389.657.410.595.176', 'label': {'@language': 'en', '@value': 'Aspirin'}, '@context': {'allowableQualifier': {'@id': 'http://id.nlm.nih.gov/mesh/vocab#allowableQualifier', '@type': '@id'}, 'concept': {'@id': 'http://id.nlm.nih.gov/mesh/vocab#concept', '@type': '@id'}, 'publicMeSHNote': {'@id': 'http://id.nlm.nih.gov/mesh/vocab#publicMeSHNote'}, 'identifier': {'@id': 'http://id.nlm.nih.gov/mesh/vocab#identifier'}, 'dateEstablished': {'@id': 'http://id.nlm.nih.gov/mesh/vocab#dateEstablished', '@type': 'http://www.w3.org/2001/XMLSchema#date'}, 'dateCreated': {'@id': 'http://id.nlm.nih.gov/mesh/vocab#dateCreated', '@type': 'http://www.w3.org/2001/XMLSchema#date'}, 'pharmacologicalAction': {'@id': 'http://id.nlm.nih.gov/mesh/vocab#pharmacologicalAction', '@type': '@id'}, 'label': {'@id': 'http://www.w3.org/2000/01/rdf-schema#label'}, 'dateRevised': {'@id': 'http://id.nlm.nih.gov/mesh/vocab#dateRevised', '@type': 'http://www.w3.org/2001/XMLSchema#date'}, 'historyNote': {'@id': 'http://id.nlm.nih.gov/mesh/vocab#historyNote'}, 'treeNumber': {'@id': 'http://id.nlm.nih.gov/mesh/vocab#treeNumber', '@type': '@id'}, 'nlmClassificationNumber': {'@id': 'http://id.nlm.nih.gov/mesh/vocab#nlmClassificationNumber'}, 'active': {'@id': 'http://id.nlm.nih.gov/mesh/vocab#active', '@type': 'http://www.w3.org/2001/XMLSchema#boolean'}, 'preferredConcept': {'@id': 'http://id.nlm.nih.gov/mesh/vocab#preferredConcept', '@type': '@id'}, 'broaderDescriptor': {'@id': 'http://id.nlm.nih.gov/mesh/vocab#broaderDescriptor', '@type': '@id'}, 'preferredTerm': {'@id': 'http://id.nlm.nih.gov/mesh/vocab#preferredTerm', '@type': '@id'}}}\n"
     ]
    }
   ],
   "source": [
    "print(data)"
   ]
  },
  {
   "cell_type": "code",
   "execution_count": 6,
   "metadata": {},
   "outputs": [],
   "source": [
    "## pubmed\n",
    "# gibt die ersten 20 PMIDs zur Query aus\n",
    "# sortiert nach Relevanz (nach Pubmed algorithmus)"
   ]
  },
  {
   "cell_type": "code",
   "execution_count": 7,
   "metadata": {},
   "outputs": [
    {
     "name": "stdout",
     "output_type": "stream",
     "text": [
      "['25335757', '36637470', '22942365', '9279162', '9425562', '9339463', '3330962', '3931543', '27509653', '23431655', '9477242', '23915598', '27167479', '18047167', '1302036', '1588614', '22450453', '15777168', '10494347', '32816429']\n"
     ]
    }
   ],
   "source": [
    "## Liste der \"relevanten\" Dokumente\n",
    "query = \"head injury\"\n",
    "response = requests.get('https://eutils.ncbi.nlm.nih.gov/entrez/eutils/esearch.fcgi?db=pubmed&term='+urllib.parse.quote(query)+'&sort=relevance&retmode=json')\n",
    "data = json.loads(response.text)\n",
    "# print(response)\n",
    "# print(json.dumps(data, indent=4))\n",
    "idlist = data[\"esearchresult\"][\"idlist\"]\n",
    "print(idlist)"
   ]
  },
  {
   "cell_type": "code",
   "execution_count": 8,
   "metadata": {},
   "outputs": [
    {
     "name": "stdout",
     "output_type": "stream",
     "text": [
      "<class 'dict'>\n",
      "{\n",
      "    \"PubmedArticleSet\": {\n",
      "        \"PubmedArticle\": {\n",
      "            \"MedlineCitation\": {\n",
      "                \"@Status\": \"MEDLINE\",\n",
      "                \"@Owner\": \"NLM\",\n",
      "                \"PMID\": {\n",
      "                    \"@Version\": \"1\",\n",
      "                    \"#text\": \"25335757\"\n",
      "                },\n",
      "                \"DateCompleted\": {\n",
      "                    \"Year\": \"2016\",\n",
      "                    \"Month\": \"01\",\n",
      "                    \"Day\": \"12\"\n",
      "                },\n",
      "                \"DateRevised\": {\n",
      "                    \"Year\": \"2022\",\n",
      "                    \"Month\": \"04\",\n",
      "                    \"Day\": \"10\"\n",
      "                },\n",
      "                \"Article\": {\n",
      "                    \"@PubModel\": \"Print-Electronic\",\n",
      "                    \"Journal\": {\n",
      "                        \"ISSN\": {\n",
      "                            \"@IssnType\": \"Electronic\",\n",
      "                            \"#text\": \"1743-0593\"\n",
      "                        },\n",
      "                        \"JournalIssue\": {\n",
      "                            \"@CitedMedium\": \"Internet\",\n",
      "                            \"Volume\": \"100\",\n",
      "                            \"Issue\": \"2\",\n",
      "                            \"PubDate\": {\n",
      "                                \"Year\": \"2015\",\n",
      "                                \"Month\": \"Apr\"\n",
      "                            }\n",
      "                        },\n",
      "                        \"Title\": \"Archives of disease in childhood. Education and practice edition\",\n",
      "                        \"ISOAbbreviation\": \"Arch Dis Child Educ Pract Ed\"\n",
      "                    },\n",
      "                    \"ArticleTitle\": \"Head injury: triage, assessment, investigation and early management of head injury in children, young people and adults (NICE guideline CG 176).\",\n",
      "                    \"Pagination\": {\n",
      "                        \"StartPage\": \"97\",\n",
      "                        \"EndPage\": \"100\",\n",
      "                        \"MedlinePgn\": \"97-100\"\n",
      "                    },\n",
      "                    \"ELocationID\": {\n",
      "                        \"@EIdType\": \"doi\",\n",
      "                        \"@ValidYN\": \"Y\",\n",
      "                        \"#text\": \"10.1136/archdischild-2014-306797\"\n",
      "                    },\n",
      "                    \"AuthorList\": {\n",
      "                        \"@CompleteYN\": \"Y\",\n",
      "                        \"Author\": [\n",
      "                            {\n",
      "                                \"@ValidYN\": \"Y\",\n",
      "                                \"LastName\": \"Davis\",\n",
      "                                \"ForeName\": \"Tessa\",\n",
      "                                \"Initials\": \"T\",\n",
      "                                \"AffiliationInfo\": {\n",
      "                                    \"Affiliation\": \"Department of Paediatrics, Sydney Children's Hospital, Sydney, New South Wales, Australia.\"\n",
      "                                }\n",
      "                            },\n",
      "                            {\n",
      "                                \"@ValidYN\": \"Y\",\n",
      "                                \"LastName\": \"Ings\",\n",
      "                                \"ForeName\": \"Anna\",\n",
      "                                \"Initials\": \"A\",\n",
      "                                \"AffiliationInfo\": {\n",
      "                                    \"Affiliation\": \"Department of Paediatrics, Sydney Children's Hospital, Sydney, New South Wales, Australia.\"\n",
      "                                }\n",
      "                            },\n",
      "                            {\n",
      "                                \"@ValidYN\": \"Y\",\n",
      "                                \"CollectiveName\": \"National Institute of Health and Care Excellence\"\n",
      "                            }\n",
      "                        ]\n",
      "                    },\n",
      "                    \"Language\": \"eng\",\n",
      "                    \"PublicationTypeList\": {\n",
      "                        \"PublicationType\": [\n",
      "                            {\n",
      "                                \"@UI\": \"D016428\",\n",
      "                                \"#text\": \"Journal Article\"\n",
      "                            },\n",
      "                            {\n",
      "                                \"@UI\": \"D016454\",\n",
      "                                \"#text\": \"Review\"\n",
      "                            }\n",
      "                        ]\n",
      "                    },\n",
      "                    \"ArticleDate\": {\n",
      "                        \"@DateType\": \"Electronic\",\n",
      "                        \"Year\": \"2014\",\n",
      "                        \"Month\": \"10\",\n",
      "                        \"Day\": \"21\"\n",
      "                    }\n",
      "                },\n",
      "                \"MedlineJournalInfo\": {\n",
      "                    \"Country\": \"England\",\n",
      "                    \"MedlineTA\": \"Arch Dis Child Educ Pract Ed\",\n",
      "                    \"NlmUniqueID\": \"101220684\",\n",
      "                    \"ISSNLinking\": \"1743-0585\"\n",
      "                },\n",
      "                \"CitationSubset\": \"IM\",\n",
      "                \"MeshHeadingList\": {\n",
      "                    \"MeshHeading\": [\n",
      "                        {\n",
      "                            \"DescriptorName\": {\n",
      "                                \"@UI\": \"D000293\",\n",
      "                                \"@MajorTopicYN\": \"N\",\n",
      "                                \"#text\": \"Adolescent\"\n",
      "                            }\n",
      "                        },\n",
      "                        {\n",
      "                            \"DescriptorName\": {\n",
      "                                \"@UI\": \"D000328\",\n",
      "                                \"@MajorTopicYN\": \"N\",\n",
      "                                \"#text\": \"Adult\"\n",
      "                            }\n",
      "                        },\n",
      "                        {\n",
      "                            \"DescriptorName\": {\n",
      "                                \"@UI\": \"D002648\",\n",
      "                                \"@MajorTopicYN\": \"N\",\n",
      "                                \"#text\": \"Child\"\n",
      "                            }\n",
      "                        },\n",
      "                        {\n",
      "                            \"DescriptorName\": {\n",
      "                                \"@UI\": \"D006259\",\n",
      "                                \"@MajorTopicYN\": \"Y\",\n",
      "                                \"#text\": \"Craniocerebral Trauma\"\n",
      "                            },\n",
      "                            \"QualifierName\": [\n",
      "                                {\n",
      "                                    \"@UI\": \"Q000145\",\n",
      "                                    \"@MajorTopicYN\": \"N\",\n",
      "                                    \"#text\": \"classification\"\n",
      "                                },\n",
      "                                {\n",
      "                                    \"@UI\": \"Q000000981\",\n",
      "                                    \"@MajorTopicYN\": \"N\",\n",
      "                                    \"#text\": \"diagnostic imaging\"\n",
      "                                },\n",
      "                                {\n",
      "                                    \"@UI\": \"Q000628\",\n",
      "                                    \"@MajorTopicYN\": \"N\",\n",
      "                                    \"#text\": \"therapy\"\n",
      "                                }\n",
      "                            ]\n",
      "                        },\n",
      "                        {\n",
      "                            \"DescriptorName\": {\n",
      "                                \"@UI\": \"D006801\",\n",
      "                                \"@MajorTopicYN\": \"N\",\n",
      "                                \"#text\": \"Humans\"\n",
      "                            }\n",
      "                        },\n",
      "                        {\n",
      "                            \"DescriptorName\": {\n",
      "                                \"@UI\": \"D017410\",\n",
      "                                \"@MajorTopicYN\": \"Y\",\n",
      "                                \"#text\": \"Practice Guidelines as Topic\"\n",
      "                            }\n",
      "                        },\n",
      "                        {\n",
      "                            \"DescriptorName\": {\n",
      "                                \"@UI\": \"D012307\",\n",
      "                                \"@MajorTopicYN\": \"N\",\n",
      "                                \"#text\": \"Risk Factors\"\n",
      "                            }\n",
      "                        },\n",
      "                        {\n",
      "                            \"DescriptorName\": {\n",
      "                                \"@UI\": \"D013124\",\n",
      "                                \"@MajorTopicYN\": \"N\",\n",
      "                                \"#text\": \"Spinal Injuries\"\n",
      "                            },\n",
      "                            \"QualifierName\": [\n",
      "                                {\n",
      "                                    \"@UI\": \"Q000145\",\n",
      "                                    \"@MajorTopicYN\": \"N\",\n",
      "                                    \"#text\": \"classification\"\n",
      "                                },\n",
      "                                {\n",
      "                                    \"@UI\": \"Q000000981\",\n",
      "                                    \"@MajorTopicYN\": \"N\",\n",
      "                                    \"#text\": \"diagnostic imaging\"\n",
      "                                },\n",
      "                                {\n",
      "                                    \"@UI\": \"Q000628\",\n",
      "                                    \"@MajorTopicYN\": \"N\",\n",
      "                                    \"#text\": \"therapy\"\n",
      "                                }\n",
      "                            ]\n",
      "                        },\n",
      "                        {\n",
      "                            \"DescriptorName\": {\n",
      "                                \"@UI\": \"D014057\",\n",
      "                                \"@MajorTopicYN\": \"Y\",\n",
      "                                \"#text\": \"Tomography, X-Ray Computed\"\n",
      "                            }\n",
      "                        },\n",
      "                        {\n",
      "                            \"DescriptorName\": {\n",
      "                                \"@UI\": \"D014218\",\n",
      "                                \"@MajorTopicYN\": \"N\",\n",
      "                                \"#text\": \"Triage\"\n",
      "                            },\n",
      "                            \"QualifierName\": {\n",
      "                                \"@UI\": \"Q000145\",\n",
      "                                \"@MajorTopicYN\": \"Y\",\n",
      "                                \"#text\": \"classification\"\n",
      "                            }\n",
      "                        }\n",
      "                    ]\n",
      "                },\n",
      "                \"KeywordList\": {\n",
      "                    \"@Owner\": \"NOTNLM\",\n",
      "                    \"Keyword\": [\n",
      "                        {\n",
      "                            \"@MajorTopicYN\": \"N\",\n",
      "                            \"#text\": \"Accident & Emergency\"\n",
      "                        },\n",
      "                        {\n",
      "                            \"@MajorTopicYN\": \"N\",\n",
      "                            \"#text\": \"General Paediatrics\"\n",
      "                        },\n",
      "                        {\n",
      "                            \"@MajorTopicYN\": \"N\",\n",
      "                            \"#text\": \"Neurology\"\n",
      "                        },\n",
      "                        {\n",
      "                            \"@MajorTopicYN\": \"N\",\n",
      "                            \"#text\": \"Paediatric Practice\"\n",
      "                        }\n",
      "                    ]\n",
      "                }\n",
      "            },\n",
      "            \"PubmedData\": {\n",
      "                \"History\": {\n",
      "                    \"PubMedPubDate\": [\n",
      "                        {\n",
      "                            \"@PubStatus\": \"entrez\",\n",
      "                            \"Year\": \"2014\",\n",
      "                            \"Month\": \"10\",\n",
      "                            \"Day\": \"23\",\n",
      "                            \"Hour\": \"6\",\n",
      "                            \"Minute\": \"0\"\n",
      "                        },\n",
      "                        {\n",
      "                            \"@PubStatus\": \"pubmed\",\n",
      "                            \"Year\": \"2014\",\n",
      "                            \"Month\": \"10\",\n",
      "                            \"Day\": \"23\",\n",
      "                            \"Hour\": \"6\",\n",
      "                            \"Minute\": \"0\"\n",
      "                        },\n",
      "                        {\n",
      "                            \"@PubStatus\": \"medline\",\n",
      "                            \"Year\": \"2016\",\n",
      "                            \"Month\": \"1\",\n",
      "                            \"Day\": \"13\",\n",
      "                            \"Hour\": \"6\",\n",
      "                            \"Minute\": \"0\"\n",
      "                        }\n",
      "                    ]\n",
      "                },\n",
      "                \"PublicationStatus\": \"ppublish\",\n",
      "                \"ArticleIdList\": {\n",
      "                    \"ArticleId\": [\n",
      "                        {\n",
      "                            \"@IdType\": \"pubmed\",\n",
      "                            \"#text\": \"25335757\"\n",
      "                        },\n",
      "                        {\n",
      "                            \"@IdType\": \"doi\",\n",
      "                            \"#text\": \"10.1136/archdischild-2014-306797\"\n",
      "                        },\n",
      "                        {\n",
      "                            \"@IdType\": \"pii\",\n",
      "                            \"#text\": \"archdischild-2014-306797\"\n",
      "                        }\n",
      "                    ]\n",
      "                }\n",
      "            }\n",
      "        }\n",
      "    }\n",
      "}\n"
     ]
    }
   ],
   "source": [
    "## Liste der MeSHs (zu einem Dokument)\n",
    "response = requests.get(\"https://eutils.ncbi.nlm.nih.gov/entrez/eutils/efetch.fcgi?db=pubmed&id=25335757\")\n",
    "# data = json.loads(response.text)\n",
    "# print(response)\n",
    "xpars = xmltodict.parse(response.text)\n",
    "json_str = json.dumps(xpars, indent=4)\n",
    "json_data = json.loads(json_str)\n",
    "print(type(json_data))\n",
    "print(json_str)\n"
   ]
  },
  {
   "cell_type": "code",
   "execution_count": 9,
   "metadata": {},
   "outputs": [
    {
     "name": "stdout",
     "output_type": "stream",
     "text": [
      "Head injury: triage, assessment, investigation and early management of head injury in children, young people and adults (NICE guideline CG 176).\n",
      "{'MeshHeading': [{'DescriptorName': {'@UI': 'D000293', '@MajorTopicYN': 'N', '#text': 'Adolescent'}}, {'DescriptorName': {'@UI': 'D000328', '@MajorTopicYN': 'N', '#text': 'Adult'}}, {'DescriptorName': {'@UI': 'D002648', '@MajorTopicYN': 'N', '#text': 'Child'}}, {'DescriptorName': {'@UI': 'D006259', '@MajorTopicYN': 'Y', '#text': 'Craniocerebral Trauma'}, 'QualifierName': [{'@UI': 'Q000145', '@MajorTopicYN': 'N', '#text': 'classification'}, {'@UI': 'Q000000981', '@MajorTopicYN': 'N', '#text': 'diagnostic imaging'}, {'@UI': 'Q000628', '@MajorTopicYN': 'N', '#text': 'therapy'}]}, {'DescriptorName': {'@UI': 'D006801', '@MajorTopicYN': 'N', '#text': 'Humans'}}, {'DescriptorName': {'@UI': 'D017410', '@MajorTopicYN': 'Y', '#text': 'Practice Guidelines as Topic'}}, {'DescriptorName': {'@UI': 'D012307', '@MajorTopicYN': 'N', '#text': 'Risk Factors'}}, {'DescriptorName': {'@UI': 'D013124', '@MajorTopicYN': 'N', '#text': 'Spinal Injuries'}, 'QualifierName': [{'@UI': 'Q000145', '@MajorTopicYN': 'N', '#text': 'classification'}, {'@UI': 'Q000000981', '@MajorTopicYN': 'N', '#text': 'diagnostic imaging'}, {'@UI': 'Q000628', '@MajorTopicYN': 'N', '#text': 'therapy'}]}, {'DescriptorName': {'@UI': 'D014057', '@MajorTopicYN': 'Y', '#text': 'Tomography, X-Ray Computed'}}, {'DescriptorName': {'@UI': 'D014218', '@MajorTopicYN': 'N', '#text': 'Triage'}, 'QualifierName': {'@UI': 'Q000145', '@MajorTopicYN': 'Y', '#text': 'classification'}}]}\n"
     ]
    }
   ],
   "source": [
    "title = json_data[\"PubmedArticleSet\"][\"PubmedArticle\"][\"MedlineCitation\"][\"Article\"][\"ArticleTitle\"]\n",
    "meshs = json_data[\"PubmedArticleSet\"][\"PubmedArticle\"][\"MedlineCitation\"][\"MeshHeadingList\"]\n",
    "print(title)\n",
    "print(meshs)"
   ]
  },
  {
   "cell_type": "code",
   "execution_count": 10,
   "metadata": {},
   "outputs": [],
   "source": [
    "#google scholar\n",
    "from scholarly import scholarly\n",
    "from serpapi import GoogleSearch"
   ]
  },
  {
   "cell_type": "code",
   "execution_count": 11,
   "metadata": {},
   "outputs": [],
   "source": [
    "q = scholarly.search_pubs(title)\n",
    "# data = json.loads(q)"
   ]
  },
  {
   "cell_type": "code",
   "execution_count": 13,
   "metadata": {},
   "outputs": [
    {
     "ename": "StopIteration",
     "evalue": "",
     "output_type": "error",
     "traceback": [
      "\u001b[1;31m---------------------------------------------------------------------------\u001b[0m",
      "\u001b[1;31mStopIteration\u001b[0m                             Traceback (most recent call last)",
      "Cell \u001b[1;32mIn[13], line 2\u001b[0m\n\u001b[0;32m      1\u001b[0m author_name\u001b[39m=\u001b[39m\u001b[39m\"\u001b[39m\u001b[39m...\u001b[39m\u001b[39m\"\u001b[39m\n\u001b[1;32m----> 2\u001b[0m author \u001b[39m=\u001b[39m \u001b[39mnext\u001b[39;49m(scholarly\u001b[39m.\u001b[39;49msearch_author(author_name))\u001b[39m.\u001b[39mfill()\n\u001b[0;32m      3\u001b[0m pubs \u001b[39m=\u001b[39m author\u001b[39m.\u001b[39mpublications\n",
      "\u001b[1;31mStopIteration\u001b[0m: "
     ]
    }
   ],
   "source": [
    "author_name=\"...\"\n",
    "author = next(scholarly.search_author(author_name)).fill()\n",
    "pubs = author.publications"
   ]
  },
  {
   "cell_type": "code",
   "execution_count": null,
   "metadata": {},
   "outputs": [
    {
     "name": "stdout",
     "output_type": "stream",
     "text": [
      "1460\n"
     ]
    }
   ],
   "source": [
    "print(q.total_results)"
   ]
  },
  {
   "cell_type": "code",
   "execution_count": null,
   "metadata": {},
   "outputs": [
    {
     "name": "stdout",
     "output_type": "stream",
     "text": [
      "b\"{'author_id': ['', ''],\\n 'bib': {'abstract': 'Very few children and young people who present with head '\\n                     'injury will have  guideline  includes adults, for the '\\n                     'purposes of review, this paper will focus on children '\\n                     'and young people',\\n         'author': ['T Davis', 'A Ings'],\\n         'pub_year': '2015',\\n         'title': 'Head injury: triage, assessment, investigation and early '\\n                  'management of head injury in children, young people and '\\n                  'adults (NICE guideline CG 176)',\\n         'venue': '\\xe2\\x80\\xa6 of Disease in Childhood-Education and Practice'},\\n 'citedby_url': '/scholar?cites=3571044042463204883&as_sdt=5,33&sciodt=0,33&hl=en',\\n 'filled': False,\\n 'gsrank': 1,\\n 'num_citations': 59,\\n 'pub_url': 'https://ep.bmj.com/content/100/2/97.extract',\\n 'source': 'PUBLICATION_SEARCH_SNIPPET',\\n 'url_add_sclib': '/citations?hl=en&xsrf=&continue=/scholar%3Fq%3DHead%2Binjury:%2Btriage,%2Bassessment,%2Binvestigation%2Band%2Bearly%2Bmanagement%2Bof%2Bhead%2Binjury%2Bin%2Bchildren,%2Byoung%2Bpeople%2Band%2Badults%2B(NICE%2Bguideline%2BCG%2B176).%26hl%3Den%26as_sdt%3D0,33&citilm=1&update_op=library_add&info=E1ZL7KLljjEJ&ei=dH8kZN_HNvqXy9YPy9SBoAs&json=',\\n 'url_related_articles': '/scholar?q=related:E1ZL7KLljjEJ:scholar.google.com/&scioq=Head+injury:+triage,+assessment,+investigation+and+early+management+of+head+injury+in+children,+young+people+and+adults+(NICE+guideline+CG+176).&hl=en&as_sdt=0,33',\\n 'url_scholarbib': '/scholar?hl=en&q=info:E1ZL7KLljjEJ:scholar.google.com/&output=cite&scirp=0&hl=en'}\"\n"
     ]
    }
   ],
   "source": [
    "pub = scholarly.pprint(next(q))"
   ]
  },
  {
   "cell_type": "code",
   "execution_count": 28,
   "metadata": {},
   "outputs": [
    {
     "ename": "TypeError",
     "evalue": "'NoneType' object is not subscriptable",
     "output_type": "error",
     "traceback": [
      "\u001b[1;31m---------------------------------------------------------------------------\u001b[0m",
      "\u001b[1;31mTypeError\u001b[0m                                 Traceback (most recent call last)",
      "Cell \u001b[1;32mIn[28], line 1\u001b[0m\n\u001b[1;32m----> 1\u001b[0m scholarly\u001b[39m.\u001b[39;49mbibtex(pub)\n",
      "File \u001b[1;32mc:\\Users\\Johanna\\AppData\\Local\\Programs\\Python\\Python311\\Lib\\site-packages\\scholarly\\_scholarly.py:248\u001b[0m, in \u001b[0;36m_Scholarly.bibtex\u001b[1;34m(self, object)\u001b[0m\n\u001b[0;32m    241\u001b[0m \u001b[39mdef\u001b[39;00m \u001b[39mbibtex\u001b[39m(\u001b[39mself\u001b[39m, \u001b[39mobject\u001b[39m: Publication)\u001b[39m-\u001b[39m\u001b[39m>\u001b[39m\u001b[39mstr\u001b[39m:\n\u001b[0;32m    242\u001b[0m \u001b[39m    \u001b[39m\u001b[39m\"\"\"Returns a bibtex entry for a publication that has either Scholar source\u001b[39;00m\n\u001b[0;32m    243\u001b[0m \u001b[39m    or citation source\u001b[39;00m\n\u001b[0;32m    244\u001b[0m \n\u001b[0;32m    245\u001b[0m \u001b[39m    :param object: The Publication object for the bibtex exportation\u001b[39;00m\n\u001b[0;32m    246\u001b[0m \u001b[39m    :type object: Publication\u001b[39;00m\n\u001b[0;32m    247\u001b[0m \u001b[39m    \"\"\"\u001b[39;00m\n\u001b[1;32m--> 248\u001b[0m     \u001b[39mif\u001b[39;00m \u001b[39mobject\u001b[39;49m[\u001b[39m'\u001b[39;49m\u001b[39mcontainer_type\u001b[39;49m\u001b[39m'\u001b[39;49m] \u001b[39m==\u001b[39m \u001b[39m\"\u001b[39m\u001b[39mPublication\u001b[39m\u001b[39m\"\u001b[39m:\n\u001b[0;32m    249\u001b[0m         publication_parser \u001b[39m=\u001b[39m PublicationParser(\u001b[39mself\u001b[39m\u001b[39m.\u001b[39m__nav)\n\u001b[0;32m    250\u001b[0m         \u001b[39mreturn\u001b[39;00m publication_parser\u001b[39m.\u001b[39mbibtex(\u001b[39mobject\u001b[39m)\n",
      "\u001b[1;31mTypeError\u001b[0m: 'NoneType' object is not subscriptable"
     ]
    }
   ],
   "source": [
    "scholarly.bibtex(pub)"
   ]
  },
  {
   "cell_type": "code",
   "execution_count": null,
   "metadata": {},
   "outputs": [
    {
     "ename": "NameError",
     "evalue": "name 'first' is not defined",
     "output_type": "error",
     "traceback": [
      "\u001b[1;31m---------------------------------------------------------------------------\u001b[0m",
      "\u001b[1;31mNameError\u001b[0m                                 Traceback (most recent call last)",
      "Cell \u001b[1;32mIn[22], line 1\u001b[0m\n\u001b[1;32m----> 1\u001b[0m scholarly\u001b[39m.\u001b[39mpprint(first(q))\n",
      "\u001b[1;31mNameError\u001b[0m: name 'first' is not defined"
     ]
    }
   ],
   "source": [
    "scholarly.pprint((q))"
   ]
  },
  {
   "cell_type": "code",
   "execution_count": null,
   "metadata": {},
   "outputs": [
    {
     "name": "stdout",
     "output_type": "stream",
     "text": [
      "<Response [401]>\n",
      "{\n",
      "    \"error\": \"Invalid API key. Your API key should be here: https://serpapi.com/manage-api-key\"\n",
      "}\n"
     ]
    }
   ],
   "source": [
    "\n",
    "response = requests.get(\"https://serpapi.com/search.json?engine=google_scholar&q=The+mechanism+of+action+of+aspirin\")\n",
    "data = json.loads(response.text)\n",
    "print(response)\n",
    "print(json.dumps(data, indent=4))"
   ]
  }
 ],
 "metadata": {
  "kernelspec": {
   "display_name": "base",
   "language": "python",
   "name": "python3"
  },
  "language_info": {
   "codemirror_mode": {
    "name": "ipython",
    "version": 3
   },
   "file_extension": ".py",
   "mimetype": "text/x-python",
   "name": "python",
   "nbconvert_exporter": "python",
   "pygments_lexer": "ipython3",
   "version": "3.11.2"
  },
  "orig_nbformat": 4,
  "vscode": {
   "interpreter": {
    "hash": "60ce88a353242e8c98f783be0303d660a11c0cdf385b3e038223853a82522a39"
   }
  }
 },
 "nbformat": 4,
 "nbformat_minor": 2
}
