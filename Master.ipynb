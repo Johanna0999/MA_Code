{
 "cells": [
  {
   "cell_type": "code",
   "execution_count": 70,
   "metadata": {},
   "outputs": [],
   "source": [
    "import requests\n",
    "import json\n",
    "import xmltodict\n",
    "import urllib.parse\n",
    "import opencitingpy\n",
    "import datetime\n",
    "import sqlite3\n",
    "import os\n",
    "from matplotlib import pyplot as plt\n",
    "import numpy as np\n",
    "import re"
   ]
  },
  {
   "attachments": {},
   "cell_type": "markdown",
   "metadata": {},
   "source": [
    "# Setup sqlite Datenbank\n",
    "Datenbank wird im Verzeichnis \"C:\\MA_Pethke_3992454\" abgelegt"
   ]
  },
  {
   "cell_type": "code",
   "execution_count": 71,
   "metadata": {},
   "outputs": [],
   "source": [
    "# Anlegen von Datenbankspeicherort, falls er nicht existiert\n",
    "path = \"C:\\MA_Pethke_3992454\"\n",
    "if not os.path.exists(path):\n",
    "    os.makedirs(path)\n",
    "\n",
    "# Verbindung zu DB aufbauen, DB wird automatisch erstellt, wenn keine da ist\n",
    "con = sqlite3.connect(\"C:\\MA_Pethke_3992454\\MA_3992454.db\")\n",
    "cur = con.cursor()"
   ]
  },
  {
   "cell_type": "code",
   "execution_count": 72,
   "metadata": {},
   "outputs": [],
   "source": [
    "## Tabellen Schema erstellen\n",
    "#------------------- Tabelle Dokument --------------------------------------#\n",
    "cur.execute(\"CREATE TABLE IF NOT EXISTS Dokument(PMID INTEGER UNIQUE, titel TEXT, pubdate DATE)\")\n",
    "\n",
    "#------------------- Tabelle Zitationen --------------------------------------#\n",
    "cur.execute(\"CREATE TABLE IF NOT EXISTS Zitationen(PMID INTEGER, jahr YEAR, citecount INTEGER)\")\n",
    "\n",
    "#------------------- Tabelle Mesh --------------------------------------#\n",
    "cur.execute(\"CREATE TABLE IF NOT EXISTS Mesh(UI VARCHAR UNIQUE, name TEXT, datum DATE)\")\n",
    "\n",
    "#------------------- Tabelle Abfrage --------------------------------------#\n",
    "cur.execute(\"CREATE TABLE IF NOT EXISTS Abfrage(QID INTEGER PRIMARY KEY AUTOINCREMENT, query TEXT, PMID INTEGER, ranking INTEGER, mesh VARCHAR)\")\n",
    "con.commit()"
   ]
  },
  {
   "attachments": {},
   "cell_type": "markdown",
   "metadata": {},
   "source": [
    "# PubMed\n",
    "## Teil 1\n",
    "### Query mit Stichworten --> Liste der relevanten Dokumente\n",
    "queryPubMed: Stichwortartige Suche <br>\n",
    "idList: Liste mit PMIDs <br>\n",
    "countResult: Anzahl (maximal) zurückgegebener Dokumente <br>\n",
    "\n",
    "### URL \n",
    "db: welche Datenbank wird durchsucht (pubmed) <br>\n",
    "term: queryPubMed <br>\n",
    "RetMax: countResult <br>\n",
    "sort: Art der Sortierung (default: relevance) <br>\n",
    "retmod: Format der zurückgelieferten Daten <br>\n",
    "\n"
   ]
  },
  {
   "cell_type": "code",
   "execution_count": 73,
   "metadata": {},
   "outputs": [],
   "source": [
    "## Liste der \"relevanten\" Dokumente\n",
    "def getRelevantDocuments(query):\n",
    "    queryPubMed = query\n",
    "    countResult = 10\n",
    "    responsePubMedID = requests.get(\"https://eutils.ncbi.nlm.nih.gov/entrez/eutils/esearch.fcgi?db=pubmed&term=\"+urllib.parse.quote(queryPubMed)+\"&RetMax=\"+urllib.parse.quote(str(countResult))+\"&sort=relevance&retmode=json\")\n",
    "    responsePubMedID_json = json.loads(responsePubMedID.text)\n",
    "    print(responsePubMedID)\n",
    "    idList = responsePubMedID_json[\"esearchresult\"][\"idlist\"]\n",
    "    return idList"
   ]
  },
  {
   "attachments": {},
   "cell_type": "markdown",
   "metadata": {},
   "source": [
    "## Teil 2\n",
    "### Query mit PMID aus Teil 1 --> Liste der MeSH zu dem jeweiligen Dokument\n",
    "Für jedes Dokument (Identifier: PMID) wird eine Detailsuche durchgeführt. <br>\n",
    "Extrahierte Infos: <br>\n",
    "Titel <br>\n",
    "Liste der MeSH: [[PMID, [MeSH UI, MeSH Name], [MeSH UI, MeSH Name]] ,[PMID, [MeSH UI, MeSH Name], [MeSH UI, MeSH Name]] ,  ...] (beliebig viele MeSH pro Dokument)<br>\n",
    "Datum Veröffentlichung: Wann wurde das Dokument veröffentlicht <br>"
   ]
  },
  {
   "cell_type": "code",
   "execution_count": 98,
   "metadata": {},
   "outputs": [],
   "source": [
    "def getDokInfos(pmid):\n",
    "    # Abfrage zu einer einzelnen PMID\n",
    "    response_PubMedMesh = requests.get(\"https://eutils.ncbi.nlm.nih.gov/entrez/eutils/efetch.fcgi?db=pubmed&id=\"+urllib.parse.quote(str(pmid)))\n",
    "\n",
    "    # Formatierung\n",
    "    xpars = xmltodict.parse(response_PubMedMesh.text)\n",
    "    json_str = json.dumps(xpars, indent=4)\n",
    "    # print(json_str)\n",
    "    json_data = json.loads(json_str)\n",
    "    return json_data\n",
    "\n",
    "def getTitle(json_data, pmid):\n",
    "    titleWithout = \"\"\n",
    "    try:\n",
    "        title = json_data[\"PubmedArticleSet\"][\"PubmedArticle\"][\"MedlineCitation\"][\"Article\"][\"ArticleTitle\"]\n",
    "        titleWithout = title.replace('\"', \"'\")\n",
    "    except:\n",
    "        try:\n",
    "            title = json_data[\"PubmedArticleSet\"][\"PubmedArticle\"][\"MedlineCitation\"][\"Article\"][\"ArticleTitle\"][\"#text\"]\n",
    "            titleWithout = title.replace('\"', \"'\")\n",
    "        except:\n",
    "            print(\"Kein Titel zu PMID:\", str(pmid))\n",
    "    return titleWithout\n",
    "\n",
    "def getPubDateFromJson(json_data):\n",
    "    # print(json_data)\n",
    "    pubDate = datetime.datetime(1,1,1)\n",
    "    # Nicht alle Dokumente haben ein eigenes Veröffentlichungsdatum, dann wird sich auf das DateCompleted von PubMed berufen (TODO: recherchieren, was das genau ist)\n",
    "    try:\n",
    "        pubDateAll = json_data[\"PubmedArticleSet\"][\"PubmedArticle\"][\"MedlineCitation\"][\"Article\"][\"ArticleDate\"]\n",
    "        pubDate = datetime.datetime(int(pubDateAll[\"Year\"]), int(pubDateAll[\"Month\"]), int(pubDateAll[\"Day\"]))\n",
    "    except:\n",
    "        pubDateAll = json_data[\"PubmedArticleSet\"][\"PubmedArticle\"][\"PubmedData\"][\"History\"][\"PubMedPubDate\"][0]\n",
    "        pubDate = datetime.datetime(int(pubDateAll[\"Year\"]), int(pubDateAll[\"Month\"]), int(pubDateAll[\"Day\"]))\n",
    "    return pubDate"
   ]
  },
  {
   "cell_type": "code",
   "execution_count": 75,
   "metadata": {},
   "outputs": [],
   "source": [
    "def fillInDokInfos(pmid, json_data):    \n",
    "    titleWithout = getTitle(json_data, pmid)\n",
    "    pubDate = getPubDateFromJson(json_data)\n",
    "    # PMID wird folgend initial gelistet, wenn noch nicht geschehen\n",
    "    cur.execute(\"SELECT * FROM Dokument WHERE PMID = \\\"\"+str(pmid)+\"\\\"\")\n",
    "    selection = cur.fetchall()\n",
    "    if selection == []:\n",
    "        cur.execute(\"INSERT INTO Dokument (PMID, titel, pubdate) VALUES (\\\"\"+str(pmid)+\"\\\", \\\"\"+str(titleWithout)+\"\\\", \\\"\"+str(pubDate.date())+\"\\\")\")\n",
    "        con.commit()"
   ]
  },
  {
   "cell_type": "code",
   "execution_count": 76,
   "metadata": {},
   "outputs": [],
   "source": [
    "# fillInDokInfos(31037319, getDokInfos(31037319))"
   ]
  },
  {
   "cell_type": "code",
   "execution_count": 77,
   "metadata": {},
   "outputs": [],
   "source": [
    "## Liste der MeSHs (zu allen Dokumenten)\n",
    "def getMeSH(idList, queryPubMed):\n",
    "    ranking = 0\n",
    "    for pmid in idList:\n",
    "        ranking = ranking + 1\n",
    "        json_data = getDokInfos(pmid)\n",
    "        fillInDokInfos(pmid, json_data)\n",
    "\n",
    "        try:\n",
    "            meshAll = json_data[\"PubmedArticleSet\"][\"PubmedArticle\"][\"MedlineCitation\"][\"MeshHeadingList\"][\"MeshHeading\"]\n",
    "        except:\n",
    "            print(\"#2\")\n",
    "            meshAll = {}\n",
    "        for mesh in meshAll:\n",
    "            # print(mesh)\n",
    "            meshUI = mesh[\"DescriptorName\"][\"@UI\"]\n",
    "\n",
    "            # Abfrage wird inital gelistet, wenn schoneinmal abgefragt wird abgebrochen\n",
    "            cur.execute(\"SELECT * FROM Abfrage WHERE (query = \\\"\"+str(queryPubMed)+\"\\\" AND PMID = \\\"\"+str(pmid)+\"\\\" AND ranking = \\\"\"+str(ranking)+\"\\\" AND mesh = \\\"\"+str(meshUI)+\"\\\")\")\n",
    "            selection = cur.fetchall()\n",
    "            if selection == []:\n",
    "                cur.execute(\"INSERT INTO Abfrage (query, PMID, ranking, mesh) VALUES (\\\"\"+str(queryPubMed)+\"\\\", \\\"\"+str(pmid)+\"\\\", \\\"\"+str(ranking)+\"\\\", \\\"\"+str(meshUI)+\"\\\")\")\n",
    "                con.commit()\n",
    "            else:\n",
    "                print(\"Die Ausführung wird hier abgebrochen, Anfragen können nicht mehrfach gestellt werden\")\n",
    "                return\n",
    "            \n",
    "            # Mesh wird folgend initial gelistet, wenn noch nicht geschehen\n",
    "            cur.execute(\"SELECT * FROM Mesh WHERE UI = \\\"\"+str(meshUI)+\"\\\"\")\n",
    "            selection = cur.fetchall()\n",
    "            if selection == []:\n",
    "                meshName = mesh[\"DescriptorName\"][\"#text\"]\n",
    "                cur.execute(\"INSERT INTO Mesh (UI, name) VALUES (\\\"\"+str(meshUI)+\"\\\", \\\"\"+str(meshName)+\"\\\")\")\n",
    "                con.commit()\n"
   ]
  },
  {
   "attachments": {},
   "cell_type": "markdown",
   "metadata": {},
   "source": [
    "## Teil 3: Alle Dokumente die eine jeweilige PMID zitieren"
   ]
  },
  {
   "cell_type": "code",
   "execution_count": 135,
   "metadata": {},
   "outputs": [],
   "source": [
    "def getAllCitingPMIDs(pmid):\n",
    "    response_PubMedMCitations = requests.get(\"https://eutils.ncbi.nlm.nih.gov/entrez/eutils/elink.fcgi?dbfrom=pubmed&linkname=pubmed_pubmed_citedin&id=\"+urllib.parse.quote(str(pmid)))\n",
    "    # Formatierung\n",
    "    xpars = xmltodict.parse(response_PubMedMCitations.text)\n",
    "    json_str = json.dumps(xpars, indent=4)\n",
    "    json_data = json.loads(json_str)\n",
    "    try:\n",
    "        citingPMIDs = [x[\"Id\"] for x in json_data[\"eLinkResult\"][\"LinkSet\"][\"LinkSetDb\"][\"Link\"]]\n",
    "    except:\n",
    "        citingPMIDs = []\n",
    "        print(\"Anzahl Zitationen: 0\")\n",
    "    # print(len(citingPMIDs))\n",
    "    return citingPMIDs\n",
    "\n",
    "def fillDokInfoOfCitingPMIDs(idList):\n",
    "    for pmid in idList:\n",
    "        citingPMIDs = getAllCitingPMIDs(pmid)\n",
    "        for citingPMID in citingPMIDs:\n",
    "            json_data = getDokInfos(citingPMID)\n",
    "            fillInDokInfos(citingPMID, json_data)"
   ]
  },
  {
   "attachments": {},
   "cell_type": "markdown",
   "metadata": {},
   "source": [
    "# MeSH\n",
    "## Wann wurde das MeSH hinzugefügt?\n",
    "Dies ist für jedes MeSH in allen Dokumenten zu ermitteln"
   ]
  },
  {
   "cell_type": "code",
   "execution_count": 81,
   "metadata": {},
   "outputs": [],
   "source": [
    "def getMeSHUIs(queryPubMed):\n",
    "    cur.execute(\"SELECT DISTINCT mesh FROM Abfrage WHERE query = \\\"\"+str(queryPubMed)+\"\\\"\")\n",
    "    meshPerQuery = [x[0] for x in cur.fetchall()]\n",
    "    return meshPerQuery\n",
    "\n",
    "def checkEmptyDate(queryPubMed):\n",
    "    dateFormat = \"%Y-%m-%d\"\n",
    "    isDate = True\n",
    "    meshWithEmptyDate = []\n",
    "    meshPerQuery = getMeSHUIs(queryPubMed)\n",
    "    for mesh in meshPerQuery:\n",
    "        cur.execute(\"SELECT datum FROM Mesh WHERE UI = \\\"\" + str(mesh)+ \"\\\"\")\n",
    "        selection = cur.fetchall()[0][0]\n",
    "        try:\n",
    "            isDate = bool(datetime.datetime.strptime(selection, dateFormat))\n",
    "        except:\n",
    "            isDate = False\n",
    "        if not isDate:\n",
    "            meshWithEmptyDate.append(mesh)\n",
    "    return meshWithEmptyDate\n",
    "\n",
    "def insertMeshDate(queryPubMed): # Funktion um zu jedem Mesh das Datum hinzuzufügen\n",
    "    meshWithEmptyDate = checkEmptyDate(queryPubMed)\n",
    "    for mesh in meshWithEmptyDate:\n",
    "        response = requests.get(\"https://id.nlm.nih.gov/mesh/\"+str(mesh)+\".json\", headers={\"Accept\": \"application/json\"})\n",
    "        data = response.json()\n",
    "        cur.execute(\"UPDATE Mesh SET datum = \\\"\"+data[\"dateCreated\"]+\"\\\" WHERE UI = \\\"\"+str(mesh)+\"\\\"\")\n",
    "        con.commit()"
   ]
  },
  {
   "attachments": {},
   "cell_type": "markdown",
   "metadata": {},
   "source": [
    "# Daten aus DB"
   ]
  },
  {
   "cell_type": "code",
   "execution_count": 87,
   "metadata": {},
   "outputs": [],
   "source": [
    "def getPubDateOfPMID(pmid):\n",
    "    cur.execute(\"SELECT pubdate FROM Dokument WHERE PMID = \\\"\"+ str(pmid)+ \"\\\"\")\n",
    "    pubdate = datetime.datetime.strptime(cur.fetchall()[0][0], \"%Y-%m-%d\").date()\n",
    "    return pubdate"
   ]
  },
  {
   "cell_type": "code",
   "execution_count": 88,
   "metadata": {},
   "outputs": [],
   "source": [
    "def getMeSHsOfPMID(pmid):\n",
    "    cur.execute(\"SELECT mesh FROM Abfrage WHERE PMID = \\\"\"+ str(pmid)+ \"\\\"\")\n",
    "    meshPerDok = [x[0] for x in cur.fetchall()]\n",
    "    return meshPerDok\n",
    "\n",
    "def getDateOfMeSH(meshUI):\n",
    "    cur.execute(\"SELECT datum FROM Mesh WHERE UI = \\\"\"+ str(meshUI)+ \"\\\"\")\n",
    "    meshDate = datetime.datetime.strptime(cur.fetchall()[0][0], \"%Y-%m-%d\").date()\n",
    "    return meshDate"
   ]
  },
  {
   "cell_type": "code",
   "execution_count": 89,
   "metadata": {},
   "outputs": [],
   "source": [
    "def getCiteCountBeforeAndAfterMeSH(pmid, meshUI):\n",
    "    meshDate = getDateOfMeSH(meshUI)\n",
    "    print(meshUI, meshDate)\n",
    "    cur.execute(\"SELECT citecount FROM Zitationen WHERE pmid = \\\"\"+ str(pmid) + \"\\\" AND jahr < \" + str(meshDate))\n",
    "    citeCountsBefore = sum([x[0] for x in cur.fetchall()])\n",
    "    cur.execute(\"SELECT citecount FROM Zitationen WHERE pmid = \\\"\"+ str(pmid) + \"\\\" AND jahr >= \" + str(meshDate))\n",
    "    citeCountsAfter = sum([x[0] for x in cur.fetchall()])\n",
    "    return citeCountsBefore, citeCountsAfter\n"
   ]
  },
  {
   "cell_type": "code",
   "execution_count": 90,
   "metadata": {},
   "outputs": [],
   "source": [
    "def getAllMeSHCiteCountsPerPMID(pmid):\n",
    "    meshPerDok = getMeSHsOfPMID(pmid)\n",
    "    for mesh in meshPerDok:\n",
    "        cites = getCiteCountBeforeAndAfterMeSH(pmid, mesh)\n",
    "        print(\"Vor MeSH:\", cites[0])\n",
    "        print(\"Nach MeSH:\", cites[1])\n",
    "        print(\"----------------------------------\")\n",
    "    "
   ]
  },
  {
   "cell_type": "code",
   "execution_count": 108,
   "metadata": {},
   "outputs": [],
   "source": [
    "def getAbfrageForZitationsJahre(citingPMIDs):\n",
    "    abfrage = 'SELECT strftime(\"%Y\", pubdate), count(*) FROM Dokument WHERE PMID = \"'\n",
    "    add = ' OR PMID = \"'\n",
    "    for i in range(len(citingPMIDs)):\n",
    "        if i == 0:\n",
    "            abfrage = abfrage + str(citingPMIDs[i])\n",
    "        else:\n",
    "            abfrage = abfrage + add + str(citingPMIDs[i]) + '\"'\n",
    "    abfrage = abfrage + \" GROUP BY strftime('%Y', pubdate)\"\n",
    "    return abfrage"
   ]
  },
  {
   "cell_type": "code",
   "execution_count": 161,
   "metadata": {},
   "outputs": [],
   "source": [
    "def getMeSHJahre(meshUIs):\n",
    "    abfrage = 'SELECT strftime(\"%Y\", datum), count(*) FROM mesh WHERE UI = \"'\n",
    "    add = ' OR UI = \"'\n",
    "    for i in range(len(meshUIs)):\n",
    "        if i == 0:\n",
    "            abfrage = abfrage + str(meshUIs[i]) + '\"'\n",
    "        else:\n",
    "            abfrage = abfrage + add + str(meshUIs[i]) + '\"'\n",
    "    abfrage = abfrage + \" GROUP BY strftime('%Y', datum)\"\n",
    "    # print(abfrage)\n",
    "    cur.execute(abfrage)\n",
    "    meshYearData = cur.fetchall()\n",
    "    return meshYearData"
   ]
  },
  {
   "cell_type": "code",
   "execution_count": 133,
   "metadata": {},
   "outputs": [],
   "source": [
    "def fillCiteInfoPMID(pmid):\n",
    "    citingPMIDs = getAllCitingPMIDs(pmid)\n",
    "    abfrage = getAbfrageForZitationsJahre(citingPMIDs)\n",
    "    cur.execute(abfrage)\n",
    "    citeData = cur.fetchall()\n",
    "    for year, count in citeData:\n",
    "        cur.execute(\"INSERT INTO Zitationen (PMID, jahr, citecount) VALUES (\\\"\"+str(pmid)+\"\\\", \\\"\"+str(year)+\"\\\", \\\"0\"+str(count)+\"\\\")\")\n",
    "        con.commit()\n",
    "        # print(year, count)\n",
    "    return citeData"
   ]
  },
  {
   "cell_type": "code",
   "execution_count": 91,
   "metadata": {},
   "outputs": [],
   "source": [
    "def getCiteData(pmid):\n",
    "    cur.execute(\"SELECT jahr, citecount FROM Zitationen WHERE PMID = \\\"\"+ str(pmid)+\"\\\"\")\n",
    "    citeData = cur.fetchall()\n",
    "    return citeData"
   ]
  },
  {
   "cell_type": "code",
   "execution_count": 92,
   "metadata": {},
   "outputs": [],
   "source": [
    "def dev_printData(pmid):\n",
    "    pubdate = getPubDateOfPMID(pmid)\n",
    "    print(\"Veöffentlichunsdatum Dokument: \", pubdate)\n",
    "    print(\"----------------------------------\")\n",
    "    print(\"----------------------------------\")\n",
    "    getAllMeSHCiteCountsPerPMID(pmid)"
   ]
  },
  {
   "cell_type": "code",
   "execution_count": 97,
   "metadata": {},
   "outputs": [],
   "source": [
    "def getTitleFromDB(pmid):\n",
    "    cur.execute(\"SELECT titel FROM Dokument WHERE PMID = \\\"\"+ str(pmid)+\"\\\"\")\n",
    "    title = cur.fetchall()[0][0]\n",
    "    return title"
   ]
  },
  {
   "attachments": {},
   "cell_type": "markdown",
   "metadata": {},
   "source": [
    "# PipeLine"
   ]
  },
  {
   "cell_type": "code",
   "execution_count": 62,
   "metadata": {},
   "outputs": [
    {
     "name": "stdout",
     "output_type": "stream",
     "text": [
      "<Response [200]>\n"
     ]
    }
   ],
   "source": [
    "query = \"Corona\"\n",
    "idList = getRelevantDocuments(query)"
   ]
  },
  {
   "cell_type": "code",
   "execution_count": 41,
   "metadata": {},
   "outputs": [
    {
     "name": "stdout",
     "output_type": "stream",
     "text": [
      "<Response [200]>\n"
     ]
    }
   ],
   "source": [
    "getMeSH(idList, query)\n",
    "insertMeshDate(query)\n",
    "fillDokInfoOfCitingPMIDs(idList)"
   ]
  },
  {
   "cell_type": "code",
   "execution_count": 68,
   "metadata": {},
   "outputs": [],
   "source": [
    "# test for paracetamol\n",
    "getMeSH([7003571], \"Test_Paracetamol\")"
   ]
  },
  {
   "cell_type": "code",
   "execution_count": 94,
   "metadata": {},
   "outputs": [],
   "source": [
    "\n",
    "insertMeshDate(\"Test_Paracetamol\")"
   ]
  },
  {
   "cell_type": "code",
   "execution_count": 99,
   "metadata": {},
   "outputs": [],
   "source": [
    "fillDokInfoOfCitingPMIDs(7003571)"
   ]
  },
  {
   "cell_type": "code",
   "execution_count": 136,
   "metadata": {},
   "outputs": [],
   "source": [
    "idList = [7003571]"
   ]
  },
  {
   "cell_type": "code",
   "execution_count": null,
   "metadata": {},
   "outputs": [],
   "source": [
    "i = 9\n",
    "print(idList[i], getTitleFromDB(idList[i]))\n",
    "dev_printData(idList[i])\n"
   ]
  },
  {
   "attachments": {},
   "cell_type": "markdown",
   "metadata": {},
   "source": [
    "# Visualisierung"
   ]
  },
  {
   "cell_type": "code",
   "execution_count": 145,
   "metadata": {},
   "outputs": [],
   "source": [
    "def plotCitationsPerYear(pmid):\n",
    "    pubDate = getPubDateOfPMID(pmid)\n",
    "    citeData = getCiteData(pmid)\n",
    "    years = [citePerYear[0] for citePerYear in citeData if isinstance(citePerYear[0], int)]\n",
    "    cites = [citePerYear[1] for citePerYear in citeData if isinstance(citePerYear[0], int)]\n",
    "    # print (pmid, pubDate, pubDate.year, citeData)\n",
    "    # print(years)\n",
    "    # print(cites)\n",
    "    fig, ax = plt.subplots(layout=\"constrained\")\n",
    "    ax.bar(years, cites)\n",
    "    ax.set_ylabel(\"Anzahl Zitationen\")\n",
    "    ax.set_xlabel(\"Jahre\")\n",
    "    ax.set_title(\"PMID: \" + str(pmid))\n",
    "    ax.set_xticks(range(pubDate.year, 2023, 5))\n",
    "    ax.set_ylim(0, 50)\n",
    "    ax.annotate(\"Veröffentlichungsjahr\",\n",
    "         xy=(pubDate.year, 20), \n",
    "         xycoords=\"data\",\n",
    "         xytext=(0, 50),\n",
    "         textcoords=\"offset points\", \n",
    "         arrowprops=dict(facecolor=\"blue\"))"
   ]
  },
  {
   "cell_type": "code",
   "execution_count": 208,
   "metadata": {},
   "outputs": [],
   "source": [
    "def plotMeSHIntrosPerPmid(pmid):\n",
    "    pubDate = getPubDateOfPMID(pmid)\n",
    "    meshUIs = getMeSHsOfPMID(pmid)\n",
    "    output = getMeSHJahre(meshUIs)\n",
    "    years = [int(x[0]) for x in output]\n",
    "    counts = [x[1] for x in output]\n",
    "    print(years)\n",
    "    fig, ax = plt.subplots(layout=\"constrained\")\n",
    "    ax.set_ylabel(\"Anzahl MeSHs\")\n",
    "    ax.set_xlabel(\"Jahre\")\n",
    "    ax.set_title(\"PMID: \" + str(pmid))\n",
    "    ax.set_xlim(int(min(years))-5, 2023)\n",
    "    ax.set_ylim(0, 50)\n",
    "    ax.bar(years, counts)\n",
    "    ax.annotate(\"Veröffentlichungsjahr\",\n",
    "         xy=(pubDate.year, 20), \n",
    "         xycoords=\"data\",\n",
    "         xytext=(0, 50),\n",
    "         textcoords=\"offset points\", \n",
    "         arrowprops=dict(facecolor=\"blue\"))\n",
    "\n",
    "    # return years, counts"
   ]
  },
  {
   "cell_type": "code",
   "execution_count": 209,
   "metadata": {},
   "outputs": [
    {
     "name": "stdout",
     "output_type": "stream",
     "text": [
      "[1975, 1999, 2009]\n"
     ]
    },
    {
     "data": {
      "image/png": "[encoded data removed]",
      "text/plain": [
       "<Figure size 640x480 with 1 Axes>"
      ]
     },
     "metadata": {},
     "output_type": "display_data"
    }
   ],
   "source": [
    "plotMeSHIntrosPerPmid(7003571)"
   ]
  },
  {
   "cell_type": "code",
   "execution_count": 146,
   "metadata": {},
   "outputs": [
    {
     "data": {
      "image/png": "[encoded data removed]",
      "text/plain": [
       "<Figure size 640x480 with 1 Axes>"
      ]
     },
     "metadata": {},
     "output_type": "display_data"
    }
   ],
   "source": [
    "for id in idList:\n",
    "    plotCitationsPerYear(id)"
   ]
  }
 ],
 "metadata": {
  "kernelspec": {
   "display_name": "Python 3",
   "language": "python",
   "name": "python3"
  },
  "language_info": {
   "codemirror_mode": {
    "name": "ipython",
    "version": 3
   },
   "file_extension": ".py",
   "mimetype": "text/x-python",
   "name": "python",
   "nbconvert_exporter": "python",
   "pygments_lexer": "ipython3",
   "version": "3.11.2"
  },
  "orig_nbformat": 4,
  "vscode": {
   "interpreter": {
    "hash": "d0c67ead62d1ef50bc1be54216cb876d54aed79d632f6019ba218adb4f7caf0a"
   }
  }
 },
 "nbformat": 4,
 "nbformat_minor": 2
}
