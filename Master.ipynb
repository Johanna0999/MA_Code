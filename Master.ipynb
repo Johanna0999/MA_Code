{
 "cells": [
  {
   "cell_type": "code",
   "execution_count": 28,
   "metadata": {},
   "outputs": [],
   "source": [
    "import requests\n",
    "import json\n",
    "import xmltodict\n",
    "import urllib.parse\n",
    "import opencitingpy\n",
    "import datetime"
   ]
  },
  {
   "attachments": {},
   "cell_type": "markdown",
   "metadata": {},
   "source": [
    "# PubMed\n",
    "## Teil 1\n",
    "### Query mit Stichworten --> Liste der relevanten Dokumente\n",
    "queryPubMed: Stichwortartige Suche <br>\n",
    "idList: Liste mit PMIDs <br>\n",
    "countResult: Anzahl (maximal) zurückgegebener Dokumente <br>\n",
    "\n",
    "### URL \n",
    "db: welche Datenbank wird durchsucht (pubmed) <br>\n",
    "term: queryPubMed <br>\n",
    "RetMax: countResult <br>\n",
    "sort: Art der Sortierung (default: relevance) <br>\n",
    "retmod: Format der zurückgelieferten Daten <br>\n",
    "\n"
   ]
  },
  {
   "cell_type": "code",
   "execution_count": 18,
   "metadata": {},
   "outputs": [
    {
     "name": "stdout",
     "output_type": "stream",
     "text": [
      "['25335757', '36637470', '22942365', '9279162', '9425562', '9339463', '3330962', '3931543', '27509653', '23431655']\n"
     ]
    }
   ],
   "source": [
    "## Liste der \"relevanten\" Dokumente\n",
    "queryPubMed = \"head injury\"\n",
    "countResult = 10\n",
    "responsePubMedID = requests.get('https://eutils.ncbi.nlm.nih.gov/entrez/eutils/esearch.fcgi?db=pubmed&term='+urllib.parse.quote(queryPubMed)+'&RetMax='+urllib.parse.quote(str(countResult))+'&sort=relevance&retmode=json')\n",
    "responsePubMedID_json = json.loads(responsePubMedID.text)\n",
    "idList = responsePubMedID_json[\"esearchresult\"][\"idlist\"]\n",
    "print(idList)"
   ]
  },
  {
   "attachments": {},
   "cell_type": "markdown",
   "metadata": {},
   "source": [
    "## Teil 2\n",
    "### Query mit PMID aus Teil 1 --> Liste der MeSH zu dem jeweiligen Dokument\n",
    "Für jedes Dokument (Identifier: PMID) wird eine Detailsuche durchgeführt. <br>\n",
    "Extrahierte Infos: <br>\n",
    "Titel <br>\n",
    "Liste der MeSH: [[PMID, [MeSH UI, MeSH Name], [MeSH UI, MeSH Name]] ,[PMID, [MeSH UI, MeSH Name], [MeSH UI, MeSH Name]] ,  ...] (beliebig viele MeSH pro Dokument)<br>\n",
    "Datum Veröffentlichung: Wann wurde das Dokument veröffentlicht <br>"
   ]
  },
  {
   "cell_type": "code",
   "execution_count": 67,
   "metadata": {},
   "outputs": [],
   "source": [
    "## Liste der MeSHs (zu allen Dokumenten)\n",
    "meshList = []\n",
    "for id in idList:\n",
    "    # print(id)\n",
    "    # temporäre Liste zum Anhängen an meshList\n",
    "    meshList_temp = [id]\n",
    "    # Abfrage zu einer einzelnen PMID\n",
    "    response_PubMedMesh = requests.get(\"https://eutils.ncbi.nlm.nih.gov/entrez/eutils/efetch.fcgi?db=pubmed&id=\"+urllib.parse.quote(str(id)))\n",
    "    # Formatierung\n",
    "    xpars = xmltodict.parse(response_PubMedMesh.text)\n",
    "    json_str = json.dumps(xpars, indent=4)\n",
    "    json_data = json.loads(json_str)\n",
    "    title = json_data[\"PubmedArticleSet\"][\"PubmedArticle\"][\"MedlineCitation\"][\"Article\"][\"ArticleTitle\"]\n",
    "    # Nicht alle Dokumente haben ein eigenes Veröffentlichungsdatum, dann wird sich auf das DateCompleted von PubMed berufen (TODO: recherchieren, was das genau ist)\n",
    "    try:\n",
    "        pubDateAll = json_data[\"PubmedArticleSet\"][\"PubmedArticle\"][\"MedlineCitation\"][\"Article\"][\"ArticleDate\"]\n",
    "        pubDate = datetime.datetime(int(pubDateAll[\"Year\"]), int(pubDateAll[\"Month\"]), int(pubDateAll[\"Day\"]))\n",
    "    except:\n",
    "        pubDateAll = json_data[\"PubmedArticleSet\"][\"PubmedArticle\"][\"MedlineCitation\"][\"DateCompleted\"]\n",
    "        pubDate = datetime.datetime(int(pubDateAll[\"Year\"]), int(pubDateAll[\"Month\"]), int(pubDateAll[\"Day\"]))\n",
    "    meshAll = json_data[\"PubmedArticleSet\"][\"PubmedArticle\"][\"MedlineCitation\"][\"MeshHeadingList\"][\"MeshHeading\"]\n",
    "    for mesh in meshAll:\n",
    "        meshUI = mesh[\"DescriptorName\"][\"@UI\"]\n",
    "        meshName = mesh[\"DescriptorName\"][\"#text\"]\n",
    "        meshList_temp.append([meshUI, meshName])\n",
    "    meshList.append(meshList_temp)"
   ]
  },
  {
   "attachments": {},
   "cell_type": "markdown",
   "metadata": {},
   "source": [
    "# MeSH"
   ]
  },
  {
   "cell_type": "code",
   "execution_count": 4,
   "metadata": {},
   "outputs": [
    {
     "name": "stdout",
     "output_type": "stream",
     "text": [
      "<Response [200]>\n"
     ]
    }
   ],
   "source": [
    "## MeSH\n",
    "response = requests.get('https://id.nlm.nih.gov/mesh/D001241.json')\n",
    "data = json.loads(response.text)\n",
    "print(response)"
   ]
  },
  {
   "cell_type": "code",
   "execution_count": 5,
   "metadata": {},
   "outputs": [],
   "source": [
    "# print(response.text)"
   ]
  },
  {
   "cell_type": "code",
   "execution_count": 6,
   "metadata": {},
   "outputs": [
    {
     "name": "stdout",
     "output_type": "stream",
     "text": [
      "1999-01-01\n"
     ]
    }
   ],
   "source": [
    "print(data[\"dateCreated\"])"
   ]
  },
  {
   "cell_type": "code",
   "execution_count": 7,
   "metadata": {},
   "outputs": [
    {
     "name": "stdout",
     "output_type": "stream",
     "text": [
      "{'@id': 'http://id.nlm.nih.gov/mesh/D001241', '@type': 'http://id.nlm.nih.gov/mesh/vocab#TopicalDescriptor', 'http://id.nlm.nih.gov/mesh/vocab#active': True, 'allowableQualifier': ['http://id.nlm.nih.gov/mesh/Q000652', 'http://id.nlm.nih.gov/mesh/Q000138', 'http://id.nlm.nih.gov/mesh/Q000528', 'http://id.nlm.nih.gov/mesh/Q000008', 'http://id.nlm.nih.gov/mesh/Q000266', 'http://id.nlm.nih.gov/mesh/Q000493', 'http://id.nlm.nih.gov/mesh/Q000037', 'http://id.nlm.nih.gov/mesh/Q000032', 'http://id.nlm.nih.gov/mesh/Q000592', 'http://id.nlm.nih.gov/mesh/Q000302', 'http://id.nlm.nih.gov/mesh/Q000737', 'http://id.nlm.nih.gov/mesh/Q000627', 'http://id.nlm.nih.gov/mesh/Q000600', 'http://id.nlm.nih.gov/mesh/Q000097', 'http://id.nlm.nih.gov/mesh/Q000009', 'http://id.nlm.nih.gov/mesh/Q000633', 'http://id.nlm.nih.gov/mesh/Q000145', 'http://id.nlm.nih.gov/mesh/Q000506', 'http://id.nlm.nih.gov/mesh/Q000494', 'http://id.nlm.nih.gov/mesh/Q000276', 'http://id.nlm.nih.gov/mesh/Q000134', 'http://id.nlm.nih.gov/mesh/Q000378', 'http://id.nlm.nih.gov/mesh/Q000191', 'http://id.nlm.nih.gov/mesh/Q000031', 'http://id.nlm.nih.gov/mesh/Q000819'], 'broaderDescriptor': 'http://id.nlm.nih.gov/mesh/D012459', 'concept': ['http://id.nlm.nih.gov/mesh/M0001876', 'http://id.nlm.nih.gov/mesh/M0001870', 'http://id.nlm.nih.gov/mesh/M0001873', 'http://id.nlm.nih.gov/mesh/M0001868', 'http://id.nlm.nih.gov/mesh/M0001865', 'http://id.nlm.nih.gov/mesh/M0351707', 'http://id.nlm.nih.gov/mesh/M0001874', 'http://id.nlm.nih.gov/mesh/M0001877', 'http://id.nlm.nih.gov/mesh/M0001871', 'http://id.nlm.nih.gov/mesh/M0001866', 'http://id.nlm.nih.gov/mesh/M0001869', 'http://id.nlm.nih.gov/mesh/M0001863', 'http://id.nlm.nih.gov/mesh/M0001875', 'http://id.nlm.nih.gov/mesh/M0001867', 'http://id.nlm.nih.gov/mesh/M0001872'], 'dateCreated': '1999-01-01', 'dateEstablished': '1965-01-01', 'dateRevised': '2013-07-08', 'historyNote': {'@language': 'en', '@value': '65; was ACETYLSALICYLIC ACID 1963-64'}, 'identifier': 'D001241', 'nlmClassificationNumber': 'QV 95', 'pharmacologicalAction': ['http://id.nlm.nih.gov/mesh/D010975', 'http://id.nlm.nih.gov/mesh/D058633', 'http://id.nlm.nih.gov/mesh/D000894', 'http://id.nlm.nih.gov/mesh/D005343', 'http://id.nlm.nih.gov/mesh/D016861'], 'preferredConcept': 'http://id.nlm.nih.gov/mesh/M0001864', 'preferredTerm': 'http://id.nlm.nih.gov/mesh/T003713', 'publicMeSHNote': {'@language': 'en', '@value': '65; was ACETYLSALICYLIC ACID 1963-64'}, 'treeNumber': 'http://id.nlm.nih.gov/mesh/D02.455.426.559.389.657.410.595.176', 'label': {'@language': 'en', '@value': 'Aspirin'}, '@context': {'allowableQualifier': {'@id': 'http://id.nlm.nih.gov/mesh/vocab#allowableQualifier', '@type': '@id'}, 'concept': {'@id': 'http://id.nlm.nih.gov/mesh/vocab#concept', '@type': '@id'}, 'publicMeSHNote': {'@id': 'http://id.nlm.nih.gov/mesh/vocab#publicMeSHNote'}, 'identifier': {'@id': 'http://id.nlm.nih.gov/mesh/vocab#identifier'}, 'dateEstablished': {'@id': 'http://id.nlm.nih.gov/mesh/vocab#dateEstablished', '@type': 'http://www.w3.org/2001/XMLSchema#date'}, 'dateCreated': {'@id': 'http://id.nlm.nih.gov/mesh/vocab#dateCreated', '@type': 'http://www.w3.org/2001/XMLSchema#date'}, 'pharmacologicalAction': {'@id': 'http://id.nlm.nih.gov/mesh/vocab#pharmacologicalAction', '@type': '@id'}, 'label': {'@id': 'http://www.w3.org/2000/01/rdf-schema#label'}, 'dateRevised': {'@id': 'http://id.nlm.nih.gov/mesh/vocab#dateRevised', '@type': 'http://www.w3.org/2001/XMLSchema#date'}, 'historyNote': {'@id': 'http://id.nlm.nih.gov/mesh/vocab#historyNote'}, 'treeNumber': {'@id': 'http://id.nlm.nih.gov/mesh/vocab#treeNumber', '@type': '@id'}, 'nlmClassificationNumber': {'@id': 'http://id.nlm.nih.gov/mesh/vocab#nlmClassificationNumber'}, 'active': {'@id': 'http://id.nlm.nih.gov/mesh/vocab#active', '@type': 'http://www.w3.org/2001/XMLSchema#boolean'}, 'preferredConcept': {'@id': 'http://id.nlm.nih.gov/mesh/vocab#preferredConcept', '@type': '@id'}, 'broaderDescriptor': {'@id': 'http://id.nlm.nih.gov/mesh/vocab#broaderDescriptor', '@type': '@id'}, 'preferredTerm': {'@id': 'http://id.nlm.nih.gov/mesh/vocab#preferredTerm', '@type': '@id'}}}\n"
     ]
    }
   ],
   "source": [
    "print(data)"
   ]
  },
  {
   "cell_type": "code",
   "execution_count": null,
   "metadata": {},
   "outputs": [],
   "source": [
    "## semantic scholar"
   ]
  },
  {
   "cell_type": "code",
   "execution_count": 51,
   "metadata": {},
   "outputs": [
    {
     "name": "stdout",
     "output_type": "stream",
     "text": [
      "{'offset': 0, 'data': [{'citingPaper': {'paperId': 'b6de1e809ad74fc2b438536c84a1c289006ad4db', 'year': 2023}}, {'citingPaper': {'paperId': '7a6754077f31a797d593bc37c9fe08ac7ba494e8', 'year': 2022}}, {'citingPaper': {'paperId': '8877efd382fda0823ec3dac72eb551ca8f91faf8', 'year': 2022}}, {'citingPaper': {'paperId': 'c67e1bc96798dae648950ee89bf82e3e01c63728', 'year': 2022}}, {'citingPaper': {'paperId': '008453b90cac84e3b0ae68d46cdf13470c9e8f19', 'year': 2022}}, {'citingPaper': {'paperId': 'efa0a82ec2bec4bc25c9e15296bebb68b7113b1c', 'year': 2022}}, {'citingPaper': {'paperId': '0f2bf3d8ec81ca36527d32d2d9a8db59949656c4', 'year': 2022}}, {'citingPaper': {'paperId': 'ef551092b64b0ed5914f673738b52907fe91acad', 'year': 2022}}, {'citingPaper': {'paperId': '72f11e8afe5b22c715617feb33c5f97ab40a0666', 'year': 2022}}, {'citingPaper': {'paperId': 'a18913ab3a1e112cc4ea16d9498902b916cf3fbf', 'year': 2022}}, {'citingPaper': {'paperId': '3c561f4ecbf92d12f434d3dd443e9158e61938fb', 'year': 2022}}, {'citingPaper': {'paperId': 'eff72509d845150acaf7f838bcff655b2f41ce78', 'year': 2022}}, {'citingPaper': {'paperId': '8274731796cfe1860a7e7c61e7af91d80bb75f70', 'year': 2020}}, {'citingPaper': {'paperId': '293cb6b715c54c9ba2ecddc979308cab8a17df6b', 'year': 2021}}, {'citingPaper': {'paperId': 'a878f188aa6e60730a61dd1e19f41e159aac731a', 'year': 2021}}, {'citingPaper': {'paperId': '92083ac855b9deca7bfb76d6392e60219cc68665', 'year': 2021}}, {'citingPaper': {'paperId': 'be9541ae63c35c3559960c0c12cb429d664b7285', 'year': 2021}}, {'citingPaper': {'paperId': '99aa941bb47243777731c92e3583b4e78953938b', 'year': 2021}}, {'citingPaper': {'paperId': 'c83d43c49cb3244a4031797b00160167b3381f8a', 'year': 2021}}, {'citingPaper': {'paperId': 'b4180d2de3c0f6babaf0a1d96612ae4be38d22ad', 'year': 2021}}, {'citingPaper': {'paperId': 'f249c8c4e226875fdfd8e344c4ef5135b59213fe', 'year': 2020}}, {'citingPaper': {'paperId': '94720c9ea6f57f5eb8a5417137cc3caf34ffb358', 'year': 2021}}, {'citingPaper': {'paperId': '200228abafa34fa7f934b268d908591ddf0f8ccf', 'year': 2021}}, {'citingPaper': {'paperId': '6e1ee834d93978838c11fb31ef5d7df37e54f4b3', 'year': 2020}}, {'citingPaper': {'paperId': 'f521e0b292a6c89f31d59a4c95e2504439a2072a', 'year': 2020}}, {'citingPaper': {'paperId': '0de24754ff18dba8f2a883dee862e75ac0888674', 'year': 2020}}, {'citingPaper': {'paperId': '22a5bc8d3454cc1dd75b63f92d284ea642649e78', 'year': 2020}}, {'citingPaper': {'paperId': '537aa160c55f8bace1dc116bc7e22db614092ae9', 'year': 2020}}, {'citingPaper': {'paperId': 'b638983ae64d17e6d6939dd7e845a6017d3866a0', 'year': 2020}}, {'citingPaper': {'paperId': '71d717ef1ef06fa79662e5366c17392b9b5908a5', 'year': 2020}}, {'citingPaper': {'paperId': 'fd7b4340f0e2775afa29dc5a5e50f5fd39ac2d7f', 'year': 2020}}, {'citingPaper': {'paperId': '689a82aa522b7d8beae1503a426ce5430d43a01b', 'year': 2020}}, {'citingPaper': {'paperId': '0fe581c4b793b736bf18abf127d0514bf1f3e3f1', 'year': 2020}}, {'citingPaper': {'paperId': 'a9baa0c50d9f47a03dad76189cbec256cc485adf', 'year': 2020}}, {'citingPaper': {'paperId': '0cb0718e01b79beb837a68bcb3148b9b10607b18', 'year': 2020}}, {'citingPaper': {'paperId': 'afdefbeb9f7c4c66898439cee6228bfe4b9284d6', 'year': 2020}}, {'citingPaper': {'paperId': '898525fec2bc4d80263af6ad9769af5b8091108a', 'year': 2020}}, {'citingPaper': {'paperId': '01cbefacc41c5110f573f5d098033e7171a78fa2', 'year': 2020}}, {'citingPaper': {'paperId': 'c0adf9fee4dd0f643d905bd464535d29649c97e8', 'year': 2020}}, {'citingPaper': {'paperId': '49500d55ef214d274397da439dea77bed3f4ce61', 'year': 2020}}, {'citingPaper': {'paperId': 'ce101b6144647f23346071c931230466182bc755', 'year': 2017}}, {'citingPaper': {'paperId': '867155a81678c13fa2077766c6e6cd3b0a8019e6', 'year': 2017}}, {'citingPaper': {'paperId': '5645b76ef3b55ce0ce7b4704ac6ec4b715d2b255', 'year': 2020}}, {'citingPaper': {'paperId': '412e2044fcf82414ee461e6c830d35aac4a23d8a', 'year': 2020}}, {'citingPaper': {'paperId': 'e8fae9d618b577d6138eb9de5638285a84e367ac', 'year': 2020}}, {'citingPaper': {'paperId': '4ed7422791a5e6107ff86b13e2f6ae19332550d8', 'year': 2020}}, {'citingPaper': {'paperId': '4d155f7916092074b7733151039ac7f58852fe7d', 'year': 2020}}, {'citingPaper': {'paperId': '353a860398de530d26de0a747fe3509940825c0e', 'year': 2019}}, {'citingPaper': {'paperId': '22c5f66897dbe48abe1e2b6f96c4b55569d17346', 'year': 2019}}, {'citingPaper': {'paperId': 'e3478fcb4b90d3b54cfc566dea0427a331647db2', 'year': 2019}}, {'citingPaper': {'paperId': 'f14e7a2184d829d3b2c4aeceef870c6e11a92a77', 'year': 2019}}, {'citingPaper': {'paperId': 'a72a8852c5070c70e329a56c70614cbe64efd7e2', 'year': 2019}}, {'citingPaper': {'paperId': 'f0e1fbffddefc7dff8e63f713753587a6505a256', 'year': 2019}}, {'citingPaper': {'paperId': 'fef128cb6f5d5cd80d87ab731ed54aaab9e3a045', 'year': 2019}}, {'citingPaper': {'paperId': '9c2034df47e8e0543ea32cfccecee7007f18cf8d', 'year': 2019}}, {'citingPaper': {'paperId': 'a1621f2d1cf5f4162fe1a92f9847bb0865617fca', 'year': 2019}}, {'citingPaper': {'paperId': '1070bfaf48020da04bb5c58d424e91941e178e03', 'year': 2019}}, {'citingPaper': {'paperId': 'da4d5312395d7eec9a7f0d7889f3fa496ec6e557', 'year': 2019}}, {'citingPaper': {'paperId': '047bcbcdf52306a8a7b44cd6d487bcf65a641ee0', 'year': 2019}}, {'citingPaper': {'paperId': '669d35511269c666630fccac942e8b053f6af0d9', 'year': 2019}}, {'citingPaper': {'paperId': '981c12798590e6f3a5f3b591d78fc74168afd4b8', 'year': 2019}}, {'citingPaper': {'paperId': '3b37280408a52d1223d12176e630247ee34c86c2', 'year': 2019}}, {'citingPaper': {'paperId': '537d57ee78ce7dc77f281f10ef5fdeeef1207ecf', 'year': 2019}}, {'citingPaper': {'paperId': 'e80a7c0abca93070b8dc8c5f3cef27c6f1c47f93', 'year': 2019}}, {'citingPaper': {'paperId': 'b7e9ee886fb54a7b012e2572a517041b812dcd37', 'year': 2019}}, {'citingPaper': {'paperId': '6207af84851f37ce2382f22125fbda9b8f39b84e', 'year': 2018}}, {'citingPaper': {'paperId': '2a0756c2970b24765993eeb7d6ac1c8550d0f6f1', 'year': 2018}}, {'citingPaper': {'paperId': 'b4afc0d81cdaaf5d4330da27630717071e623c85', 'year': 2018}}, {'citingPaper': {'paperId': '2e05425f9508a9f46ff0d919a0a954115b648b48', 'year': 2018}}, {'citingPaper': {'paperId': '6ff64024d55c0912bf2df14e562ce9b94646b259', 'year': 2018}}, {'citingPaper': {'paperId': 'afa05b2c853094f4f5be0883254794be614bfe53', 'year': 2018}}, {'citingPaper': {'paperId': '8c3e7763a008c1e8fabd3ac70a21aeaaec819678', 'year': 2018}}, {'citingPaper': {'paperId': '77ef6beaafdd860f511f625ce1ed4669b0be03c3', 'year': 2018}}, {'citingPaper': {'paperId': '9b45fefab473860cf87abf8647f902888198d2b4', 'year': 2018}}, {'citingPaper': {'paperId': 'ed5cdb7e1de3a749af7e342491ce3af18a7919eb', 'year': 2018}}, {'citingPaper': {'paperId': '06473b9a7e228d489a7b9128ed9c316b3152141a', 'year': 2018}}, {'citingPaper': {'paperId': '10b762f0ea81d3c72b4147a2c64360e2901791d6', 'year': 2018}}, {'citingPaper': {'paperId': '6fe4757f612e32d88e939c182c3a343920e8061d', 'year': 2018}}, {'citingPaper': {'paperId': '35c4453eac31115ad857a978744f8a413d06bd93', 'year': 2017}}, {'citingPaper': {'paperId': '095aa2d939e09cb8c7c7cf4096cf3bdd54d7451d', 'year': 2017}}, {'citingPaper': {'paperId': 'cda1c2172a11d6398ae86b0d5c403d72035dea99', 'year': 2017}}, {'citingPaper': {'paperId': '4616b526cf599e705b0ad0f46171a05162059561', 'year': 2017}}, {'citingPaper': {'paperId': '6d1747f88bd4b91b877c9021dca3b05706cdd9ea', 'year': 2017}}, {'citingPaper': {'paperId': '2eb7fa983bc3450f5f9b723406b98972b6b96c39', 'year': 2017}}, {'citingPaper': {'paperId': '55444f29b1c8d07b66286d688ed5a652873d236b', 'year': 2017}}, {'citingPaper': {'paperId': 'acf0bad6b0f4525d58f90be1a25f5dc3ebf6e5ca', 'year': 2017}}, {'citingPaper': {'paperId': '706c0fa93392c51447d3107b50cc22026379a870', 'year': 2017}}, {'citingPaper': {'paperId': '99338bd248db7fa6515a99da121f19cc00b507e4', 'year': 2017}}, {'citingPaper': {'paperId': 'a8cfc542ef373b988c5fbd004a724dfa4ccd1492', 'year': 2017}}, {'citingPaper': {'paperId': '1ddfaddf35425beb0fa9321f6f9d6e36314892a8', 'year': 2017}}, {'citingPaper': {'paperId': 'aa9c4039902d77e22980fc1a524347a86d405d67', 'year': 2017}}, {'citingPaper': {'paperId': 'b5c47ab728fa5418be5119d3d545da260c269a13', 'year': 2017}}, {'citingPaper': {'paperId': '63caaeb8082f6dc6dcbcab3f2adc71237272cf4c', 'year': 2016}}, {'citingPaper': {'paperId': '89252a662d7ca4877c60d726cc421cb9697e5b52', 'year': 2016}}, {'citingPaper': {'paperId': '5b4d2964eab93e443936da64031c1504d82a5cdb', 'year': 2016}}, {'citingPaper': {'paperId': 'f9df2b204e0f9a69f30f4e2b9271adac0206dad2', 'year': 2016}}, {'citingPaper': {'paperId': '7bf2235978776c569fd5090511539f94f25469ef', 'year': 2016}}, {'citingPaper': {'paperId': 'b2a466fd7b81c091478dfc415a4b01025ce0c683', 'year': 2016}}, {'citingPaper': {'paperId': 'f6542c8ab03569f69a0ac41a5785807795c85ad1', 'year': 2016}}, {'citingPaper': {'paperId': 'a19cbb94782322cec417d5a48c2071bf5dfc599a', 'year': 2016}}, {'citingPaper': {'paperId': '49455d3a43c87a96fe05c6863ad40a40ca74ece4', 'year': 2016}}, {'citingPaper': {'paperId': '9a04adf95a10123fd11bd4339bd524d919524c4a', 'year': 2016}}, {'citingPaper': {'paperId': '67e8accab21de41cede119f22c7b4162e4337f56', 'year': 2016}}, {'citingPaper': {'paperId': '533c6dba6050be18f184bc1b267727a6f50e1d1d', 'year': 2016}}, {'citingPaper': {'paperId': '6b3a001688c4ce9b01bce7c78ae011a2c8fe5740', 'year': 2016}}, {'citingPaper': {'paperId': 'aae75e1ec5458bf643437e876b77f45bc33cfec3', 'year': 2015}}, {'citingPaper': {'paperId': '1621f3e67198e9d44f11185b646ed27a07223967', 'year': 2015}}, {'citingPaper': {'paperId': '0634ff3a71b87b130af94048b0eaf4e9385ab229', 'year': 2015}}, {'citingPaper': {'paperId': '84ca26e1528e97728839d6e72a27b4d2a6b1dfff', 'year': 2015}}, {'citingPaper': {'paperId': 'a171ce9a2fffe25838f830549eebc2630d9f2191', 'year': 2015}}, {'citingPaper': {'paperId': '5dd3d9eeded4103c6345bd7723adee73bed9264a', 'year': 2015}}, {'citingPaper': {'paperId': '7d841dbd3ba2508c96ec5b2bb1ea5cdd292f57ce', 'year': 2015}}, {'citingPaper': {'paperId': 'ba607c0230172e3fc2e3cc4d9ed4be5c6e086b4c', 'year': 2015}}, {'citingPaper': {'paperId': '99438b7c5345579a95b5018ce22a073b438bc7ca', 'year': 2015}}, {'citingPaper': {'paperId': 'f1f43e762e6a66f9a2990947108b6efbfaae5658', 'year': 2015}}, {'citingPaper': {'paperId': 'dde0d0731d52a09e086e4079af7a08c964cc03ff', 'year': 2015}}, {'citingPaper': {'paperId': '7b4c909cb089884f12ea705f05f291359fa658cb', 'year': 2015}}, {'citingPaper': {'paperId': '0be4994c7a1f0008a104902c155ec6be222f3dd8', 'year': 2015}}, {'citingPaper': {'paperId': '0970dade2ac2e0833d30d09bf3bf0e27aa7938be', 'year': 2014}}, {'citingPaper': {'paperId': 'fd582861299a4b2f46e1be395f7745ef918df85f', 'year': 2014}}]}\n",
      "0\n"
     ]
    }
   ],
   "source": [
    "offset = 0\n",
    "limit = 1000\n",
    "response = requests.get(\"https://api.semanticscholar.org/graph/v1/paper/PMID:25335757/citations?fields=year&offset=\"+str(offset)+\"&limit=\"+str(limit))\n",
    "json_str = json.loads(response.text)\n",
    "citationCount = len(json_str[\"data\"])\n",
    "while citationCount != 0:\n",
    "    print(json_str)\n",
    "    offset = offset + limit\n",
    "    response = requests.get(\"https://api.semanticscholar.org/graph/v1/paper/PMID:25335757/citations?fields=year&offset=\"+str(offset)+\"&limit=\"+str(limit))\n",
    "    json_str = json.loads(response.text)\n",
    "    citationCount = len(json_str[\"data\"])\n",
    "    print(citationCount)\n",
    "# print(json_str[\"data\"])\n",
    "# print(len(json_str[\"data\"]))\n"
   ]
  }
 ],
 "metadata": {
  "kernelspec": {
   "display_name": "base",
   "language": "python",
   "name": "python3"
  },
  "language_info": {
   "codemirror_mode": {
    "name": "ipython",
    "version": 3
   },
   "file_extension": ".py",
   "mimetype": "text/x-python",
   "name": "python",
   "nbconvert_exporter": "python",
   "pygments_lexer": "ipython3",
   "version": "3.11.2"
  },
  "orig_nbformat": 4,
  "vscode": {
   "interpreter": {
    "hash": "60ce88a353242e8c98f783be0303d660a11c0cdf385b3e038223853a82522a39"
   }
  }
 },
 "nbformat": 4,
 "nbformat_minor": 2
}
