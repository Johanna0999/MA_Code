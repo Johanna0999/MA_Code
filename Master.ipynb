{
 "cells": [
  {
   "cell_type": "code",
   "execution_count": 101,
   "metadata": {},
   "outputs": [],
   "source": [
    "import requests\n",
    "import json\n",
    "import xmltodict\n",
    "import urllib.parse\n",
    "import opencitingpy\n",
    "import datetime\n",
    "import sqlite3\n",
    "import os"
   ]
  },
  {
   "attachments": {},
   "cell_type": "markdown",
   "metadata": {},
   "source": [
    "# Setup sqlite Datenbank\n",
    "Datenbank wird im Verzeichnis \"C:\\MA_Pethke_3992454\" abgelegt"
   ]
  },
  {
   "cell_type": "code",
   "execution_count": 102,
   "metadata": {},
   "outputs": [],
   "source": [
    "# Anlegen von Datenbankspeicherort, falls er nicht existiert\n",
    "path = \"C:\\MA_Pethke_3992454\"\n",
    "if not os.path.exists(path):\n",
    "    os.makedirs(path)\n",
    "\n",
    "# Verbindung zu DB aufbauen, DB wird automatisch erstellt, wenn keine da ist\n",
    "con = sqlite3.connect(\"C:\\MA_Pethke_3992454\\MA_3992454.db\")\n",
    "cur = con.cursor()"
   ]
  },
  {
   "cell_type": "code",
   "execution_count": 136,
   "metadata": {},
   "outputs": [],
   "source": [
    "## Tabellen Schema erstellen\n",
    "#------------------- Tabelle Dokument --------------------------------------#\n",
    "cur.execute(\"CREATE TABLE IF NOT EXISTS Dokument(PMID INTEGER UNIQUE, titel TEXT, pubdate DATE)\")\n",
    "\n",
    "#------------------- Tabelle Zitationen --------------------------------------#\n",
    "cur.execute(\"CREATE TABLE IF NOT EXISTS Zitationen(PMID INTEGER, jahr YEAR, citecount INTEGER)\")\n",
    "\n",
    "#------------------- Tabelle Mesh --------------------------------------#\n",
    "cur.execute(\"CREATE TABLE IF NOT EXISTS Mesh(UI VARCHAR UNIQUE, name TEXT, datum DATE)\")\n",
    "\n",
    "#------------------- Tabelle Abfrage --------------------------------------#\n",
    "cur.execute(\"CREATE TABLE IF NOT EXISTS Abfrage(QID INTEGER PRIMARY KEY AUTOINCREMENT, query TEXT, PMID INTEGER, ranking INTEGER, mesh VARCHAR)\")\n",
    "con.commit()"
   ]
  },
  {
   "attachments": {},
   "cell_type": "markdown",
   "metadata": {},
   "source": [
    "# PubMed\n",
    "## Teil 1\n",
    "### Query mit Stichworten --> Liste der relevanten Dokumente\n",
    "queryPubMed: Stichwortartige Suche <br>\n",
    "idList: Liste mit PMIDs <br>\n",
    "countResult: Anzahl (maximal) zurückgegebener Dokumente <br>\n",
    "\n",
    "### URL \n",
    "db: welche Datenbank wird durchsucht (pubmed) <br>\n",
    "term: queryPubMed <br>\n",
    "RetMax: countResult <br>\n",
    "sort: Art der Sortierung (default: relevance) <br>\n",
    "retmod: Format der zurückgelieferten Daten <br>\n",
    "\n"
   ]
  },
  {
   "cell_type": "code",
   "execution_count": 104,
   "metadata": {},
   "outputs": [
    {
     "name": "stdout",
     "output_type": "stream",
     "text": [
      "['25335757', '36637470', '22942365', '9279162', '9425562', '9339463', '3330962', '3931543', '27509653', '23431655']\n"
     ]
    }
   ],
   "source": [
    "## Liste der \"relevanten\" Dokumente\n",
    "queryPubMed = \"head injury\"\n",
    "countResult = 10\n",
    "responsePubMedID = requests.get('https://eutils.ncbi.nlm.nih.gov/entrez/eutils/esearch.fcgi?db=pubmed&term='+urllib.parse.quote(queryPubMed)+'&RetMax='+urllib.parse.quote(str(countResult))+'&sort=relevance&retmode=json')\n",
    "responsePubMedID_json = json.loads(responsePubMedID.text)\n",
    "idList = responsePubMedID_json[\"esearchresult\"][\"idlist\"]\n",
    "print(idList)"
   ]
  },
  {
   "attachments": {},
   "cell_type": "markdown",
   "metadata": {},
   "source": [
    "## Teil 2\n",
    "### Query mit PMID aus Teil 1 --> Liste der MeSH zu dem jeweiligen Dokument\n",
    "Für jedes Dokument (Identifier: PMID) wird eine Detailsuche durchgeführt. <br>\n",
    "Extrahierte Infos: <br>\n",
    "Titel <br>\n",
    "Liste der MeSH: [[PMID, [MeSH UI, MeSH Name], [MeSH UI, MeSH Name]] ,[PMID, [MeSH UI, MeSH Name], [MeSH UI, MeSH Name]] ,  ...] (beliebig viele MeSH pro Dokument)<br>\n",
    "Datum Veröffentlichung: Wann wurde das Dokument veröffentlicht <br>"
   ]
  },
  {
   "cell_type": "code",
   "execution_count": 105,
   "metadata": {},
   "outputs": [],
   "source": [
    "## Liste der MeSHs (zu allen Dokumenten)\n",
    "def getMeSH():\n",
    "    ranking = 0\n",
    "    for pmid in idList:\n",
    "        ranking = ranking + 1\n",
    "        # Abfrage zu einer einzelnen PMID\n",
    "        response_PubMedMesh = requests.get(\"https://eutils.ncbi.nlm.nih.gov/entrez/eutils/efetch.fcgi?db=pubmed&id=\"+urllib.parse.quote(str(pmid)))\n",
    "\n",
    "        # Formatierung\n",
    "        xpars = xmltodict.parse(response_PubMedMesh.text)\n",
    "        json_str = json.dumps(xpars, indent=4)\n",
    "        json_data = json.loads(json_str)\n",
    "        try:\n",
    "            title = json_data[\"PubmedArticleSet\"][\"PubmedArticle\"][\"MedlineCitation\"][\"Article\"][\"ArticleTitle\"]\n",
    "        except:\n",
    "            print(json_str)\n",
    "\n",
    "        # Nicht alle Dokumente haben ein eigenes Veröffentlichungsdatum, dann wird sich auf das DateCompleted von PubMed berufen (TODO: recherchieren, was das genau ist)\n",
    "        try:\n",
    "            pubDateAll = json_data[\"PubmedArticleSet\"][\"PubmedArticle\"][\"MedlineCitation\"][\"Article\"][\"ArticleDate\"]\n",
    "            pubDate = datetime.datetime(int(pubDateAll[\"Year\"]), int(pubDateAll[\"Month\"]), int(pubDateAll[\"Day\"]))\n",
    "        except:\n",
    "            pubDateAll = json_data[\"PubmedArticleSet\"][\"PubmedArticle\"][\"MedlineCitation\"][\"DateCompleted\"]\n",
    "            pubDate = datetime.datetime(int(pubDateAll[\"Year\"]), int(pubDateAll[\"Month\"]), int(pubDateAll[\"Day\"]))\n",
    "\n",
    "        # PMID wird folgend initial gelistet, wenn noch nicht geschehen\n",
    "        cur.execute(\"SELECT * FROM Dokument WHERE PMID = '\"+str(pmid)+\"'\")\n",
    "        selection = cur.fetchall()\n",
    "        if selection == []:\n",
    "            cur.execute(\"INSERT INTO Dokument (PMID, titel, pubdate) VALUES ('\"+str(pmid)+\"', '\"+str(title)+\"', '\"+str(pubDate)+\"')\")\n",
    "            con.commit()\n",
    "\n",
    "        meshAll = json_data[\"PubmedArticleSet\"][\"PubmedArticle\"][\"MedlineCitation\"][\"MeshHeadingList\"][\"MeshHeading\"]\n",
    "        for mesh in meshAll:\n",
    "            # print(mesh)\n",
    "            meshUI = mesh[\"DescriptorName\"][\"@UI\"]\n",
    "\n",
    "            # Abfrage wird inital gelistet, wenn schoneinmal abgefragt wird abgebrochen\n",
    "            cur.execute(\"SELECT * FROM Abfrage WHERE (query = '\"+str(queryPubMed)+\"' AND PMID = '\"+str(pmid)+\"' AND ranking = '\"+str(ranking)+\"' AND mesh = '\"+str(meshUI)+\"')\")\n",
    "            selection = cur.fetchall()\n",
    "            if selection == []:\n",
    "                cur.execute(\"INSERT INTO Abfrage (query, PMID, ranking, mesh) VALUES ('\"+str(queryPubMed)+\"', '\"+str(pmid)+\"', '\"+str(ranking)+\"', '\"+str(meshUI)+\"')\")\n",
    "                con.commit()\n",
    "            else:\n",
    "                print(\"Die Ausführung wird hier abgebrochen, Anfragen können nicht mehrfach gestellt werden\")\n",
    "                return\n",
    "            \n",
    "            # Mesh wird folgend initial gelistet, wenn noch nicht geschehen\n",
    "            cur.execute(\"SELECT * FROM Mesh WHERE UI = '\"+str(meshUI)+\"'\")\n",
    "            if cur.fetchall() == []:\n",
    "                meshName = mesh[\"DescriptorName\"][\"#text\"]\n",
    "                cur.execute(\"INSERT INTO Mesh (UI, name) VALUES ('\"+str(meshUI)+\"', '\"+str(meshName)+\"')\")\n",
    "                con.commit()\n",
    "\n",
    "getMeSH()\n",
    "        "
   ]
  },
  {
   "attachments": {},
   "cell_type": "markdown",
   "metadata": {},
   "source": [
    "# MeSH\n",
    "## Wann wurde das MeSH hinzugefügt?\n",
    "Dies ist für jedes MeSH in allen Dokumenten zu ermitteln"
   ]
  },
  {
   "cell_type": "code",
   "execution_count": 127,
   "metadata": {},
   "outputs": [],
   "source": [
    "def getMeSHUIs():\n",
    "    cur.execute(\"SELECT DISTINCT mesh FROM Abfrage WHERE query = '\"+str(queryPubMed)+\"'\")\n",
    "    meshPerQuery = [x[0] for x in cur.fetchall()]\n",
    "    return meshPerQuery\n",
    "\n",
    "def checkEmptyDate():\n",
    "    dateFormat = \"%Y-%m-%d\"\n",
    "    isDate = True\n",
    "    meshWithEmptyDate = []\n",
    "    meshPerQuery = getMeSHUIs()\n",
    "    for mesh in meshPerQuery:\n",
    "        cur.execute(\"SELECT datum FROM Mesh WHERE UI = '\" + str(mesh)+ \"'\")\n",
    "        selection = cur.fetchall()[0][0]\n",
    "        try:\n",
    "            isDate = bool(datetime.datetime.strptime(selection, dateFormat))\n",
    "        except:\n",
    "            isDate = False\n",
    "        if not isDate:\n",
    "            meshWithEmptyDate.append(mesh)\n",
    "    return meshWithEmptyDate"
   ]
  },
  {
   "cell_type": "code",
   "execution_count": 130,
   "metadata": {},
   "outputs": [],
   "source": [
    "def insertMeshDate():\n",
    "    meshWithEmptyDate = checkEmptyDate()\n",
    "    for mesh in meshWithEmptyDate:\n",
    "        response = requests.get('https://id.nlm.nih.gov/mesh/'+str(mesh)+'.json', headers={'Accept': 'application/json'})\n",
    "        data = response.json()\n",
    "        cur.execute(\"UPDATE Mesh SET datum = '\"+data[\"dateCreated\"]+\"' WHERE UI = '\"+str(mesh)+\"'\")\n",
    "        con.commit()"
   ]
  },
  {
   "cell_type": "code",
   "execution_count": 129,
   "metadata": {},
   "outputs": [
    {
     "name": "stdout",
     "output_type": "stream",
     "text": [
      "['D013124', 'D002649', 'D061906']\n"
     ]
    }
   ],
   "source": [
    "insertMeshDate()"
   ]
  },
  {
   "attachments": {},
   "cell_type": "markdown",
   "metadata": {},
   "source": [
    "# Semantic Scholar\n",
    "Zitationen pro Jahr"
   ]
  },
  {
   "cell_type": "code",
   "execution_count": 143,
   "metadata": {},
   "outputs": [],
   "source": [
    "def getCitations(citations, citationsPerYear): # Funktion um Liste mit Zitationen pro Jahr zu füllen \n",
    "    for cite in citations:\n",
    "        year = str(cite[\"citingPaper\"][\"year\"])\n",
    "        if year not in citationsPerYear:\n",
    "            citationsPerYear[year] = 1\n",
    "        else:\n",
    "            citationsPerYear[year] = citationsPerYear[year] + 1\n",
    "    return citationsPerYear"
   ]
  },
  {
   "cell_type": "code",
   "execution_count": 144,
   "metadata": {},
   "outputs": [],
   "source": [
    "def getCitationCount(offset, pmid): # Funktion um eine Anfrage an Semantic Scholar zu stellen -> Antwort: Zitationen + Zurückgegebene Zitationsanzahl (maximal 1000)\n",
    "    response = requests.get(\"https://api.semanticscholar.org/graph/v1/paper/PMID:\"+str(pmid)+\"/citations?fields=year&offset=\"+str(offset)+\"&limit=\"+str(1000))\n",
    "    json_str = json.loads(response.text)\n",
    "    # print(json_str)\n",
    "    citations = json_str[\"data\"]\n",
    "    citationCount = len(citations)\n",
    "    return citations, citationCount"
   ]
  },
  {
   "cell_type": "code",
   "execution_count": 145,
   "metadata": {},
   "outputs": [],
   "source": [
    "def getCitationsPerYearComplete(pmid): # Funktion um eine vollständige Liste der Zitationen pro Jahr zu einem Dokument zu erhalten\n",
    "    citationsPerYear = {}\n",
    "    offset = 0\n",
    "    citationsTemp = getCitationCount(offset, pmid)\n",
    "    while citationsTemp[1] != 0: # solange mehr als 1000 Zitationen als Antwort von Semantic Scholar kommen, muss eine erneute Anfrage mit einem erhöhten Offset gestellt werden \n",
    "        getCitations(citationsTemp[0], citationsPerYear) \n",
    "        offset = offset + 1000\n",
    "        citationsTemp = getCitationCount(offset, pmid)\n",
    "    return citationsPerYear"
   ]
  },
  {
   "cell_type": "code",
   "execution_count": 155,
   "metadata": {},
   "outputs": [],
   "source": [
    "def fillCitationsPerYear(pmid, citationsPerYear):\n",
    "    for year, citationcount in citationsPerYear.items():\n",
    "        cur.execute(\"INSERT INTO Zitationen (PMID, jahr, citecount) VALUES ('\"+str(pmid)+\"', '\"+str(year)+\"', '\"+str(citationcount)+\"')\")\n",
    "        con.commit()\n",
    "\n",
    "def updateCitationsPerYear(pmid, citationsPerYear):\n",
    "    for year, citationcount in citationsPerYear.items():\n",
    "        cur.execute(\"UPDATE Zitationen SET citecount = '\" + str(citationcount) +\"' WHERE PMID = '\"+ str(pmid) +\"' AND jahr = '\"+str(year)+\"'\")\n",
    "        con.commit()"
   ]
  },
  {
   "cell_type": "code",
   "execution_count": 157,
   "metadata": {},
   "outputs": [
    {
     "name": "stdout",
     "output_type": "stream",
     "text": [
      "hier passiert noch nix\n",
      "hier passiert noch nix\n",
      "hier passiert noch nix\n",
      "hier passiert noch nix\n",
      "hier passiert noch nix\n",
      "hier passiert noch nix\n",
      "hier passiert noch nix\n",
      "hier passiert noch nix\n",
      "hier passiert noch nix\n",
      "hier passiert noch nix\n"
     ]
    }
   ],
   "source": [
    "def fillZitationen():\n",
    "    for pmid in idList:\n",
    "        cur.execute(\"SELECT * FROM Zitationen WHERE PMID = '\"+ str(pmid) + \"'\")\n",
    "        selection = cur.fetchall()\n",
    "        # prüfung ob die Zitationsdaten für das Dokument schon erhoben wurden\n",
    "        if selection == []:\n",
    "            citationsPerYear = getCitationsPerYearComplete(pmid)\n",
    "            if citationsPerYear == {}:\n",
    "                cur.execute(\"INSERT INTO Zitationen (PMID, jahr, citecount) VALUES ('\"+str(pmid)+\"', '0', '0')\")\n",
    "                con.commit()\n",
    "            else:\n",
    "                fillCitationsPerYear(pmid, citationsPerYear)\n",
    "            print(citationsPerYear)\n",
    "        # else: wenn die Daten schon erhoben wurden, wird geprüft, ob diese noch aktuell sind, wenn nicht, werden sie geupdatet \n",
    "        else:\n",
    "            # TODO Abfrage an den Nutzer ob er Daten geupdatet haben möchte (wenn nicht: Zeitersparnis, wenn doch: auch getCitationsPerYearComplete(pmid) und ansschließend updaten statt inserten)\n",
    "            print(\"hier passiert noch nix\")\n",
    "            # updateCitationsPerYear(pmid, citationsPerYear)\n",
    "\n",
    "fillZitationen()"
   ]
  }
 ],
 "metadata": {
  "kernelspec": {
   "display_name": "Python 3",
   "language": "python",
   "name": "python3"
  },
  "language_info": {
   "codemirror_mode": {
    "name": "ipython",
    "version": 3
   },
   "file_extension": ".py",
   "mimetype": "text/x-python",
   "name": "python",
   "nbconvert_exporter": "python",
   "pygments_lexer": "ipython3",
   "version": "3.11.2"
  },
  "orig_nbformat": 4,
  "vscode": {
   "interpreter": {
    "hash": "d0c67ead62d1ef50bc1be54216cb876d54aed79d632f6019ba218adb4f7caf0a"
   }
  }
 },
 "nbformat": 4,
 "nbformat_minor": 2
}
