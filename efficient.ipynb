{
 "cells": [
  {
   "cell_type": "code",
   "execution_count": 58,
   "metadata": {},
   "outputs": [],
   "source": [
    "import requests\n",
    "import json\n",
    "import xmltodict\n",
    "import urllib.parse\n",
    "import opencitingpy\n",
    "import datetime\n",
    "import sqlite3\n",
    "import os\n",
    "from matplotlib import pyplot as plt\n",
    "import numpy as np\n",
    "import re\n",
    "import math\n",
    "import ipywidgets as widgets\n",
    "from IPython.display import display, clear_output\n",
    "import re \n",
    "\n",
    "import xml.etree.ElementTree as ET\n",
    "from collections import Counter\n",
    "from IPython.display import display"
   ]
  },
  {
   "cell_type": "code",
   "execution_count": 3,
   "metadata": {},
   "outputs": [],
   "source": [
    "# Anlegen von Datenbankspeicherort, falls er nicht existiert\n",
    "path = \"C:\\MA_Pethke_3992454\"\n",
    "if not os.path.exists(path):\n",
    "    os.makedirs(path)\n",
    "\n",
    "# Verbindung zu DB aufbauen, DB wird automatisch erstellt, wenn keine da ist\n",
    "con = sqlite3.connect(\"C:\\MA_Pethke_3992454\\MA_3992454_idea_2.db\")\n",
    "cur = con.cursor()"
   ]
  },
  {
   "cell_type": "code",
   "execution_count": 4,
   "metadata": {},
   "outputs": [],
   "source": [
    "## Tabellen Schema erstellen\n",
    "#------------------- Tabelle Dokument --------------------------------------#\n",
    "cur.execute(\"CREATE TABLE IF NOT EXISTS Dokumente(PMID INTEGER UNIQUE, titel TEXT, pubyear YEAR)\")\n",
    "\n",
    "#------------------- Tabelle Zitationen --------------------------------------#\n",
    "cur.execute(\"CREATE TABLE IF NOT EXISTS Zitationen(PMID INTEGER, Jahr YEAR, Anzahl INETEGER, UNIQUE(PMID,Jahr) ON CONFLICT REPLACE)\")\n",
    "\n",
    "#------------------- Tabelle Mesh --------------------------------------#\n",
    "cur.execute(\"CREATE TABLE IF NOT EXISTS Mesh(UI VARCHAR UNIQUE, name TEXT, jahr YEAR, emergent INTEGER, nichtEmergent INTEGER, nichtEmergentKorrigiert INTEGER)\")\n",
    "\n",
    "#------------------- Tabelle Mesh - PMID --------------------------------------#\n",
    "cur.execute(\"CREATE TABLE IF NOT EXISTS Mesh_PMID(UI VARCHAR, PMID INTEGER, UNIQUE(UI,PMID) ON CONFLICT REPLACE)\")\n",
    "\n",
    "\n",
    "#------------------- Tabelle Dokument-Mesh-Analyse --------------------------------------#\n",
    "cur.execute(\"CREATE TABLE IF NOT EXISTS MeshDokumentAnalyse(PMID INTEGER, UI VARCHAR, emergent INTEGER, nichtEmergent INTEGER, nichtEmergentKorrigiert INTEGER, UNIQUE(PMID,UI) ON CONFLICT REPLACE)\")\n",
    "con.commit()"
   ]
  },
  {
   "cell_type": "code",
   "execution_count": 5,
   "metadata": {},
   "outputs": [],
   "source": [
    "##  INSERT DB\n",
    "\n",
    "def insertMeshData_db(meshUI_loc, meshTerm_loc, meshDate_loc):\n",
    "    print(\"Das ausgewählte MeSH \" + str(meshUI_loc) + \" wird in die DB eingepflegt\")\n",
    "    try:\n",
    "        cur.execute(\"INSERT INTO Mesh (UI, name, jahr) VALUES (\\\"\"+str(meshUI_loc)+\"\\\", \\\"\"+str(meshTerm_loc)+\"\\\", \\\"\"+str(meshDate_loc)+\"\\\")\")\n",
    "        con.commit()\n",
    "        # Insert erfolgreich\n",
    "    except:\n",
    "        print(\"fail - wurde schon eingefügt\")\n",
    "        return\n",
    "        # MeSH schon in DB\n",
    "\n",
    "def insertCitations_db(pmid_loc, histo):\n",
    "    # print(\"Für das Dokument \" + str(pmid_loc) + \" werden die Zitationsdaten in die Datenbank eingepflegt\")\n",
    "    for year in histo:\n",
    "        try:\n",
    "            cur.execute(\"INSERT INTO Zitationen (PMID, Jahr, Anzahl) VALUES (\\\"\"+str(pmid_loc)+\"\\\", \\\"\"+str(year)+\"\\\", \\\"\"+str(histo[year])+\"\\\")\")\n",
    "            con.commit()\n",
    "            # Insert erfolgreich\n",
    "        except:\n",
    "            print(\"fail\")\n",
    "            return\n",
    "            # MeSH schon in DB\n",
    "\n",
    "def insertAnalyseOutputPMIDMesh(pmid, ui, pmidE, pmidNE, pmidNEK):\n",
    "    try:\n",
    "        cur.execute(\"INSERT INTO MeshDokumentAnalyse(PMID, UI, emergent, nichtEmergent, nichtEmergentKorrigiert) VALUES ('\"+str(pmid)+\"', '\"+str(ui)+\"', '\"+str(pmidE)+\"', '\"+str(pmidNE)+\"', '\"+str(pmidNEK)+\"')\")\n",
    "        con.commit()\n",
    "        # Insert erfolgreich\n",
    "    except:\n",
    "        print(\"fail - wurde schon eingefügt\")\n",
    "        return\n",
    "\n",
    "def insertAnalyseOutputMesh(ui, uiE, uiNE, uiNEK):\n",
    "    try:\n",
    "        cur.execute(\"UPDATE Mesh SET emergent = '\"+str(uiE)+\"', nichtEmergent = '\" + str(uiNE) + \"', nichtEmergentKorrigiert = '\"+str(uiNEK)+\"' WHERE UI = '\" + str(ui) + \"'\")\n",
    "        con.commit()\n",
    "        # Insert erfolgreich\n",
    "    except:\n",
    "        # print(\"fail - wurde schon eingefügt\")\n",
    "        return"
   ]
  },
  {
   "cell_type": "code",
   "execution_count": 38,
   "metadata": {},
   "outputs": [],
   "source": [
    "## USEFUL\n",
    "\n",
    "def getPMIDsWithMeSH(meshTerm_loc, meshYear_loc):\n",
    "    limit = 50 # API limited to first 10000 documents; esearch is a way to get all data, but u have to work on an unix environment https://dataguide.nlm.nih.gov/edirect/edirect-vs-e-utilities.html\n",
    "    # Abfrage von Dokumente, die vor der Aufnahme des MeSHs veröffentlicht wurden (Von 1900 an)\n",
    "    url = \"https://eutils.ncbi.nlm.nih.gov/entrez/eutils/esearch.fcgi?db=pubmed&term=(\"+urllib.parse.quote(meshTerm_loc)+\"[MeSH+Terms])+AND+((\\\"1900\\\"[Date+-+Publication]+%3A+\\\"\"+str(meshYear_loc)+\"\\\"[Date+-+Publication]))&retmax=\"+str(limit)+\"&sort=relevance&retmode=json\"\n",
    "    # print(url)\n",
    "    requ = requests.get(url)\n",
    "    requ_json = json.loads(requ.text)\n",
    "    pmidList = requ_json['esearchresult']['idlist']\n",
    "    return pmidList\n",
    "\n",
    "def getXMLRootsForPMIDs(pmidListe):\n",
    "    pmidList_str = \"\"\n",
    "    roots = []\n",
    "    begin = 0\n",
    "    end = 300\n",
    "    if len(pmidListe) > 300:\n",
    "        while end < len(pmidListe):\n",
    "            pmidList_str = ','.join(pmidListe[begin:end])\n",
    "            url=\"https://eutils.ncbi.nlm.nih.gov/entrez/eutils/efetch.fcgi?db=pubmed&id=\"+urllib.parse.quote(str(pmidList_str))\n",
    "            # print(url)\n",
    "            requ = requests.get(url)\n",
    "            root = ET.fromstring(requ.text)\n",
    "            roots.append(root)\n",
    "            end = end + 300\n",
    "            begin = begin + 300\n",
    "        # print(begin)\n",
    "        pmidList_str = ','.join(pmidListe[begin:])\n",
    "        url=\"https://eutils.ncbi.nlm.nih.gov/entrez/eutils/efetch.fcgi?db=pubmed&id=\"+urllib.parse.quote(str(pmidList_str))\n",
    "        # print(url)\n",
    "        requ = requests.get(url)\n",
    "        root = ET.fromstring(requ.text)\n",
    "        roots.append(root)\n",
    "    else:        \n",
    "        pmidList_str = ','.join(pmidListe)\n",
    "        url=\"https://eutils.ncbi.nlm.nih.gov/entrez/eutils/efetch.fcgi?db=pubmed&id=\"+urllib.parse.quote(str(pmidList_str))\n",
    "        # print(url)\n",
    "        requ = requests.get(url)\n",
    "        # print(requ)\n",
    "        root = ET.fromstring(requ.text)\n",
    "        roots = [root]\n",
    "    return roots\n",
    "\n",
    "def getYearAndTitleOfPMID(pmidRoots):\n",
    "    pmids = []\n",
    "    years = []\n",
    "    titles = []\n",
    "    for pmidRoot in pmidRoots:\n",
    "        rootSpecificPMIDs = pmidRoot.findall('./PubmedArticle')\n",
    "        for pmidXML in rootSpecificPMIDs:\n",
    "            pmid = pmidXML.find('.MedlineCitation/PMID')\n",
    "            year = pmidXML.find('./PubmedData/History/PubMedPubDate[@PubStatus=\"pubmed\"]/Year')\n",
    "            title = pmidXML.find('./MedlineCitation/Article/ArticleTitle')\n",
    "            pmids.append(pmid)\n",
    "            years.append(year)\n",
    "            titles.append(title)\n",
    "    return pmids, years, titles\n",
    "\n",
    "def insertMeSHDokData_db(pmidList, meshUI_loc):\n",
    "    ## MESH_PMID\n",
    "    print(\"Die 'relevantesten' Dokumente, welche das ausgwählte MeSH zugeordnet haben werden in die DB eingepflegt. Anzahl: \", len(pmidList))\n",
    "    for pmid in pmidList:\n",
    "        try:\n",
    "            cur.execute('INSERT INTO Mesh_PMID (UI, PMID) VALUES (\"'+str(meshUI_loc)+'\", \"'+str(pmid)+'\")')\n",
    "            con.commit()\n",
    "        except:\n",
    "            continue\n",
    "    print(\"Die Dokumente wurden eingefügt\")\n",
    "    print(\"--------------------------------\")\n",
    "\n",
    "    ## Dokumente\n",
    "    print(\"Die zu den Dokumenten gehörenden Daten werden in die DB eingepflegt. Anzahl: \", len(pmidList))\n",
    "    pmids, years, titles = getYearAndTitleOfPMID(getXMLRootsForPMIDs(pmidList))\n",
    "    for pmid, pubYear, titleWithout in zip(pmids, years, titles):\n",
    "        try:\n",
    "            cur.execute('INSERT INTO Dokumente (PMID, titel, pubyear) VALUES (\"'+str(pmid.text)+'\", \"'+str(titleWithout.text)+'\", \"'+str(pubYear.text)+'\")')\n",
    "            con.commit()\n",
    "        except:\n",
    "            continue\n",
    "            # Dokument schon in DB\n",
    "    print(\"Dokumente wurden eingefügt\")\n",
    "    print(\"--------------------------------\")\n",
    "\n",
    "def getAllCitingPMIDs(pmid):\n",
    "    citingPMIDs = []\n",
    "    url = \"https://eutils.ncbi.nlm.nih.gov/entrez/eutils/elink.fcgi?dbfrom=pubmed&linkname=pubmed_pubmed_citedin&retmode=json&id=\"+urllib.parse.quote(str(pmid))\n",
    "    # print(url)\n",
    "    response_PubMedMCitations = requests.get(url)\n",
    "    json_data = json.loads(response_PubMedMCitations.text)\n",
    "    # print(json_data)\n",
    "    if \"linksets\" in json_data:\n",
    "        if \"linksetdbs\" in json_data[\"linksets\"][0]:\n",
    "            if \"links\" in json_data[\"linksets\"][0][\"linksetdbs\"][0]:\n",
    "                citingPMIDs = json_data[\"linksets\"][0][\"linksetdbs\"][0][\"links\"]\n",
    "    return citingPMIDs\n",
    "\n",
    "def getYearsHistoFromPmids(pmidRoots):\n",
    "    ## Jahre\n",
    "    years = []\n",
    "    histo = Counter()\n",
    "    for pmidRoot in pmidRoots:\n",
    "        pubdate = pmidRoot.findall('./PubmedArticle/PubmedData/History/PubMedPubDate[@PubStatus=\"pubmed\"]/Year')\n",
    "        years = [int(pub.text) for pub in pubdate]\n",
    "        histo = histo + Counter(years)\n",
    "    return histo\n",
    "\n",
    "def getAllAnalyseData():\n",
    "    cur.execute(\"SELECT count(UI), sum(emergent), sum(nichtEmergent), sum(nichtEmergentKorrigiert) FROM Mesh\")\n",
    "    data = [x for x in cur.fetchall()[0]]\n",
    "    return data "
   ]
  },
  {
   "cell_type": "code",
   "execution_count": 91,
   "metadata": {},
   "outputs": [],
   "source": [
    "def getAuswahlMesh(suchwort):\n",
    "    requ = requests.get(\"https://id.nlm.nih.gov/mesh/lookup/descriptor?label=\"+str(suchwort)+\"&match=contains&year=current\", headers={\"Accept\": \"application/json\"})\n",
    "    meshData = requ.json()\n",
    "    label_auswahl = [output['label'] for output in meshData]\n",
    "    resource_auswahl = [output['resource'] for output in meshData]\n",
    "    meshUIs = [re.findall(\"^.*mesh\\/(.*)$\", resource)[0] for resource in resource_auswahl]\n",
    "    # print(\"Zur Auswahl stehende MeSHs:\")\n",
    "    # print(label_auswahl)\n",
    "    # print(meshUIs)\n",
    "    return meshUIs, label_auswahl, resource_auswahl"
   ]
  },
  {
   "cell_type": "code",
   "execution_count": 8,
   "metadata": {},
   "outputs": [],
   "source": [
    "# # Auswahl Suchwort\n",
    "# #TODO: Auswählen\n",
    "# suchwort= \"corona\" \n",
    "# meshUIs, label_auswahl, resource_auswahl = getAuswahlMesh(suchwort)"
   ]
  },
  {
   "cell_type": "code",
   "execution_count": 9,
   "metadata": {},
   "outputs": [],
   "source": [
    "def setAuswahlMesh(meshIndex, meshUIs, label_auswahl, resource_auswahl):\n",
    "    meshUI = meshUIs[meshIndex]\n",
    "    meshTerm = label_auswahl[meshIndex]\n",
    "    resource = resource_auswahl[meshIndex]\n",
    "    # print(resource)\n",
    "\n",
    "    requ = requests.get(str(resource)+\".json\", headers={\"Accept\": \"application/json\"})\n",
    "    meshData = requ.json()\n",
    "    meshYear = datetime.datetime.strptime(meshData[\"dateCreated\"], \"%Y-%m-%d\").year\n",
    "\n",
    "    insertMeshData_db(meshUI, meshTerm, meshYear)\n",
    "\n",
    "    print(\"Ausgewähltes Mesh: \", meshUI, meshTerm, \"eingeführt im Jahr: \", meshYear)\n",
    "    return meshTerm, meshYear, meshUI\n",
    "\n",
    "def getAndInsertRelevantDoks(meshTerm, meshYear, meshUI):\n",
    "    # relevante PMIDs zu MeSH\n",
    "    pmidListe_zuUntersuchen = getPMIDsWithMeSH(meshTerm, meshYear)\n",
    "    \n",
    "    insertMeSHDokData_db(pmidListe_zuUntersuchen, meshUI)\n",
    "\n",
    "    return pmidListe_zuUntersuchen\n",
    "\n",
    "def getAndInsertZitationen(pmidListe_zuUntersuchen):\n",
    "    print(\"Die Zitationsdaten zu den 'relevantesten' Dokumenten werden erhoben und die DB eingepflegt.\")\n",
    "    for pmidIndex in range(len(pmidListe_zuUntersuchen)):\n",
    "        print(pmidIndex, \"/\", len(pmidListe_zuUntersuchen))\n",
    "        # print(pmidIndex, pmidListe_zuUntersuchen[pmidIndex])\n",
    "        citingPMIDs = getAllCitingPMIDs(pmidListe_zuUntersuchen[pmidIndex])\n",
    "        citingPMIDs_roots = getXMLRootsForPMIDs(citingPMIDs)\n",
    "\n",
    "        histoCitation = getYearsHistoFromPmids(citingPMIDs_roots)\n",
    "        # print(histoCitation)\n",
    "        insertCitations_db(pmidListe_zuUntersuchen[pmidIndex], histoCitation)"
   ]
  },
  {
   "cell_type": "code",
   "execution_count": 10,
   "metadata": {},
   "outputs": [],
   "source": [
    "# # Auswahl Index \n",
    "# #TODO: Auswählen\n",
    "# meshIndex = 0 \n",
    "# meshTerm, meshYear, meshUI = setAuswahlMesh(meshIndex)\n",
    "# pmidListe_zuUntersuchen = getAndInsertRelevantDoks(meshTerm, meshYear, meshUI)\n",
    "# getAndInsertZitationen(pmidListe_zuUntersuchen)"
   ]
  },
  {
   "attachments": {},
   "cell_type": "markdown",
   "metadata": {},
   "source": [
    "# Analyseteil"
   ]
  },
  {
   "cell_type": "code",
   "execution_count": 11,
   "metadata": {},
   "outputs": [],
   "source": [
    "def getCitationCountBetween(begin, end, choosenPMID):\n",
    "    cur.execute(\"SELECT sum(Anzahl) FROM Zitationen WHERE PMID = \"+str(choosenPMID)+\" and Jahr >= '\"+str(begin)+ \"' and Jahr <= '\"+str(end)+ \"'\")\n",
    "    resp = cur.fetchall()[0][0] \n",
    "    citationCount = resp if resp != None else 0\n",
    "    return citationCount\n"
   ]
  },
  {
   "cell_type": "code",
   "execution_count": 12,
   "metadata": {},
   "outputs": [
    {
     "name": "stdout",
     "output_type": "stream",
     "text": [
      "Sie haben die Wahl zwischen folgenden Meshs:\n",
      "['D001026', 'D003323', 'D015906', 'D054058']\n"
     ]
    }
   ],
   "source": [
    "cur.execute(\"SELECT DISTINCT UI FROM Mesh\")\n",
    "meshs = [x[0] for x in cur.fetchall()]\n",
    "print(\"Sie haben die Wahl zwischen folgenden Meshs:\")\n",
    "print(meshs)"
   ]
  },
  {
   "cell_type": "code",
   "execution_count": 13,
   "metadata": {},
   "outputs": [],
   "source": [
    "# meshIndex_auswahl = 0 #TODO: Auswählen"
   ]
  },
  {
   "cell_type": "code",
   "execution_count": 14,
   "metadata": {},
   "outputs": [],
   "source": [
    "def analysiereEmergenz(meshUI):\n",
    "    for UI in meshUI:\n",
    "        try:\n",
    "            cur.execute(\"SELECT PMID FROM Mesh_PMID WHERE UI = '\" + str(UI)+ \"'\")\n",
    "            pmids_vis = [x[0] for x in cur.fetchall()]\n",
    "            # print(\"Die zu untersuchenden PMIDs: \")\n",
    "            # print(pmids_vis)\n",
    "        except:\n",
    "            print(\"Keine Daten vorhanden\")\n",
    "            return\n",
    "\n",
    "        emergent_kum = 0\n",
    "        nichtEmergent_kum = 0\n",
    "        nEKorrigiert_kum = 0\n",
    "        for pmid in pmids_vis:\n",
    "            try:\n",
    "                count1 = 0\n",
    "                count2 = 0\n",
    "                count3 = 0\n",
    "                cur.execute(\"SELECT Jahr, Anzahl FROM Zitationen WHERE PMID = '\" + str(pmid)+ \"'\")\n",
    "                data = cur.fetchall()\n",
    "                jahre = [x[0] for x in data]\n",
    "                cur.execute(\"SELECT pubyear FROM Dokumente WHERE PMID = '\" + str(pmid)+ \"'\")\n",
    "                data = cur.fetchall()\n",
    "                pubDate = data[0][0]\n",
    "                cur.execute(\"SELECT jahr FROM Mesh WHERE UI = '\" + str(UI)+ \"'\")\n",
    "                data = cur.fetchall()\n",
    "                meshDate = data[0][0]\n",
    "                if len(jahre) != 0:\n",
    "                    zeitraum = meshDate - pubDate\n",
    "                    jahr_korrektur = min(meshDate + zeitraum, datetime.datetime.today().year) # es kann maximal das aktuelle Jahr angegeben werden\n",
    "                    # print(pubDate, meshDate, pmid)\n",
    "                    # Zeitraum Emergenz: Veröffentlichungsjahr - MeSH Aufnahme\n",
    "                    count1 = getCitationCountBetween(pubDate, meshDate, pmid)\n",
    "                    # Zeitraum Nicht-Emergenz: MeSH Aufnahme - jetzt\n",
    "                    count2 = getCitationCountBetween(meshDate, int(datetime.datetime.today().year), pmid)\n",
    "                    # Zeitraum Nicht-Emergenz angepasst: MeSH Aufnahme + Zeitraum Emergenz\n",
    "                    count3 = getCitationCountBetween(meshDate, jahr_korrektur, pmid)\n",
    "                    emergent_kum += count1\n",
    "                    nichtEmergent_kum += count2\n",
    "                    nEKorrigiert_kum += count3\n",
    "            except:\n",
    "                continue\n",
    "\n",
    "            # print(\"Anzahl Zitationen vor MeSH-Aufnahme (\", str(pubDate), \" - \", str(meshDate), \") für PMID: \", str(pmid), \", EMERGENT:\", count1)\n",
    "            # print(\"Anzahl Zitationen vor MeSH-Aufnahme (\", str(meshDate), \" - \", str(datetime.datetime.today().year), \") für PMID: \", str(pmid), \", NICHT-emergent:\", count2)\n",
    "            # print(\"Anzahl Zitationen vor MeSH-Aufnahme (\", str(meshDate), \" - \", str(jahr_korrektur), \") für PMID: \", str(pmid), \", nicht-emergent KORRIGIERT:\", count3)\n",
    "            insertAnalyseOutputPMIDMesh(pmid, meshUI, count1, count2, count3)\n",
    "        \n",
    "    # print(\"----------Zitationszahlen für Mesh kumuliert-------------\")\n",
    "    print(\"Anzahl Zitationen vor MeSH-Aufnahme (\", str(pubDate), \" - \", str(meshDate),  \"): EMERGENT:\", emergent_kum)\n",
    "    print(\"Anzahl Zitationen vor MeSH-Aufnahme (\", str(meshDate), \" - \", str(datetime.datetime.today().year), \"): NICHT-emergent:\", nichtEmergent_kum)\n",
    "    print(\"Anzahl Zitationen vor MeSH-Aufnahme (\", str(meshDate), \" - \", str(jahr_korrektur), \"): nicht-emergent KORRIGIERT:\", nEKorrigiert_kum)\n",
    "    insertAnalyseOutputMesh(meshUI, emergent_kum, nichtEmergent_kum, nEKorrigiert_kum)\n"
   ]
  },
  {
   "cell_type": "code",
   "execution_count": 15,
   "metadata": {},
   "outputs": [],
   "source": [
    "# analysiereEmergenz(meshIndex_auswahl)"
   ]
  },
  {
   "attachments": {},
   "cell_type": "markdown",
   "metadata": {},
   "source": [
    "# Visualisierung"
   ]
  },
  {
   "cell_type": "code",
   "execution_count": 16,
   "metadata": {},
   "outputs": [],
   "source": [
    "# Visualisierung der Veröffentlichung, Mesh Einführung und Zitationshäufigkeiten\n",
    "def visualisiereZitationenUndVeröffentlichung(pmid, meshUI):\n",
    "    try:\n",
    "        cur.execute(\"SELECT Jahr, Anzahl FROM Zitationen WHERE PMID = '\" + str(pmid)+ \"'\")\n",
    "        data = cur.fetchall()\n",
    "        jahre = [x[0] for x in data]\n",
    "        anzahl = [x[1] for x in data]\n",
    "        cur.execute(\"SELECT pubyear FROM Dokumente WHERE PMID = '\" + str(pmid)+ \"'\")\n",
    "        data = cur.fetchall()\n",
    "        pubDate = data[0][0]\n",
    "        cur.execute(\"SELECT jahr FROM Mesh WHERE UI = '\" + str(meshUI)+ \"'\")\n",
    "        data = cur.fetchall()\n",
    "        meshDate = data[0][0]\n",
    "        if len(jahre) != 0:\n",
    "            fig, ax = plt.subplots(layout=\"constrained\")\n",
    "            ax.set_ylabel(\"Anzahl Zitationen\")\n",
    "            ax.set_xlabel(\"Jahre\")\n",
    "            ax.set_title(\"PMID: \" + str(pmid))\n",
    "            ax.set_xlim(min(pubDate, meshDate)-5, 2023)\n",
    "            ax.set_ylim(0, 50)\n",
    "            ax.bar(jahre, anzahl)\n",
    "            ax.annotate(\"Veröffentlichungsjahr\",\n",
    "                xy=(pubDate, 20), \n",
    "                xycoords=\"data\",\n",
    "                xytext=(0, 50),\n",
    "                textcoords=\"offset points\", \n",
    "                arrowprops=dict(facecolor=\"blue\"))\n",
    "            ax.annotate(\"MeSH Aufnahme\",\n",
    "                xy=(meshDate, 20), \n",
    "                xycoords=\"data\",\n",
    "                xytext=(0, 50),\n",
    "                textcoords=\"offset points\", \n",
    "                arrowprops=dict(facecolor=\"red\"))\n",
    "            ax.plot()\n",
    "    except:\n",
    "        print(\"Keine Daten vorhanden\")\n"
   ]
  },
  {
   "cell_type": "code",
   "execution_count": 17,
   "metadata": {},
   "outputs": [],
   "source": [
    "# Visualsierung der emergenten, nicht-emergenten und nicht-emergenten-korrigierten Zitationshäufigkeiten\n",
    "def visualisiereENENEK(pmid, meshUI):\n",
    "    try:\n",
    "        cur.execute(\"SELECT emergent, nichtEmergent, nichtEmergentKorrigiert FROM MeshDokumentAnalyse WHERE PMID = '\" + str(pmid)+ \"' AND UI = '\"+ str(meshUI) + \"'\")\n",
    "        data = cur.fetchall()\n",
    "        x = [0,1,2]\n",
    "        e = [x[0] for x in data]\n",
    "        ne = [x[1] for x in data]\n",
    "        nek = [x[2] for x in data]\n",
    "        y = [e[0], ne[0], nek[0]]\n",
    "        maxCitation = max(y)\n",
    "        if maxCitation > 0:\n",
    "            fig, ax = plt.subplots(layout=\"constrained\")\n",
    "            ax.set_ylabel(\"Anzahl Zitationen\")\n",
    "            ax.set_title(\"PMID: \" + str(pmid) + \" ; MeshUI: \" + str(meshUI))\n",
    "            ax.set_xticks(ticks=x, labels=[\"Emergent\", \"Nicht-Emergent\", \"Nicht-Emergent Korrigiert\"], rotation=45)\n",
    "            ax.set_ylim(0, maxCitation+10)\n",
    "            ax.bar(x, y)\n",
    "            for i in range(len(x)):\n",
    "                plt.text(i, y[i]+3, y[i], ha = 'center')\n",
    "            ax.plot()\n",
    "    except:\n",
    "        print(\"Keine Daten vorhanden\")"
   ]
  },
  {
   "cell_type": "code",
   "execution_count": 18,
   "metadata": {},
   "outputs": [],
   "source": [
    "# Visualsierung der emergenten, nicht-emergenten und nicht-emergenten-korrigierten Zitationshäufigkeiten\n",
    "def visualisiereENENEKkumuliert(meshUI):\n",
    "    try:\n",
    "        cur.execute(\"SELECT emergent, nichtEmergent, nichtEmergentKorrigiert FROM Mesh WHERE UI = '\"+ str(meshUI) + \"'\")\n",
    "        data = cur.fetchall()\n",
    "        x = [0,1,2]\n",
    "        e = [x[0] for x in data]\n",
    "        ne = [x[1] for x in data]\n",
    "        nek = [x[2] for x in data]\n",
    "        y = [e[0], ne[0], nek[0]]\n",
    "        maxCitation = max(y)\n",
    "        if maxCitation > 0:\n",
    "            fig, ax = plt.subplots(layout=\"constrained\")\n",
    "            ax.set_ylabel(\"Anzahl Zitationen\")\n",
    "            ax.set_title(\"MeshUI: \" + str(meshUI))\n",
    "            ax.set_xticks(ticks=x, labels=[\"Emergent\", \"Nicht-Emergent\", \"Nicht-Emergent Korrigiert\"], rotation=45)\n",
    "            ax.set_ylim(0, maxCitation+10)\n",
    "            ax.bar(x, y)\n",
    "            for i in range(len(x)):\n",
    "                plt.text(i, y[i]+3, y[i], ha = 'center')\n",
    "            ax.plot()\n",
    "    except:\n",
    "        print(\"Keine Daten vorhanden\")"
   ]
  },
  {
   "cell_type": "code",
   "execution_count": 19,
   "metadata": {},
   "outputs": [],
   "source": [
    "# visualisiereENENEKkumuliert(\"D015906\")"
   ]
  },
  {
   "cell_type": "code",
   "execution_count": 20,
   "metadata": {},
   "outputs": [
    {
     "name": "stdout",
     "output_type": "stream",
     "text": [
      "Zur Auswahl stehende MeSHs:\n",
      "['Acute Coronary Syndrome', 'Angioplasty, Balloon, Coronary', 'Anomalous Left Coronary Artery', 'Atherectomy, Coronary', 'Coronary Aneurysm', 'Coronary Angiography', 'Coronary Artery Bypass', 'Coronary Artery Bypass, Off-Pump', 'Coronary Artery Disease', 'Coronary Care Units']\n",
      "['D054058', 'D015906', 'D000080038', 'D017225', 'D003323', 'D017023', 'D001026', 'D047549', 'D003324', 'D003325']\n",
      "Es stehen  10  MeSHs zur Auswahl.\n"
     ]
    }
   ],
   "source": [
    "#Pipeline, erstes vorgeschlagenes Mesh wird analysiert\n",
    "\n",
    "# Auswahl Suchwort\n",
    "#TODO: Auswählen\n",
    "suchwort= \"corona\" \n",
    "meshUIs, label_auswahl, resource_auswahl = getAuswahlMesh(suchwort)\n",
    "print(\"Es stehen \", len(meshUIs), \" MeSHs zur Auswahl.\")\n",
    "\n",
    "\n"
   ]
  },
  {
   "cell_type": "code",
   "execution_count": null,
   "metadata": {},
   "outputs": [],
   "source": [
    "# Auswahl Index \n",
    "#TODO: Auswählen\n",
    "meshIndex = [0]\n",
    "for index in meshIndex:\n",
    "    meshTerm, meshYear, meshUI = setAuswahlMesh(index, meshUIs, label_auswahl, resource_auswahl)\n",
    "    pmidListe_zuUntersuchen = getAndInsertRelevantDoks(meshTerm, meshYear, meshUI)\n",
    "\n",
    "    # Zitationsdatenerhebung\n",
    "    getAndInsertZitationen(pmidListe_zuUntersuchen)\n",
    "\n",
    "    # Analyse\n",
    "    analysiereEmergenz(meshUI)\n",
    "\n",
    "    # Visualisierung\n",
    "    print(meshUI)\n",
    "    visualisiereENENEKkumuliert(meshUI)"
   ]
  },
  {
   "cell_type": "code",
   "execution_count": null,
   "metadata": {},
   "outputs": [],
   "source": [
    "visualisiereENENEK(17982182, \"D054058\")"
   ]
  },
  {
   "cell_type": "code",
   "execution_count": 140,
   "metadata": {},
   "outputs": [
    {
     "data": {
      "application/vnd.jupyter.widget-view+json": {
       "model_id": "2ebe8478f7054509aa13ee04f829eff8",
       "version_major": 2,
       "version_minor": 0
      },
      "text/plain": [
       "HTML(value='<b>Stichwortsuche</b> - Geben Sie ein Stichwort ein. Es werden alle MeSHs gesucht, die damit im Zu…"
      ]
     },
     "metadata": {},
     "output_type": "display_data"
    },
    {
     "data": {
      "application/vnd.jupyter.widget-view+json": {
       "model_id": "1930fefb918e45ea976d2739d5758c49",
       "version_major": 2,
       "version_minor": 0
      },
      "text/plain": [
       "Text(value='', description='Stichwort: ', placeholder='Stichwort')"
      ]
     },
     "metadata": {},
     "output_type": "display_data"
    },
    {
     "data": {
      "application/vnd.jupyter.widget-view+json": {
       "model_id": "dcae71cebbbb4b269e0fcb1e6c3a7207",
       "version_major": 2,
       "version_minor": 0
      },
      "text/plain": [
       "Button(description='Suche starten', style=ButtonStyle(), tooltip='Suche nach MeSHs')"
      ]
     },
     "metadata": {},
     "output_type": "display_data"
    },
    {
     "data": {
      "application/vnd.jupyter.widget-view+json": {
       "model_id": "2c7e0b058c1145509ee7015cd71624a5",
       "version_major": 2,
       "version_minor": 0
      },
      "text/plain": [
       "Checkbox(value=False, description='Alle auswählen', style=CheckboxStyle(description_width='initial'))"
      ]
     },
     "metadata": {},
     "output_type": "display_data"
    },
    {
     "data": {
      "application/vnd.jupyter.widget-view+json": {
       "model_id": "91e8cce0cc6f4287874f55123b87fb07",
       "version_major": 2,
       "version_minor": 0
      },
      "text/plain": [
       "VBox(children=(Checkbox(value=False, description='D054058, Acute Coronary Syndrome', style=CheckboxStyle(descr…"
      ]
     },
     "metadata": {},
     "output_type": "display_data"
    },
    {
     "data": {
      "application/vnd.jupyter.widget-view+json": {
       "model_id": "f6d114673eba4014a6b5e4b7cf8ca8dc",
       "version_major": 2,
       "version_minor": 0
      },
      "text/plain": [
       "Button(description='Analyse starten', style=ButtonStyle())"
      ]
     },
     "metadata": {},
     "output_type": "display_data"
    },
    {
     "name": "stdout",
     "output_type": "stream",
     "text": [
      "['D003323, Coronary Aneurysm', 'D017023, Coronary Angiography', 'D001026, Coronary Artery Bypass']\n"
     ]
    }
   ],
   "source": [
    "\n",
    "style = {'description_width': 'initial'}\n",
    "\n",
    "global stichwort_meshUIs\n",
    "global stichwort_label_auswahl\n",
    "global stichwort_resource_auswahl\n",
    "global checkboxes\n",
    "global checkAllBox\n",
    "checkboxes = []\n",
    "\n",
    "\n",
    "description = widgets.HTML(\n",
    "    value=\"<b>Stichwortsuche</b> - Geben Sie ein Stichwort ein. Es werden alle MeSHs gesucht, die damit im Zusammenhang stehen\"\n",
    ")\n",
    "\n",
    "stichwort = widgets.Text(placeholder=\"Stichwort\", description=\"Stichwort: \")\n",
    "\n",
    "stichwort_button = widgets.Button(\n",
    "    description='Suche starten',\n",
    "    disabled=False,\n",
    "    button_style='', # 'success', 'info', 'warning', 'danger' or ''\n",
    "    tooltip='Suche nach MeSHs'\n",
    "    # icon='check' # (FontAwesome names without the `fa-` prefix)\n",
    ")\n",
    "\n",
    "def stichwort_button_clicked(b):\n",
    "    stichwort_meshUIs, stichwort_label_auswahl, stichwort_resource_auswahl = getAuswahlMesh(stichwort.value)\n",
    "    global checkAllBox\n",
    "    checkAllBox = widgets.Checkbox(value=False, description=\"Alle auswählen\", disabled=False, style=style)\n",
    "    checkAllBox.observe(checkAllOnOff, names=['value'])\n",
    "    display(checkAllBox)\n",
    "    for i in range(len(stichwort_meshUIs)):\n",
    "        string = str(stichwort_meshUIs[i]) + \", \" + str(stichwort_label_auswahl[i])\n",
    "        checkbox = widgets.Checkbox(value=False, description=string, disabled=False, style=style)\n",
    "        checkboxes.append(checkbox)\n",
    "    display(widgets.VBox(checkboxes))\n",
    "    mesh_checkboxes_button = widgets.Button(\n",
    "    description='Analyse starten',\n",
    "    disabled=False,\n",
    "    button_style='' # 'success', 'info', 'warning', 'danger' or ''\n",
    "    # icon='check' # (FontAwesome names without the `fa-` prefix)\n",
    "    )\n",
    "    display(mesh_checkboxes_button)\n",
    "    mesh_checkboxes_button.on_click(mesh_checkboxes_button_clicked)\n",
    "\n",
    "\n",
    "stichwort_button.on_click(stichwort_button_clicked)\n",
    "\n",
    "\n",
    "def checkAllOnOff(b):\n",
    "    for box in checkboxes:\n",
    "        box.value = checkAllBox.value\n",
    "\n",
    "def mesh_checkboxes_button_clicked(b):    \n",
    "    meshs_selected = []\n",
    "    for i in range(0, len(checkboxes)):\n",
    "        if checkboxes[i].value == True:\n",
    "            meshs_selected = meshs_selected + [checkboxes[i].description]\n",
    "    print(meshs_selected)\n",
    "\n",
    "display(description)\n",
    "display(stichwort)\n",
    "display(stichwort_button)\n",
    "\n",
    "\n"
   ]
  }
 ],
 "metadata": {
  "kernelspec": {
   "display_name": "Python 3",
   "language": "python",
   "name": "python3"
  },
  "language_info": {
   "codemirror_mode": {
    "name": "ipython",
    "version": 3
   },
   "file_extension": ".py",
   "mimetype": "text/x-python",
   "name": "python",
   "nbconvert_exporter": "python",
   "pygments_lexer": "ipython3",
   "version": "3.11.2"
  },
  "orig_nbformat": 4
 },
 "nbformat": 4,
 "nbformat_minor": 2
}
