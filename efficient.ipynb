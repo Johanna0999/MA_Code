{
 "cells": [
  {
   "cell_type": "code",
   "execution_count": 1,
   "metadata": {},
   "outputs": [],
   "source": [
    "import requests\n",
    "import json\n",
    "import xmltodict\n",
    "import urllib.parse\n",
    "import opencitingpy\n",
    "import datetime\n",
    "import sqlite3\n",
    "import os\n",
    "from matplotlib import pyplot as plt\n",
    "import numpy as np\n",
    "import re\n",
    "import math\n",
    "import ipywidgets as widgets\n",
    "from IPython.display import display, clear_output\n",
    "import re \n",
    "\n",
    "import xml.etree.ElementTree as ET\n",
    "from collections import Counter\n",
    "from IPython.display import display"
   ]
  },
  {
   "cell_type": "code",
   "execution_count": 2,
   "metadata": {},
   "outputs": [],
   "source": [
    "# Anlegen von Datenbankspeicherort, falls er nicht existiert\n",
    "path = \"C:\\MA_Pethke_3992454\"\n",
    "if not os.path.exists(path):\n",
    "    os.makedirs(path)\n",
    "\n",
    "# Verbindung zu DB aufbauen, DB wird automatisch erstellt, wenn keine da ist\n",
    "con = sqlite3.connect(\"C:\\MA_Pethke_3992454\\MA_3992454_idea_2.db\")\n",
    "cur = con.cursor()"
   ]
  },
  {
   "cell_type": "code",
   "execution_count": 3,
   "metadata": {},
   "outputs": [],
   "source": [
    "## Tabellen Schema erstellen\n",
    "#------------------- Tabelle Dokument --------------------------------------#\n",
    "cur.execute(\"CREATE TABLE IF NOT EXISTS Dokumente(PMID INTEGER UNIQUE, titel TEXT, pubyear YEAR)\")\n",
    "\n",
    "#------------------- Tabelle Zitationen --------------------------------------#\n",
    "cur.execute(\"CREATE TABLE IF NOT EXISTS Zitationen(PMID INTEGER, Jahr YEAR, Anzahl INETEGER, UNIQUE(PMID,Jahr) ON CONFLICT REPLACE)\")\n",
    "\n",
    "#------------------- Tabelle Mesh --------------------------------------#\n",
    "cur.execute(\"CREATE TABLE IF NOT EXISTS Mesh(UI VARCHAR UNIQUE, name TEXT, jahr YEAR, emergent INTEGER, nichtEmergent INTEGER, nichtEmergentKorrigiert INTEGER)\")\n",
    "\n",
    "#------------------- Tabelle Mesh - PMID --------------------------------------#\n",
    "cur.execute(\"CREATE TABLE IF NOT EXISTS Mesh_PMID(UI VARCHAR, PMID INTEGER, UNIQUE(UI,PMID) ON CONFLICT REPLACE)\")\n",
    "\n",
    "\n",
    "#------------------- Tabelle Dokument-Mesh-Analyse --------------------------------------#\n",
    "cur.execute(\"CREATE TABLE IF NOT EXISTS MeshDokumentAnalyse(PMID INTEGER, UI VARCHAR, emergent INTEGER, nichtEmergent INTEGER, nichtEmergentKorrigiert INTEGER, UNIQUE(PMID,UI) ON CONFLICT REPLACE)\")\n",
    "con.commit()"
   ]
  },
  {
   "cell_type": "code",
   "execution_count": 4,
   "metadata": {},
   "outputs": [],
   "source": [
    "##  INSERT DB\n",
    "\n",
    "def insertMeshData_db(meshUI_loc, meshTerm_loc, meshDate_loc):\n",
    "    # print(\"Das ausgewählte MeSH \" + str(meshUI_loc) + \" wird in die DB eingepflegt\")\n",
    "    try:\n",
    "        cur.execute(\"INSERT INTO Mesh (UI, name, jahr) VALUES (\\\"\"+str(meshUI_loc)+\"\\\", \\\"\"+str(meshTerm_loc)+\"\\\", \\\"\"+str(meshDate_loc)+\"\\\")\")\n",
    "        con.commit()\n",
    "        # Insert erfolgreich\n",
    "    except:\n",
    "        # print(\"fail - wurde schon eingefügt\")\n",
    "        return\n",
    "        # MeSH schon in DB\n",
    "\n",
    "def insertCitations_db(pmid_loc, histo):\n",
    "    # print(\"Für das Dokument \" + str(pmid_loc) + \" werden die Zitationsdaten in die Datenbank eingepflegt\")\n",
    "    for year in histo:\n",
    "        try:\n",
    "            cur.execute(\"INSERT INTO Zitationen (PMID, Jahr, Anzahl) VALUES (\\\"\"+str(pmid_loc)+\"\\\", \\\"\"+str(year)+\"\\\", \\\"\"+str(histo[year])+\"\\\")\")\n",
    "            con.commit()\n",
    "            # Insert erfolgreich\n",
    "        except:\n",
    "            # print(\"fail\")\n",
    "            return\n",
    "            # MeSH schon in DB\n",
    "\n",
    "def insertAnalyseOutputPMIDMesh(pmid, ui, pmidE, pmidNE, pmidNEK):\n",
    "    try:\n",
    "        cur.execute(\"INSERT INTO MeshDokumentAnalyse(PMID, UI, emergent, nichtEmergent, nichtEmergentKorrigiert) VALUES ('\"+str(pmid)+\"', '\"+str(ui)+\"', '\"+str(pmidE)+\"', '\"+str(pmidNE)+\"', '\"+str(pmidNEK)+\"')\")\n",
    "        con.commit()\n",
    "        # Insert erfolgreich\n",
    "    except:\n",
    "        # print(\"fail - wurde schon eingefügt\")\n",
    "        return\n",
    "\n",
    "def insertAnalyseOutputMesh(ui, uiE, uiNE, uiNEK):\n",
    "    try:\n",
    "        cur.execute(\"UPDATE Mesh SET emergent = '\"+str(uiE)+\"', nichtEmergent = '\" + str(uiNE) + \"', nichtEmergentKorrigiert = '\"+str(uiNEK)+\"' WHERE UI = '\" + str(ui) + \"'\")\n",
    "        con.commit()\n",
    "        # Insert erfolgreich\n",
    "    except:\n",
    "        # print(\"fail - wurde schon eingefügt\")\n",
    "        return"
   ]
  },
  {
   "cell_type": "code",
   "execution_count": 31,
   "metadata": {},
   "outputs": [],
   "source": [
    "## USEFUL\n",
    "\n",
    "def getPMIDsWithMeSH(meshTerm_loc, meshYear_loc):\n",
    "    limit = 50 # API limited to first 10000 documents; esearch is a way to get all data, but u have to work on an unix environment https://dataguide.nlm.nih.gov/edirect/edirect-vs-e-utilities.html\n",
    "    # Abfrage von Dokumente, die vor der Aufnahme des MeSHs veröffentlicht wurden (Von 1900 an)\n",
    "    url = \"https://eutils.ncbi.nlm.nih.gov/entrez/eutils/esearch.fcgi?db=pubmed&term=(\"+urllib.parse.quote(meshTerm_loc)+\"[MeSH+Terms])+AND+((\\\"1900\\\"[Date+-+Publication]+%3A+\\\"\"+str(meshYear_loc)+\"\\\"[Date+-+Publication]))&retmax=\"+str(limit)+\"&sort=relevance&retmode=json\"\n",
    "    # print(url)\n",
    "    requ = requests.get(url)\n",
    "    requ_json = json.loads(requ.text)\n",
    "    pmidList = requ_json['esearchresult']['idlist']\n",
    "    return pmidList\n",
    "\n",
    "def getXMLRootsForPMIDs(pmidListe):\n",
    "    pmidList_str = \"\"\n",
    "    roots = []\n",
    "    begin = 0\n",
    "    end = 300\n",
    "    if len(pmidListe) > 300:\n",
    "        while end < len(pmidListe):\n",
    "            pmidList_str = ','.join(pmidListe[begin:end])\n",
    "            url=\"https://eutils.ncbi.nlm.nih.gov/entrez/eutils/efetch.fcgi?db=pubmed&id=\"+urllib.parse.quote(str(pmidList_str))\n",
    "            # print(url)\n",
    "            requ = requests.get(url)\n",
    "            root = ET.fromstring(requ.text)\n",
    "            roots.append(root)\n",
    "            end = end + 300\n",
    "            begin = begin + 300\n",
    "        # print(begin)\n",
    "        pmidList_str = ','.join(pmidListe[begin:])\n",
    "        url=\"https://eutils.ncbi.nlm.nih.gov/entrez/eutils/efetch.fcgi?db=pubmed&id=\"+urllib.parse.quote(str(pmidList_str))\n",
    "        # print(url)\n",
    "        requ = requests.get(url)\n",
    "        root = ET.fromstring(requ.text)\n",
    "        roots.append(root)\n",
    "    else:        \n",
    "        pmidList_str = ','.join(pmidListe)\n",
    "        url=\"https://eutils.ncbi.nlm.nih.gov/entrez/eutils/efetch.fcgi?db=pubmed&id=\"+urllib.parse.quote(str(pmidList_str))\n",
    "        # print(url)\n",
    "        requ = requests.get(url)\n",
    "        # print(requ)\n",
    "        root = ET.fromstring(requ.text)\n",
    "        roots = [root]\n",
    "    return roots\n",
    "\n",
    "def getYearAndTitleOfPMID(pmidRoots):\n",
    "    pmids = []\n",
    "    years = []\n",
    "    titles = []\n",
    "    for pmidRoot in pmidRoots:\n",
    "        rootSpecificPMIDs = pmidRoot.findall('./PubmedArticle')\n",
    "        for pmidXML in rootSpecificPMIDs:\n",
    "            pmid = pmidXML.find('.MedlineCitation/PMID')\n",
    "            year = pmidXML.find('./PubmedData/History/PubMedPubDate[@PubStatus=\"pubmed\"]/Year')\n",
    "            title = pmidXML.find('./MedlineCitation/Article/ArticleTitle')\n",
    "            pmids.append(pmid)\n",
    "            years.append(year)\n",
    "            titles.append(title)\n",
    "    return pmids, years, titles\n",
    "\n",
    "def insertMeSHDokData_db(pmidList, meshUI_loc):\n",
    "    ## MESH_PMID\n",
    "    # print(\"Die 'relevantesten' Dokumente, welche das ausgwählte MeSH zugeordnet haben werden in die DB eingepflegt. Anzahl: \", len(pmidList))\n",
    "    for pmid in pmidList:\n",
    "        try:\n",
    "            cur.execute('INSERT INTO Mesh_PMID (UI, PMID) VALUES (\"'+str(meshUI_loc)+'\", \"'+str(pmid)+'\")')\n",
    "            con.commit()\n",
    "        except:\n",
    "            continue\n",
    "    # print(\"Die Dokumente wurden eingefügt\")\n",
    "    # print(\"--------------------------------\")\n",
    "\n",
    "    ## Dokumente\n",
    "    # print(\"Die zu den Dokumenten gehörenden Daten werden in die DB eingepflegt. Anzahl: \", len(pmidList))\n",
    "    pmids, years, titles = getYearAndTitleOfPMID(getXMLRootsForPMIDs(pmidList))\n",
    "    for pmid, pubYear, titleWithout in zip(pmids, years, titles):\n",
    "        try:\n",
    "            cur.execute('INSERT INTO Dokumente (PMID, titel, pubyear) VALUES (\"'+str(pmid.text)+'\", \"'+str(titleWithout.text)+'\", \"'+str(pubYear.text)+'\")')\n",
    "            con.commit()\n",
    "        except:\n",
    "            continue\n",
    "            # Dokument schon in DB\n",
    "    # print(\"Dokumente wurden eingefügt\")\n",
    "    # print(\"--------------------------------\")\n",
    "\n",
    "def getAllCitingPMIDs(pmid):\n",
    "    citingPMIDs = []\n",
    "    url = \"https://eutils.ncbi.nlm.nih.gov/entrez/eutils/elink.fcgi?dbfrom=pubmed&linkname=pubmed_pubmed_citedin&retmode=json&id=\"+urllib.parse.quote(str(pmid))\n",
    "    # print(url)\n",
    "    response_PubMedMCitations = requests.get(url)\n",
    "    json_data = json.loads(response_PubMedMCitations.text)\n",
    "    # print(json_data)\n",
    "    if \"linksets\" in json_data:\n",
    "        if \"linksetdbs\" in json_data[\"linksets\"][0]:\n",
    "            if \"links\" in json_data[\"linksets\"][0][\"linksetdbs\"][0]:\n",
    "                citingPMIDs = json_data[\"linksets\"][0][\"linksetdbs\"][0][\"links\"]\n",
    "    return citingPMIDs\n",
    "\n",
    "def getYearsHistoFromPmids(pmidRoots):\n",
    "    ## Jahre\n",
    "    years = []\n",
    "    histo = Counter()\n",
    "    for pmidRoot in pmidRoots:\n",
    "        pubdate = pmidRoot.findall('./PubmedArticle/PubmedData/History/PubMedPubDate[@PubStatus=\"pubmed\"]/Year')\n",
    "        years = [int(pub.text) for pub in pubdate]\n",
    "        histo = histo + Counter(years)\n",
    "    return histo\n",
    "\n",
    "def getAllAnalyseData():\n",
    "    cur.execute(\"SELECT count(UI), sum(emergent), sum(nichtEmergent), sum(nichtEmergentKorrigiert) FROM Mesh\")\n",
    "    data = [x for x in cur.fetchall()[0]]\n",
    "    return data \n",
    "\n",
    "def checkCitingPMIDinDB(citingPMIDs):\n",
    "    citingsPMIDs_notInDB = []\n",
    "    for pmid in citingPMIDs:\n",
    "        cur.execute(\"SELECT count(1) FROM Zitationen WHERE PMID = '\" + str(pmid) + \"'\")\n",
    "        count = cur.fetchall()[0][0]\n",
    "        if count != 0:\n",
    "            citingsPMIDs_notInDB.append(pmid)\n",
    "    return citingsPMIDs_notInDB\n"
   ]
  },
  {
   "cell_type": "code",
   "execution_count": 6,
   "metadata": {},
   "outputs": [],
   "source": [
    "def getAuswahlMesh(suchwort):\n",
    "    requ = requests.get(\"https://id.nlm.nih.gov/mesh/lookup/descriptor?label=\"+str(suchwort)+\"&match=contains&year=current\", headers={\"Accept\": \"application/json\"})\n",
    "    meshData = requ.json()\n",
    "    label_auswahl = [output['label'] for output in meshData]\n",
    "    resource_auswahl = [output['resource'] for output in meshData]\n",
    "    meshUIs = [re.findall(\"^.*mesh\\/(.*)$\", resource)[0] for resource in resource_auswahl]\n",
    "    # print(\"Zur Auswahl stehende MeSHs:\")\n",
    "    # print(label_auswahl)\n",
    "    # print(meshUIs)\n",
    "    return meshUIs, label_auswahl, resource_auswahl"
   ]
  },
  {
   "cell_type": "code",
   "execution_count": 7,
   "metadata": {},
   "outputs": [],
   "source": [
    "# # Auswahl Suchwort\n",
    "# #TODO: Auswählen\n",
    "# suchwort= \"corona\" \n",
    "# meshUIs, label_auswahl, resource_auswahl = getAuswahlMesh(suchwort)"
   ]
  },
  {
   "cell_type": "code",
   "execution_count": 36,
   "metadata": {},
   "outputs": [],
   "source": [
    "def setAuswahlMesh(meshUI, meshTerm, resource):\n",
    "    requ = requests.get(str(resource)+\".json\", headers={\"Accept\": \"application/json\"})\n",
    "    meshData = requ.json()\n",
    "    meshYear = datetime.datetime.strptime(meshData[\"dateCreated\"], \"%Y-%m-%d\").year\n",
    "\n",
    "    insertMeshData_db(meshUI, meshTerm, meshYear)\n",
    "\n",
    "    # print(\"Ausgewähltes Mesh: \", meshUI, meshTerm, \"eingeführt im Jahr: \", meshYear)\n",
    "    return meshTerm, meshYear, meshUI\n",
    "\n",
    "def getAndInsertRelevantDoks(meshTerm, meshYear, meshUI):\n",
    "    # relevante PMIDs zu MeSH\n",
    "    pmidListe_zuUntersuchen = getPMIDsWithMeSH(meshTerm, meshYear)\n",
    "    \n",
    "    insertMeSHDokData_db(pmidListe_zuUntersuchen, meshUI)\n",
    "\n",
    "    return pmidListe_zuUntersuchen\n",
    "\n",
    "def getAndInsertZitationen(pmidListe_zuUntersuchen, loading):\n",
    "    # print(\"Die Zitationsdaten zu den 'relevantesten' Dokumenten werden erhoben und die DB eingepflegt.\")\n",
    "    for pmidIndex in range(len(pmidListe_zuUntersuchen)):\n",
    "        loading.value=pmidIndex\n",
    "        # print(pmidIndex, \"/\", len(pmidListe_zuUntersuchen))\n",
    "        # print(pmidIndex, pmidListe_zuUntersuchen[pmidIndex])\n",
    "        citingPMIDs = getAllCitingPMIDs(pmidListe_zuUntersuchen[pmidIndex])\n",
    "        citingsPMIDs_notInDB = checkCitingPMIDinDB(citingPMIDs)\n",
    "        if citingsPMIDs_notInDB != []:\n",
    "            citingPMIDs_roots = getXMLRootsForPMIDs(citingsPMIDs_notInDB)\n",
    "\n",
    "            histoCitation = getYearsHistoFromPmids(citingPMIDs_roots)\n",
    "            # print(histoCitation)\n",
    "            insertCitations_db(pmidListe_zuUntersuchen[pmidIndex], histoCitation)\n",
    "        # else:\n",
    "            # print(\"Die Zitationsdaten für dieses Dokument sind bereits eingepflegt.\")"
   ]
  },
  {
   "cell_type": "code",
   "execution_count": 9,
   "metadata": {},
   "outputs": [],
   "source": [
    "# # Auswahl Index \n",
    "# #TODO: Auswählen\n",
    "# meshIndex = 0 \n",
    "# meshTerm, meshYear, meshUI = setAuswahlMesh(meshIndex)\n",
    "# pmidListe_zuUntersuchen = getAndInsertRelevantDoks(meshTerm, meshYear, meshUI)\n",
    "# getAndInsertZitationen(pmidListe_zuUntersuchen)"
   ]
  },
  {
   "attachments": {},
   "cell_type": "markdown",
   "metadata": {},
   "source": [
    "# Analyseteil"
   ]
  },
  {
   "cell_type": "code",
   "execution_count": 10,
   "metadata": {},
   "outputs": [],
   "source": [
    "def getCitationCountBetween(begin, end, choosenPMID):\n",
    "    cur.execute(\"SELECT sum(Anzahl) FROM Zitationen WHERE PMID = \"+str(choosenPMID)+\" and Jahr >= '\"+str(begin)+ \"' and Jahr <= '\"+str(end)+ \"'\")\n",
    "    resp = cur.fetchall()[0][0] \n",
    "    citationCount = resp if resp != None else 0\n",
    "    return citationCount\n"
   ]
  },
  {
   "cell_type": "code",
   "execution_count": 11,
   "metadata": {},
   "outputs": [],
   "source": [
    "def analysiereEmergenz(meshUI):\n",
    "    for UI in meshUI:\n",
    "        try:\n",
    "            cur.execute(\"SELECT PMID FROM Mesh_PMID WHERE UI = '\" + str(UI)+ \"'\")\n",
    "            pmids_vis = [x[0] for x in cur.fetchall()]\n",
    "            # print(\"Die zu untersuchenden PMIDs: \")\n",
    "            # print(pmids_vis)\n",
    "        except:\n",
    "            print(\"Keine Daten vorhanden\")\n",
    "            return\n",
    "\n",
    "        emergent_kum = 0\n",
    "        nichtEmergent_kum = 0\n",
    "        nEKorrigiert_kum = 0\n",
    "        for pmid in pmids_vis:\n",
    "            try:\n",
    "                count1 = 0\n",
    "                count2 = 0\n",
    "                count3 = 0\n",
    "                cur.execute(\"SELECT Jahr, Anzahl FROM Zitationen WHERE PMID = '\" + str(pmid)+ \"'\")\n",
    "                data = cur.fetchall()\n",
    "                jahre = [x[0] for x in data]\n",
    "                cur.execute(\"SELECT pubyear FROM Dokumente WHERE PMID = '\" + str(pmid)+ \"'\")\n",
    "                data = cur.fetchall()\n",
    "                pubDate = data[0][0]\n",
    "                cur.execute(\"SELECT jahr FROM Mesh WHERE UI = '\" + str(UI)+ \"'\")\n",
    "                data = cur.fetchall()\n",
    "                meshDate = data[0][0]\n",
    "                if len(jahre) != 0:\n",
    "                    zeitraum = meshDate - pubDate\n",
    "                    jahr_korrektur = min(meshDate + zeitraum, datetime.datetime.today().year) # es kann maximal das aktuelle Jahr angegeben werden\n",
    "                    # print(pubDate, meshDate, pmid)\n",
    "                    # Zeitraum Emergenz: Veröffentlichungsjahr - MeSH Aufnahme\n",
    "                    count1 = getCitationCountBetween(pubDate, meshDate, pmid)\n",
    "                    # Zeitraum Nicht-Emergenz: MeSH Aufnahme - jetzt\n",
    "                    count2 = getCitationCountBetween(meshDate, int(datetime.datetime.today().year), pmid)\n",
    "                    # Zeitraum Nicht-Emergenz angepasst: MeSH Aufnahme + Zeitraum Emergenz\n",
    "                    count3 = getCitationCountBetween(meshDate, jahr_korrektur, pmid)\n",
    "                    emergent_kum += count1\n",
    "                    nichtEmergent_kum += count2\n",
    "                    nEKorrigiert_kum += count3\n",
    "            except:\n",
    "                continue\n",
    "\n",
    "            # print(\"Anzahl Zitationen vor MeSH-Aufnahme (\", str(pubDate), \" - \", str(meshDate), \") für PMID: \", str(pmid), \", EMERGENT:\", count1)\n",
    "            # print(\"Anzahl Zitationen vor MeSH-Aufnahme (\", str(meshDate), \" - \", str(datetime.datetime.today().year), \") für PMID: \", str(pmid), \", NICHT-emergent:\", count2)\n",
    "            # print(\"Anzahl Zitationen vor MeSH-Aufnahme (\", str(meshDate), \" - \", str(jahr_korrektur), \") für PMID: \", str(pmid), \", nicht-emergent KORRIGIERT:\", count3)\n",
    "            insertAnalyseOutputPMIDMesh(pmid, meshUI, count1, count2, count3)\n",
    "        \n",
    "    # print(\"----------Zitationszahlen für Mesh kumuliert-------------\")\n",
    "    print(\"Anzahl Zitationen vor MeSH-Aufnahme (\", str(pubDate), \" - \", str(meshDate),  \"): EMERGENT:\", emergent_kum)\n",
    "    print(\"Anzahl Zitationen vor MeSH-Aufnahme (\", str(meshDate), \" - \", str(datetime.datetime.today().year), \"): NICHT-emergent:\", nichtEmergent_kum)\n",
    "    print(\"Anzahl Zitationen vor MeSH-Aufnahme (\", str(meshDate), \" - \", str(jahr_korrektur), \"): nicht-emergent KORRIGIERT:\", nEKorrigiert_kum)\n",
    "    insertAnalyseOutputMesh(meshUI, emergent_kum, nichtEmergent_kum, nEKorrigiert_kum)\n"
   ]
  },
  {
   "attachments": {},
   "cell_type": "markdown",
   "metadata": {},
   "source": [
    "# Visualisierung"
   ]
  },
  {
   "cell_type": "code",
   "execution_count": 12,
   "metadata": {},
   "outputs": [],
   "source": [
    "# Visualisierung der Veröffentlichung, Mesh Einführung und Zitationshäufigkeiten\n",
    "def visualisiereZitationenUndVeröffentlichung(pmid, meshUI):\n",
    "    try:\n",
    "        cur.execute(\"SELECT Jahr, Anzahl FROM Zitationen WHERE PMID = '\" + str(pmid)+ \"'\")\n",
    "        data = cur.fetchall()\n",
    "        jahre = [x[0] for x in data]\n",
    "        anzahl = [x[1] for x in data]\n",
    "        cur.execute(\"SELECT pubyear FROM Dokumente WHERE PMID = '\" + str(pmid)+ \"'\")\n",
    "        data = cur.fetchall()\n",
    "        pubDate = data[0][0]\n",
    "        cur.execute(\"SELECT jahr FROM Mesh WHERE UI = '\" + str(meshUI)+ \"'\")\n",
    "        data = cur.fetchall()\n",
    "        meshDate = data[0][0]\n",
    "        if len(jahre) != 0:\n",
    "            fig, ax = plt.subplots(layout=\"constrained\")\n",
    "            ax.set_ylabel(\"Anzahl Zitationen\")\n",
    "            ax.set_xlabel(\"Jahre\")\n",
    "            ax.set_title(\"PMID: \" + str(pmid))\n",
    "            ax.set_xlim(min(pubDate, meshDate)-5, 2023)\n",
    "            ax.set_ylim(0, 50)\n",
    "            ax.bar(jahre, anzahl)\n",
    "            ax.annotate(\"Veröffentlichungsjahr\",\n",
    "                xy=(pubDate, 20), \n",
    "                xycoords=\"data\",\n",
    "                xytext=(0, 50),\n",
    "                textcoords=\"offset points\", \n",
    "                arrowprops=dict(facecolor=\"blue\"))\n",
    "            ax.annotate(\"MeSH Aufnahme\",\n",
    "                xy=(meshDate, 20), \n",
    "                xycoords=\"data\",\n",
    "                xytext=(0, 50),\n",
    "                textcoords=\"offset points\", \n",
    "                arrowprops=dict(facecolor=\"red\"))\n",
    "            ax.plot()\n",
    "    except:\n",
    "        print(\"Keine Daten vorhanden\")\n"
   ]
  },
  {
   "cell_type": "code",
   "execution_count": 13,
   "metadata": {},
   "outputs": [],
   "source": [
    "# Visualsierung der emergenten, nicht-emergenten und nicht-emergenten-korrigierten Zitationshäufigkeiten\n",
    "def visualisiereENENEK(pmid, meshUI):\n",
    "    try:\n",
    "        cur.execute(\"SELECT emergent, nichtEmergent, nichtEmergentKorrigiert FROM MeshDokumentAnalyse WHERE PMID = '\" + str(pmid)+ \"' AND UI = '\"+ str(meshUI) + \"'\")\n",
    "        data = cur.fetchall()\n",
    "        x = [0,1,2]\n",
    "        e = [x[0] for x in data]\n",
    "        ne = [x[1] for x in data]\n",
    "        nek = [x[2] for x in data]\n",
    "        y = [e[0], ne[0], nek[0]]\n",
    "        maxCitation = max(y)\n",
    "        if maxCitation > 0:\n",
    "            fig, ax = plt.subplots(layout=\"constrained\")\n",
    "            ax.set_ylabel(\"Anzahl Zitationen\")\n",
    "            ax.set_title(\"PMID: \" + str(pmid) + \" ; MeshUI: \" + str(meshUI))\n",
    "            ax.set_xticks(ticks=x, labels=[\"Emergent\", \"Nicht-Emergent\", \"Nicht-Emergent Korrigiert\"], rotation=45)\n",
    "            ax.set_ylim(0, maxCitation+10)\n",
    "            ax.bar(x, y)\n",
    "            for i in range(len(x)):\n",
    "                plt.text(i, y[i]+3, y[i], ha = 'center')\n",
    "            ax.plot()\n",
    "    except:\n",
    "        print(\"Keine Daten vorhanden\")"
   ]
  },
  {
   "cell_type": "code",
   "execution_count": 14,
   "metadata": {},
   "outputs": [],
   "source": [
    "# Visualsierung der emergenten, nicht-emergenten und nicht-emergenten-korrigierten Zitationshäufigkeiten\n",
    "def visualisiereENENEKkumuliert(meshUI):\n",
    "    try:\n",
    "        cur.execute(\"SELECT emergent, nichtEmergent, nichtEmergentKorrigiert FROM Mesh WHERE UI = '\"+ str(meshUI) + \"'\")\n",
    "        data = cur.fetchall()\n",
    "        x = [0,1,2]\n",
    "        e = [x[0] for x in data]\n",
    "        ne = [x[1] for x in data]\n",
    "        nek = [x[2] for x in data]\n",
    "        y = [e[0], ne[0], nek[0]]\n",
    "        maxCitation = max(y)\n",
    "        if maxCitation > 0:\n",
    "            fig, ax = plt.subplots(layout=\"constrained\")\n",
    "            ax.set_ylabel(\"Anzahl Zitationen\")\n",
    "            ax.set_title(\"MeshUI: \" + str(meshUI))\n",
    "            ax.set_xticks(ticks=x, labels=[\"Emergent\", \"Nicht-Emergent\", \"Nicht-Emergent Korrigiert\"], rotation=45)\n",
    "            ax.set_ylim(0, maxCitation+10)\n",
    "            ax.bar(x, y)\n",
    "            for i in range(len(x)):\n",
    "                plt.text(i, y[i]+3, y[i], ha = 'center')\n",
    "            ax.plot()\n",
    "    except:\n",
    "        print(\"Keine Daten vorhanden\")"
   ]
  },
  {
   "cell_type": "code",
   "execution_count": 15,
   "metadata": {},
   "outputs": [],
   "source": [
    "# visualisiereENENEKkumuliert(\"D015906\")"
   ]
  },
  {
   "cell_type": "code",
   "execution_count": 16,
   "metadata": {},
   "outputs": [
    {
     "name": "stdout",
     "output_type": "stream",
     "text": [
      "Es stehen  10  MeSHs zur Auswahl.\n"
     ]
    }
   ],
   "source": [
    "#Pipeline, erstes vorgeschlagenes Mesh wird analysiert\n",
    "\n",
    "# Auswahl Suchwort\n",
    "#TODO: Auswählen\n",
    "suchwort= \"corona\" \n",
    "meshUIs, label_auswahl, resource_auswahl = getAuswahlMesh(suchwort)\n",
    "print(\"Es stehen \", len(meshUIs), \" MeSHs zur Auswahl.\")\n",
    "\n",
    "\n"
   ]
  },
  {
   "cell_type": "code",
   "execution_count": null,
   "metadata": {},
   "outputs": [],
   "source": [
    "# Auswahl Index \n",
    "#TODO: Auswählen\n",
    "meshIndex = [0]\n",
    "for index in meshIndex:\n",
    "    meshTerm, meshYear, meshUI = setAuswahlMesh(index, meshUIs, label_auswahl, resource_auswahl)\n",
    "    pmidListe_zuUntersuchen = getAndInsertRelevantDoks(meshTerm, meshYear, meshUI)\n",
    "\n",
    "    # Zitationsdatenerhebung\n",
    "    getAndInsertZitationen(pmidListe_zuUntersuchen)\n",
    "\n",
    "    # Analyse\n",
    "    analysiereEmergenz(meshUI)\n",
    "\n",
    "    # Visualisierung\n",
    "    print(meshUI)\n",
    "    visualisiereENENEKkumuliert(meshUI)"
   ]
  },
  {
   "cell_type": "code",
   "execution_count": 39,
   "metadata": {},
   "outputs": [
    {
     "data": {
      "application/vnd.jupyter.widget-view+json": {
       "model_id": "86713b6bfc5a4bf69d7b737ce90107b2",
       "version_major": 2,
       "version_minor": 0
      },
      "text/plain": [
       "HTML(value='<b>Stichwortsuche</b> - Geben Sie ein Stichwort ein. Es werden alle MeSHs gesucht, die damit im Zu…"
      ]
     },
     "metadata": {},
     "output_type": "display_data"
    },
    {
     "data": {
      "application/vnd.jupyter.widget-view+json": {
       "model_id": "3f77599e78654fecb96d8c7afbc89a3e",
       "version_major": 2,
       "version_minor": 0
      },
      "text/plain": [
       "Text(value='', description='Stichwort: ', placeholder='Stichwort')"
      ]
     },
     "metadata": {},
     "output_type": "display_data"
    },
    {
     "data": {
      "application/vnd.jupyter.widget-view+json": {
       "model_id": "867fa82930a046c0bffe6b9f399fd3ea",
       "version_major": 2,
       "version_minor": 0
      },
      "text/plain": [
       "Button(description='Suche starten', style=ButtonStyle(), tooltip='Suche nach MeSHs')"
      ]
     },
     "metadata": {},
     "output_type": "display_data"
    },
    {
     "data": {
      "application/vnd.jupyter.widget-view+json": {
       "model_id": "06c471033a06476d83c4246e8d84c50e",
       "version_major": 2,
       "version_minor": 0
      },
      "text/plain": [
       "Checkbox(value=False, description='Alle auswählen (10 Stück)', style=CheckboxStyle(description_width='initial'…"
      ]
     },
     "metadata": {},
     "output_type": "display_data"
    },
    {
     "data": {
      "application/vnd.jupyter.widget-view+json": {
       "model_id": "101f242d43ee47768752672203d2ac6b",
       "version_major": 2,
       "version_minor": 0
      },
      "text/plain": [
       "VBox(children=(Checkbox(value=False, description='D003027, Cluster Headache', style=CheckboxStyle(description_…"
      ]
     },
     "metadata": {},
     "output_type": "display_data"
    },
    {
     "data": {
      "application/vnd.jupyter.widget-view+json": {
       "model_id": "aec3b446f48441a9bfc503e94cd3c859",
       "version_major": 2,
       "version_minor": 0
      },
      "text/plain": [
       "Button(description='Analyse starten', style=ButtonStyle())"
      ]
     },
     "metadata": {},
     "output_type": "display_data"
    },
    {
     "data": {
      "application/vnd.jupyter.widget-view+json": {
       "model_id": "dc00fb717fc44a9992c00ff743e06fb9",
       "version_major": 2,
       "version_minor": 0
      },
      "text/plain": [
       "HTML(value='Mesh UI: D005270, Mesh Term: Femur Head, Mesh Link: http://id.nlm.nih.gov/mesh/D005270')"
      ]
     },
     "metadata": {},
     "output_type": "display_data"
    },
    {
     "data": {
      "application/vnd.jupyter.widget-view+json": {
       "model_id": "0d38e9b256824b2b830382ae44738bf0",
       "version_major": 2,
       "version_minor": 0
      },
      "text/plain": [
       "HTML(value='Für das Mesh mit UI: D005270 werden nun die relevanten Dokumente gesucht und in die DB eingepflegt…"
      ]
     },
     "metadata": {},
     "output_type": "display_data"
    },
    {
     "data": {
      "application/vnd.jupyter.widget-view+json": {
       "model_id": "544860ba8d034b37a99469a01d07cef6",
       "version_major": 2,
       "version_minor": 0
      },
      "text/plain": [
       "HTML(value='Nun werden die Zitationsdaten für die 50 Dokumente erhoben und in die DB eingepflegt.')"
      ]
     },
     "metadata": {},
     "output_type": "display_data"
    },
    {
     "data": {
      "application/vnd.jupyter.widget-view+json": {
       "model_id": "dab0b26fd59d4f6c9b19cbb991b45921",
       "version_major": 2,
       "version_minor": 0
      },
      "text/plain": [
       "IntProgress(value=0, max=49)"
      ]
     },
     "metadata": {},
     "output_type": "display_data"
    },
    {
     "data": {
      "application/vnd.jupyter.widget-view+json": {
       "model_id": "19d6afe8b8914420b8d39182efb9571e",
       "version_major": 2,
       "version_minor": 0
      },
      "text/plain": [
       "HTML(value='Nun werden die Zitationsdaten für die 50 Dokumente analyisiert.')"
      ]
     },
     "metadata": {},
     "output_type": "display_data"
    },
    {
     "ename": "UnboundLocalError",
     "evalue": "cannot access local variable 'pubDate' where it is not associated with a value",
     "output_type": "error",
     "traceback": [
      "\u001b[1;31m---------------------------------------------------------------------------\u001b[0m",
      "\u001b[1;31mUnboundLocalError\u001b[0m                         Traceback (most recent call last)",
      "Cell \u001b[1;32mIn[39], line 90\u001b[0m, in \u001b[0;36mmesh_checkboxes_button_clicked\u001b[1;34m(b)\u001b[0m\n\u001b[0;32m     88\u001b[0m     desc \u001b[39m=\u001b[39m widgets\u001b[39m.\u001b[39mHTML(value\u001b[39m=\u001b[39mdescription_str)\n\u001b[0;32m     89\u001b[0m     display(desc)\n\u001b[1;32m---> 90\u001b[0m     analysiereEmergenz(stichwort_meshUIs[i])\n\u001b[0;32m     92\u001b[0m description_str \u001b[39m=\u001b[39m \u001b[39m\"\u001b[39m\u001b[39m----------- Visualisierungen für Mesh-UI: \u001b[39m\u001b[39m\"\u001b[39m \u001b[39m+\u001b[39m mesh_str\n\u001b[0;32m     93\u001b[0m desc \u001b[39m=\u001b[39m widgets\u001b[39m.\u001b[39mHTML(value\u001b[39m=\u001b[39mdescription_str)\n",
      "Cell \u001b[1;32mIn[11], line 51\u001b[0m, in \u001b[0;36manalysiereEmergenz\u001b[1;34m(meshUI)\u001b[0m\n\u001b[0;32m     48\u001b[0m         insertAnalyseOutputPMIDMesh(pmid, meshUI, count1, count2, count3)\n\u001b[0;32m     50\u001b[0m \u001b[39m# print(\"----------Zitationszahlen für Mesh kumuliert-------------\")\u001b[39;00m\n\u001b[1;32m---> 51\u001b[0m \u001b[39mprint\u001b[39m(\u001b[39m\"\u001b[39m\u001b[39mAnzahl Zitationen vor MeSH-Aufnahme (\u001b[39m\u001b[39m\"\u001b[39m, \u001b[39mstr\u001b[39m(pubDate), \u001b[39m\"\u001b[39m\u001b[39m - \u001b[39m\u001b[39m\"\u001b[39m, \u001b[39mstr\u001b[39m(meshDate),  \u001b[39m\"\u001b[39m\u001b[39m): EMERGENT:\u001b[39m\u001b[39m\"\u001b[39m, emergent_kum)\n\u001b[0;32m     52\u001b[0m \u001b[39mprint\u001b[39m(\u001b[39m\"\u001b[39m\u001b[39mAnzahl Zitationen vor MeSH-Aufnahme (\u001b[39m\u001b[39m\"\u001b[39m, \u001b[39mstr\u001b[39m(meshDate), \u001b[39m\"\u001b[39m\u001b[39m - \u001b[39m\u001b[39m\"\u001b[39m, \u001b[39mstr\u001b[39m(datetime\u001b[39m.\u001b[39mdatetime\u001b[39m.\u001b[39mtoday()\u001b[39m.\u001b[39myear), \u001b[39m\"\u001b[39m\u001b[39m): NICHT-emergent:\u001b[39m\u001b[39m\"\u001b[39m, nichtEmergent_kum)\n\u001b[0;32m     53\u001b[0m \u001b[39mprint\u001b[39m(\u001b[39m\"\u001b[39m\u001b[39mAnzahl Zitationen vor MeSH-Aufnahme (\u001b[39m\u001b[39m\"\u001b[39m, \u001b[39mstr\u001b[39m(meshDate), \u001b[39m\"\u001b[39m\u001b[39m - \u001b[39m\u001b[39m\"\u001b[39m, \u001b[39mstr\u001b[39m(jahr_korrektur), \u001b[39m\"\u001b[39m\u001b[39m): nicht-emergent KORRIGIERT:\u001b[39m\u001b[39m\"\u001b[39m, nEKorrigiert_kum)\n",
      "\u001b[1;31mUnboundLocalError\u001b[0m: cannot access local variable 'pubDate' where it is not associated with a value"
     ]
    }
   ],
   "source": [
    "\n",
    "style = {'description_width': 'initial'}\n",
    "\n",
    "# global stichwort_meshUIs\n",
    "# global stichwort_label_auswahl\n",
    "# global stichwort_resource_auswahl\n",
    "global checkboxes\n",
    "# global checkAllBox\n",
    "checkboxes = []\n",
    "\n",
    "\n",
    "description = widgets.HTML(\n",
    "    value=\"<b>Stichwortsuche</b> - Geben Sie ein Stichwort ein. Es werden alle MeSHs gesucht, die damit im Zusammenhang stehen\"\n",
    ")\n",
    "\n",
    "stichwort = widgets.Text(placeholder=\"Stichwort\", description=\"Stichwort: \")\n",
    "\n",
    "stichwort_button = widgets.Button(\n",
    "    description='Suche starten',\n",
    "    disabled=False,\n",
    "    button_style='', # 'success', 'info', 'warning', 'danger' or ''\n",
    "    tooltip='Suche nach MeSHs'\n",
    "    # icon='check' # (FontAwesome names without the `fa-` prefix)\n",
    ")\n",
    "\n",
    "def stichwort_button_clicked(b):\n",
    "    global stichwort_meshUIs\n",
    "    global stichwort_label_auswahl\n",
    "    global stichwort_resource_auswahl\n",
    "    stichwort_meshUIs, stichwort_label_auswahl, stichwort_resource_auswahl = getAuswahlMesh(stichwort.value)\n",
    "    global checkAllBox\n",
    "    description_str = \"Alle auswählen (\" + str(len(stichwort_meshUIs)) + \" Stück)\"\n",
    "    checkAllBox = widgets.Checkbox(value=False, description=description_str, disabled=False, style=style)\n",
    "    checkAllBox.observe(checkAllOnOff, names=['value'])\n",
    "    display(checkAllBox)\n",
    "    for i in range(len(stichwort_meshUIs)):\n",
    "        string = str(stichwort_meshUIs[i]) + \", \" + str(stichwort_label_auswahl[i])\n",
    "        checkbox = widgets.Checkbox(value=False, description=string, disabled=False, style=style)\n",
    "        checkboxes.append(checkbox)\n",
    "    display(widgets.VBox(checkboxes))\n",
    "    mesh_checkboxes_button = widgets.Button(\n",
    "    description='Analyse starten',\n",
    "    disabled=False,\n",
    "    button_style='' # 'success', 'info', 'warning', 'danger' or ''\n",
    "    # icon='check' # (FontAwesome names without the `fa-` prefix)\n",
    "    )\n",
    "    display(mesh_checkboxes_button)\n",
    "    mesh_checkboxes_button.on_click(mesh_checkboxes_button_clicked)\n",
    "\n",
    "\n",
    "stichwort_button.on_click(stichwort_button_clicked)\n",
    "\n",
    "\n",
    "def checkAllOnOff(b):\n",
    "    for box in checkboxes:\n",
    "        box.value = checkAllBox.value\n",
    "\n",
    "def mesh_checkboxes_button_clicked(b):    \n",
    "    # global meshs_selected\n",
    "    meshs_indexes = []\n",
    "    mesh_str = \"\"\n",
    "    for i in range(0, len(checkboxes)):\n",
    "        if checkboxes[i].value == True:\n",
    "            meshs_indexes.append(i)\n",
    "    for i in meshs_indexes:\n",
    "        if mesh_str == \"\":\n",
    "            mesh_str =str(stichwort_meshUIs[i])\n",
    "        else:\n",
    "            mesh_str = mesh_str + \", \" + str(stichwort_meshUIs[i])\n",
    "\n",
    "        meshTerm, meshYear, meshUI = setAuswahlMesh(stichwort_meshUIs[i], stichwort_label_auswahl[i], stichwort_resource_auswahl[i])\n",
    "        description_str = \"Mesh UI: \" + str(stichwort_meshUIs[i] + \", Mesh Term: \" + str(stichwort_label_auswahl[i]) + \", Mesh Link: \" + str(stichwort_resource_auswahl[i]))\n",
    "        desc = widgets.HTML(value=description_str)\n",
    "        display(desc)\n",
    "\n",
    "        description_str = \"Für das Mesh mit UI: \" + str(stichwort_meshUIs[i]) + \" werden nun die relevanten Dokumente gesucht und in die DB eingepflegt.\"\n",
    "        desc = widgets.HTML(value=description_str)\n",
    "        display(desc)\n",
    "        pmidListe_zuUntersuchen = getAndInsertRelevantDoks(meshTerm, meshYear, meshUI)\n",
    "\n",
    "        description_str = \"Nun werden die Zitationsdaten für die \" + str(len(pmidListe_zuUntersuchen)) + \" Dokumente erhoben und in die DB eingepflegt.\"\n",
    "        desc = widgets.HTML(value=description_str)\n",
    "        display(desc)\n",
    "        loading = widgets.IntProgress(value=0, min=0, max=len(pmidListe_zuUntersuchen)-1, orientation=\"horizontal\")\n",
    "        display(loading)\n",
    "        getAndInsertZitationen(pmidListe_zuUntersuchen, loading)\n",
    "\n",
    "        description_str = \"Nun werden die Zitationsdaten für die \" + str(len(pmidListe_zuUntersuchen)) + \" Dokumente analyisiert.\"\n",
    "        desc = widgets.HTML(value=description_str)\n",
    "        display(desc)\n",
    "        analysiereEmergenz(stichwort_meshUIs[i])\n",
    "\n",
    "    description_str = \"----------- Visualisierungen für Mesh-UI: \" + mesh_str\n",
    "    desc = widgets.HTML(value=description_str)\n",
    "    display(desc)\n",
    "\n",
    "    for meshUI in stichwort_meshUIs:\n",
    "        visualisiereENENEKkumuliert(meshUI)\n",
    "\n",
    "\n",
    "\n",
    "\n",
    "display(description)\n",
    "display(stichwort)\n",
    "display(stichwort_button)\n",
    "\n",
    "\n"
   ]
  },
  {
   "cell_type": "code",
   "execution_count": 38,
   "metadata": {},
   "outputs": [
    {
     "name": "stdout",
     "output_type": "stream",
     "text": [
      "Keine Daten vorhanden\n"
     ]
    }
   ],
   "source": [
    "visualisiereENENEKkumuliert(\"D005270\")"
   ]
  }
 ],
 "metadata": {
  "kernelspec": {
   "display_name": "Python 3",
   "language": "python",
   "name": "python3"
  },
  "language_info": {
   "codemirror_mode": {
    "name": "ipython",
    "version": 3
   },
   "file_extension": ".py",
   "mimetype": "text/x-python",
   "name": "python",
   "nbconvert_exporter": "python",
   "pygments_lexer": "ipython3",
   "version": "3.11.2"
  },
  "orig_nbformat": 4
 },
 "nbformat": 4,
 "nbformat_minor": 2
}
