{
 "cells": [
  {
   "cell_type": "code",
   "execution_count": 1,
   "metadata": {},
   "outputs": [],
   "source": [
    "import requests\n",
    "import json\n",
    "import xmltodict\n",
    "import urllib.parse\n",
    "import opencitingpy\n",
    "import datetime\n",
    "import sqlite3\n",
    "import os\n",
    "from matplotlib import pyplot as plt\n",
    "import numpy as np\n",
    "import re\n",
    "import math\n",
    "import ipywidgets as widgets\n",
    "from IPython.display import display, clear_output\n",
    "import re \n",
    "\n",
    "import xml.etree.ElementTree as ET\n",
    "from collections import Counter"
   ]
  },
  {
   "cell_type": "code",
   "execution_count": 2,
   "metadata": {},
   "outputs": [],
   "source": [
    "# Anlegen von Datenbankspeicherort, falls er nicht existiert\n",
    "path = \"C:\\MA_Pethke_3992454\"\n",
    "if not os.path.exists(path):\n",
    "    os.makedirs(path)\n",
    "\n",
    "# Verbindung zu DB aufbauen, DB wird automatisch erstellt, wenn keine da ist\n",
    "con = sqlite3.connect(\"C:\\MA_Pethke_3992454\\MA_3992454_idea_2.db\")\n",
    "cur = con.cursor()"
   ]
  },
  {
   "cell_type": "code",
   "execution_count": 3,
   "metadata": {},
   "outputs": [],
   "source": [
    "## Tabellen Schema erstellen\n",
    "#------------------- Tabelle Dokument --------------------------------------#\n",
    "cur.execute(\"CREATE TABLE IF NOT EXISTS Dokumente(PMID INTEGER UNIQUE, titel TEXT, pubyear YEAR)\")\n",
    "\n",
    "#------------------- Tabelle Zitationen --------------------------------------#\n",
    "cur.execute(\"CREATE TABLE IF NOT EXISTS Zitationen(PMID INTEGER, Jahr YEAR, Anzahl INETEGER)\")\n",
    "\n",
    "#------------------- Tabelle Mesh --------------------------------------#\n",
    "cur.execute(\"CREATE TABLE IF NOT EXISTS Mesh(UI VARCHAR UNIQUE, name TEXT, jahr YEAR)\")\n",
    "\n",
    "#------------------- Tabelle Mesh - PMID --------------------------------------#\n",
    "cur.execute(\"CREATE TABLE IF NOT EXISTS Mesh_PMID(UI VARCHAR, PMID INTEGER)\")\n",
    "con.commit()"
   ]
  },
  {
   "cell_type": "code",
   "execution_count": 10,
   "metadata": {},
   "outputs": [],
   "source": [
    "##  INSERT DB\n",
    "\n",
    "def insertMeshData_db(meshUI_loc, meshTerm_loc, meshDate_loc):\n",
    "    print(\"Das ausgewählte MeSH \" + str(meshUI_loc) + \" wird in die DB eingepflegt\")\n",
    "    try:\n",
    "        cur.execute(\"INSERT INTO Mesh (UI, name, jahr) VALUES (\\\"\"+str(meshUI_loc)+\"\\\", \\\"\"+str(meshTerm_loc)+\"\\\", \\\"\"+str(meshDate_loc)+\"\\\")\")\n",
    "        con.commit()\n",
    "        # Insert erfolgreich\n",
    "    except:\n",
    "        print(\"fail - wurde schon eingefügt\")\n",
    "        return\n",
    "        # MeSH schon in DB\n",
    "\n",
    "def insertCitations_db(pmid_loc, histo):\n",
    "    print(\"Für das Dokument \" + str(pmid_loc) + \" werden die Zitationsdaten in die Datenbank eingepflegt\")\n",
    "    for year in histo:\n",
    "        try:\n",
    "            cur.execute(\"INSERT INTO Zitationen (PMID, Jahr, Anzahl) VALUES (\\\"\"+str(pmid_loc)+\"\\\", \\\"\"+str(year)+\"\\\", \\\"\"+str(histo[year])+\"\\\")\")\n",
    "            con.commit()\n",
    "            # Insert erfolgreich\n",
    "        except:\n",
    "            print(\"fail\")\n",
    "            return\n",
    "            # MeSH schon in DB\n",
    "\n"
   ]
  },
  {
   "cell_type": "code",
   "execution_count": 5,
   "metadata": {},
   "outputs": [],
   "source": [
    "## USEFUL\n",
    "\n",
    "def getPMIDsWithMeSH(meshTerm_loc, meshYear_loc):\n",
    "    limit = 20 # API limited to first 10000 documents; esearch is a way to get all data, but u have to work on an unix environment https://dataguide.nlm.nih.gov/edirect/edirect-vs-e-utilities.html\n",
    "    # Abfrage von Dokumente, die vor der Aufnahme des MeSHs veröffentlicht wurden (Von 1900 an)\n",
    "    url = \"https://eutils.ncbi.nlm.nih.gov/entrez/eutils/esearch.fcgi?db=pubmed&term=(\"+urllib.parse.quote(meshTerm_loc)+\"[MeSH+Terms])+AND+((\\\"1900\\\"[Date+-+Publication]+%3A+\\\"\"+str(meshYear_loc)+\"\\\"[Date+-+Publication]))&retmax=\"+str(limit)+\"&sort=relevance&retmode=json\"\n",
    "    # print(url)\n",
    "    requ = requests.get(url)\n",
    "    requ_json = json.loads(requ.text)\n",
    "    pmidList = requ_json['esearchresult']['idlist']\n",
    "    return pmidList\n",
    "\n",
    "def getXMLRootForPMIDs(pmidListe):\n",
    "    pmidList_str = ','.join(pmidListe)\n",
    "    url=\"https://eutils.ncbi.nlm.nih.gov/entrez/eutils/efetch.fcgi?db=pubmed&id=\"+urllib.parse.quote(str(pmidList_str))\n",
    "    # print(url)\n",
    "    requ = requests.get(url)\n",
    "    root = ET.fromstring(requ.text)\n",
    "    return root\n",
    "\n",
    "def getYearAndTitleOfPMID(pmidRoot):\n",
    "    pmids = []\n",
    "    years = []\n",
    "    titles = []\n",
    "    rootSpecificPMIDs = pmidRoot.findall('./PubmedArticle')\n",
    "    for pmidXML in rootSpecificPMIDs:\n",
    "        pmid = pmidXML.find('.MedlineCitation/PMID')\n",
    "        year = pmidXML.find('./PubmedData/History/PubMedPubDate[@PubStatus=\"pubmed\"]/Year')\n",
    "        title = pmidXML.find('./MedlineCitation/Article/ArticleTitle')\n",
    "        pmids.append(pmid)\n",
    "        years.append(year)\n",
    "        titles.append(title)\n",
    "    return pmids, years, titles\n",
    "\n",
    "def insertMeSHDokData_db(pmidList, meshUI_loc):\n",
    "    ## MESH_PMID\n",
    "    print(\"Die 'relevantesten' Dokumente, welche das ausgwählte MeSH zugeordnet haben werden in die DB eingepflegt. Anzahl: \", len(pmidList))\n",
    "    for pmid in pmidList:\n",
    "        try:\n",
    "            cur.execute('INSERT INTO Mesh_PMID (UI, PMID) VALUES (\"'+str(meshUI_loc)+'\", \"'+str(pmid)+'\")')\n",
    "            con.commit()\n",
    "        except:\n",
    "            continue\n",
    "    print(\"Die Dokumente wurden eingefügt\")\n",
    "    print(\"--------------------------------\")\n",
    "\n",
    "    ## Dokumente\n",
    "    print(\"Die zu den Dokumenten gehörenden Daten werden in die DB eingepflegt. Anzahl: \", len(pmidList))\n",
    "    pmids, years, titles = getYearAndTitleOfPMID(getXMLRootForPMIDs(pmidList))\n",
    "    for pmid, pubYear, titleWithout in zip(pmids, years, titles):\n",
    "        try:\n",
    "            cur.execute('INSERT INTO Dokumente (PMID, titel, pubyear) VALUES (\"'+str(pmid.text)+'\", \"'+str(titleWithout.text)+'\", \"'+str(pubYear.text)+'\")')\n",
    "            con.commit()\n",
    "        except:\n",
    "            continue\n",
    "            # Dokument schon in DB\n",
    "    print(\"Dokumente wurden eingefügt\")\n",
    "    print(\"--------------------------------\")\n",
    "\n",
    "def getAllCitingPMIDs(pmid):\n",
    "    citingPMIDs = []\n",
    "    url = \"https://eutils.ncbi.nlm.nih.gov/entrez/eutils/elink.fcgi?dbfrom=pubmed&linkname=pubmed_pubmed_citedin&retmode=json&id=\"+urllib.parse.quote(str(pmid))\n",
    "    # print(url)\n",
    "    response_PubMedMCitations = requests.get(url)\n",
    "    json_data = json.loads(response_PubMedMCitations.text)\n",
    "    # print(json_data)\n",
    "    if \"linksets\" in json_data:\n",
    "        if \"linksetdbs\" in json_data[\"linksets\"][0]:\n",
    "            if \"links\" in json_data[\"linksets\"][0][\"linksetdbs\"][0]:\n",
    "                citingPMIDs = json_data[\"linksets\"][0][\"linksetdbs\"][0][\"links\"]\n",
    "    return citingPMIDs\n",
    "\n",
    "def getYearsHistoFromPmids(pmidRoot):\n",
    "    ## Jahre\n",
    "    years = []\n",
    "    pubdate = pmidRoot.findall('./PubmedArticle/PubmedData/History/PubMedPubDate[@PubStatus=\"pubmed\"]/Year')\n",
    "    years = [int(pub.text) for pub in pubdate]\n",
    "    histo = Counter(years)\n",
    "    return histo"
   ]
  },
  {
   "cell_type": "code",
   "execution_count": 6,
   "metadata": {},
   "outputs": [
    {
     "name": "stdout",
     "output_type": "stream",
     "text": [
      "Zur Auswahl stehende MeSHs:\n",
      "['Amino Acid Metabolism, Inborn Errors', 'Basal Metabolism', 'Calcium Metabolism Disorders', 'Carbohydrate Metabolism', 'Carbohydrate Metabolism, Inborn Errors', 'Crassulacean Acid Metabolism', 'Energy Metabolism', 'Fructose Metabolism, Inborn Errors', 'Glucose Metabolism Disorders', 'Iron Metabolism Disorders']\n",
      "['D000592', 'D001481', 'D002128', 'D050260', 'D002239', 'D000081962', 'D004734', 'D015318', 'D044882', 'D019189']\n"
     ]
    }
   ],
   "source": [
    "suchwort= \"metabolism\"\n",
    "requ = requests.get(\"https://id.nlm.nih.gov/mesh/lookup/descriptor?label=\"+str(suchwort)+\"&match=contains&year=current&limit=10\", headers={\"Accept\": \"application/json\"})\n",
    "meshData = requ.json()\n",
    "label_auswahl = [output['label'] for output in meshData]\n",
    "resource_auswahl = [output['resource'] for output in meshData]\n",
    "meshUIs = [re.findall(\"^.*mesh\\/(.*)$\", resource)[0] for resource in resource_auswahl]\n",
    "print(\"Zur Auswahl stehende MeSHs:\")\n",
    "print(label_auswahl)\n",
    "print(meshUIs)"
   ]
  },
  {
   "cell_type": "code",
   "execution_count": 11,
   "metadata": {},
   "outputs": [
    {
     "name": "stdout",
     "output_type": "stream",
     "text": [
      "Das ausgewählte MeSH D002128 wird in die DB eingepflegt\n",
      "fail - wurde schon eingefügt\n",
      "Ausgewähltes Mesh:  D002128 Calcium Metabolism Disorders eingeführt im Jahr:  1999\n"
     ]
    }
   ],
   "source": [
    "# Auswahl Index \n",
    "meshIndex = 2\n",
    "\n",
    "meshUI = meshUIs[meshIndex]\n",
    "meshTerm = label_auswahl[meshIndex]\n",
    "resource = resource_auswahl[meshIndex]\n",
    "# print(resource)\n",
    "\n",
    "requ = requests.get(str(resource)+\".json\", headers={\"Accept\": \"application/json\"})\n",
    "meshData = requ.json()\n",
    "meshYear = datetime.datetime.strptime(meshData[\"dateCreated\"], \"%Y-%m-%d\").year\n",
    "\n",
    "insertMeshData_db(meshUI, meshTerm, meshYear)\n",
    "\n",
    "print(\"Ausgewähltes Mesh: \", meshUI, meshTerm, \"eingeführt im Jahr: \", meshYear)"
   ]
  },
  {
   "cell_type": "code",
   "execution_count": 12,
   "metadata": {},
   "outputs": [
    {
     "name": "stdout",
     "output_type": "stream",
     "text": [
      "Die 'relevantesten' Dokumente, welche das ausgwählte MeSH zugeordnet haben werden in die DB eingepflegt. Anzahl:  20\n",
      "Die Dokumente wurden eingefügt\n",
      "--------------------------------\n",
      "Die zu den Dokumenten gehörenden Daten werden in die DB eingepflegt. Anzahl:  20\n",
      "Dokumente wurden eingefügt\n",
      "--------------------------------\n"
     ]
    }
   ],
   "source": [
    "# relevante PMIDs zu MeSH\n",
    "pmidListe_zuUntersuchen = getPMIDsWithMeSH(meshTerm, meshYear)\n",
    "pmidListe_zuUntersuchen_root = getXMLRootForPMIDs(pmidListe_zuUntersuchen)\n",
    "\n",
    "# pmids, years, titles = getYearAndTitleOfPMID(pmidListe_zuUntersuchen_root)\n",
    "\n",
    "insertMeSHDokData_db(pmidListe_zuUntersuchen, meshUI)"
   ]
  },
  {
   "cell_type": "code",
   "execution_count": 13,
   "metadata": {},
   "outputs": [
    {
     "name": "stdout",
     "output_type": "stream",
     "text": [
      "Für das Dokument 3061760 werden die Zitaionsdaten in die Datenbank eingepflegt\n",
      "Für das Dokument 7808096 werden die Zitaionsdaten in die Datenbank eingepflegt\n",
      "Für das Dokument 2681327 werden die Zitaionsdaten in die Datenbank eingepflegt\n",
      "Für das Dokument 14119600 werden die Zitaionsdaten in die Datenbank eingepflegt\n",
      "Für das Dokument 9690425 werden die Zitaionsdaten in die Datenbank eingepflegt\n",
      "Für das Dokument 8325292 werden die Zitaionsdaten in die Datenbank eingepflegt\n",
      "Für das Dokument 7752498 werden die Zitaionsdaten in die Datenbank eingepflegt\n",
      "Für das Dokument 1668641 werden die Zitaionsdaten in die Datenbank eingepflegt\n",
      "Für das Dokument 14176460 werden die Zitaionsdaten in die Datenbank eingepflegt\n",
      "Für das Dokument 9781172 werden die Zitaionsdaten in die Datenbank eingepflegt\n",
      "Für das Dokument 2673775 werden die Zitaionsdaten in die Datenbank eingepflegt\n",
      "Für das Dokument 7139419 werden die Zitaionsdaten in die Datenbank eingepflegt\n",
      "Für das Dokument 2680466 werden die Zitaionsdaten in die Datenbank eingepflegt\n",
      "Für das Dokument 2667579 werden die Zitaionsdaten in die Datenbank eingepflegt\n",
      "Für das Dokument 2938931 werden die Zitaionsdaten in die Datenbank eingepflegt\n",
      "Für das Dokument 3917827 werden die Zitaionsdaten in die Datenbank eingepflegt\n",
      "Für das Dokument 1047373 werden die Zitaionsdaten in die Datenbank eingepflegt\n",
      "Für das Dokument 14302582 werden die Zitaionsdaten in die Datenbank eingepflegt\n",
      "Für das Dokument 765441 werden die Zitaionsdaten in die Datenbank eingepflegt\n",
      "Für das Dokument 2259548 werden die Zitaionsdaten in die Datenbank eingepflegt\n"
     ]
    }
   ],
   "source": [
    "for pmidIndex in range(len(pmidListe_zuUntersuchen)):\n",
    "    citingPMIDs = getAllCitingPMIDs(pmidListe_zuUntersuchen[pmidIndex])\n",
    "    # print(citingPMIDs)\n",
    "    citingPMIDs_root = getXMLRootForPMIDs(citingPMIDs)\n",
    "\n",
    "    histoCitation = getYearsHistoFromPmids(citingPMIDs_root)\n",
    "    # print(histoCitation)\n",
    "    insertCitations_db(pmidListe_zuUntersuchen[pmidIndex], histoCitation)"
   ]
  }
 ],
 "metadata": {
  "kernelspec": {
   "display_name": "Python 3",
   "language": "python",
   "name": "python3"
  },
  "language_info": {
   "codemirror_mode": {
    "name": "ipython",
    "version": 3
   },
   "file_extension": ".py",
   "mimetype": "text/x-python",
   "name": "python",
   "nbconvert_exporter": "python",
   "pygments_lexer": "ipython3",
   "version": "3.11.2"
  },
  "orig_nbformat": 4
 },
 "nbformat": 4,
 "nbformat_minor": 2
}
