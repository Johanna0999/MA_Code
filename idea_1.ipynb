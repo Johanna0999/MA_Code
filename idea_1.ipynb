{
 "cells": [
  {
   "cell_type": "code",
   "execution_count": 1,
   "metadata": {},
   "outputs": [],
   "source": [
    "import requests\n",
    "import json\n",
    "import xmltodict\n",
    "import urllib.parse\n",
    "import opencitingpy\n",
    "import datetime\n",
    "import sqlite3\n",
    "import os\n",
    "from matplotlib import pyplot as plt\n",
    "import numpy as np\n",
    "import re\n",
    "import math\n",
    "import ipywidgets as widgets\n",
    "from IPython.display import display, clear_output\n",
    "import re "
   ]
  },
  {
   "attachments": {},
   "cell_type": "markdown",
   "metadata": {},
   "source": [
    "# Setup sqlite Datenbank\n",
    "Datenbank wird im Verzeichnis \"C:\\MA_Pethke_3992454\" abgelegt"
   ]
  },
  {
   "cell_type": "code",
   "execution_count": 2,
   "metadata": {},
   "outputs": [],
   "source": [
    "# Anlegen von Datenbankspeicherort, falls er nicht existiert\n",
    "path = \"C:\\MA_Pethke_3992454\"\n",
    "if not os.path.exists(path):\n",
    "    os.makedirs(path)\n",
    "\n",
    "# Verbindung zu DB aufbauen, DB wird automatisch erstellt, wenn keine da ist\n",
    "con = sqlite3.connect(\"C:\\MA_Pethke_3992454\\MA_3992454_idea_1.db\")\n",
    "cur = con.cursor()"
   ]
  },
  {
   "cell_type": "code",
   "execution_count": 3,
   "metadata": {},
   "outputs": [],
   "source": [
    "## Tabellen Schema erstellen\n",
    "#------------------- Tabelle Dokument --------------------------------------#\n",
    "cur.execute(\"CREATE TABLE IF NOT EXISTS Dokumente(PMID INTEGER UNIQUE, titel TEXT, pubdate DATE)\")\n",
    "\n",
    "#------------------- Tabelle Zitationen --------------------------------------#\n",
    "cur.execute(\"CREATE TABLE IF NOT EXISTS Zitationen(PMID INTEGER, CitingPMID INETEGER)\")\n",
    "\n",
    "#------------------- Tabelle Mesh --------------------------------------#\n",
    "cur.execute(\"CREATE TABLE IF NOT EXISTS Mesh(UI VARCHAR UNIQUE, name TEXT, datum DATE)\")\n",
    "\n",
    "#------------------- Tabelle Mesh - PMID --------------------------------------#\n",
    "cur.execute(\"CREATE TABLE IF NOT EXISTS Mesh_PMID(UI VARCHAR, PMID INTEGER)\")\n",
    "\n",
    "#------------------- Tabelle Abfrage --------------------------------------#\n",
    "cur.execute(\"CREATE TABLE IF NOT EXISTS Abfrage(QID INTEGER PRIMARY KEY AUTOINCREMENT, query TEXT, PMID INTEGER, ranking INTEGER, mesh VARCHAR)\")\n",
    "con.commit()"
   ]
  },
  {
   "attachments": {},
   "cell_type": "markdown",
   "metadata": {},
   "source": [
    "# Allgemeine Abfragen aus DB"
   ]
  },
  {
   "cell_type": "code",
   "execution_count": 4,
   "metadata": {},
   "outputs": [],
   "source": [
    "def getPubDate(pmid):\n",
    "    cur.execute(\"SELECT strftime('%Y', pubdate) FROM Dokumente WHERE PMID = \\\"\"+ str(pmid)+ \"\\\"\")\n",
    "    pubdate = int(cur.fetchall()[0][0])\n",
    "    return pubdate"
   ]
  },
  {
   "cell_type": "code",
   "execution_count": 79,
   "metadata": {},
   "outputs": [],
   "source": [
    "def getMeSHYear(meshUI):\n",
    "    cur.execute(\"SELECT strftime('%Y', datum) FROM Mesh WHERE UI = \\\"\"+ str(meshUI)+ \"\\\"\")\n",
    "    meshYear = int(cur.fetchall()[0][0])\n",
    "    return meshYear"
   ]
  },
  {
   "cell_type": "code",
   "execution_count": 6,
   "metadata": {},
   "outputs": [],
   "source": [
    "def getAllMesh():\n",
    "    cur.execute(\"SELECT name FROM Mesh\")\n",
    "    meshs = [x[0] for x in cur.fetchall()]\n",
    "    return meshs\n"
   ]
  },
  {
   "cell_type": "code",
   "execution_count": 28,
   "metadata": {},
   "outputs": [],
   "source": [
    "def getPMIDsToMesh_withCitations(meshUI_loc):\n",
    "    cur.execute(\"SELECT distinct Mesh_PMID.PMID FROM Mesh_PMID JOIN Zitationen ON Mesh_PMID.PMID = Zitationen.PMID where Mesh_PMID.UI = '\" + str(meshUI_loc) + \"'\")\n",
    "    # cur.execute(\"SELECT PMID from Mesh_PMID where UI = \\\"\" + str(meshUI_loc) + \"\\\"\")\n",
    "    pmids = [x[0] for x in cur.fetchall()]\n",
    "    return pmids\n",
    "\n",
    "def getPMIDsToMesh_withOUTCitations(meshUI_loc):\n",
    "    cur.execute(\"SELECT distinct PMID FROM Mesh_PMID where PMID not in (SELECT distinct PMID FROM Zitationen) and UI = '\" + str(meshUI_loc) + \"'\")\n",
    "    pmids = [x[0] for x in cur.fetchall()]\n",
    "    return pmids"
   ]
  },
  {
   "cell_type": "code",
   "execution_count": 73,
   "metadata": {},
   "outputs": [],
   "source": [
    "def getMeshUIWithMeshName(mesh_name):\n",
    "    cur.execute(\"SELECT UI from Mesh where name = \\\"\" + str(mesh_name) + \"\\\"\")\n",
    "    mUI = [x[0] for x in cur.fetchall()]\n",
    "    return mUI[0]\n"
   ]
  },
  {
   "attachments": {},
   "cell_type": "markdown",
   "metadata": {},
   "source": [
    "# Allgemeine Inserts in DB"
   ]
  },
  {
   "cell_type": "code",
   "execution_count": 9,
   "metadata": {},
   "outputs": [],
   "source": [
    "def insertMeshData_db(meshUI_loc, meshTerm_loc, meshDate_loc):\n",
    "    print(\"Das ausgewählte MeSH \" + str(meshUI_loc[0]) + \" wird in die DB eingepflegt\")\n",
    "    try:\n",
    "        cur.execute(\"INSERT INTO Mesh (UI, name, datum) VALUES (\\\"\"+str(meshUI_loc[0])+\"\\\", \\\"\"+str(meshTerm_loc)+\"\\\", \\\"\"+str(meshDate_loc)+\"\\\")\")\n",
    "        con.commit()\n",
    "        # print(\"Insert erfolgreich\")\n",
    "    except:\n",
    "        return\n",
    "        # print(\"MeSH schon in DB\")"
   ]
  },
  {
   "cell_type": "code",
   "execution_count": 10,
   "metadata": {},
   "outputs": [],
   "source": [
    "global resource_auswahl\n",
    "global label_auswahl"
   ]
  },
  {
   "attachments": {},
   "cell_type": "markdown",
   "metadata": {},
   "source": [
    "# Dokumente zu MeSH von PubMed"
   ]
  },
  {
   "cell_type": "code",
   "execution_count": 19,
   "metadata": {},
   "outputs": [],
   "source": [
    "def insertMeshPmid(meshUI_loc, pmidList):\n",
    "    print(\"Die 10 'relevantesten' Dokumente, welche das ausgwählte MeSH zugeordnet haben werden in die DB eingepflegt.\")\n",
    "    for pmid in pmidList:\n",
    "        try:\n",
    "            cur.execute('INSERT INTO Mesh_PMID (UI, PMID) VALUES (\"'+str(meshUI_loc)+'\", \"'+str(pmid)+'\")')\n",
    "            con.commit()\n",
    "        except:\n",
    "            continue\n",
    "\n",
    "\n",
    "def getDokDataFromPmid(pmid):\n",
    "    # Daten zu einzelner PMID\n",
    "    requ = requests.get(\"https://eutils.ncbi.nlm.nih.gov/entrez/eutils/efetch.fcgi?db=pubmed&id=\"+urllib.parse.quote(str(pmid)))\n",
    "    # Formatierung\n",
    "    xpars = xmltodict.parse(requ.text)\n",
    "    json_str = json.dumps(xpars, indent=4)\n",
    "    json_data = json.loads(json_str)\n",
    "\n",
    "    ## Titel \n",
    "    titleWithout = \"\"\n",
    "    try:\n",
    "        title = json_data[\"PubmedArticleSet\"][\"PubmedArticle\"][\"MedlineCitation\"][\"Article\"][\"ArticleTitle\"]\n",
    "        titleWithout = title.replace('\"', \"'\")\n",
    "    except:\n",
    "        try:\n",
    "            title = json_data[\"PubmedArticleSet\"][\"PubmedArticle\"][\"MedlineCitation\"][\"Article\"][\"ArticleTitle\"][\"#text\"]\n",
    "            titleWithout = title.replace('\"', \"'\")\n",
    "        except:\n",
    "            print(\"Kein Titel zu PMID:\", str(pmid))\n",
    "\n",
    "    ## PubDate\n",
    "    pubDate = datetime.datetime(1,1,1)\n",
    "    # Nicht alle Dokumente haben ein eigenes Veröffentlichungsdatum, dann wird sich auf das DateCompleted von PubMed berufen (TODO: recherchieren, was das genau ist)\n",
    "    try:\n",
    "        pubDateAll = json_data[\"PubmedArticleSet\"][\"PubmedArticle\"][\"MedlineCitation\"][\"Article\"][\"ArticleDate\"]\n",
    "        pubDate = datetime.datetime(int(pubDateAll[\"Year\"]), int(pubDateAll[\"Month\"]), int(pubDateAll[\"Day\"]))\n",
    "    except:\n",
    "        pubDateAll = json_data[\"PubmedArticleSet\"][\"PubmedArticle\"][\"PubmedData\"][\"History\"][\"PubMedPubDate\"][0]\n",
    "        pubDate = datetime.datetime(int(pubDateAll[\"Year\"]), int(pubDateAll[\"Month\"]), int(pubDateAll[\"Day\"]))\n",
    "    return titleWithout, pubDate\n",
    "\n",
    "def insertDokData_db(pmidList_loc):\n",
    "    print(\"Die zu den Dokumenten gehörenden Daten werden in die DB eingepflegt.\")\n",
    "    for pmid in pmidList_loc:\n",
    "        # print(pmid)\n",
    "        try:\n",
    "            titleWithout, pubDate = getDokDataFromPmid(pmid)\n",
    "        except:\n",
    "            titleWithout, pubDate = \"ERROR\", datetime.datetime(1,1,1)\n",
    "        \n",
    "        try:\n",
    "            cur.execute('INSERT INTO Dokumente (PMID, titel, pubdate) VALUES (\"'+str(pmid)+'\", \"'+str(titleWithout)+'\", \"'+str(pubDate)+'\")')\n",
    "            con.commit()\n",
    "        except:\n",
    "            continue\n",
    "            # print(\"Dokument schon in DB\")\n"
   ]
  },
  {
   "cell_type": "code",
   "execution_count": 12,
   "metadata": {},
   "outputs": [],
   "source": [
    "def getPMIDsWithMeSH(meshUI, meshTerm):\n",
    "    limit = 20 # API limited to first 10000 documents; esearch is a way to get all data, but u have to work on an unix environment https://dataguide.nlm.nih.gov/edirect/edirect-vs-e-utilities.html\n",
    "    # Abfrage von Dokumente, die vor der Aufnahme des MeSHs veröffentlicht wurden (Von 1900 an)\n",
    "    meshYear = getMeSHYear(meshUI)\n",
    "    requ = requests.get(\"https://eutils.ncbi.nlm.nih.gov/entrez/eutils/esearch.fcgi?db=pubmed&term=(\"+urllib.parse.quote(meshTerm)+\"[MeSH+Terms])+AND+((\\\"1900\\\"[Date+-+Publication]+%3A+\\\"\"+str(meshYear)+\"\\\"[Date+-+Publication]))&retmax=\"+str(limit)+\"&sort=relevance&retmode=json&offset=\")\n",
    "    requ_json = json.loads(requ.text)\n",
    "    global pmidList\n",
    "    pmidList = requ_json['esearchresult']['idlist']\n",
    "    global countResult\n",
    "    countResult = requ_json['esearchresult']['count']"
   ]
  },
  {
   "attachments": {},
   "cell_type": "markdown",
   "metadata": {},
   "source": [
    "# MeSH Data"
   ]
  },
  {
   "cell_type": "code",
   "execution_count": 13,
   "metadata": {},
   "outputs": [],
   "source": [
    "def saveDropDownChoose(MeSH):\n",
    "    global drdMesh\n",
    "    drdMesh = MeSH"
   ]
  },
  {
   "cell_type": "code",
   "execution_count": 14,
   "metadata": {},
   "outputs": [],
   "source": [
    "def chooseMeSH(MeSH):\n",
    "    index = label_auswahl.index(MeSH)\n",
    "    resource = resource_auswahl[index]\n",
    "    global meshUI\n",
    "    meshUI = re.findall(\"^.*mesh\\/(.*)$\", resource)\n",
    "    requ = requests.get(str(resource)+\".json\", headers={\"Accept\": \"application/json\"})\n",
    "    meshData = requ.json()\n",
    "    meshDate = meshData[\"dateCreated\"]\n",
    "    insertMeshData_db(meshUI, MeSH, meshDate)\n",
    "    meshUI = meshUI[0]\n",
    "    meshTerm = MeSH\n",
    "    getPMIDsWithMeSH(meshUI, meshTerm)"
   ]
  },
  {
   "attachments": {},
   "cell_type": "markdown",
   "metadata": {},
   "source": [
    "# Zitationsdaten erheben"
   ]
  },
  {
   "cell_type": "code",
   "execution_count": 15,
   "metadata": {},
   "outputs": [],
   "source": [
    "def getAllCitingPMIDs(pmid):\n",
    "    response_PubMedMCitations = requests.get(\"https://eutils.ncbi.nlm.nih.gov/entrez/eutils/elink.fcgi?dbfrom=pubmed&linkname=pubmed_pubmed_citedin&id=\"+urllib.parse.quote(str(pmid)))\n",
    "    # Formatierung\n",
    "    xpars = xmltodict.parse(response_PubMedMCitations.text)\n",
    "    json_str = json.dumps(xpars, indent=4)\n",
    "    json_data = json.loads(json_str)\n",
    "    try:\n",
    "        citingPMIDs = [x[\"Id\"] for x in json_data[\"eLinkResult\"][\"LinkSet\"][\"LinkSetDb\"][\"Link\"]]\n",
    "        print(\"PMID: \", pmid, \"Anzahl Zitationen: \", len(citingPMIDs))\n",
    "    except:\n",
    "        citingPMIDs = []\n",
    "        print(\"PMID: \", pmid, \"Anzahl Zitationen: 0\")\n",
    "    return citingPMIDs\n",
    "\n",
    "def insertCitationPMIDCombi(pmid, citingPmids):\n",
    "    # Wenn Zitationen eines Dokuments schon erhoben wurden, dann nicht nochmal alle durchgehen\n",
    "    cur.execute(\"SELECT count(PMID) FROM Zitationen WHERE PMID = \"+ str(pmid))\n",
    "    anzahlEingetrageneZitationsBeziehungen = cur.fetchall()[0][0]\n",
    "    if anzahlEingetrageneZitationsBeziehungen != 0:\n",
    "        return\n",
    "    else:\n",
    "        for citingPMID in citingPmids:\n",
    "            try:\n",
    "                cur.execute('INSERT INTO Zitationen (PMID, CitingPMID) VALUES (\"'+str(pmid)+'\", \"'+str(citingPMID)+'\")')\n",
    "                con.commit()\n",
    "            except:\n",
    "                print(\"Zitationskombi schon in DB\")\n",
    "\n",
    "def insertCitingPMIDs(pmidList_loc):\n",
    "    for pmid in pmidList_loc:\n",
    "        citingPMIDs = getAllCitingPMIDs(pmid)\n",
    "        # Fügt alle Dokumente in Tabelle \"Dokumente\" \n",
    "        insertDokData_db(citingPMIDs)\n",
    "        print(\"Die PMID und zitierende PMIDs werden in die DB eingepflegt\")\n",
    "        insertCitationPMIDCombi(pmid, citingPMIDs)"
   ]
  },
  {
   "attachments": {},
   "cell_type": "markdown",
   "metadata": {},
   "source": [
    "# Zitationsdaten in Verhältnis zu MeSH"
   ]
  },
  {
   "cell_type": "code",
   "execution_count": 16,
   "metadata": {},
   "outputs": [],
   "source": [
    "def getDateOfMeSH(meshUI):\n",
    "    cur.execute(\"SELECT datum FROM Mesh WHERE UI = \\\"\"+ str(meshUI)+ \"\\\"\")\n",
    "    meshDate = datetime.datetime.strptime(cur.fetchall()[0][0], \"%Y-%m-%d\").date()\n",
    "    return meshDate\n",
    "\n",
    "\n",
    "def getCitationDataForPMID(pmid):\n",
    "    # für jede PMID in idList die zitierenden PMIDs abfragen\n",
    "    cur.execute(\"SELECT CitingPMID FROM Zitationen WHERE PMID = \\\"\"+ str(pmid)+ \"\\\"\")\n",
    "    citingPMIDs =  [x[0] for x in cur.fetchall()]\n",
    "    if len(citingPMIDs) == 0:\n",
    "        # print(citationData)\n",
    "        # print(pmid, \"Zu diesem Dokument liegen keine Zitationsdaten vor\")\n",
    "        citationData = [[], []]\n",
    "    else:\n",
    "        # SQLite Abfrage erstellen\n",
    "        queryCitingPMIDs = \"PMID = \" + str(citingPMIDs[0])\n",
    "        if len(citingPMIDs) > 1:\n",
    "            for citingPMID in citingPMIDs[1:]:\n",
    "                queryCitingPMIDs = queryCitingPMIDs + \" or PMID = \" + str(citingPMID)\n",
    "        query = \"SELECT strftime('%Y', pubdate) as year, count(strftime('%Y', pubdate)) as count FROM Dokumente WHERE \"+queryCitingPMIDs+\" GROUP BY year\"\n",
    "        cur.execute(query)\n",
    "        output = cur.fetchall()\n",
    "        years = [int(x[0]) for x in output]\n",
    "        citationCounts = [int(x[1]) for x in output]\n",
    "        citationData = [years, citationCounts]\n",
    "    return citationData"
   ]
  },
  {
   "attachments": {},
   "cell_type": "markdown",
   "metadata": {},
   "source": [
    "# GUI"
   ]
  },
  {
   "attachments": {},
   "cell_type": "markdown",
   "metadata": {},
   "source": [
    "## Datenerhebung"
   ]
  },
  {
   "cell_type": "code",
   "execution_count": null,
   "metadata": {},
   "outputs": [],
   "source": [
    "output = widgets.Output()\n",
    "\n",
    "beschreibung = widgets.HTML(value=\"Bitte geben Sie ein Stichwort ein\")\n",
    "input_text = widgets.Text(placeholder='Bitte geben Sie ein Stichwort ein')\n",
    "button_ok_mesh = widgets.Button(description=\"OK\")\n",
    "\n",
    "display(beschreibung, input_text, button_ok_mesh)\n",
    "\n",
    "\n",
    "\n",
    "def on_button_clicked_1(b):\n",
    "    requ = requests.get(\"https://id.nlm.nih.gov/mesh/lookup/descriptor?label=\"+str(input_text.value)+\"&match=contains&year=current&limit=10\", headers={\"Accept\": \"application/json\"})\n",
    "    meshData = requ.json()\n",
    "    global label_auswahl\n",
    "    label_auswahl = [output['label'] for output in meshData]\n",
    "    global resource_auswahl\n",
    "    resource_auswahl = [output['resource'] for output in meshData]\n",
    "    # display(output)\n",
    "    clear_output()\n",
    "    beschreibung = widgets.HTML(value=\"Wählen Sie ein existierendes MeSH aus!\")\n",
    "    display(beschreibung)\n",
    "    drd = widgets.interact(saveDropDownChoose, MeSH=label_auswahl, layout={'width':'max-content'})\n",
    "    button_ok_pubmed = widgets.Button(description=\"Start\")\n",
    "    display(drd, button_ok_pubmed)\n",
    "    button_ok_pubmed.on_click(on_button_clicked_2)\n",
    "\n",
    "def on_button_clicked_2(b):\n",
    "    chooseMeSH(drdMesh)\n",
    "    insertMeshPmid(meshUI, pmidList)\n",
    "    insertDokData_db(pmidList)\n",
    "    insertCitingPMIDs(pmidList)\n",
    "    \n",
    "\n",
    "button_ok_mesh.on_click(on_button_clicked_1)\n"
   ]
  },
  {
   "attachments": {},
   "cell_type": "markdown",
   "metadata": {},
   "source": [
    "## Ergebnisvisualisierung"
   ]
  },
  {
   "cell_type": "code",
   "execution_count": 75,
   "metadata": {},
   "outputs": [
    {
     "data": {
      "application/vnd.jupyter.widget-view+json": {
       "model_id": "6d8d07a600c34344870738a4012a4f8d",
       "version_major": 2,
       "version_minor": 0
      },
      "text/plain": [
       "interactive(children=(Dropdown(description='meshDRD', options=('Aspirin, Dipyridamole Drug Combination', 'Aspi…"
      ]
     },
     "metadata": {},
     "output_type": "display_data"
    },
    {
     "data": {
      "text/plain": [
       "<function __main__.saveDropDownChoose_visuell_1(meshDRD)>"
      ]
     },
     "metadata": {},
     "output_type": "display_data"
    },
    {
     "data": {
      "application/vnd.jupyter.widget-view+json": {
       "model_id": "60c199feed5242868a515a0c9f3a1456",
       "version_major": 2,
       "version_minor": 0
      },
      "text/plain": [
       "Button(description='OK', style=ButtonStyle())"
      ]
     },
     "metadata": {},
     "output_type": "display_data"
    },
    {
     "name": "stdout",
     "output_type": "stream",
     "text": [
      "MeSH UI:  D000068342\n",
      "Für die PMIDs [19951767, 11975816, 17297537, 24161074, 23532686, 18217142, 14680441, 20060783, 20978715, 21415156, 24026956, 16794200, 21502757] liegen keine Zitationsdaten vor.\n"
     ]
    },
    {
     "data": {
      "application/vnd.jupyter.widget-view+json": {
       "model_id": "140d76b9e12440dc994d75e9c14c0a25",
       "version_major": 2,
       "version_minor": 0
      },
      "text/plain": [
       "interactive(children=(Dropdown(description='pmid', options=(11098344, 20410547, 12885264, 19361598, 18343263, …"
      ]
     },
     "metadata": {},
     "output_type": "display_data"
    },
    {
     "data": {
      "text/plain": [
       "<function __main__.fillPlot(pmid)>"
      ]
     },
     "metadata": {},
     "output_type": "display_data"
    }
   ],
   "source": [
    "def saveDropDownChoose_visuell_1(meshDRD):\n",
    "    global meshUI_glob_1\n",
    "    meshUI_glob_1 = getMeshUIWithMeshName(meshDRD)\n",
    "\n",
    "def chooseMeSH_drd(meshName_loc):\n",
    "    pmids = getPMIDsToMesh_withCitations(meshUI_glob_1)\n",
    "    pmids_withoutCitations = getPMIDsToMesh_withOUTCitations(meshUI_glob_1)\n",
    "    print(\"Für die PMIDs \" + str(pmids_withoutCitations) + \" liegen keine Zitationsdaten vor.\")\n",
    "    drd_pmid = widgets.interact(fillPlot, pmid=pmids, layout={'width':'max-content'})\n",
    "    display(drd_pmid)\n",
    "\n",
    "def fillPlot(pmid):\n",
    "    clear_output\n",
    "    # PLOT\n",
    "    fig, ax = plt.subplots(layout=\"constrained\")\n",
    "    ax.set_ylabel(\"Anzahl Zitationen\")\n",
    "    ax.set_xlabel(\"Jahre\")\n",
    "    pubDate = getPubDate(pmid)\n",
    "    meshDate = getMeSHYear(meshUI_glob_1)\n",
    "    years, counts = getCitationDataForPMID(pmid)\n",
    "    ax.set_title(\"PMID: \" + str(pmid))\n",
    "    ax.set_xlim(min(pubDate, meshDate)-5, 2023)\n",
    "    ax.set_ylim(0, 50)\n",
    "    ax.bar(years, counts)\n",
    "    ax.annotate(\"Veröffentlichungsjahr\",\n",
    "        xy=(pubDate, 20), \n",
    "        xycoords=\"data\",\n",
    "        xytext=(0, 50),\n",
    "        textcoords=\"offset points\", \n",
    "        arrowprops=dict(facecolor=\"blue\"))\n",
    "    ax.annotate(\"MeSH Aufnahme\",\n",
    "        xy=(meshDate, 20), \n",
    "        xycoords=\"data\",\n",
    "        xytext=(0, 50),\n",
    "        textcoords=\"offset points\", \n",
    "        arrowprops=dict(facecolor=\"red\"))\n",
    "    ax.plot()\n",
    "\n",
    "def on_button_clicked_3(b):\n",
    "    print(\"MeSH UI: \", meshUI_glob_1)\n",
    "    chooseMeSH_drd(meshUI_glob_1)\n",
    "\n",
    "allMeshinDB = getAllMesh()\n",
    "drd_mesh = widgets.interact(saveDropDownChoose_visuell_1, meshDRD=allMeshinDB, layout={'width':'max-content'})\n",
    "button_ok_visuell = widgets.Button(description=\"OK\")\n",
    "\n",
    "display(drd_mesh, button_ok_visuell)    \n",
    "button_ok_visuell.on_click(on_button_clicked_3)"
   ]
  },
  {
   "cell_type": "code",
   "execution_count": 86,
   "metadata": {},
   "outputs": [
    {
     "data": {
      "application/vnd.jupyter.widget-view+json": {
       "model_id": "32e8ae8f614943c68f156878d87f3af1",
       "version_major": 2,
       "version_minor": 0
      },
      "text/plain": [
       "interactive(children=(Dropdown(description='meshDRD', options=('Aspirin, Dipyridamole Drug Combination', 'Aspi…"
      ]
     },
     "metadata": {},
     "output_type": "display_data"
    },
    {
     "data": {
      "text/plain": [
       "<function __main__.saveDropDownChoose_visuell_2(meshDRD)>"
      ]
     },
     "metadata": {},
     "output_type": "display_data"
    },
    {
     "data": {
      "application/vnd.jupyter.widget-view+json": {
       "model_id": "00d152d35d564c35bc29cbb5f3ed0cb9",
       "version_major": 2,
       "version_minor": 0
      },
      "text/plain": [
       "Button(description='OK', style=ButtonStyle())"
      ]
     },
     "metadata": {},
     "output_type": "display_data"
    },
    {
     "name": "stdout",
     "output_type": "stream",
     "text": [
      "Anzahl Zitationen vor MeSH-Aufnahme ( 2000  -  2015 ) für PMID:  11098344 , EMERGENT: 8\n",
      "Anzahl Zitationen vor MeSH-Aufnahme ( 2015  -  2023 ) für PMID:  11098344 , NICHT-emergent: 5\n",
      "Anzahl Zitationen vor MeSH-Aufnahme ( 2015  -  2023 ) für PMID:  11098344 , nicht-emergent KORRIGIERT: 5\n"
     ]
    }
   ],
   "source": [
    "# Vergleich: Mehr in emergenten oder nicht-emergentem Zeitraum\n",
    "# abhängig von MeSH UND PMID\n",
    "\n",
    "def saveDropDownChoose_visuell_2(meshDRD):\n",
    "    global meshUI_glob_2\n",
    "    meshUI_glob_2 = getMeshUIWithMeshName(meshDRD)\n",
    "\n",
    "def getCitationCountBetween(begin, end, choosenPMID):\n",
    "    cur.execute(\" SELECT count(distinct CitingPMID) FROM Zitationen JOIN Dokumente WHERE Zitationen.PMID = \"+str(choosenPMID)+\" and Zitationen.CitingPMID = Dokumente.PMID and strftime('%Y', Dokumente.pubdate) <= '\"+str(end)+ \"' and strftime('%Y', Dokumente.pubdate) >= '\"+str(begin)+ \"'\")\n",
    "    citationCount = cur.fetchall()[0][0]\n",
    "    return citationCount\n",
    "\n",
    "def on_button_clicked_4(b):\n",
    "    meshDate = getMeSHYear(meshUI_glob_2)\n",
    "    pmids_cited = getPMIDsToMesh_withCitations(meshUI_glob_2)\n",
    "    choosenPMID = pmids_cited[0]\n",
    "    pmid_pubdate = getPubDate(choosenPMID)\n",
    "    zeitraum = meshDate - pmid_pubdate\n",
    "    jahr_korrektur = min(meshDate + zeitraum, datetime.datetime.today().year) # es kann maximal das aktuelle Jahr angegeben werden\n",
    "\n",
    "    # Zeitraum Emergenz: Veröffentlichungsjahr - MeSH Aufnahme\n",
    "    count1 = getCitationCountBetween(pmid_pubdate, meshDate, choosenPMID)\n",
    "    # Zeitraum Nicht-Emergenz: MeSH Aufnahme - jetzt\n",
    "    count2 = getCitationCountBetween(meshDate, int(datetime.datetime.today().year), choosenPMID)\n",
    "    # Zeitraum Nicht-Emergenz angepasst: MeSH Aufnahme + Zeitraum Emergenz\n",
    "    count3 = getCitationCountBetween(meshDate, jahr_korrektur, choosenPMID)\n",
    "\n",
    "    print(\"Anzahl Zitationen vor MeSH-Aufnahme (\", str(pmid_pubdate), \" - \", str(meshDate), \") für PMID: \", str(choosenPMID), \", EMERGENT:\", count1)\n",
    "    print(\"Anzahl Zitationen vor MeSH-Aufnahme (\", str(meshDate), \" - \", str(datetime.datetime.today().year), \") für PMID: \", str(choosenPMID), \", NICHT-emergent:\", count2)\n",
    "    print(\"Anzahl Zitationen vor MeSH-Aufnahme (\", str(meshDate), \" - \", str(jahr_korrektur), \") für PMID: \", str(choosenPMID), \", nicht-emergent KORRIGIERT:\", count3)\n",
    "\n",
    "\n",
    "\n",
    "allMeshinDB = getAllMesh()\n",
    "drd_mesh = widgets.interact(saveDropDownChoose_visuell_2, meshDRD=allMeshinDB, layout={'width':'max-content'})\n",
    "button_ok_visuell = widgets.Button(description=\"OK\")\n",
    "\n",
    "display(drd_mesh, button_ok_visuell)    \n",
    "button_ok_visuell.on_click(on_button_clicked_4)"
   ]
  },
  {
   "cell_type": "code",
   "execution_count": 90,
   "metadata": {},
   "outputs": [
    {
     "data": {
      "application/vnd.jupyter.widget-view+json": {
       "model_id": "a07b48e8a3ed4b99b2f1ff9799474f42",
       "version_major": 2,
       "version_minor": 0
      },
      "text/plain": [
       "interactive(children=(Dropdown(description='meshDRD', options=('Aspirin, Dipyridamole Drug Combination', 'Aspi…"
      ]
     },
     "metadata": {},
     "output_type": "display_data"
    },
    {
     "data": {
      "text/plain": [
       "<function __main__.saveDropDownChoose_visuell_3(meshDRD)>"
      ]
     },
     "metadata": {},
     "output_type": "display_data"
    },
    {
     "data": {
      "application/vnd.jupyter.widget-view+json": {
       "model_id": "da78a7d4f1204038bfdd1a8ad59adf53",
       "version_major": 2,
       "version_minor": 0
      },
      "text/plain": [
       "Button(description='OK', style=ButtonStyle())"
      ]
     },
     "metadata": {},
     "output_type": "display_data"
    }
   ],
   "source": [
    "# Vergleich: Mehr in emergenten oder nicht-emergentem Zeitraum\n",
    "# abhängig von MeSH \n",
    "\n",
    "def saveDropDownChoose_visuell_3(meshDRD):\n",
    "    global meshUI_glob_3\n",
    "    meshUI_glob_3 = getMeshUIWithMeshName(meshDRD)\n",
    "\n",
    "def getCitationCountBetween_Mesh(begin, end, meshUI_loc):\n",
    "    cur.execute(\" SELECT count(distinct CitingPMID) FROM Zitationen JOIN Dokumente WHERE Zitationen.PMID in (SELECT distinct PMID FROM Mesh_PMID WHERE UI = '\"+str(meshUI_loc)+\"') and Zitationen.CitingPMID = Dokumente.PMID and strftime('%Y', Dokumente.pubdate) <= '\"+str(end)+ \"' and strftime('%Y', Dokumente.pubdate) >= '\"+str(begin)+ \"'\")\n",
    "    citationCount = cur.fetchall()[0][0]\n",
    "\n",
    "    return citationCount\n",
    "\n",
    "def getearliestDokPubDate(meshUI_loc):\n",
    "    cur.execute(\" SELECT min(strftime('%Y', Dokumente.pubdate)) FROM Zitationen JOIN Dokumente WHERE Zitationen.PMID in (SELECT distinct PMID FROM Mesh_PMID WHERE UI = '\"+str(meshUI_loc)+\"') and Zitationen.CitingPMID = Dokumente.PMID\")\n",
    "    earliestPubDate = cur.fetchall()[0][0]\n",
    "    return earliestPubDate\n",
    "\n",
    "def on_button_clicked_5(b):\n",
    "    print(\"MeSH UI: \", meshUI_glob_3)\n",
    "    meshDate = getMeSHYear(meshUI_glob_3)\n",
    "    earliestDokPubDate = getearliestDokPubDate(meshUI_glob_3)\n",
    "    zeitraum = meshDate - int(earliestDokPubDate)\n",
    "    jahr_korrektur = min(meshDate + zeitraum, datetime.datetime.today().year) # es kann maximal das aktuelle Jahr angegeben werden\n",
    "\n",
    "    # Zeitraum Emergenz: Veröffentlichungsjahr - MeSH Aufnahme\n",
    "    count1 = getCitationCountBetween_Mesh(earliestDokPubDate, meshDate, meshUI_glob_3)\n",
    "    # Zeitraum Nicht-Emergenz: MeSH Aufnahme - jetzt\n",
    "    count2 = getCitationCountBetween_Mesh(meshDate, int(datetime.datetime.today().year), meshUI_glob_3)\n",
    "    # Zeitraum Nicht-Emergenz angepasst: MeSH Aufnahme + Zeitraum Emergenz\n",
    "    count3 = getCitationCountBetween_Mesh(meshDate, jahr_korrektur, meshUI_glob_3)\n",
    "\n",
    "\n",
    "    print(\"Anzahl Zitationen vor MeSH-Aufnahme (\", str(earliestDokPubDate), \" - \", str(meshDate), \"), EMERGENT:\", count1)\n",
    "    print(\"Anzahl Zitationen vor MeSH-Aufnahme (\", str(meshDate), \" - \", str(datetime.datetime.today().year), \"), NICHT-emergent:\", count2)\n",
    "    print(\"Anzahl Zitationen vor MeSH-Aufnahme (\", str(meshDate), \" - \", str(jahr_korrektur), \"), nicht-emergent KORRIGIERT:\", count3)\n",
    "\n",
    "\n",
    "allMeshinDB = getAllMesh()\n",
    "drd_mesh = widgets.interact(saveDropDownChoose_visuell_3, meshDRD=allMeshinDB, layout={'width':'max-content'})\n",
    "button_ok_visuell = widgets.Button(description=\"OK\")\n",
    "\n",
    "display(drd_mesh, button_ok_visuell)    \n",
    "button_ok_visuell.on_click(on_button_clicked_5)"
   ]
  }
 ],
 "metadata": {
  "kernelspec": {
   "display_name": "Python 3",
   "language": "python",
   "name": "python3"
  },
  "language_info": {
   "codemirror_mode": {
    "name": "ipython",
    "version": 3
   },
   "file_extension": ".py",
   "mimetype": "text/x-python",
   "name": "python",
   "nbconvert_exporter": "python",
   "pygments_lexer": "ipython3",
   "version": "3.11.2"
  },
  "orig_nbformat": 4
 },
 "nbformat": 4,
 "nbformat_minor": 2
}
