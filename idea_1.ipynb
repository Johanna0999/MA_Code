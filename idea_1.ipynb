{
 "cells": [
  {
   "cell_type": "code",
   "execution_count": 1,
   "metadata": {},
   "outputs": [],
   "source": [
    "import requests\n",
    "import json\n",
    "import xmltodict\n",
    "import urllib.parse\n",
    "import opencitingpy\n",
    "import datetime\n",
    "import sqlite3\n",
    "import os\n",
    "from matplotlib import pyplot as plt\n",
    "import numpy as np\n",
    "import re\n",
    "import math"
   ]
  },
  {
   "attachments": {},
   "cell_type": "markdown",
   "metadata": {},
   "source": [
    "# Setup sqlite Datenbank\n",
    "Datenbank wird im Verzeichnis \"C:\\MA_Pethke_3992454\" abgelegt"
   ]
  },
  {
   "cell_type": "code",
   "execution_count": 2,
   "metadata": {},
   "outputs": [],
   "source": [
    "# Anlegen von Datenbankspeicherort, falls er nicht existiert\n",
    "path = \"C:\\MA_Pethke_3992454\"\n",
    "if not os.path.exists(path):\n",
    "    os.makedirs(path)\n",
    "\n",
    "# Verbindung zu DB aufbauen, DB wird automatisch erstellt, wenn keine da ist\n",
    "con = sqlite3.connect(\"C:\\MA_Pethke_3992454\\MA_3992454_idea_1.db\")\n",
    "cur = con.cursor()"
   ]
  },
  {
   "cell_type": "code",
   "execution_count": 3,
   "metadata": {},
   "outputs": [],
   "source": [
    "## Tabellen Schema erstellen\n",
    "#------------------- Tabelle Dokument --------------------------------------#\n",
    "cur.execute(\"CREATE TABLE IF NOT EXISTS Dokumente(PMID INTEGER UNIQUE, titel TEXT, pubdate DATE)\")\n",
    "\n",
    "#------------------- Tabelle Zitationen --------------------------------------#\n",
    "cur.execute(\"CREATE TABLE IF NOT EXISTS Zitationen(PMID INTEGER, CitingPMID INETEGER)\")\n",
    "\n",
    "#------------------- Tabelle Mesh --------------------------------------#\n",
    "cur.execute(\"CREATE TABLE IF NOT EXISTS Mesh(UI VARCHAR UNIQUE, name TEXT, datum DATE)\")\n",
    "\n",
    "#------------------- Tabelle Mesh - PMID --------------------------------------#\n",
    "cur.execute(\"CREATE TABLE IF NOT EXISTS Mesh_PMID(UI VARCHAR, PMID INTEGER)\")\n",
    "\n",
    "#------------------- Tabelle Abfrage --------------------------------------#\n",
    "cur.execute(\"CREATE TABLE IF NOT EXISTS Abfrage(QID INTEGER PRIMARY KEY AUTOINCREMENT, query TEXT, PMID INTEGER, ranking INTEGER, mesh VARCHAR)\")\n",
    "con.commit()"
   ]
  },
  {
   "attachments": {},
   "cell_type": "markdown",
   "metadata": {},
   "source": [
    "# MeSH Data"
   ]
  },
  {
   "cell_type": "code",
   "execution_count": 4,
   "metadata": {},
   "outputs": [],
   "source": [
    "meshTerm = \"Metabolism\"\n",
    "\n",
    "requ = requests.get(\"https://id.nlm.nih.gov/mesh/lookup/descriptor?label=\"+meshTerm+\"&year=current&limit=10\", headers={\"Accept\": \"application/json\"})\n",
    "meshData = requ.json()"
   ]
  },
  {
   "cell_type": "code",
   "execution_count": 5,
   "metadata": {},
   "outputs": [
    {
     "name": "stdout",
     "output_type": "stream",
     "text": [
      "[{'resource': 'http://id.nlm.nih.gov/mesh/D008660', 'label': 'Metabolism'}]\n"
     ]
    }
   ],
   "source": [
    "print(meshData)"
   ]
  },
  {
   "cell_type": "code",
   "execution_count": 6,
   "metadata": {},
   "outputs": [],
   "source": [
    "meshUI = \"D001241\"\n",
    "meshTerm = \"aspirin\"\n",
    "requ = requests.get(\"https://id.nlm.nih.gov/mesh/\"+str(meshUI)+\".json\", headers={\"Accept\": \"application/json\"})\n",
    "meshData = requ.json()\n",
    "meshDate = meshData[\"dateCreated\"]"
   ]
  },
  {
   "cell_type": "code",
   "execution_count": 7,
   "metadata": {},
   "outputs": [],
   "source": [
    "def insertMeshData_db(meshUI_loc, meshTerm_loc, meshDate_loc):\n",
    "    try:\n",
    "        cur.execute(\"INSERT INTO Mesh (UI, name, datum) VALUES (\\\"\"+str(meshUI_loc)+\"\\\", \\\"\"+str(meshTerm_loc)+\"\\\", \\\"\"+str(meshDate_loc)+\"\\\")\")\n",
    "        con.commit()\n",
    "    except:\n",
    "        print(\"MeSH schon in DB\")"
   ]
  },
  {
   "cell_type": "code",
   "execution_count": 8,
   "metadata": {},
   "outputs": [],
   "source": [
    "# insertMeshData_db(meshUI, meshTerm, meshDate)"
   ]
  },
  {
   "attachments": {},
   "cell_type": "markdown",
   "metadata": {},
   "source": [
    "# Dokumente zu MeSH von PubMed"
   ]
  },
  {
   "cell_type": "code",
   "execution_count": 9,
   "metadata": {},
   "outputs": [],
   "source": [
    "limit = 20 # API limited to first 10000 documents; esearch is a way to get all data, but u have to work on an unix environment https://dataguide.nlm.nih.gov/edirect/edirect-vs-e-utilities.html\n",
    "requ = requests.get(\"https://eutils.ncbi.nlm.nih.gov/entrez/eutils/esearch.fcgi?db=pubmed&term=(\"+urllib.parse.quote(meshTerm)+\"[MeSH+Terms])&retmax=\"+str(limit)+\"&sort=relevance&retmode=json&offset=\")\n",
    "requ_json = json.loads(requ.text)\n",
    "pmidList = requ_json['esearchresult']['idlist']\n",
    "countResult = requ_json['esearchresult']['count']"
   ]
  },
  {
   "cell_type": "code",
   "execution_count": 10,
   "metadata": {},
   "outputs": [],
   "source": [
    "def insertMeshPmid(meshUI_loc, pmidList):\n",
    "    for pmid in pmidList:\n",
    "        cur.execute('INSERT INTO Mesh_PMID (UI, PMID) VALUES (\"'+str(meshUI_loc)+'\", \"'+str(pmid)+'\")')\n",
    "        con.commit()\n",
    "\n",
    "\n",
    "def getDokDataFromPmid(pmid):\n",
    "    # Daten zu einzelner PMID\n",
    "    requ = requests.get(\"https://eutils.ncbi.nlm.nih.gov/entrez/eutils/efetch.fcgi?db=pubmed&id=\"+urllib.parse.quote(str(pmid)))\n",
    "    # Formatierung\n",
    "    xpars = xmltodict.parse(requ.text)\n",
    "    json_str = json.dumps(xpars, indent=4)\n",
    "    json_data = json.loads(json_str)\n",
    "\n",
    "    ## Titel \n",
    "    titleWithout = \"\"\n",
    "    try:\n",
    "        title = json_data[\"PubmedArticleSet\"][\"PubmedArticle\"][\"MedlineCitation\"][\"Article\"][\"ArticleTitle\"]\n",
    "        titleWithout = title.replace('\"', \"'\")\n",
    "    except:\n",
    "        try:\n",
    "            title = json_data[\"PubmedArticleSet\"][\"PubmedArticle\"][\"MedlineCitation\"][\"Article\"][\"ArticleTitle\"][\"#text\"]\n",
    "            titleWithout = title.replace('\"', \"'\")\n",
    "        except:\n",
    "            print(\"Kein Titel zu PMID:\", str(pmid))\n",
    "\n",
    "    ## PubDate\n",
    "    pubDate = datetime.datetime(1,1,1)\n",
    "    # Nicht alle Dokumente haben ein eigenes Veröffentlichungsdatum, dann wird sich auf das DateCompleted von PubMed berufen (TODO: recherchieren, was das genau ist)\n",
    "    try:\n",
    "        pubDateAll = json_data[\"PubmedArticleSet\"][\"PubmedArticle\"][\"MedlineCitation\"][\"Article\"][\"ArticleDate\"]\n",
    "        pubDate = datetime.datetime(int(pubDateAll[\"Year\"]), int(pubDateAll[\"Month\"]), int(pubDateAll[\"Day\"]))\n",
    "    except:\n",
    "        pubDateAll = json_data[\"PubmedArticleSet\"][\"PubmedArticle\"][\"PubmedData\"][\"History\"][\"PubMedPubDate\"][0]\n",
    "        pubDate = datetime.datetime(int(pubDateAll[\"Year\"]), int(pubDateAll[\"Month\"]), int(pubDateAll[\"Day\"]))\n",
    "    return titleWithout, pubDate\n",
    "\n",
    "def insertDokData_db(pmidList_loc):\n",
    "    for pmid in pmidList_loc:\n",
    "        print(pmid)\n",
    "        try:\n",
    "            titleWithout, pubDate = getDokDataFromPmid(pmid)\n",
    "        except:\n",
    "            titleWithout, pubDate = \"ERROR\", datetime.datetime(1,1,1)\n",
    "        \n",
    "        try:\n",
    "            cur.execute('INSERT INTO Dokumente (PMID, titel, pubdate) VALUES (\"'+str(pmid)+'\", \"'+str(titleWithout)+'\", \"'+str(pubDate)+'\")')\n",
    "            con.commit()\n",
    "        except:\n",
    "            print(\"Dokument schon in DB\")\n"
   ]
  },
  {
   "cell_type": "code",
   "execution_count": 11,
   "metadata": {},
   "outputs": [],
   "source": [
    "# insertMeshPmid(meshUI, pmidList)\n",
    "# insertDokData_db(pmidList)"
   ]
  },
  {
   "attachments": {},
   "cell_type": "markdown",
   "metadata": {},
   "source": [
    "# Zitationsdaten erheben"
   ]
  },
  {
   "cell_type": "code",
   "execution_count": 12,
   "metadata": {},
   "outputs": [],
   "source": [
    "def getAllCitingPMIDs(pmid):\n",
    "    response_PubMedMCitations = requests.get(\"https://eutils.ncbi.nlm.nih.gov/entrez/eutils/elink.fcgi?dbfrom=pubmed&linkname=pubmed_pubmed_citedin&id=\"+urllib.parse.quote(str(pmid)))\n",
    "    # Formatierung\n",
    "    xpars = xmltodict.parse(response_PubMedMCitations.text)\n",
    "    json_str = json.dumps(xpars, indent=4)\n",
    "    json_data = json.loads(json_str)\n",
    "    try:\n",
    "        citingPMIDs = [x[\"Id\"] for x in json_data[\"eLinkResult\"][\"LinkSet\"][\"LinkSetDb\"][\"Link\"]]\n",
    "        print(\"PMID: \", pmid, \"Anzahl Zitationen: \", len(citingPMIDs))\n",
    "    except:\n",
    "        citingPMIDs = []\n",
    "        print(\"PMID: \", pmid, \"Anzahl Zitationen: 0\")\n",
    "    return citingPMIDs\n",
    "\n",
    "def insertCitationPMIDCombi(pmid, citingPmids):\n",
    "    for citingPMID in citingPmids:\n",
    "        try:\n",
    "            cur.execute('INSERT INTO Zitationen (PMID, CitingPMID) VALUES (\"'+str(pmid)+'\", \"'+str(citingPMID)+'\")')\n",
    "            con.commit()\n",
    "        except:\n",
    "            print(\"Zitationskombi schon in DB\")\n",
    "\n",
    "def insertCitingPMIDs(pmidList_loc):\n",
    "    for pmid in pmidList_loc:\n",
    "        citingPMIDs = getAllCitingPMIDs(pmid)\n",
    "        # Fügt alle Dokumente in Tabelle \"Dokumente\" \n",
    "        insertDokData_db(citingPMIDs)\n",
    "        insertCitationPMIDCombi(pmid, citingPMIDs)"
   ]
  },
  {
   "cell_type": "code",
   "execution_count": 13,
   "metadata": {},
   "outputs": [],
   "source": [
    "# insertCitingPMIDs(pmidList)"
   ]
  },
  {
   "attachments": {},
   "cell_type": "markdown",
   "metadata": {},
   "source": [
    "# Zitationsdaten in Verhältnis zu MeSH"
   ]
  },
  {
   "cell_type": "code",
   "execution_count": 76,
   "metadata": {},
   "outputs": [],
   "source": [
    "def getDateOfMeSH(meshUI):\n",
    "    cur.execute(\"SELECT datum FROM Mesh WHERE UI = \\\"\"+ str(meshUI)+ \"\\\"\")\n",
    "    meshDate = datetime.datetime.strptime(cur.fetchall()[0][0], \"%Y-%m-%d\").date()\n",
    "    return meshDate\n",
    "\n",
    "\n",
    "def getCitationDataForPMID(pmidList):\n",
    "    citationData = []\n",
    "    # für jede PMID in idList die zitierenden PMIDs abfragen\n",
    "    for pmid in pmidList:\n",
    "        cur.execute(\"SELECT CitingPMID FROM Zitationen WHERE PMID = \\\"\"+ str(pmid)+ \"\\\"\")\n",
    "        citingPMIDs =  [x[0] for x in cur.fetchall()]\n",
    "        if len(citingPMIDs) == 0:\n",
    "            print(citationData)\n",
    "            # print(pmid, \"Zu diesem Dokument liegen keine Zitationsdaten vor\")\n",
    "            citationData.append([pmid, [], []])\n",
    "        else:\n",
    "            # SQLite Abfrage erstellen\n",
    "            queryCitingPMIDs = \"PMID = \" + str(citingPMIDs[0])\n",
    "            if len(citingPMIDs) > 1:\n",
    "                for citingPMID in citingPMIDs[1:]:\n",
    "                    queryCitingPMIDs = queryCitingPMIDs + \" or PMID = \" + str(citingPMID)\n",
    "            query = \"SELECT strftime('%Y', pubdate) as year, count(strftime('%Y', pubdate)) as count FROM Dokumente WHERE \"+queryCitingPMIDs+\" GROUP BY year\"\n",
    "            cur.execute(query)\n",
    "            output = cur.fetchall()\n",
    "            years = [x[0] for x in output]\n",
    "            citationCounts = [x[1] for x in output]\n",
    "            citationData.append([pmid, years, citationCounts])\n",
    "            print(citationData)\n"
   ]
  },
  {
   "cell_type": "code",
   "execution_count": 77,
   "metadata": {},
   "outputs": [
    {
     "name": "stdout",
     "output_type": "stream",
     "text": [
      "[['17523700', ['2008', '2010', '2011', '2012', '2013', '2014', '2015', '2016', '2018', '2019', '2020', '2021', '2022', '2023'], [1, 1, 1, 1, 1, 2, 2, 2, 2, 2, 5, 7, 6, 1]]]\n",
      "[['17523700', ['2008', '2010', '2011', '2012', '2013', '2014', '2015', '2016', '2018', '2019', '2020', '2021', '2022', '2023'], [1, 1, 1, 1, 1, 2, 2, 2, 2, 2, 5, 7, 6, 1]]]\n",
      "[['17523700', ['2008', '2010', '2011', '2012', '2013', '2014', '2015', '2016', '2018', '2019', '2020', '2021', '2022', '2023'], [1, 1, 1, 1, 1, 2, 2, 2, 2, 2, 5, 7, 6, 1]], ['26739313', [], []]]\n",
      "[['17523700', ['2008', '2010', '2011', '2012', '2013', '2014', '2015', '2016', '2018', '2019', '2020', '2021', '2022', '2023'], [1, 1, 1, 1, 1, 2, 2, 2, 2, 2, 5, 7, 6, 1]], ['26739313', [], []], ['30562044', [], []], ['27729421', ['2017', '2018', '2019', '2020', '2021', '2022', '2023'], [3, 7, 10, 5, 5, 10, 1]]]\n",
      "[['17523700', ['2008', '2010', '2011', '2012', '2013', '2014', '2015', '2016', '2018', '2019', '2020', '2021', '2022', '2023'], [1, 1, 1, 1, 1, 2, 2, 2, 2, 2, 5, 7, 6, 1]], ['26739313', [], []], ['30562044', [], []], ['27729421', ['2017', '2018', '2019', '2020', '2021', '2022', '2023'], [3, 7, 10, 5, 5, 10, 1]]]\n",
      "[['17523700', ['2008', '2010', '2011', '2012', '2013', '2014', '2015', '2016', '2018', '2019', '2020', '2021', '2022', '2023'], [1, 1, 1, 1, 1, 2, 2, 2, 2, 2, 5, 7, 6, 1]], ['26739313', [], []], ['30562044', [], []], ['27729421', ['2017', '2018', '2019', '2020', '2021', '2022', '2023'], [3, 7, 10, 5, 5, 10, 1]], ['32159800', [], []]]\n",
      "[['17523700', ['2008', '2010', '2011', '2012', '2013', '2014', '2015', '2016', '2018', '2019', '2020', '2021', '2022', '2023'], [1, 1, 1, 1, 1, 2, 2, 2, 2, 2, 5, 7, 6, 1]], ['26739313', [], []], ['30562044', [], []], ['27729421', ['2017', '2018', '2019', '2020', '2021', '2022', '2023'], [3, 7, 10, 5, 5, 10, 1]], ['32159800', [], []], ['36099932', [], []]]\n",
      "[['17523700', ['2008', '2010', '2011', '2012', '2013', '2014', '2015', '2016', '2018', '2019', '2020', '2021', '2022', '2023'], [1, 1, 1, 1, 1, 2, 2, 2, 2, 2, 5, 7, 6, 1]], ['26739313', [], []], ['30562044', [], []], ['27729421', ['2017', '2018', '2019', '2020', '2021', '2022', '2023'], [3, 7, 10, 5, 5, 10, 1]], ['32159800', [], []], ['36099932', [], []], ['14995999', [], []], ['1899486', ['1992', '1994', '1995', '1996', '1997', '1998', '1999', '2000', '2002', '2003', '2004', '2005', '2006', '2007', '2008', '2009', '2010', '2011', '2012', '2013', '2015', '2016', '2017', '2018', '2019', '2020', '2021', '2022', '2023'], [2, 1, 1, 1, 1, 3, 1, 2, 1, 1, 1, 2, 1, 1, 2, 1, 3, 2, 1, 1, 6, 5, 2, 1, 1, 2, 1, 1, 1]]]\n",
      "[['17523700', ['2008', '2010', '2011', '2012', '2013', '2014', '2015', '2016', '2018', '2019', '2020', '2021', '2022', '2023'], [1, 1, 1, 1, 1, 2, 2, 2, 2, 2, 5, 7, 6, 1]], ['26739313', [], []], ['30562044', [], []], ['27729421', ['2017', '2018', '2019', '2020', '2021', '2022', '2023'], [3, 7, 10, 5, 5, 10, 1]], ['32159800', [], []], ['36099932', [], []], ['14995999', [], []], ['1899486', ['1992', '1994', '1995', '1996', '1997', '1998', '1999', '2000', '2002', '2003', '2004', '2005', '2006', '2007', '2008', '2009', '2010', '2011', '2012', '2013', '2015', '2016', '2017', '2018', '2019', '2020', '2021', '2022', '2023'], [2, 1, 1, 1, 1, 3, 1, 2, 1, 1, 1, 2, 1, 1, 2, 1, 3, 2, 1, 1, 6, 5, 2, 1, 1, 2, 1, 1, 1]]]\n",
      "[['17523700', ['2008', '2010', '2011', '2012', '2013', '2014', '2015', '2016', '2018', '2019', '2020', '2021', '2022', '2023'], [1, 1, 1, 1, 1, 2, 2, 2, 2, 2, 5, 7, 6, 1]], ['26739313', [], []], ['30562044', [], []], ['27729421', ['2017', '2018', '2019', '2020', '2021', '2022', '2023'], [3, 7, 10, 5, 5, 10, 1]], ['32159800', [], []], ['36099932', [], []], ['14995999', [], []], ['1899486', ['1992', '1994', '1995', '1996', '1997', '1998', '1999', '2000', '2002', '2003', '2004', '2005', '2006', '2007', '2008', '2009', '2010', '2011', '2012', '2013', '2015', '2016', '2017', '2018', '2019', '2020', '2021', '2022', '2023'], [2, 1, 1, 1, 1, 3, 1, 2, 1, 1, 1, 2, 1, 1, 2, 1, 3, 2, 1, 1, 6, 5, 2, 1, 1, 2, 1, 1, 1]], ['845363', [], []]]\n",
      "[['17523700', ['2008', '2010', '2011', '2012', '2013', '2014', '2015', '2016', '2018', '2019', '2020', '2021', '2022', '2023'], [1, 1, 1, 1, 1, 2, 2, 2, 2, 2, 5, 7, 6, 1]], ['26739313', [], []], ['30562044', [], []], ['27729421', ['2017', '2018', '2019', '2020', '2021', '2022', '2023'], [3, 7, 10, 5, 5, 10, 1]], ['32159800', [], []], ['36099932', [], []], ['14995999', [], []], ['1899486', ['1992', '1994', '1995', '1996', '1997', '1998', '1999', '2000', '2002', '2003', '2004', '2005', '2006', '2007', '2008', '2009', '2010', '2011', '2012', '2013', '2015', '2016', '2017', '2018', '2019', '2020', '2021', '2022', '2023'], [2, 1, 1, 1, 1, 3, 1, 2, 1, 1, 1, 2, 1, 1, 2, 1, 3, 2, 1, 1, 6, 5, 2, 1, 1, 2, 1, 1, 1]], ['845363', [], []], ['287960', [], []]]\n",
      "[['17523700', ['2008', '2010', '2011', '2012', '2013', '2014', '2015', '2016', '2018', '2019', '2020', '2021', '2022', '2023'], [1, 1, 1, 1, 1, 2, 2, 2, 2, 2, 5, 7, 6, 1]], ['26739313', [], []], ['30562044', [], []], ['27729421', ['2017', '2018', '2019', '2020', '2021', '2022', '2023'], [3, 7, 10, 5, 5, 10, 1]], ['32159800', [], []], ['36099932', [], []], ['14995999', [], []], ['1899486', ['1992', '1994', '1995', '1996', '1997', '1998', '1999', '2000', '2002', '2003', '2004', '2005', '2006', '2007', '2008', '2009', '2010', '2011', '2012', '2013', '2015', '2016', '2017', '2018', '2019', '2020', '2021', '2022', '2023'], [2, 1, 1, 1, 1, 3, 1, 2, 1, 1, 1, 2, 1, 1, 2, 1, 3, 2, 1, 1, 6, 5, 2, 1, 1, 2, 1, 1, 1]], ['845363', [], []], ['287960', [], []], ['28881293', [], []]]\n",
      "[['17523700', ['2008', '2010', '2011', '2012', '2013', '2014', '2015', '2016', '2018', '2019', '2020', '2021', '2022', '2023'], [1, 1, 1, 1, 1, 2, 2, 2, 2, 2, 5, 7, 6, 1]], ['26739313', [], []], ['30562044', [], []], ['27729421', ['2017', '2018', '2019', '2020', '2021', '2022', '2023'], [3, 7, 10, 5, 5, 10, 1]], ['32159800', [], []], ['36099932', [], []], ['14995999', [], []], ['1899486', ['1992', '1994', '1995', '1996', '1997', '1998', '1999', '2000', '2002', '2003', '2004', '2005', '2006', '2007', '2008', '2009', '2010', '2011', '2012', '2013', '2015', '2016', '2017', '2018', '2019', '2020', '2021', '2022', '2023'], [2, 1, 1, 1, 1, 3, 1, 2, 1, 1, 1, 2, 1, 1, 2, 1, 3, 2, 1, 1, 6, 5, 2, 1, 1, 2, 1, 1, 1]], ['845363', [], []], ['287960', [], []], ['28881293', [], []], ['30547552', [], []]]\n",
      "[['17523700', ['2008', '2010', '2011', '2012', '2013', '2014', '2015', '2016', '2018', '2019', '2020', '2021', '2022', '2023'], [1, 1, 1, 1, 1, 2, 2, 2, 2, 2, 5, 7, 6, 1]], ['26739313', [], []], ['30562044', [], []], ['27729421', ['2017', '2018', '2019', '2020', '2021', '2022', '2023'], [3, 7, 10, 5, 5, 10, 1]], ['32159800', [], []], ['36099932', [], []], ['14995999', [], []], ['1899486', ['1992', '1994', '1995', '1996', '1997', '1998', '1999', '2000', '2002', '2003', '2004', '2005', '2006', '2007', '2008', '2009', '2010', '2011', '2012', '2013', '2015', '2016', '2017', '2018', '2019', '2020', '2021', '2022', '2023'], [2, 1, 1, 1, 1, 3, 1, 2, 1, 1, 1, 2, 1, 1, 2, 1, 3, 2, 1, 1, 6, 5, 2, 1, 1, 2, 1, 1, 1]], ['845363', [], []], ['287960', [], []], ['28881293', [], []], ['30547552', [], []], ['34166171', [], []], ['22257089', ['2013', '2014', '2018', '2019', '2022'], [1, 1, 1, 2, 2]]]\n",
      "[['17523700', ['2008', '2010', '2011', '2012', '2013', '2014', '2015', '2016', '2018', '2019', '2020', '2021', '2022', '2023'], [1, 1, 1, 1, 1, 2, 2, 2, 2, 2, 5, 7, 6, 1]], ['26739313', [], []], ['30562044', [], []], ['27729421', ['2017', '2018', '2019', '2020', '2021', '2022', '2023'], [3, 7, 10, 5, 5, 10, 1]], ['32159800', [], []], ['36099932', [], []], ['14995999', [], []], ['1899486', ['1992', '1994', '1995', '1996', '1997', '1998', '1999', '2000', '2002', '2003', '2004', '2005', '2006', '2007', '2008', '2009', '2010', '2011', '2012', '2013', '2015', '2016', '2017', '2018', '2019', '2020', '2021', '2022', '2023'], [2, 1, 1, 1, 1, 3, 1, 2, 1, 1, 1, 2, 1, 1, 2, 1, 3, 2, 1, 1, 6, 5, 2, 1, 1, 2, 1, 1, 1]], ['845363', [], []], ['287960', [], []], ['28881293', [], []], ['30547552', [], []], ['34166171', [], []], ['22257089', ['2013', '2014', '2018', '2019', '2022'], [1, 1, 1, 2, 2]], ['26201059', ['2015', '2016', '2018', '2019', '2020', '2021', '2022', '2023'], [1, 1, 2, 1, 1, 1, 3, 1]]]\n",
      "[['17523700', ['2008', '2010', '2011', '2012', '2013', '2014', '2015', '2016', '2018', '2019', '2020', '2021', '2022', '2023'], [1, 1, 1, 1, 1, 2, 2, 2, 2, 2, 5, 7, 6, 1]], ['26739313', [], []], ['30562044', [], []], ['27729421', ['2017', '2018', '2019', '2020', '2021', '2022', '2023'], [3, 7, 10, 5, 5, 10, 1]], ['32159800', [], []], ['36099932', [], []], ['14995999', [], []], ['1899486', ['1992', '1994', '1995', '1996', '1997', '1998', '1999', '2000', '2002', '2003', '2004', '2005', '2006', '2007', '2008', '2009', '2010', '2011', '2012', '2013', '2015', '2016', '2017', '2018', '2019', '2020', '2021', '2022', '2023'], [2, 1, 1, 1, 1, 3, 1, 2, 1, 1, 1, 2, 1, 1, 2, 1, 3, 2, 1, 1, 6, 5, 2, 1, 1, 2, 1, 1, 1]], ['845363', [], []], ['287960', [], []], ['28881293', [], []], ['30547552', [], []], ['34166171', [], []], ['22257089', ['2013', '2014', '2018', '2019', '2022'], [1, 1, 1, 2, 2]], ['26201059', ['2015', '2016', '2018', '2019', '2020', '2021', '2022', '2023'], [1, 1, 2, 1, 1, 1, 3, 1]]]\n",
      "[['17523700', ['2008', '2010', '2011', '2012', '2013', '2014', '2015', '2016', '2018', '2019', '2020', '2021', '2022', '2023'], [1, 1, 1, 1, 1, 2, 2, 2, 2, 2, 5, 7, 6, 1]], ['26739313', [], []], ['30562044', [], []], ['27729421', ['2017', '2018', '2019', '2020', '2021', '2022', '2023'], [3, 7, 10, 5, 5, 10, 1]], ['32159800', [], []], ['36099932', [], []], ['14995999', [], []], ['1899486', ['1992', '1994', '1995', '1996', '1997', '1998', '1999', '2000', '2002', '2003', '2004', '2005', '2006', '2007', '2008', '2009', '2010', '2011', '2012', '2013', '2015', '2016', '2017', '2018', '2019', '2020', '2021', '2022', '2023'], [2, 1, 1, 1, 1, 3, 1, 2, 1, 1, 1, 2, 1, 1, 2, 1, 3, 2, 1, 1, 6, 5, 2, 1, 1, 2, 1, 1, 1]], ['845363', [], []], ['287960', [], []], ['28881293', [], []], ['30547552', [], []], ['34166171', [], []], ['22257089', ['2013', '2014', '2018', '2019', '2022'], [1, 1, 1, 2, 2]], ['26201059', ['2015', '2016', '2018', '2019', '2020', '2021', '2022', '2023'], [1, 1, 2, 1, 1, 1, 3, 1]], ['36690213', [], []]]\n",
      "[['17523700', ['2008', '2010', '2011', '2012', '2013', '2014', '2015', '2016', '2018', '2019', '2020', '2021', '2022', '2023'], [1, 1, 1, 1, 1, 2, 2, 2, 2, 2, 5, 7, 6, 1]], ['26739313', [], []], ['30562044', [], []], ['27729421', ['2017', '2018', '2019', '2020', '2021', '2022', '2023'], [3, 7, 10, 5, 5, 10, 1]], ['32159800', [], []], ['36099932', [], []], ['14995999', [], []], ['1899486', ['1992', '1994', '1995', '1996', '1997', '1998', '1999', '2000', '2002', '2003', '2004', '2005', '2006', '2007', '2008', '2009', '2010', '2011', '2012', '2013', '2015', '2016', '2017', '2018', '2019', '2020', '2021', '2022', '2023'], [2, 1, 1, 1, 1, 3, 1, 2, 1, 1, 1, 2, 1, 1, 2, 1, 3, 2, 1, 1, 6, 5, 2, 1, 1, 2, 1, 1, 1]], ['845363', [], []], ['287960', [], []], ['28881293', [], []], ['30547552', [], []], ['34166171', [], []], ['22257089', ['2013', '2014', '2018', '2019', '2022'], [1, 1, 1, 2, 2]], ['26201059', ['2015', '2016', '2018', '2019', '2020', '2021', '2022', '2023'], [1, 1, 2, 1, 1, 1, 3, 1]], ['36690213', [], []], ['29855050', [], []], ['36500502', ['2023'], [2]]]\n",
      "[['17523700', ['2008', '2010', '2011', '2012', '2013', '2014', '2015', '2016', '2018', '2019', '2020', '2021', '2022', '2023'], [1, 1, 1, 1, 1, 2, 2, 2, 2, 2, 5, 7, 6, 1]], ['26739313', [], []], ['30562044', [], []], ['27729421', ['2017', '2018', '2019', '2020', '2021', '2022', '2023'], [3, 7, 10, 5, 5, 10, 1]], ['32159800', [], []], ['36099932', [], []], ['14995999', [], []], ['1899486', ['1992', '1994', '1995', '1996', '1997', '1998', '1999', '2000', '2002', '2003', '2004', '2005', '2006', '2007', '2008', '2009', '2010', '2011', '2012', '2013', '2015', '2016', '2017', '2018', '2019', '2020', '2021', '2022', '2023'], [2, 1, 1, 1, 1, 3, 1, 2, 1, 1, 1, 2, 1, 1, 2, 1, 3, 2, 1, 1, 6, 5, 2, 1, 1, 2, 1, 1, 1]], ['845363', [], []], ['287960', [], []], ['28881293', [], []], ['30547552', [], []], ['34166171', [], []], ['22257089', ['2013', '2014', '2018', '2019', '2022'], [1, 1, 1, 2, 2]], ['26201059', ['2015', '2016', '2018', '2019', '2020', '2021', '2022', '2023'], [1, 1, 2, 1, 1, 1, 3, 1]], ['36690213', [], []], ['29855050', [], []], ['36500502', ['2023'], [2]], ['19630812', ['2010', '2011', '2013', '2015', '2016', '2017', '2018', '2020'], [5, 1, 1, 1, 1, 1, 1, 2]]]\n",
      "[['17523700', ['2008', '2010', '2011', '2012', '2013', '2014', '2015', '2016', '2018', '2019', '2020', '2021', '2022', '2023'], [1, 1, 1, 1, 1, 2, 2, 2, 2, 2, 5, 7, 6, 1]], ['26739313', [], []], ['30562044', [], []], ['27729421', ['2017', '2018', '2019', '2020', '2021', '2022', '2023'], [3, 7, 10, 5, 5, 10, 1]], ['32159800', [], []], ['36099932', [], []], ['14995999', [], []], ['1899486', ['1992', '1994', '1995', '1996', '1997', '1998', '1999', '2000', '2002', '2003', '2004', '2005', '2006', '2007', '2008', '2009', '2010', '2011', '2012', '2013', '2015', '2016', '2017', '2018', '2019', '2020', '2021', '2022', '2023'], [2, 1, 1, 1, 1, 3, 1, 2, 1, 1, 1, 2, 1, 1, 2, 1, 3, 2, 1, 1, 6, 5, 2, 1, 1, 2, 1, 1, 1]], ['845363', [], []], ['287960', [], []], ['28881293', [], []], ['30547552', [], []], ['34166171', [], []], ['22257089', ['2013', '2014', '2018', '2019', '2022'], [1, 1, 1, 2, 2]], ['26201059', ['2015', '2016', '2018', '2019', '2020', '2021', '2022', '2023'], [1, 1, 2, 1, 1, 1, 3, 1]], ['36690213', [], []], ['29855050', [], []], ['36500502', ['2023'], [2]], ['19630812', ['2010', '2011', '2013', '2015', '2016', '2017', '2018', '2020'], [5, 1, 1, 1, 1, 1, 1, 2]], ['31957518', ['2020', '2021', '2023'], [1, 4, 1]]]\n"
     ]
    }
   ],
   "source": [
    "getCitationDataForPMID(pmidList)"
   ]
  }
 ],
 "metadata": {
  "kernelspec": {
   "display_name": "Python 3",
   "language": "python",
   "name": "python3"
  },
  "language_info": {
   "codemirror_mode": {
    "name": "ipython",
    "version": 3
   },
   "file_extension": ".py",
   "mimetype": "text/x-python",
   "name": "python",
   "nbconvert_exporter": "python",
   "pygments_lexer": "ipython3",
   "version": "3.11.2"
  },
  "orig_nbformat": 4
 },
 "nbformat": 4,
 "nbformat_minor": 2
}
