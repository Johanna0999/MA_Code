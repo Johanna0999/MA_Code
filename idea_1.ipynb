{
 "cells": [
  {
   "cell_type": "code",
   "execution_count": 1,
   "metadata": {},
   "outputs": [],
   "source": [
    "import requests\n",
    "import json\n",
    "import xmltodict\n",
    "import urllib.parse\n",
    "import opencitingpy\n",
    "import datetime\n",
    "import sqlite3\n",
    "import os\n",
    "from matplotlib import pyplot as plt\n",
    "import numpy as np\n",
    "import re\n",
    "import math\n",
    "import ipywidgets as widgets\n",
    "from IPython.display import display\n",
    "import re \n",
    "from tkinter import *"
   ]
  },
  {
   "attachments": {},
   "cell_type": "markdown",
   "metadata": {},
   "source": [
    "# Setup sqlite Datenbank\n",
    "Datenbank wird im Verzeichnis \"C:\\MA_Pethke_3992454\" abgelegt"
   ]
  },
  {
   "cell_type": "code",
   "execution_count": 2,
   "metadata": {},
   "outputs": [],
   "source": [
    "# Anlegen von Datenbankspeicherort, falls er nicht existiert\n",
    "path = \"C:\\MA_Pethke_3992454\"\n",
    "if not os.path.exists(path):\n",
    "    os.makedirs(path)\n",
    "\n",
    "# Verbindung zu DB aufbauen, DB wird automatisch erstellt, wenn keine da ist\n",
    "con = sqlite3.connect(\"C:\\MA_Pethke_3992454\\MA_3992454_idea_1.db\")\n",
    "cur = con.cursor()"
   ]
  },
  {
   "cell_type": "code",
   "execution_count": 3,
   "metadata": {},
   "outputs": [],
   "source": [
    "## Tabellen Schema erstellen\n",
    "#------------------- Tabelle Dokument --------------------------------------#\n",
    "cur.execute(\"CREATE TABLE IF NOT EXISTS Dokumente(PMID INTEGER UNIQUE, titel TEXT, pubdate DATE)\")\n",
    "\n",
    "#------------------- Tabelle Zitationen --------------------------------------#\n",
    "cur.execute(\"CREATE TABLE IF NOT EXISTS Zitationen(PMID INTEGER, CitingPMID INETEGER)\")\n",
    "\n",
    "#------------------- Tabelle Mesh --------------------------------------#\n",
    "cur.execute(\"CREATE TABLE IF NOT EXISTS Mesh(UI VARCHAR UNIQUE, name TEXT, datum DATE)\")\n",
    "\n",
    "#------------------- Tabelle Mesh - PMID --------------------------------------#\n",
    "cur.execute(\"CREATE TABLE IF NOT EXISTS Mesh_PMID(UI VARCHAR, PMID INTEGER)\")\n",
    "\n",
    "#------------------- Tabelle Abfrage --------------------------------------#\n",
    "cur.execute(\"CREATE TABLE IF NOT EXISTS Abfrage(QID INTEGER PRIMARY KEY AUTOINCREMENT, query TEXT, PMID INTEGER, ranking INTEGER, mesh VARCHAR)\")\n",
    "con.commit()"
   ]
  },
  {
   "attachments": {},
   "cell_type": "markdown",
   "metadata": {},
   "source": [
    "# Allgemeine Abfragen aus DB"
   ]
  },
  {
   "cell_type": "code",
   "execution_count": 4,
   "metadata": {},
   "outputs": [],
   "source": [
    "def getPubDate(pmid):\n",
    "    cur.execute(\"SELECT strftime('%Y', pubdate) FROM Dokumente WHERE PMID = \\\"\"+ str(pmid)+ \"\\\"\")\n",
    "    pubdate = int(cur.fetchall()[0][0])\n",
    "    return pubdate"
   ]
  },
  {
   "cell_type": "code",
   "execution_count": 5,
   "metadata": {},
   "outputs": [],
   "source": [
    "def getMeSHYear(meshUI):\n",
    "    cur.execute(\"SELECT strftime('%Y', datum) FROM Mesh WHERE UI = \\\"\"+ str(meshUI)+ \"\\\"\")\n",
    "    meshYear = int(cur.fetchall()[0][0])\n",
    "    return meshYear"
   ]
  },
  {
   "attachments": {},
   "cell_type": "markdown",
   "metadata": {},
   "source": [
    "# MeSH Data"
   ]
  },
  {
   "cell_type": "code",
   "execution_count": 6,
   "metadata": {},
   "outputs": [],
   "source": [
    "def insertMeshData_db(meshUI_loc, meshTerm_loc, meshDate_loc):\n",
    "    try:\n",
    "        cur.execute(\"INSERT INTO Mesh (UI, name, datum) VALUES (\\\"\"+str(meshUI_loc[0])+\"\\\", \\\"\"+str(meshTerm_loc)+\"\\\", \\\"\"+str(meshDate_loc)+\"\\\")\")\n",
    "        con.commit()\n",
    "        print(\"Insert erfolgreich für \" + str(meshUI_loc))\n",
    "    except:\n",
    "        print(\"MeSH schon in DB\" + str(meshUI_loc))"
   ]
  },
  {
   "cell_type": "code",
   "execution_count": 26,
   "metadata": {},
   "outputs": [
    {
     "data": {
      "application/vnd.jupyter.widget-view+json": {
       "model_id": "0d34d3f02c7944ecb2882a77d601a70a",
       "version_major": 2,
       "version_minor": 0
      },
      "text/plain": [
       "Text(value='', placeholder='Bitte geben Sie ein Stichwort ein')"
      ]
     },
     "metadata": {},
     "output_type": "display_data"
    }
   ],
   "source": [
    "input_text = widgets.Text(placeholder='Bitte geben Sie ein Stichwort ein')\n",
    "display(input_text)\n",
    "button = widgets.Button(description=\"OK\")\n"
   ]
  },
  {
   "cell_type": "code",
   "execution_count": 28,
   "metadata": {},
   "outputs": [],
   "source": [
    "requ = requests.get(\"https://id.nlm.nih.gov/mesh/lookup/descriptor?label=\"+str(input_text.value)+\"&match=contains&year=current&limit=10\", headers={\"Accept\": \"application/json\"})\n",
    "meshData = requ.json()\n",
    "label_auswahl = [output['label'] for output in meshData]\n",
    "resource_auswahl = [output['resource'] for output in meshData]\n",
    "\n",
    "def chooseMeSH(MeSH):\n",
    "    index = label_auswahl.index(MeSH)\n",
    "    resource = resource_auswahl[index]\n",
    "    meshUI = re.findall(\"^.*mesh\\/(.*)$\", resource)\n",
    "    requ = requests.get(str(resource)+\".json\", headers={\"Accept\": \"application/json\"})\n",
    "    meshData = requ.json()\n",
    "    meshDate = meshData[\"dateCreated\"]\n",
    "    insertMeshData_db(meshUI, MeSH, meshDate)\n",
    "    global meshUI_glob\n",
    "    meshUI_glob = meshUI[0]\n",
    "    global meshTerm_glob\n",
    "    meshTerm_glob = MeSH"
   ]
  },
  {
   "cell_type": "code",
   "execution_count": null,
   "metadata": {},
   "outputs": [
    {
     "data": {
      "application/vnd.jupyter.widget-view+json": {
       "model_id": "512aeb77c08b49b4a6cf7caa2b11e5fb",
       "version_major": 2,
       "version_minor": 0
      },
      "text/plain": [
       "HTML(value='Wählen Sie ein existierendes MeSH aus!')"
      ]
     },
     "execution_count": 12,
     "metadata": {},
     "output_type": "execute_result"
    }
   ],
   "source": [
    "widgets.HTML(value=\"Wählen Sie ein existierendes MeSH aus!\")"
   ]
  },
  {
   "cell_type": "code",
   "execution_count": 29,
   "metadata": {},
   "outputs": [
    {
     "data": {
      "application/vnd.jupyter.widget-view+json": {
       "model_id": "2fe1cfb5d1224abfa6a806a050b0eb6a",
       "version_major": 2,
       "version_minor": 0
      },
      "text/plain": [
       "interactive(children=(Dropdown(description='MeSH', options=('Aspirin', 'Aspirin, Dipyridamole Drug Combination…"
      ]
     },
     "metadata": {},
     "output_type": "display_data"
    },
    {
     "data": {
      "text/plain": [
       "<function __main__.chooseMeSH(MeSH)>"
      ]
     },
     "execution_count": 29,
     "metadata": {},
     "output_type": "execute_result"
    }
   ],
   "source": [
    "widgets.interact(chooseMeSH, MeSH=label_auswahl, layout={'width':'max-content'})"
   ]
  },
  {
   "attachments": {},
   "cell_type": "markdown",
   "metadata": {},
   "source": [
    "# Dokumente zu MeSH von PubMed"
   ]
  },
  {
   "cell_type": "code",
   "execution_count": null,
   "metadata": {},
   "outputs": [
    {
     "data": {
      "text/plain": [
       "'D000068342'"
      ]
     },
     "metadata": {},
     "output_type": "display_data"
    },
    {
     "data": {
      "text/plain": [
       "'Aspirin, Dipyridamole Drug Combination'"
      ]
     },
     "metadata": {},
     "output_type": "display_data"
    }
   ],
   "source": [
    "display(meshUI_glob, meshTerm_glob)"
   ]
  },
  {
   "cell_type": "code",
   "execution_count": 35,
   "metadata": {},
   "outputs": [
    {
     "name": "stdout",
     "output_type": "stream",
     "text": [
      "D001241\n"
     ]
    }
   ],
   "source": [
    "limit = 20 # API limited to first 10000 documents; esearch is a way to get all data, but u have to work on an unix environment https://dataguide.nlm.nih.gov/edirect/edirect-vs-e-utilities.html\n",
    "# Abfrage von Dokumente, die vor der Aufnahme des MeSHs veröffentlicht wurden (Von 1900 an)\n",
    "meshYear = getMeSHYear(meshUI_glob)\n",
    "requ = requests.get(\"https://eutils.ncbi.nlm.nih.gov/entrez/eutils/esearch.fcgi?db=pubmed&term=(\"+urllib.parse.quote(meshTerm_glob)+\"[MeSH+Terms])+AND+((\\\"1900\\\"[Date+-+Publication]+%3A+\\\"\"+str(meshYear)+\"\\\"[Date+-+Publication]))&retmax=\"+str(limit)+\"&sort=relevance&retmode=json&offset=\")\n",
    "requ_json = json.loads(requ.text)\n",
    "pmidList = requ_json['esearchresult']['idlist']\n",
    "countResult = requ_json['esearchresult']['count']"
   ]
  },
  {
   "cell_type": "code",
   "execution_count": null,
   "metadata": {},
   "outputs": [],
   "source": [
    "def insertMeshPmid(meshUI_loc, pmidList):\n",
    "    for pmid in pmidList:\n",
    "        cur.execute('INSERT INTO Mesh_PMID (UI, PMID) VALUES (\"'+str(meshUI_loc)+'\", \"'+str(pmid)+'\")')\n",
    "        con.commit()\n",
    "\n",
    "\n",
    "def getDokDataFromPmid(pmid):\n",
    "    # Daten zu einzelner PMID\n",
    "    requ = requests.get(\"https://eutils.ncbi.nlm.nih.gov/entrez/eutils/efetch.fcgi?db=pubmed&id=\"+urllib.parse.quote(str(pmid)))\n",
    "    # Formatierung\n",
    "    xpars = xmltodict.parse(requ.text)\n",
    "    json_str = json.dumps(xpars, indent=4)\n",
    "    json_data = json.loads(json_str)\n",
    "\n",
    "    ## Titel \n",
    "    titleWithout = \"\"\n",
    "    try:\n",
    "        title = json_data[\"PubmedArticleSet\"][\"PubmedArticle\"][\"MedlineCitation\"][\"Article\"][\"ArticleTitle\"]\n",
    "        titleWithout = title.replace('\"', \"'\")\n",
    "    except:\n",
    "        try:\n",
    "            title = json_data[\"PubmedArticleSet\"][\"PubmedArticle\"][\"MedlineCitation\"][\"Article\"][\"ArticleTitle\"][\"#text\"]\n",
    "            titleWithout = title.replace('\"', \"'\")\n",
    "        except:\n",
    "            print(\"Kein Titel zu PMID:\", str(pmid))\n",
    "\n",
    "    ## PubDate\n",
    "    pubDate = datetime.datetime(1,1,1)\n",
    "    # Nicht alle Dokumente haben ein eigenes Veröffentlichungsdatum, dann wird sich auf das DateCompleted von PubMed berufen (TODO: recherchieren, was das genau ist)\n",
    "    try:\n",
    "        pubDateAll = json_data[\"PubmedArticleSet\"][\"PubmedArticle\"][\"MedlineCitation\"][\"Article\"][\"ArticleDate\"]\n",
    "        pubDate = datetime.datetime(int(pubDateAll[\"Year\"]), int(pubDateAll[\"Month\"]), int(pubDateAll[\"Day\"]))\n",
    "    except:\n",
    "        pubDateAll = json_data[\"PubmedArticleSet\"][\"PubmedArticle\"][\"PubmedData\"][\"History\"][\"PubMedPubDate\"][0]\n",
    "        pubDate = datetime.datetime(int(pubDateAll[\"Year\"]), int(pubDateAll[\"Month\"]), int(pubDateAll[\"Day\"]))\n",
    "    return titleWithout, pubDate\n",
    "\n",
    "def insertDokData_db(pmidList_loc):\n",
    "    for pmid in pmidList_loc:\n",
    "        print(pmid)\n",
    "        try:\n",
    "            titleWithout, pubDate = getDokDataFromPmid(pmid)\n",
    "        except:\n",
    "            titleWithout, pubDate = \"ERROR\", datetime.datetime(1,1,1)\n",
    "        \n",
    "        try:\n",
    "            cur.execute('INSERT INTO Dokumente (PMID, titel, pubdate) VALUES (\"'+str(pmid)+'\", \"'+str(titleWithout)+'\", \"'+str(pubDate)+'\")')\n",
    "            con.commit()\n",
    "        except:\n",
    "            print(\"Dokument schon in DB\")\n"
   ]
  },
  {
   "cell_type": "code",
   "execution_count": null,
   "metadata": {},
   "outputs": [],
   "source": [
    "# insertMeshPmid(meshUI, pmidList)\n",
    "# insertDokData_db(pmidList)"
   ]
  },
  {
   "attachments": {},
   "cell_type": "markdown",
   "metadata": {},
   "source": [
    "# Zitationsdaten erheben"
   ]
  },
  {
   "cell_type": "code",
   "execution_count": 31,
   "metadata": {},
   "outputs": [],
   "source": [
    "def getAllCitingPMIDs(pmid):\n",
    "    response_PubMedMCitations = requests.get(\"https://eutils.ncbi.nlm.nih.gov/entrez/eutils/elink.fcgi?dbfrom=pubmed&linkname=pubmed_pubmed_citedin&id=\"+urllib.parse.quote(str(pmid)))\n",
    "    # Formatierung\n",
    "    xpars = xmltodict.parse(response_PubMedMCitations.text)\n",
    "    json_str = json.dumps(xpars, indent=4)\n",
    "    json_data = json.loads(json_str)\n",
    "    try:\n",
    "        citingPMIDs = [x[\"Id\"] for x in json_data[\"eLinkResult\"][\"LinkSet\"][\"LinkSetDb\"][\"Link\"]]\n",
    "        print(\"PMID: \", pmid, \"Anzahl Zitationen: \", len(citingPMIDs))\n",
    "    except:\n",
    "        citingPMIDs = []\n",
    "        print(\"PMID: \", pmid, \"Anzahl Zitationen: 0\")\n",
    "    return citingPMIDs\n",
    "\n",
    "def insertCitationPMIDCombi(pmid, citingPmids):\n",
    "    # Wenn Zitationen eines Dokuments schon erhoben wurden, dann nicht nochmal alle durchgehen\n",
    "    cur.execute(\"SELECT count(PMID) FROM Zitationen WHERE PMID = \"+ str(pmid))\n",
    "    if cur.fetchall()[0][0] == 0:\n",
    "        return\n",
    "    else:\n",
    "        for citingPMID in citingPmids:\n",
    "            try:\n",
    "                cur.execute('INSERT INTO Zitationen (PMID, CitingPMID) VALUES (\"'+str(pmid)+'\", \"'+str(citingPMID)+'\")')\n",
    "                con.commit()\n",
    "            except:\n",
    "                print(\"Zitationskombi schon in DB\")\n",
    "\n",
    "def insertCitingPMIDs(pmidList_loc):\n",
    "    for pmid in pmidList_loc:\n",
    "        citingPMIDs = getAllCitingPMIDs(pmid)\n",
    "        # Fügt alle Dokumente in Tabelle \"Dokumente\" \n",
    "        insertDokData_db(citingPMIDs)\n",
    "        insertCitationPMIDCombi(pmid, citingPMIDs)"
   ]
  },
  {
   "cell_type": "code",
   "execution_count": null,
   "metadata": {},
   "outputs": [],
   "source": [
    "# insertCitingPMIDs(pmidList)"
   ]
  },
  {
   "attachments": {},
   "cell_type": "markdown",
   "metadata": {},
   "source": [
    "# Zitationsdaten in Verhältnis zu MeSH"
   ]
  },
  {
   "cell_type": "code",
   "execution_count": 32,
   "metadata": {},
   "outputs": [],
   "source": [
    "def getDateOfMeSH(meshUI):\n",
    "    cur.execute(\"SELECT datum FROM Mesh WHERE UI = \\\"\"+ str(meshUI)+ \"\\\"\")\n",
    "    meshDate = datetime.datetime.strptime(cur.fetchall()[0][0], \"%Y-%m-%d\").date()\n",
    "    return meshDate\n",
    "\n",
    "\n",
    "def getCitationDataForPMID(pmid):\n",
    "    # für jede PMID in idList die zitierenden PMIDs abfragen\n",
    "    cur.execute(\"SELECT CitingPMID FROM Zitationen WHERE PMID = \\\"\"+ str(pmid)+ \"\\\"\")\n",
    "    citingPMIDs =  [x[0] for x in cur.fetchall()]\n",
    "    if len(citingPMIDs) == 0:\n",
    "        # print(citationData)\n",
    "        # print(pmid, \"Zu diesem Dokument liegen keine Zitationsdaten vor\")\n",
    "        citationData = [[], []]\n",
    "    else:\n",
    "        # SQLite Abfrage erstellen\n",
    "        queryCitingPMIDs = \"PMID = \" + str(citingPMIDs[0])\n",
    "        if len(citingPMIDs) > 1:\n",
    "            for citingPMID in citingPMIDs[1:]:\n",
    "                queryCitingPMIDs = queryCitingPMIDs + \" or PMID = \" + str(citingPMID)\n",
    "        query = \"SELECT strftime('%Y', pubdate) as year, count(strftime('%Y', pubdate)) as count FROM Dokumente WHERE \"+queryCitingPMIDs+\" GROUP BY year\"\n",
    "        cur.execute(query)\n",
    "        output = cur.fetchall()\n",
    "        years = [int(x[0]) for x in output]\n",
    "        citationCounts = [int(x[1]) for x in output]\n",
    "        citationData = [years, citationCounts]\n",
    "    return citationData"
   ]
  },
  {
   "cell_type": "code",
   "execution_count": null,
   "metadata": {},
   "outputs": [],
   "source": [
    "# getCitationDataForPMID(17523700)"
   ]
  },
  {
   "attachments": {},
   "cell_type": "markdown",
   "metadata": {},
   "source": [
    "# Visualisierung"
   ]
  },
  {
   "cell_type": "code",
   "execution_count": 33,
   "metadata": {},
   "outputs": [],
   "source": [
    "def plotMeSHIntrosPerPmid(pmid):\n",
    "    pubDate = getPubDate(pmid)\n",
    "    meshDate = getMeSHYear(meshUI)\n",
    "    years, counts = getCitationDataForPMID(pmid)\n",
    "    if len(years) == 0:\n",
    "          print(\"Zu diesem Dokument liegen keine Zitationdaten vor.\")\n",
    "    else:\n",
    "          fig, ax = plt.subplots(layout=\"constrained\")\n",
    "          ax.set_ylabel(\"Anzahl Zitationen\")\n",
    "          ax.set_xlabel(\"Jahre\")\n",
    "          ax.set_title(\"PMID: \" + str(pmid))\n",
    "          ax.set_xlim(min(pubDate, meshDate)-5, 2023)\n",
    "          ax.set_ylim(0, 50)\n",
    "          ax.bar(years, counts)\n",
    "          ax.annotate(\"Veröffentlichungsjahr\",\n",
    "               xy=(pubDate, 20), \n",
    "               xycoords=\"data\",\n",
    "               xytext=(0, 50),\n",
    "               textcoords=\"offset points\", \n",
    "               arrowprops=dict(facecolor=\"blue\"))\n",
    "          \n",
    "          ax.annotate(\"MeSH Aufnahme\",\n",
    "               xy=(meshDate, 20), \n",
    "               xycoords=\"data\",\n",
    "               xytext=(0, 50),\n",
    "               textcoords=\"offset points\", \n",
    "               arrowprops=dict(facecolor=\"red\"))"
   ]
  },
  {
   "cell_type": "code",
   "execution_count": 34,
   "metadata": {},
   "outputs": [
    {
     "data": {
      "application/vnd.jupyter.widget-view+json": {
       "model_id": "6d5b43b0778d40029b844bde81c4698b",
       "version_major": 2,
       "version_minor": 0
      },
      "text/plain": [
       "interactive(children=(Dropdown(description='pmid', options=('2029587', '8205012', '9282411', '2030640', '18994…"
      ]
     },
     "metadata": {},
     "output_type": "display_data"
    },
    {
     "data": {
      "text/plain": [
       "<function __main__.plotMeSHIntrosPerPmid(pmid)>"
      ]
     },
     "execution_count": 34,
     "metadata": {},
     "output_type": "execute_result"
    }
   ],
   "source": [
    "widgets.interact(plotMeSHIntrosPerPmid, pmid=pmidList)"
   ]
  }
 ],
 "metadata": {
  "kernelspec": {
   "display_name": "Python 3",
   "language": "python",
   "name": "python3"
  },
  "language_info": {
   "codemirror_mode": {
    "name": "ipython",
    "version": 3
   },
   "file_extension": ".py",
   "mimetype": "text/x-python",
   "name": "python",
   "nbconvert_exporter": "python",
   "pygments_lexer": "ipython3",
   "version": "3.11.2"
  },
  "orig_nbformat": 4
 },
 "nbformat": 4,
 "nbformat_minor": 2
}
