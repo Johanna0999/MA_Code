{
 "cells": [
  {
   "cell_type": "code",
   "execution_count": 1,
   "metadata": {},
   "outputs": [],
   "source": [
    "import requests\n",
    "import json\n",
    "import xmltodict\n",
    "import urllib.parse\n",
    "import opencitingpy\n",
    "import datetime\n",
    "import sqlite3\n",
    "import os\n",
    "from matplotlib import pyplot as plt\n",
    "import numpy as np\n",
    "import re\n",
    "import math"
   ]
  },
  {
   "attachments": {},
   "cell_type": "markdown",
   "metadata": {},
   "source": [
    "# Setup sqlite Datenbank\n",
    "Datenbank wird im Verzeichnis \"C:\\MA_Pethke_3992454\" abgelegt"
   ]
  },
  {
   "cell_type": "code",
   "execution_count": 2,
   "metadata": {},
   "outputs": [],
   "source": [
    "# Anlegen von Datenbankspeicherort, falls er nicht existiert\n",
    "path = \"C:\\MA_Pethke_3992454\"\n",
    "if not os.path.exists(path):\n",
    "    os.makedirs(path)\n",
    "\n",
    "# Verbindung zu DB aufbauen, DB wird automatisch erstellt, wenn keine da ist\n",
    "con = sqlite3.connect(\"C:\\MA_Pethke_3992454\\MA_3992454_idea_1.db\")\n",
    "cur = con.cursor()"
   ]
  },
  {
   "cell_type": "code",
   "execution_count": 3,
   "metadata": {},
   "outputs": [],
   "source": [
    "## Tabellen Schema erstellen\n",
    "#------------------- Tabelle Dokument --------------------------------------#\n",
    "cur.execute(\"CREATE TABLE IF NOT EXISTS Dokumente(PMID INTEGER UNIQUE, titel TEXT, pubdate DATE)\")\n",
    "\n",
    "#------------------- Tabelle Zitationen --------------------------------------#\n",
    "cur.execute(\"CREATE TABLE IF NOT EXISTS Zitationen(PMID INTEGER, CitingPMID INETEGER)\")\n",
    "\n",
    "#------------------- Tabelle Mesh --------------------------------------#\n",
    "cur.execute(\"CREATE TABLE IF NOT EXISTS Mesh(UI VARCHAR UNIQUE, name TEXT, datum DATE)\")\n",
    "\n",
    "#------------------- Tabelle Mesh - PMID --------------------------------------#\n",
    "cur.execute(\"CREATE TABLE IF NOT EXISTS Mesh_PMID(UI VARCHAR, PMID INTEGER)\")\n",
    "\n",
    "#------------------- Tabelle Abfrage --------------------------------------#\n",
    "cur.execute(\"CREATE TABLE IF NOT EXISTS Abfrage(QID INTEGER PRIMARY KEY AUTOINCREMENT, query TEXT, PMID INTEGER, ranking INTEGER, mesh VARCHAR)\")\n",
    "con.commit()"
   ]
  },
  {
   "attachments": {},
   "cell_type": "markdown",
   "metadata": {},
   "source": [
    "# Allgemeine Abfragen aus DB"
   ]
  },
  {
   "cell_type": "code",
   "execution_count": 4,
   "metadata": {},
   "outputs": [],
   "source": [
    "def getPubDate(pmid):\n",
    "    cur.execute(\"SELECT strftime('%Y', pubdate) FROM Dokumente WHERE PMID = \\\"\"+ str(pmid)+ \"\\\"\")\n",
    "    pubdate = int(cur.fetchall()[0][0])\n",
    "    return pubdate"
   ]
  },
  {
   "cell_type": "code",
   "execution_count": 5,
   "metadata": {},
   "outputs": [],
   "source": [
    "def getMeSHYear(meshUI):\n",
    "    cur.execute(\"SELECT strftime('%Y', datum) FROM Mesh WHERE UI = \\\"\"+ str(meshUI)+ \"\\\"\")\n",
    "    meshYear = int(cur.fetchall()[0][0])\n",
    "    return meshYear"
   ]
  },
  {
   "attachments": {},
   "cell_type": "markdown",
   "metadata": {},
   "source": [
    "# MeSH Data"
   ]
  },
  {
   "cell_type": "code",
   "execution_count": 6,
   "metadata": {},
   "outputs": [],
   "source": [
    "meshTerm = \"Metabolism\"\n",
    "\n",
    "requ = requests.get(\"https://id.nlm.nih.gov/mesh/lookup/descriptor?label=\"+meshTerm+\"&year=current&limit=10\", headers={\"Accept\": \"application/json\"})\n",
    "meshData = requ.json()"
   ]
  },
  {
   "cell_type": "code",
   "execution_count": 7,
   "metadata": {},
   "outputs": [
    {
     "name": "stdout",
     "output_type": "stream",
     "text": [
      "[{'resource': 'http://id.nlm.nih.gov/mesh/D008660', 'label': 'Metabolism'}]\n"
     ]
    }
   ],
   "source": [
    "print(meshData)"
   ]
  },
  {
   "cell_type": "code",
   "execution_count": 8,
   "metadata": {},
   "outputs": [],
   "source": [
    "meshUI = \"D001241\"\n",
    "meshTerm = \"aspirin\"\n",
    "requ = requests.get(\"https://id.nlm.nih.gov/mesh/\"+str(meshUI)+\".json\", headers={\"Accept\": \"application/json\"})\n",
    "meshData = requ.json()\n",
    "meshDate = meshData[\"dateCreated\"]"
   ]
  },
  {
   "cell_type": "code",
   "execution_count": 9,
   "metadata": {},
   "outputs": [],
   "source": [
    "def insertMeshData_db(meshUI_loc, meshTerm_loc, meshDate_loc):\n",
    "    try:\n",
    "        cur.execute(\"INSERT INTO Mesh (UI, name, datum) VALUES (\\\"\"+str(meshUI_loc)+\"\\\", \\\"\"+str(meshTerm_loc)+\"\\\", \\\"\"+str(meshDate_loc)+\"\\\")\")\n",
    "        con.commit()\n",
    "    except:\n",
    "        print(\"MeSH schon in DB\")"
   ]
  },
  {
   "cell_type": "code",
   "execution_count": 10,
   "metadata": {},
   "outputs": [],
   "source": [
    "# insertMeshData_db(meshUI, meshTerm, meshDate)"
   ]
  },
  {
   "attachments": {},
   "cell_type": "markdown",
   "metadata": {},
   "source": [
    "# Dokumente zu MeSH von PubMed"
   ]
  },
  {
   "cell_type": "code",
   "execution_count": 11,
   "metadata": {},
   "outputs": [
    {
     "name": "stdout",
     "output_type": "stream",
     "text": [
      "{'header': {'type': 'esearch', 'version': '0.3'}, 'esearchresult': {'count': '22495', 'retmax': '20', 'retstart': '0', 'idlist': ['8205012', '2029587', '9282411', '2030640', '1899486', '845363', '287960', '67396', '2519899', '7805939', '2191940', '4121596', '7763529', '5909852', '1165647', '8369590', '4947388', '790585', '9456577', '9851731'], 'translationset': [{'from': 'aspirin[MeSH Terms]', 'to': '\"aspirin\"[MeSH Terms]'}], 'querytranslation': '\"aspirin\"[MeSH Terms] AND 1900/01/01:1999/12/31[Date - Publication]'}}\n"
     ]
    }
   ],
   "source": [
    "limit = 20 # API limited to first 10000 documents; esearch is a way to get all data, but u have to work on an unix environment https://dataguide.nlm.nih.gov/edirect/edirect-vs-e-utilities.html\n",
    "# Abfrage von Dokumente, die vor der Aufnahme des MeSHs veröffentlicht wurden (Von 1900 an)\n",
    "meshYear = getMeSHYear(meshUI)\n",
    "requ = requests.get(\"https://eutils.ncbi.nlm.nih.gov/entrez/eutils/esearch.fcgi?db=pubmed&term=(\"+urllib.parse.quote(meshTerm)+\"[MeSH+Terms])+AND+((\\\"1900\\\"[Date+-+Publication]+%3A+\\\"\"+str(meshYear)+\"\\\"[Date+-+Publication]))&retmax=\"+str(limit)+\"&sort=relevance&retmode=json&offset=\")\n",
    "requ_json = json.loads(requ.text)\n",
    "print(requ_json)\n",
    "pmidList = requ_json['esearchresult']['idlist']\n",
    "countResult = requ_json['esearchresult']['count']"
   ]
  },
  {
   "cell_type": "code",
   "execution_count": 12,
   "metadata": {},
   "outputs": [],
   "source": [
    "def insertMeshPmid(meshUI_loc, pmidList):\n",
    "    for pmid in pmidList:\n",
    "        cur.execute('INSERT INTO Mesh_PMID (UI, PMID) VALUES (\"'+str(meshUI_loc)+'\", \"'+str(pmid)+'\")')\n",
    "        con.commit()\n",
    "\n",
    "\n",
    "def getDokDataFromPmid(pmid):\n",
    "    # Daten zu einzelner PMID\n",
    "    requ = requests.get(\"https://eutils.ncbi.nlm.nih.gov/entrez/eutils/efetch.fcgi?db=pubmed&id=\"+urllib.parse.quote(str(pmid)))\n",
    "    # Formatierung\n",
    "    xpars = xmltodict.parse(requ.text)\n",
    "    json_str = json.dumps(xpars, indent=4)\n",
    "    json_data = json.loads(json_str)\n",
    "\n",
    "    ## Titel \n",
    "    titleWithout = \"\"\n",
    "    try:\n",
    "        title = json_data[\"PubmedArticleSet\"][\"PubmedArticle\"][\"MedlineCitation\"][\"Article\"][\"ArticleTitle\"]\n",
    "        titleWithout = title.replace('\"', \"'\")\n",
    "    except:\n",
    "        try:\n",
    "            title = json_data[\"PubmedArticleSet\"][\"PubmedArticle\"][\"MedlineCitation\"][\"Article\"][\"ArticleTitle\"][\"#text\"]\n",
    "            titleWithout = title.replace('\"', \"'\")\n",
    "        except:\n",
    "            print(\"Kein Titel zu PMID:\", str(pmid))\n",
    "\n",
    "    ## PubDate\n",
    "    pubDate = datetime.datetime(1,1,1)\n",
    "    # Nicht alle Dokumente haben ein eigenes Veröffentlichungsdatum, dann wird sich auf das DateCompleted von PubMed berufen (TODO: recherchieren, was das genau ist)\n",
    "    try:\n",
    "        pubDateAll = json_data[\"PubmedArticleSet\"][\"PubmedArticle\"][\"MedlineCitation\"][\"Article\"][\"ArticleDate\"]\n",
    "        pubDate = datetime.datetime(int(pubDateAll[\"Year\"]), int(pubDateAll[\"Month\"]), int(pubDateAll[\"Day\"]))\n",
    "    except:\n",
    "        pubDateAll = json_data[\"PubmedArticleSet\"][\"PubmedArticle\"][\"PubmedData\"][\"History\"][\"PubMedPubDate\"][0]\n",
    "        pubDate = datetime.datetime(int(pubDateAll[\"Year\"]), int(pubDateAll[\"Month\"]), int(pubDateAll[\"Day\"]))\n",
    "    return titleWithout, pubDate\n",
    "\n",
    "def insertDokData_db(pmidList_loc):\n",
    "    for pmid in pmidList_loc:\n",
    "        print(pmid)\n",
    "        try:\n",
    "            titleWithout, pubDate = getDokDataFromPmid(pmid)\n",
    "        except:\n",
    "            titleWithout, pubDate = \"ERROR\", datetime.datetime(1,1,1)\n",
    "        \n",
    "        try:\n",
    "            cur.execute('INSERT INTO Dokumente (PMID, titel, pubdate) VALUES (\"'+str(pmid)+'\", \"'+str(titleWithout)+'\", \"'+str(pubDate)+'\")')\n",
    "            con.commit()\n",
    "        except:\n",
    "            print(\"Dokument schon in DB\")\n"
   ]
  },
  {
   "cell_type": "code",
   "execution_count": 13,
   "metadata": {},
   "outputs": [
    {
     "name": "stdout",
     "output_type": "stream",
     "text": [
      "8205012\n",
      "Dokument schon in DB\n",
      "2029587\n",
      "Dokument schon in DB\n",
      "9282411\n",
      "Dokument schon in DB\n",
      "2030640\n",
      "Dokument schon in DB\n",
      "1899486\n",
      "Dokument schon in DB\n",
      "845363\n",
      "Dokument schon in DB\n",
      "287960\n",
      "Dokument schon in DB\n",
      "67396\n",
      "Dokument schon in DB\n",
      "2519899\n",
      "Dokument schon in DB\n",
      "7805939\n",
      "Dokument schon in DB\n",
      "2191940\n",
      "Dokument schon in DB\n",
      "4121596\n",
      "Dokument schon in DB\n",
      "7763529\n",
      "Dokument schon in DB\n",
      "5909852\n",
      "Dokument schon in DB\n",
      "1165647\n",
      "Dokument schon in DB\n",
      "8369590\n",
      "Dokument schon in DB\n",
      "4947388\n",
      "Dokument schon in DB\n",
      "790585\n",
      "Dokument schon in DB\n",
      "9456577\n",
      "Dokument schon in DB\n",
      "9851731\n",
      "Dokument schon in DB\n"
     ]
    }
   ],
   "source": [
    "insertMeshPmid(meshUI, pmidList)\n",
    "insertDokData_db(pmidList)"
   ]
  },
  {
   "attachments": {},
   "cell_type": "markdown",
   "metadata": {},
   "source": [
    "# Zitationsdaten erheben"
   ]
  },
  {
   "cell_type": "code",
   "execution_count": 15,
   "metadata": {},
   "outputs": [],
   "source": [
    "def getAllCitingPMIDs(pmid):\n",
    "    response_PubMedMCitations = requests.get(\"https://eutils.ncbi.nlm.nih.gov/entrez/eutils/elink.fcgi?dbfrom=pubmed&linkname=pubmed_pubmed_citedin&id=\"+urllib.parse.quote(str(pmid)))\n",
    "    # Formatierung\n",
    "    xpars = xmltodict.parse(response_PubMedMCitations.text)\n",
    "    json_str = json.dumps(xpars, indent=4)\n",
    "    json_data = json.loads(json_str)\n",
    "    try:\n",
    "        citingPMIDs = [x[\"Id\"] for x in json_data[\"eLinkResult\"][\"LinkSet\"][\"LinkSetDb\"][\"Link\"]]\n",
    "        print(\"PMID: \", pmid, \"Anzahl Zitationen: \", len(citingPMIDs))\n",
    "    except:\n",
    "        citingPMIDs = []\n",
    "        print(\"PMID: \", pmid, \"Anzahl Zitationen: 0\")\n",
    "    return citingPMIDs\n",
    "\n",
    "def insertCitationPMIDCombi(pmid, citingPmids):\n",
    "    # Wenn Zitationen eines Dokuments schon erhoben wurden, dann nicht nochmal alle durchgehen\n",
    "    cur.execute(\"SELECT count(PMID) FROM Zitationen WHERE PMID = \"+ str(pmid))\n",
    "    if cur.fetchall()[0][0] == 0:\n",
    "        return\n",
    "    else:\n",
    "        for citingPMID in citingPmids:\n",
    "            try:\n",
    "                cur.execute('INSERT INTO Zitationen (PMID, CitingPMID) VALUES (\"'+str(pmid)+'\", \"'+str(citingPMID)+'\")')\n",
    "                con.commit()\n",
    "            except:\n",
    "                print(\"Zitationskombi schon in DB\")\n",
    "\n",
    "def insertCitingPMIDs(pmidList_loc):\n",
    "    for pmid in pmidList_loc:\n",
    "        citingPMIDs = getAllCitingPMIDs(pmid)\n",
    "        # Fügt alle Dokumente in Tabelle \"Dokumente\" \n",
    "        insertDokData_db(citingPMIDs)\n",
    "        insertCitationPMIDCombi(pmid, citingPMIDs)"
   ]
  },
  {
   "cell_type": "code",
   "execution_count": null,
   "metadata": {},
   "outputs": [],
   "source": [
    "insertCitingPMIDs(pmidList)"
   ]
  },
  {
   "attachments": {},
   "cell_type": "markdown",
   "metadata": {},
   "source": [
    "# Zitationsdaten in Verhältnis zu MeSH"
   ]
  },
  {
   "cell_type": "code",
   "execution_count": 17,
   "metadata": {},
   "outputs": [],
   "source": [
    "def getDateOfMeSH(meshUI):\n",
    "    cur.execute(\"SELECT datum FROM Mesh WHERE UI = \\\"\"+ str(meshUI)+ \"\\\"\")\n",
    "    meshDate = datetime.datetime.strptime(cur.fetchall()[0][0], \"%Y-%m-%d\").date()\n",
    "    return meshDate\n",
    "\n",
    "\n",
    "def getCitationDataForPMID(pmid):\n",
    "    # für jede PMID in idList die zitierenden PMIDs abfragen\n",
    "    cur.execute(\"SELECT CitingPMID FROM Zitationen WHERE PMID = \\\"\"+ str(pmid)+ \"\\\"\")\n",
    "    citingPMIDs =  [x[0] for x in cur.fetchall()]\n",
    "    if len(citingPMIDs) == 0:\n",
    "        # print(citationData)\n",
    "        # print(pmid, \"Zu diesem Dokument liegen keine Zitationsdaten vor\")\n",
    "        citationData = [[], []]\n",
    "    else:\n",
    "        # SQLite Abfrage erstellen\n",
    "        queryCitingPMIDs = \"PMID = \" + str(citingPMIDs[0])\n",
    "        if len(citingPMIDs) > 1:\n",
    "            for citingPMID in citingPMIDs[1:]:\n",
    "                queryCitingPMIDs = queryCitingPMIDs + \" or PMID = \" + str(citingPMID)\n",
    "        query = \"SELECT strftime('%Y', pubdate) as year, count(strftime('%Y', pubdate)) as count FROM Dokumente WHERE \"+queryCitingPMIDs+\" GROUP BY year\"\n",
    "        cur.execute(query)\n",
    "        output = cur.fetchall()\n",
    "        years = [int(x[0]) for x in output]\n",
    "        citationCounts = [int(x[1]) for x in output]\n",
    "        citationData = [years, citationCounts]\n",
    "    return citationData"
   ]
  },
  {
   "cell_type": "code",
   "execution_count": 18,
   "metadata": {},
   "outputs": [
    {
     "data": {
      "text/plain": [
       "[[2008,\n",
       "  2010,\n",
       "  2011,\n",
       "  2012,\n",
       "  2013,\n",
       "  2014,\n",
       "  2015,\n",
       "  2016,\n",
       "  2018,\n",
       "  2019,\n",
       "  2020,\n",
       "  2021,\n",
       "  2022,\n",
       "  2023],\n",
       " [1, 1, 1, 1, 1, 2, 2, 2, 2, 2, 5, 7, 6, 1]]"
      ]
     },
     "execution_count": 18,
     "metadata": {},
     "output_type": "execute_result"
    }
   ],
   "source": [
    "getCitationDataForPMID(17523700)"
   ]
  },
  {
   "attachments": {},
   "cell_type": "markdown",
   "metadata": {},
   "source": [
    "# Visualisierung"
   ]
  },
  {
   "cell_type": "code",
   "execution_count": 21,
   "metadata": {},
   "outputs": [],
   "source": [
    "def plotMeSHIntrosPerPmid(pmid):\n",
    "    pubDate = getPubDate(pmid)\n",
    "    meshDate = getMeSHYear(meshUI)\n",
    "    years, counts = getCitationDataForPMID(pmid)\n",
    "    if len(years) == 0:\n",
    "          print(\"Zu diesem Dokument liegen keine Zitationdaten vor.\")\n",
    "    else:\n",
    "          fig, ax = plt.subplots(layout=\"constrained\")\n",
    "          ax.set_ylabel(\"Anzahl MeSHs\")\n",
    "          ax.set_xlabel(\"Jahre\")\n",
    "          ax.set_title(\"PMID: \" + str(pmid))\n",
    "          ax.set_xlim(min(pubDate, meshDate)-5, 2023)\n",
    "          ax.set_ylim(0, 50)\n",
    "          ax.bar(years, counts)\n",
    "          ax.annotate(\"Veröffentlichungsjahr\",\n",
    "               xy=(pubDate, 20), \n",
    "               xycoords=\"data\",\n",
    "               xytext=(0, 50),\n",
    "               textcoords=\"offset points\", \n",
    "               arrowprops=dict(facecolor=\"blue\"))\n",
    "          \n",
    "          ax.annotate(\"MeSH Aufnahme\",\n",
    "               xy=(meshDate, 20), \n",
    "               xycoords=\"data\",\n",
    "               xytext=(0, 50),\n",
    "               textcoords=\"offset points\", \n",
    "               arrowprops=dict(facecolor=\"red\"))"
   ]
  },
  {
   "cell_type": "code",
   "execution_count": 22,
   "metadata": {},
   "outputs": [
    {
     "name": "stdout",
     "output_type": "stream",
     "text": [
      "Zu diesem Dokument liegen keine Zitationdaten vor.\n",
      "Zu diesem Dokument liegen keine Zitationdaten vor.\n",
      "Zu diesem Dokument liegen keine Zitationdaten vor.\n",
      "Zu diesem Dokument liegen keine Zitationdaten vor.\n",
      "Zu diesem Dokument liegen keine Zitationdaten vor.\n",
      "Zu diesem Dokument liegen keine Zitationdaten vor.\n",
      "Zu diesem Dokument liegen keine Zitationdaten vor.\n",
      "Zu diesem Dokument liegen keine Zitationdaten vor.\n",
      "Zu diesem Dokument liegen keine Zitationdaten vor.\n",
      "Zu diesem Dokument liegen keine Zitationdaten vor.\n",
      "Zu diesem Dokument liegen keine Zitationdaten vor.\n",
      "Zu diesem Dokument liegen keine Zitationdaten vor.\n",
      "Zu diesem Dokument liegen keine Zitationdaten vor.\n",
      "Zu diesem Dokument liegen keine Zitationdaten vor.\n",
      "Zu diesem Dokument liegen keine Zitationdaten vor.\n",
      "Zu diesem Dokument liegen keine Zitationdaten vor.\n",
      "Zu diesem Dokument liegen keine Zitationdaten vor.\n"
     ]
    },
    {
     "data": {
      "image/png": "[encoded data removed]",
      "text/plain": [
       "<Figure size 640x480 with 1 Axes>"
      ]
     },
     "metadata": {},
     "output_type": "display_data"
    },
    {
     "data": {
      "image/png": "[encoded data removed]",
      "text/plain": [
       "<Figure size 640x480 with 1 Axes>"
      ]
     },
     "metadata": {},
     "output_type": "display_data"
    },
    {
     "data": {
      "image/png": "[encoded data removed]",
      "text/plain": [
       "<Figure size 640x480 with 1 Axes>"
      ]
     },
     "metadata": {},
     "output_type": "display_data"
    }
   ],
   "source": [
    "for pmid in pmidList:\n",
    "     plotMeSHIntrosPerPmid(pmid)"
   ]
  }
 ],
 "metadata": {
  "kernelspec": {
   "display_name": "Python 3",
   "language": "python",
   "name": "python3"
  },
  "language_info": {
   "codemirror_mode": {
    "name": "ipython",
    "version": 3
   },
   "file_extension": ".py",
   "mimetype": "text/x-python",
   "name": "python",
   "nbconvert_exporter": "python",
   "pygments_lexer": "ipython3",
   "version": "3.11.2"
  },
  "orig_nbformat": 4
 },
 "nbformat": 4,
 "nbformat_minor": 2
}
